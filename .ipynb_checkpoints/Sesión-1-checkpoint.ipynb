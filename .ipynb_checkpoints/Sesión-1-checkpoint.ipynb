{
 "cells": [
  {
   "cell_type": "markdown",
   "metadata": {
    "slideshow": {
     "slide_type": "slide"
    }
   },
   "source": [
    "# Introducción a Rmarkdown\n",
    "\n",
    "Johan Marin y Amylkar Urrea"
   ]
  },
  {
   "cell_type": "markdown",
   "metadata": {
    "slideshow": {
     "slide_type": "slide"
    }
   },
   "source": [
    "## Rmarkdown\n",
    "\n",
    "Teniendo en cuenta estas ventajas de markdown y el enfoque de R en la estadística y el deseo por generar conocimiento con transparencia, Yihui Xie creo el paquete knitr.\n",
    "\n",
    "El cual aprovecha las características de Markdown, latex, y html para generar reportes en múltiples formatos, sin la necesidad un editor externo."
   ]
  },
  {
   "cell_type": "markdown",
   "metadata": {
    "slideshow": {
     "slide_type": "slide"
    }
   },
   "source": [
    "### Primer Rmarkdown"
   ]
  },
  {
   "cell_type": "markdown",
   "metadata": {
    "slideshow": {
     "slide_type": "slide"
    }
   },
   "source": [
    "## ¿Qué es Markdown?\n",
    "\n",
    "Markdown es un lenguaje de marcado ligero creado “John Gruber” en 2004, que busca conseguir la máxima legibilidad y facilidad de publicación tanto de entrada como de salida. Básicamente markdown un lenguaje, y a la vez una herramienta de software que convierte el lenguaje en XHTML válido.\n",
    "\n",
    "Es decir que en lugar de usar codigo HTML, para publicar, se usa tipado markdown que al compilarse se convierte en código HTML."
   ]
  },
  {
   "cell_type": "markdown",
   "metadata": {
    "slideshow": {
     "slide_type": "slide"
    }
   },
   "source": [
    "## Comandos Básicos Markdown"
   ]
  },
  {
   "cell_type": "markdown",
   "metadata": {
    "slideshow": {
     "slide_type": "slide"
    }
   },
   "source": [
    "![](./img/encabezados.jpg)"
   ]
  },
  {
   "cell_type": "markdown",
   "metadata": {
    "slideshow": {
     "slide_type": "slide"
    }
   },
   "source": [
    "![Enfasis](./img/Enfasis.png)"
   ]
  },
  {
   "attachments": {},
   "cell_type": "markdown",
   "metadata": {
    "slideshow": {
     "slide_type": "slide"
    }
   },
   "source": [
    "![](./img/listas.jpg)\n",
    "\n",
    "En la inclusión de listas markdown permite utilizar diferentes simbolos para enumerar los items:\n",
    "\n",
    "números (1. 2. 3. ...)\n",
    "signos(* + -)"
   ]
  },
  {
   "cell_type": "markdown",
   "metadata": {
    "slideshow": {
     "slide_type": "slide"
    }
   },
   "source": [
    "## Insertar\n",
    "\n",
    "+ **Imagenes**\n",
    "        ![](nombreImagen.tipo)\n",
    "+ **Links**\n",
    "        [texto](url)\n",
    "+ **Link en una imagen**\n",
    "        [![](imagen)](url)"
   ]
  },
  {
   "cell_type": "markdown",
   "metadata": {
    "slideshow": {
     "slide_type": "slide"
    }
   },
   "source": [
    "Tablas\n",
    "\n",
    "        First Header  | Second Header\n",
    "        ------------- | -------------\n",
    "        Content Cell  | Content Cell\n",
    "        Content Cell  | Content Cell\n",
    "\n"
   ]
  },
  {
   "cell_type": "markdown",
   "metadata": {
    "slideshow": {
     "slide_type": "slide"
    }
   },
   "source": [
    "## Latex\n",
    "\n",
    "Para poder incluir ecuaciones Rmarkdown hace uso de el lenguaje Latex, para indicar que se utiliza el signo dolar.\n",
    "\n",
    "        $Equación$ : Ecuaciones en linea\n",
    "        $$Equación$$ : Ecuaciones centradas, fuera del parrafo\n",
    "        \n",
    "Esta es una ecuación en linea $\\displaystyle\\prod_{i=1}^n p_i$ como se puede ver \n",
    "\n",
    "$$ \\begin{Bmatrix} x & y \\\\ z & v \\end{Bmatrix} $$"
   ]
  },
  {
   "cell_type": "markdown",
   "metadata": {
    "slideshow": {
     "slide_type": "slide"
    }
   },
   "source": [
    "## Bloques de código\n",
    "\n",
    "Una de las ventajas de RMarkdown, es que permite integrar bloques de código de R, Bash, Python, C++, SQL y Stan.\n",
    "\n",
    "    ´´´{r}\n",
    "    Chunk de R\n",
    "    ´´´"
   ]
  },
  {
   "cell_type": "markdown",
   "metadata": {
    "slideshow": {
     "slide_type": "slide"
    }
   },
   "source": [
    "### El cache\n",
    "\n",
    "Cuando se realizan informes muy largos o con códigos que tardan mucho tiempo en compilar, de modo que es conveniente guardar el cache y poder continuar donde se dejó al cerrar el documento."
   ]
  },
  {
   "cell_type": "code",
   "execution_count": 7,
   "metadata": {
    "slideshow": {
     "slide_type": "fragment"
    }
   },
   "outputs": [],
   "source": [
    "knitr::opts_chunk$set(cache  = TRUE)"
   ]
  },
  {
   "cell_type": "markdown",
   "metadata": {
    "slideshow": {
     "slide_type": "slide"
    }
   },
   "source": [
    "## Referencias\n",
    "\n",
    "[1] https://swcarpentry.github.io/r-novice-gapminder-es/15-knitr-markdown/\n",
    "\n",
    "[2] Xie, Y., Allaire, J. J., & Grolemund, G. (2018). Rmarkdown: The definitive guide. CRC Press."
   ]
  },
  {
   "cell_type": "markdown",
   "metadata": {
    "slideshow": {
     "slide_type": "slide"
    }
   },
   "source": [
    "# Guardar Objetos"
   ]
  },
  {
   "cell_type": "markdown",
   "metadata": {
    "slideshow": {
     "slide_type": "slide"
    }
   },
   "source": [
    "### Guardar un unico objeto\n",
    "\n",
    "En ocasiones cuando se ajustan modelos muy pesados y que tardan mucho tiempo en correr, es una buena practica guardar estos de forma que luego los podamos utilizar sin tener que correrlos nuevamente"
   ]
  },
  {
   "cell_type": "code",
   "execution_count": null,
   "metadata": {
    "slideshow": {
     "slide_type": "fragment"
    }
   },
   "outputs": [],
   "source": [
    "saveRDS(object = iris, file = \"my_data_frame.rds\")"
   ]
  },
  {
   "cell_type": "markdown",
   "metadata": {
    "slideshow": {
     "slide_type": "fragment"
    }
   },
   "source": [
    "Para cargar el modelo"
   ]
  },
  {
   "cell_type": "code",
   "execution_count": null,
   "metadata": {
    "slideshow": {
     "slide_type": "fragment"
    }
   },
   "outputs": [],
   "source": [
    "iris2 <- readRDS(file = \"my_data_frame.rds\")"
   ]
  },
  {
   "cell_type": "markdown",
   "metadata": {
    "slideshow": {
     "slide_type": "slide"
    }
   },
   "source": [
    "### Guardar multiples objetos"
   ]
  },
  {
   "cell_type": "code",
   "execution_count": null,
   "metadata": {
    "slideshow": {
     "slide_type": "fragment"
    }
   },
   "outputs": [],
   "source": [
    "save(iris, cars, file = \"myIrisAndCarsData.Rdata\")"
   ]
  },
  {
   "cell_type": "markdown",
   "metadata": {
    "slideshow": {
     "slide_type": "fragment"
    }
   },
   "source": [
    "Cargarlos"
   ]
  },
  {
   "cell_type": "code",
   "execution_count": null,
   "metadata": {
    "slideshow": {
     "slide_type": "fragment"
    }
   },
   "outputs": [],
   "source": [
    "load(\"myIrisAndCarsData.Rdata\")"
   ]
  },
  {
   "cell_type": "markdown",
   "metadata": {
    "slideshow": {
     "slide_type": "slide"
    }
   },
   "source": [
    "### Guardar Datos\n",
    "\n",
    "Como txt:"
   ]
  },
  {
   "cell_type": "code",
   "execution_count": null,
   "metadata": {
    "slideshow": {
     "slide_type": "fragment"
    }
   },
   "outputs": [],
   "source": [
    " write.table(Datos, file=\"Prueba3.txt\")"
   ]
  },
  {
   "cell_type": "markdown",
   "metadata": {
    "slideshow": {
     "slide_type": "fragment"
    }
   },
   "source": [
    "como .csv"
   ]
  },
  {
   "cell_type": "code",
   "execution_count": null,
   "metadata": {
    "slideshow": {
     "slide_type": "fragment"
    }
   },
   "outputs": [],
   "source": [
    "write.csv(Datos, file=\"Prueba1.csv\")"
   ]
  },
  {
   "cell_type": "markdown",
   "metadata": {
    "slideshow": {
     "slide_type": "slide"
    }
   },
   "source": [
    "## Guardar imagenes"
   ]
  },
  {
   "cell_type": "code",
   "execution_count": null,
   "metadata": {
    "slideshow": {
     "slide_type": "fragment"
    }
   },
   "outputs": [],
   "source": [
    "extensión(\"nombre del archivo gráfico.extensión\")\n",
    " \n",
    "#códigos para creación del gráfico\n",
    " \n",
    "dev.off()"
   ]
  },
  {
   "cell_type": "code",
   "execution_count": 10,
   "metadata": {},
   "outputs": [
    {
     "data": {
      "text/html": [
       "<strong>png:</strong> 2"
      ],
      "text/latex": [
       "\\textbf{png:} 2"
      ],
      "text/markdown": [
       "**png:** 2"
      ],
      "text/plain": [
       "png \n",
       "  2 "
      ]
     },
     "metadata": {},
     "output_type": "display_data"
    }
   ],
   "source": [
    "png(\"Mi gráfico.png\")\n",
    " \n",
    "edades <- c(20, 33, 40, 12, 50, 26, 18, 79, 47, 23, 8)\n",
    "plot(edades, main = \"Edades\", xlab = \"Nº de orden\", ylab = \"Años\")\n",
    " \n",
    "dev.off()"
   ]
  }
 ],
 "metadata": {
  "celltoolbar": "Slideshow",
  "kernelspec": {
   "display_name": "R",
   "language": "R",
   "name": "ir"
  },
  "language_info": {
   "codemirror_mode": "r",
   "file_extension": ".r",
   "mimetype": "text/x-r-source",
   "name": "R",
   "pygments_lexer": "r",
   "version": "3.6.1"
  }
 },
 "nbformat": 4,
 "nbformat_minor": 2
}
