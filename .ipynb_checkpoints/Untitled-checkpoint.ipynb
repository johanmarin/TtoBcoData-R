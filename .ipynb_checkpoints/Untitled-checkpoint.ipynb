{
 "cells": [
  {
   "cell_type": "markdown",
   "metadata": {
    "slideshow": {
     "slide_type": "slide"
    }
   },
   "source": [
    "# Introducción a Rmarkdown\n",
    "\n",
    "Johan Marin y Amylkar Urrea"
   ]
  },
  {
   "cell_type": "markdown",
   "metadata": {
    "slideshow": {
     "slide_type": "slide"
    }
   },
   "source": [
    "## Rmarkdown\n",
    "\n",
    "Teniendo en cuenta estas ventajas de markdown y el enfoque de R en la estadística y el deseo por generar conocimiento con transparencia, Yihui Xie creo el paquete knitr.\n",
    "\n",
    "El cual aprovecha las características de Markdown, latex, y html para generar reportes en múltiples formatos, sin la necesidad un editor externo."
   ]
  },
  {
   "cell_type": "markdown",
   "metadata": {
    "slideshow": {
     "slide_type": "slide"
    }
   },
   "source": [
    "### Primer Rmarkdown"
   ]
  },
  {
   "cell_type": "markdown",
   "metadata": {
    "slideshow": {
     "slide_type": "slide"
    }
   },
   "source": [
    "## ¿Qué es Markdown?\n",
    "\n",
    "Markdown es un lenguaje de marcado ligero creado “John Gruber” en 2004, que busca conseguir la máxima legibilidad y facilidad de publicación tanto de entrada como de salida. Básicamente markdown un lenguaje, y a la vez una herramienta de software que convierte el lenguaje en XHTML válido.\n",
    "\n",
    "Es decir que en lugar de usar codigo HTML, para publicar, se usa tipado markdown que al compilarse se convierte en código HTML."
   ]
  },
  {
   "cell_type": "markdown",
   "metadata": {
    "slideshow": {
     "slide_type": "slide"
    }
   },
   "source": [
    "## Comandos Básicos Markdown"
   ]
  },
  {
   "cell_type": "markdown",
   "metadata": {
    "slideshow": {
     "slide_type": "slide"
    }
   },
   "source": [
    "![](./encabezados.jpg)"
   ]
  },
  {
   "cell_type": "markdown",
   "metadata": {
    "slideshow": {
     "slide_type": "slide"
    }
   },
   "source": [
    "![Enfasis](./Enfasis.png)"
   ]
  },
  {
   "attachments": {},
   "cell_type": "markdown",
   "metadata": {
    "slideshow": {
     "slide_type": "slide"
    }
   },
   "source": [
    "![](listas.jpg)\n",
    "\n",
    "En la inclusión de listas markdown permite utilizar diferentes simbolos para enumerar los items:\n",
    "\n",
    "números (1. 2. 3. ...)\n",
    "signos(* + -)"
   ]
  },
  {
   "cell_type": "markdown",
   "metadata": {
    "slideshow": {
     "slide_type": "slide"
    }
   },
   "source": [
    "## Insertar\n",
    "\n",
    "+ **Imagenes**\n",
    "        ![](nombreImagen.tipo)\n",
    "+ **Links**\n",
    "        [texto](url)\n",
    "+ **Link en una imagen**\n",
    "        [![](imagen)](url)\n",
    "+ **Codigo en linea**\n",
    "        'r codigo'"
   ]
  },
  {
   "cell_type": "markdown",
   "metadata": {
    "slideshow": {
     "slide_type": "slide"
    }
   },
   "source": [
    "Tablas\n",
    "\n",
    "        First Header  | Second Header\n",
    "        ------------- | -------------\n",
    "        Content Cell  | Content Cell\n",
    "        Content Cell  | Content Cell\n",
    "\n"
   ]
  },
  {
   "cell_type": "markdown",
   "metadata": {
    "slideshow": {
     "slide_type": "slide"
    }
   },
   "source": [
    "## Latex\n",
    "\n",
    "Para poder incluir ecuaciones Rmarkdown hace uso de el lenguaje Latex, para indicar que se utiliza el signo dolar.\n",
    "\n",
    "        $Equación$ : Ecuaciones en linea\n",
    "        $$Equación$$ : Ecuaciones centradas, fuera del parrafo\n",
    "        \n",
    "Esta es una ecuación en linea $\\displaystyle\\prod_{i=1}^n p_i$ como se puede ver \n",
    "\n",
    "$$ \\begin{Bmatrix} x & y \\\\ z & v \\end{Bmatrix} $$"
   ]
  },
  {
   "cell_type": "markdown",
   "metadata": {
    "slideshow": {
     "slide_type": "slide"
    }
   },
   "source": [
    "## Bloques de código\n",
    "\n",
    "Una de las ventajas de RMarkdown, es que permite integrar bloques de código de R, Bash, Python, C++, SQL y Stan.\n",
    "\n",
    "    ´´´{r}\n",
    "    Chunk de R\n",
    "    ´´´"
   ]
  },
  {
   "cell_type": "markdown",
   "metadata": {},
   "source": [
    "### Configuración del Documento\n",
    "\n",
    "Cuando se realizan informes muy largos o con códigos que tardan mucho tiempo en compilar, de modo que es conveniente guardar el cache y poder continuar donde se dejó al cerrar el documento."
   ]
  },
  {
   "cell_type": "code",
   "execution_count": 6,
   "metadata": {
    "slideshow": {
     "slide_type": "fragment"
    }
   },
   "outputs": [],
   "source": [
    "knitr::opts_chunk$set(cache  = TRUE)"
   ]
  },
  {
   "cell_type": "code",
   "execution_count": null,
   "metadata": {},
   "outputs": [],
   "source": []
  }
 ],
 "metadata": {
  "celltoolbar": "Slideshow",
  "kernelspec": {
   "display_name": "R",
   "language": "R",
   "name": "ir"
  },
  "language_info": {
   "codemirror_mode": "r",
   "file_extension": ".r",
   "mimetype": "text/x-r-source",
   "name": "R",
   "pygments_lexer": "r",
   "version": "3.6.1"
  }
 },
 "nbformat": 4,
 "nbformat_minor": 2
}
