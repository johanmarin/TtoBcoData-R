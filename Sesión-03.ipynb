{
 "cells": [
  {
   "cell_type": "markdown",
   "metadata": {
    "slideshow": {
     "slide_type": "slide"
    }
   },
   "source": [
    "# Transformación y manipulación de datos"
   ]
  },
  {
   "cell_type": "markdown",
   "metadata": {
    "slideshow": {
     "slide_type": "slide"
    }
   },
   "source": [
    "### Agenda\n",
    "1. Transformación de datos con dyplr.\n",
    "   1. filter()\n",
    "   2. arrange()\n",
    "   3. select()\n",
    "   4. mutate()\n",
    "   5. summarize()\n",
    "   6. separate() y unite()\n",
    "2. Familia apply.\n",
    "   1. apply()\n",
    "   2. lapply()\n",
    "   3. sapply()\n"
   ]
  },
  {
   "cell_type": "markdown",
   "metadata": {
    "slideshow": {
     "slide_type": "slide"
    }
   },
   "source": [
    "### Instalamos las librerias tidyverse y nycflights13"
   ]
  },
  {
   "cell_type": "code",
   "execution_count": null,
   "metadata": {
    "slideshow": {
     "slide_type": "fragment"
    }
   },
   "outputs": [],
   "source": [
    "require(tidyverse)\n",
    "require(nycflights13)"
   ]
  },
  {
   "cell_type": "markdown",
   "metadata": {
    "slideshow": {
     "slide_type": "slide"
    }
   },
   "source": [
    "### Observamos la base de datos"
   ]
  },
  {
   "cell_type": "code",
   "execution_count": 2,
   "metadata": {
    "slideshow": {
     "slide_type": "fragment"
    }
   },
   "outputs": [
    {
     "data": {
      "text/html": [
       "<table>\n",
       "<thead><tr><th scope=col>year</th><th scope=col>month</th><th scope=col>day</th><th scope=col>dep_time</th><th scope=col>sched_dep_time</th><th scope=col>dep_delay</th><th scope=col>arr_time</th><th scope=col>sched_arr_time</th><th scope=col>arr_delay</th><th scope=col>carrier</th><th scope=col>flight</th><th scope=col>tailnum</th><th scope=col>origin</th><th scope=col>dest</th><th scope=col>air_time</th><th scope=col>distance</th><th scope=col>hour</th><th scope=col>minute</th><th scope=col>time_hour</th></tr></thead>\n",
       "<tbody>\n",
       "\t<tr><td>2013               </td><td>1                  </td><td>1                  </td><td>517                </td><td>515                </td><td> 2                 </td><td> 830               </td><td> 819               </td><td> 11                </td><td>UA                 </td><td>1545               </td><td>N14228             </td><td>EWR                </td><td>IAH                </td><td>227                </td><td>1400               </td><td>5                  </td><td>15                 </td><td>2013-01-01 05:00:00</td></tr>\n",
       "\t<tr><td>2013               </td><td>1                  </td><td>1                  </td><td>533                </td><td>529                </td><td> 4                 </td><td> 850               </td><td> 830               </td><td> 20                </td><td>UA                 </td><td>1714               </td><td>N24211             </td><td>LGA                </td><td>IAH                </td><td>227                </td><td>1416               </td><td>5                  </td><td>29                 </td><td>2013-01-01 05:00:00</td></tr>\n",
       "\t<tr><td>2013               </td><td>1                  </td><td>1                  </td><td>542                </td><td>540                </td><td> 2                 </td><td> 923               </td><td> 850               </td><td> 33                </td><td>AA                 </td><td>1141               </td><td>N619AA             </td><td>JFK                </td><td>MIA                </td><td>160                </td><td>1089               </td><td>5                  </td><td>40                 </td><td>2013-01-01 05:00:00</td></tr>\n",
       "\t<tr><td>2013               </td><td>1                  </td><td>1                  </td><td>544                </td><td>545                </td><td>-1                 </td><td>1004               </td><td>1022               </td><td>-18                </td><td>B6                 </td><td> 725               </td><td>N804JB             </td><td>JFK                </td><td>BQN                </td><td>183                </td><td>1576               </td><td>5                  </td><td>45                 </td><td>2013-01-01 05:00:00</td></tr>\n",
       "\t<tr><td>2013               </td><td>1                  </td><td>1                  </td><td>554                </td><td>600                </td><td>-6                 </td><td> 812               </td><td> 837               </td><td>-25                </td><td>DL                 </td><td> 461               </td><td>N668DN             </td><td>LGA                </td><td>ATL                </td><td>116                </td><td> 762               </td><td>6                  </td><td> 0                 </td><td>2013-01-01 06:00:00</td></tr>\n",
       "\t<tr><td>2013               </td><td>1                  </td><td>1                  </td><td>554                </td><td>558                </td><td>-4                 </td><td> 740               </td><td> 728               </td><td> 12                </td><td>UA                 </td><td>1696               </td><td>N39463             </td><td>EWR                </td><td>ORD                </td><td>150                </td><td> 719               </td><td>5                  </td><td>58                 </td><td>2013-01-01 05:00:00</td></tr>\n",
       "\t<tr><td>2013               </td><td>1                  </td><td>1                  </td><td>555                </td><td>600                </td><td>-5                 </td><td> 913               </td><td> 854               </td><td> 19                </td><td>B6                 </td><td> 507               </td><td>N516JB             </td><td>EWR                </td><td>FLL                </td><td>158                </td><td>1065               </td><td>6                  </td><td> 0                 </td><td>2013-01-01 06:00:00</td></tr>\n",
       "\t<tr><td>2013               </td><td>1                  </td><td>1                  </td><td>557                </td><td>600                </td><td>-3                 </td><td> 709               </td><td> 723               </td><td>-14                </td><td>EV                 </td><td>5708               </td><td>N829AS             </td><td>LGA                </td><td>IAD                </td><td> 53                </td><td> 229               </td><td>6                  </td><td> 0                 </td><td>2013-01-01 06:00:00</td></tr>\n",
       "\t<tr><td>2013               </td><td>1                  </td><td>1                  </td><td>557                </td><td>600                </td><td>-3                 </td><td> 838               </td><td> 846               </td><td> -8                </td><td>B6                 </td><td>  79               </td><td>N593JB             </td><td>JFK                </td><td>MCO                </td><td>140                </td><td> 944               </td><td>6                  </td><td> 0                 </td><td>2013-01-01 06:00:00</td></tr>\n",
       "\t<tr><td>2013               </td><td>1                  </td><td>1                  </td><td>558                </td><td>600                </td><td>-2                 </td><td> 753               </td><td> 745               </td><td>  8                </td><td>AA                 </td><td> 301               </td><td>N3ALAA             </td><td>LGA                </td><td>ORD                </td><td>138                </td><td> 733               </td><td>6                  </td><td> 0                 </td><td>2013-01-01 06:00:00</td></tr>\n",
       "\t<tr><td>2013               </td><td>1                  </td><td>1                  </td><td>558                </td><td>600                </td><td>-2                 </td><td> 849               </td><td> 851               </td><td> -2                </td><td>B6                 </td><td>  49               </td><td>N793JB             </td><td>JFK                </td><td>PBI                </td><td>149                </td><td>1028               </td><td>6                  </td><td> 0                 </td><td>2013-01-01 06:00:00</td></tr>\n",
       "\t<tr><td>2013               </td><td>1                  </td><td>1                  </td><td>558                </td><td>600                </td><td>-2                 </td><td> 853               </td><td> 856               </td><td> -3                </td><td>B6                 </td><td>  71               </td><td>N657JB             </td><td>JFK                </td><td>TPA                </td><td>158                </td><td>1005               </td><td>6                  </td><td> 0                 </td><td>2013-01-01 06:00:00</td></tr>\n",
       "\t<tr><td>2013               </td><td>1                  </td><td>1                  </td><td>558                </td><td>600                </td><td>-2                 </td><td> 924               </td><td> 917               </td><td>  7                </td><td>UA                 </td><td> 194               </td><td>N29129             </td><td>JFK                </td><td>LAX                </td><td>345                </td><td>2475               </td><td>6                  </td><td> 0                 </td><td>2013-01-01 06:00:00</td></tr>\n",
       "\t<tr><td>2013               </td><td>1                  </td><td>1                  </td><td>558                </td><td>600                </td><td>-2                 </td><td> 923               </td><td> 937               </td><td>-14                </td><td>UA                 </td><td>1124               </td><td>N53441             </td><td>EWR                </td><td>SFO                </td><td>361                </td><td>2565               </td><td>6                  </td><td> 0                 </td><td>2013-01-01 06:00:00</td></tr>\n",
       "\t<tr><td>2013               </td><td>1                  </td><td>1                  </td><td>559                </td><td>600                </td><td>-1                 </td><td> 941               </td><td> 910               </td><td> 31                </td><td>AA                 </td><td> 707               </td><td>N3DUAA             </td><td>LGA                </td><td>DFW                </td><td>257                </td><td>1389               </td><td>6                  </td><td> 0                 </td><td>2013-01-01 06:00:00</td></tr>\n",
       "\t<tr><td>2013               </td><td>1                  </td><td>1                  </td><td>559                </td><td>559                </td><td> 0                 </td><td> 702               </td><td> 706               </td><td> -4                </td><td>B6                 </td><td>1806               </td><td>N708JB             </td><td>JFK                </td><td>BOS                </td><td> 44                </td><td> 187               </td><td>5                  </td><td>59                 </td><td>2013-01-01 05:00:00</td></tr>\n",
       "\t<tr><td>2013               </td><td>1                  </td><td>1                  </td><td>559                </td><td>600                </td><td>-1                 </td><td> 854               </td><td> 902               </td><td> -8                </td><td>UA                 </td><td>1187               </td><td>N76515             </td><td>EWR                </td><td>LAS                </td><td>337                </td><td>2227               </td><td>6                  </td><td> 0                 </td><td>2013-01-01 06:00:00</td></tr>\n",
       "\t<tr><td>2013               </td><td>1                  </td><td>1                  </td><td>600                </td><td>600                </td><td> 0                 </td><td> 851               </td><td> 858               </td><td> -7                </td><td>B6                 </td><td> 371               </td><td>N595JB             </td><td>LGA                </td><td>FLL                </td><td>152                </td><td>1076               </td><td>6                  </td><td> 0                 </td><td>2013-01-01 06:00:00</td></tr>\n",
       "\t<tr><td>2013               </td><td>1                  </td><td>1                  </td><td>600                </td><td>600                </td><td> 0                 </td><td> 837               </td><td> 825               </td><td> 12                </td><td>MQ                 </td><td>4650               </td><td>N542MQ             </td><td>LGA                </td><td>ATL                </td><td>134                </td><td> 762               </td><td>6                  </td><td> 0                 </td><td>2013-01-01 06:00:00</td></tr>\n",
       "\t<tr><td>2013               </td><td>1                  </td><td>1                  </td><td>601                </td><td>600                </td><td> 1                 </td><td> 844               </td><td> 850               </td><td> -6                </td><td>B6                 </td><td> 343               </td><td>N644JB             </td><td>EWR                </td><td>PBI                </td><td>147                </td><td>1023               </td><td>6                  </td><td> 0                 </td><td>2013-01-01 06:00:00</td></tr>\n",
       "\t<tr><td>2013               </td><td>1                  </td><td>1                  </td><td>602                </td><td>610                </td><td>-8                 </td><td> 812               </td><td> 820               </td><td> -8                </td><td>DL                 </td><td>1919               </td><td>N971DL             </td><td>LGA                </td><td>MSP                </td><td>170                </td><td>1020               </td><td>6                  </td><td>10                 </td><td>2013-01-01 06:00:00</td></tr>\n",
       "\t<tr><td>2013               </td><td>1                  </td><td>1                  </td><td>602                </td><td>605                </td><td>-3                 </td><td> 821               </td><td> 805               </td><td> 16                </td><td>MQ                 </td><td>4401               </td><td>N730MQ             </td><td>LGA                </td><td>DTW                </td><td>105                </td><td> 502               </td><td>6                  </td><td> 5                 </td><td>2013-01-01 06:00:00</td></tr>\n",
       "\t<tr><td>2013               </td><td>1                  </td><td>1                  </td><td>606                </td><td>610                </td><td>-4                 </td><td> 858               </td><td> 910               </td><td>-12                </td><td>AA                 </td><td>1895               </td><td>N633AA             </td><td>EWR                </td><td>MIA                </td><td>152                </td><td>1085               </td><td>6                  </td><td>10                 </td><td>2013-01-01 06:00:00</td></tr>\n",
       "\t<tr><td>2013               </td><td>1                  </td><td>1                  </td><td>606                </td><td>610                </td><td>-4                 </td><td> 837               </td><td> 845               </td><td> -8                </td><td>DL                 </td><td>1743               </td><td>N3739P             </td><td>JFK                </td><td>ATL                </td><td>128                </td><td> 760               </td><td>6                  </td><td>10                 </td><td>2013-01-01 06:00:00</td></tr>\n",
       "\t<tr><td>2013               </td><td>1                  </td><td>1                  </td><td>607                </td><td>607                </td><td> 0                 </td><td> 858               </td><td> 915               </td><td>-17                </td><td>UA                 </td><td>1077               </td><td>N53442             </td><td>EWR                </td><td>MIA                </td><td>157                </td><td>1085               </td><td>6                  </td><td> 7                 </td><td>2013-01-01 06:00:00</td></tr>\n",
       "\t<tr><td>2013               </td><td>1                  </td><td>1                  </td><td>608                </td><td>600                </td><td> 8                 </td><td> 807               </td><td> 735               </td><td> 32                </td><td>MQ                 </td><td>3768               </td><td>N9EAMQ             </td><td>EWR                </td><td>ORD                </td><td>139                </td><td> 719               </td><td>6                  </td><td> 0                 </td><td>2013-01-01 06:00:00</td></tr>\n",
       "\t<tr><td>2013               </td><td>1                  </td><td>1                  </td><td>611                </td><td>600                </td><td>11                 </td><td> 945               </td><td> 931               </td><td> 14                </td><td>UA                 </td><td> 303               </td><td>N532UA             </td><td>JFK                </td><td>SFO                </td><td>366                </td><td>2586               </td><td>6                  </td><td> 0                 </td><td>2013-01-01 06:00:00</td></tr>\n",
       "\t<tr><td>2013               </td><td>1                  </td><td>1                  </td><td>613                </td><td>610                </td><td> 3                 </td><td> 925               </td><td> 921               </td><td>  4                </td><td>B6                 </td><td> 135               </td><td>N635JB             </td><td>JFK                </td><td>RSW                </td><td>175                </td><td>1074               </td><td>6                  </td><td>10                 </td><td>2013-01-01 06:00:00</td></tr>\n",
       "\t<tr><td>2013               </td><td>1                  </td><td>1                  </td><td>615                </td><td>615                </td><td> 0                 </td><td>1039               </td><td>1100               </td><td>-21                </td><td>B6                 </td><td> 709               </td><td>N794JB             </td><td>JFK                </td><td>SJU                </td><td>182                </td><td>1598               </td><td>6                  </td><td>15                 </td><td>2013-01-01 06:00:00</td></tr>\n",
       "\t<tr><td>2013               </td><td>1                  </td><td>1                  </td><td>615                </td><td>615                </td><td> 0                 </td><td> 833               </td><td> 842               </td><td> -9                </td><td>DL                 </td><td> 575               </td><td>N326NB             </td><td>EWR                </td><td>ATL                </td><td>120                </td><td> 746               </td><td>6                  </td><td>15                 </td><td>2013-01-01 06:00:00</td></tr>\n",
       "\t<tr><td>...</td><td>...</td><td>...</td><td>...</td><td>...</td><td>...</td><td>...</td><td>...</td><td>...</td><td>...</td><td>...</td><td>...</td><td>...</td><td>...</td><td>...</td><td>...</td><td>...</td><td>...</td><td>...</td></tr>\n",
       "\t<tr><td>2013               </td><td>9                  </td><td>30                 </td><td>2123               </td><td>2125               </td><td> -2                </td><td>2223               </td><td>2247               </td><td>-24                </td><td>EV                 </td><td>5489               </td><td>N712EV             </td><td>LGA                </td><td>CHO                </td><td> 45                </td><td> 305               </td><td>21                 </td><td>25                 </td><td>2013-09-30 21:00:00</td></tr>\n",
       "\t<tr><td>2013               </td><td>9                  </td><td>30                 </td><td>2127               </td><td>2129               </td><td> -2                </td><td>2314               </td><td>2323               </td><td> -9                </td><td>EV                 </td><td>3833               </td><td>N16546             </td><td>EWR                </td><td>CLT                </td><td> 72                </td><td> 529               </td><td>21                 </td><td>29                 </td><td>2013-09-30 21:00:00</td></tr>\n",
       "\t<tr><td>2013               </td><td>9                  </td><td>30                 </td><td>2128               </td><td>2130               </td><td> -2                </td><td>2328               </td><td>2359               </td><td>-31                </td><td>B6                 </td><td>  97               </td><td>N807JB             </td><td>JFK                </td><td>DEN                </td><td>213                </td><td>1626               </td><td>21                 </td><td>30                 </td><td>2013-09-30 21:00:00</td></tr>\n",
       "\t<tr><td>2013               </td><td>9                  </td><td>30                 </td><td>2129               </td><td>2059               </td><td> 30                </td><td>2230               </td><td>2232               </td><td> -2                </td><td>EV                 </td><td>5048               </td><td>N751EV             </td><td>LGA                </td><td>RIC                </td><td> 45                </td><td> 292               </td><td>20                 </td><td>59                 </td><td>2013-09-30 20:00:00</td></tr>\n",
       "\t<tr><td>2013               </td><td>9                  </td><td>30                 </td><td>2131               </td><td>2140               </td><td> -9                </td><td>2225               </td><td>2255               </td><td>-30                </td><td>MQ                 </td><td>3621               </td><td>N807MQ             </td><td>JFK                </td><td>DCA                </td><td> 36                </td><td> 213               </td><td>21                 </td><td>40                 </td><td>2013-09-30 21:00:00</td></tr>\n",
       "\t<tr><td>2013               </td><td>9                  </td><td>30                 </td><td>2140               </td><td>2140               </td><td>  0                </td><td>  10               </td><td>  40               </td><td>-30                </td><td>AA                 </td><td> 185               </td><td>N335AA             </td><td>JFK                </td><td>LAX                </td><td>298                </td><td>2475               </td><td>21                 </td><td>40                 </td><td>2013-09-30 21:00:00</td></tr>\n",
       "\t<tr><td>2013               </td><td>9                  </td><td>30                 </td><td>2142               </td><td>2129               </td><td> 13                </td><td>2250               </td><td>2239               </td><td> 11                </td><td>EV                 </td><td>4509               </td><td>N12957             </td><td>EWR                </td><td>PWM                </td><td> 47                </td><td> 284               </td><td>21                 </td><td>29                 </td><td>2013-09-30 21:00:00</td></tr>\n",
       "\t<tr><td>2013               </td><td>9                  </td><td>30                 </td><td>2145               </td><td>2145               </td><td>  0                </td><td> 115               </td><td> 140               </td><td>-25                </td><td>B6                 </td><td>1103               </td><td>N633JB             </td><td>JFK                </td><td>SJU                </td><td>192                </td><td>1598               </td><td>21                 </td><td>45                 </td><td>2013-09-30 21:00:00</td></tr>\n",
       "\t<tr><td>2013               </td><td>9                  </td><td>30                 </td><td>2147               </td><td>2137               </td><td> 10                </td><td>  30               </td><td>  27               </td><td>  3                </td><td>B6                 </td><td>1371               </td><td>N627JB             </td><td>LGA                </td><td>FLL                </td><td>139                </td><td>1076               </td><td>21                 </td><td>37                 </td><td>2013-09-30 21:00:00</td></tr>\n",
       "\t<tr><td>2013               </td><td>9                  </td><td>30                 </td><td>2149               </td><td>2156               </td><td> -7                </td><td>2245               </td><td>2308               </td><td>-23                </td><td>UA                 </td><td> 523               </td><td>N813UA             </td><td>EWR                </td><td>BOS                </td><td> 37                </td><td> 200               </td><td>21                 </td><td>56                 </td><td>2013-09-30 21:00:00</td></tr>\n",
       "\t<tr><td>2013               </td><td>9                  </td><td>30                 </td><td>2150               </td><td>2159               </td><td> -9                </td><td>2250               </td><td>2306               </td><td>-16                </td><td>EV                 </td><td>3842               </td><td>N10575             </td><td>EWR                </td><td>MHT                </td><td> 39                </td><td> 209               </td><td>21                 </td><td>59                 </td><td>2013-09-30 21:00:00</td></tr>\n",
       "\t<tr><td>2013               </td><td>9                  </td><td>30                 </td><td>2159               </td><td>1845               </td><td>194                </td><td>2344               </td><td>2030               </td><td>194                </td><td>9E                 </td><td>3320               </td><td>N906XJ             </td><td>JFK                </td><td>BUF                </td><td> 50                </td><td> 301               </td><td>18                 </td><td>45                 </td><td>2013-09-30 18:00:00</td></tr>\n",
       "\t<tr><td>2013               </td><td>9                  </td><td>30                 </td><td>2203               </td><td>2205               </td><td> -2                </td><td>2339               </td><td>2331               </td><td>  8                </td><td>EV                 </td><td>5311               </td><td>N722EV             </td><td>LGA                </td><td>BGR                </td><td> 61                </td><td> 378               </td><td>22                 </td><td> 5                 </td><td>2013-09-30 22:00:00</td></tr>\n",
       "\t<tr><td>2013               </td><td>9                  </td><td>30                 </td><td>2207               </td><td>2140               </td><td> 27                </td><td>2257               </td><td>2250               </td><td>  7                </td><td>MQ                 </td><td>3660               </td><td>N532MQ             </td><td>LGA                </td><td>BNA                </td><td> 97                </td><td> 764               </td><td>21                 </td><td>40                 </td><td>2013-09-30 21:00:00</td></tr>\n",
       "\t<tr><td>2013               </td><td>9                  </td><td>30                 </td><td>2211               </td><td>2059               </td><td> 72                </td><td>2339               </td><td>2242               </td><td> 57                </td><td>EV                 </td><td>4672               </td><td>N12145             </td><td>EWR                </td><td>STL                </td><td>120                </td><td> 872               </td><td>20                 </td><td>59                 </td><td>2013-09-30 20:00:00</td></tr>\n",
       "\t<tr><td>2013               </td><td>9                  </td><td>30                 </td><td>2231               </td><td>2245               </td><td>-14                </td><td>2335               </td><td>2356               </td><td>-21                </td><td>B6                 </td><td> 108               </td><td>N193JB             </td><td>JFK                </td><td>PWM                </td><td> 48                </td><td> 273               </td><td>22                 </td><td>45                 </td><td>2013-09-30 22:00:00</td></tr>\n",
       "\t<tr><td>2013               </td><td>9                  </td><td>30                 </td><td>2233               </td><td>2113               </td><td> 80                </td><td> 112               </td><td>  30               </td><td> 42                </td><td>UA                 </td><td> 471               </td><td>N578UA             </td><td>EWR                </td><td>SFO                </td><td>318                </td><td>2565               </td><td>21                 </td><td>13                 </td><td>2013-09-30 21:00:00</td></tr>\n",
       "\t<tr><td>2013               </td><td>9                  </td><td>30                 </td><td>2235               </td><td>2001               </td><td>154                </td><td>  59               </td><td>2249               </td><td>130                </td><td>B6                 </td><td>1083               </td><td>N804JB             </td><td>JFK                </td><td>MCO                </td><td>123                </td><td> 944               </td><td>20                 </td><td> 1                 </td><td>2013-09-30 20:00:00</td></tr>\n",
       "\t<tr><td>2013               </td><td>9                  </td><td>30                 </td><td>2237               </td><td>2245               </td><td> -8                </td><td>2345               </td><td>2353               </td><td> -8                </td><td>B6                 </td><td> 234               </td><td>N318JB             </td><td>JFK                </td><td>BTV                </td><td> 43                </td><td> 266               </td><td>22                 </td><td>45                 </td><td>2013-09-30 22:00:00</td></tr>\n",
       "\t<tr><td>2013               </td><td>9                  </td><td>30                 </td><td>2240               </td><td>2245               </td><td> -5                </td><td>2334               </td><td>2351               </td><td>-17                </td><td>B6                 </td><td>1816               </td><td>N354JB             </td><td>JFK                </td><td>SYR                </td><td> 41                </td><td> 209               </td><td>22                 </td><td>45                 </td><td>2013-09-30 22:00:00</td></tr>\n",
       "\t<tr><td>2013               </td><td>9                  </td><td>30                 </td><td>2240               </td><td>2250               </td><td>-10                </td><td>2347               </td><td>   7               </td><td>-20                </td><td>B6                 </td><td>2002               </td><td>N281JB             </td><td>JFK                </td><td>BUF                </td><td> 52                </td><td> 301               </td><td>22                 </td><td>50                 </td><td>2013-09-30 22:00:00</td></tr>\n",
       "\t<tr><td>2013               </td><td>9                  </td><td>30                 </td><td>2241               </td><td>2246               </td><td> -5                </td><td>2345               </td><td>   1               </td><td>-16                </td><td>B6                 </td><td> 486               </td><td>N346JB             </td><td>JFK                </td><td>ROC                </td><td> 47                </td><td> 264               </td><td>22                 </td><td>46                 </td><td>2013-09-30 22:00:00</td></tr>\n",
       "\t<tr><td>2013               </td><td>9                  </td><td>30                 </td><td>2307               </td><td>2255               </td><td> 12                </td><td>2359               </td><td>2358               </td><td>  1                </td><td>B6                 </td><td> 718               </td><td>N565JB             </td><td>JFK                </td><td>BOS                </td><td> 33                </td><td> 187               </td><td>22                 </td><td>55                 </td><td>2013-09-30 22:00:00</td></tr>\n",
       "\t<tr><td>2013               </td><td>9                  </td><td>30                 </td><td>2349               </td><td>2359               </td><td>-10                </td><td> 325               </td><td> 350               </td><td>-25                </td><td>B6                 </td><td> 745               </td><td>N516JB             </td><td>JFK                </td><td>PSE                </td><td>196                </td><td>1617               </td><td>23                 </td><td>59                 </td><td>2013-09-30 23:00:00</td></tr>\n",
       "\t<tr><td>2013               </td><td>9                  </td><td>30                 </td><td>  NA               </td><td>1842               </td><td> NA                </td><td>  NA               </td><td>2019               </td><td> NA                </td><td>EV                 </td><td>5274               </td><td>N740EV             </td><td>LGA                </td><td>BNA                </td><td> NA                </td><td> 764               </td><td>18                 </td><td>42                 </td><td>2013-09-30 18:00:00</td></tr>\n",
       "\t<tr><td>2013               </td><td>9                  </td><td>30                 </td><td>  NA               </td><td>1455               </td><td> NA                </td><td>  NA               </td><td>1634               </td><td> NA                </td><td>9E                 </td><td>3393               </td><td>NA                 </td><td>JFK                </td><td>DCA                </td><td> NA                </td><td> 213               </td><td>14                 </td><td>55                 </td><td>2013-09-30 14:00:00</td></tr>\n",
       "\t<tr><td>2013               </td><td>9                  </td><td>30                 </td><td>  NA               </td><td>2200               </td><td> NA                </td><td>  NA               </td><td>2312               </td><td> NA                </td><td>9E                 </td><td>3525               </td><td>NA                 </td><td>LGA                </td><td>SYR                </td><td> NA                </td><td> 198               </td><td>22                 </td><td> 0                 </td><td>2013-09-30 22:00:00</td></tr>\n",
       "\t<tr><td>2013               </td><td>9                  </td><td>30                 </td><td>  NA               </td><td>1210               </td><td> NA                </td><td>  NA               </td><td>1330               </td><td> NA                </td><td>MQ                 </td><td>3461               </td><td>N535MQ             </td><td>LGA                </td><td>BNA                </td><td> NA                </td><td> 764               </td><td>12                 </td><td>10                 </td><td>2013-09-30 12:00:00</td></tr>\n",
       "\t<tr><td>2013               </td><td>9                  </td><td>30                 </td><td>  NA               </td><td>1159               </td><td> NA                </td><td>  NA               </td><td>1344               </td><td> NA                </td><td>MQ                 </td><td>3572               </td><td>N511MQ             </td><td>LGA                </td><td>CLE                </td><td> NA                </td><td> 419               </td><td>11                 </td><td>59                 </td><td>2013-09-30 11:00:00</td></tr>\n",
       "\t<tr><td>2013               </td><td>9                  </td><td>30                 </td><td>  NA               </td><td> 840               </td><td> NA                </td><td>  NA               </td><td>1020               </td><td> NA                </td><td>MQ                 </td><td>3531               </td><td>N839MQ             </td><td>LGA                </td><td>RDU                </td><td> NA                </td><td> 431               </td><td> 8                 </td><td>40                 </td><td>2013-09-30 08:00:00</td></tr>\n",
       "</tbody>\n",
       "</table>\n"
      ],
      "text/latex": [
       "\\begin{tabular}{r|lllllllllllllllllll}\n",
       " year & month & day & dep\\_time & sched\\_dep\\_time & dep\\_delay & arr\\_time & sched\\_arr\\_time & arr\\_delay & carrier & flight & tailnum & origin & dest & air\\_time & distance & hour & minute & time\\_hour\\\\\n",
       "\\hline\n",
       "\t 2013                & 1                   & 1                   & 517                 & 515                 &  2                  &  830                &  819                &  11                 & UA                  & 1545                & N14228              & EWR                 & IAH                 & 227                 & 1400                & 5                   & 15                  & 2013-01-01 05:00:00\\\\\n",
       "\t 2013                & 1                   & 1                   & 533                 & 529                 &  4                  &  850                &  830                &  20                 & UA                  & 1714                & N24211              & LGA                 & IAH                 & 227                 & 1416                & 5                   & 29                  & 2013-01-01 05:00:00\\\\\n",
       "\t 2013                & 1                   & 1                   & 542                 & 540                 &  2                  &  923                &  850                &  33                 & AA                  & 1141                & N619AA              & JFK                 & MIA                 & 160                 & 1089                & 5                   & 40                  & 2013-01-01 05:00:00\\\\\n",
       "\t 2013                & 1                   & 1                   & 544                 & 545                 & -1                  & 1004                & 1022                & -18                 & B6                  &  725                & N804JB              & JFK                 & BQN                 & 183                 & 1576                & 5                   & 45                  & 2013-01-01 05:00:00\\\\\n",
       "\t 2013                & 1                   & 1                   & 554                 & 600                 & -6                  &  812                &  837                & -25                 & DL                  &  461                & N668DN              & LGA                 & ATL                 & 116                 &  762                & 6                   &  0                  & 2013-01-01 06:00:00\\\\\n",
       "\t 2013                & 1                   & 1                   & 554                 & 558                 & -4                  &  740                &  728                &  12                 & UA                  & 1696                & N39463              & EWR                 & ORD                 & 150                 &  719                & 5                   & 58                  & 2013-01-01 05:00:00\\\\\n",
       "\t 2013                & 1                   & 1                   & 555                 & 600                 & -5                  &  913                &  854                &  19                 & B6                  &  507                & N516JB              & EWR                 & FLL                 & 158                 & 1065                & 6                   &  0                  & 2013-01-01 06:00:00\\\\\n",
       "\t 2013                & 1                   & 1                   & 557                 & 600                 & -3                  &  709                &  723                & -14                 & EV                  & 5708                & N829AS              & LGA                 & IAD                 &  53                 &  229                & 6                   &  0                  & 2013-01-01 06:00:00\\\\\n",
       "\t 2013                & 1                   & 1                   & 557                 & 600                 & -3                  &  838                &  846                &  -8                 & B6                  &   79                & N593JB              & JFK                 & MCO                 & 140                 &  944                & 6                   &  0                  & 2013-01-01 06:00:00\\\\\n",
       "\t 2013                & 1                   & 1                   & 558                 & 600                 & -2                  &  753                &  745                &   8                 & AA                  &  301                & N3ALAA              & LGA                 & ORD                 & 138                 &  733                & 6                   &  0                  & 2013-01-01 06:00:00\\\\\n",
       "\t 2013                & 1                   & 1                   & 558                 & 600                 & -2                  &  849                &  851                &  -2                 & B6                  &   49                & N793JB              & JFK                 & PBI                 & 149                 & 1028                & 6                   &  0                  & 2013-01-01 06:00:00\\\\\n",
       "\t 2013                & 1                   & 1                   & 558                 & 600                 & -2                  &  853                &  856                &  -3                 & B6                  &   71                & N657JB              & JFK                 & TPA                 & 158                 & 1005                & 6                   &  0                  & 2013-01-01 06:00:00\\\\\n",
       "\t 2013                & 1                   & 1                   & 558                 & 600                 & -2                  &  924                &  917                &   7                 & UA                  &  194                & N29129              & JFK                 & LAX                 & 345                 & 2475                & 6                   &  0                  & 2013-01-01 06:00:00\\\\\n",
       "\t 2013                & 1                   & 1                   & 558                 & 600                 & -2                  &  923                &  937                & -14                 & UA                  & 1124                & N53441              & EWR                 & SFO                 & 361                 & 2565                & 6                   &  0                  & 2013-01-01 06:00:00\\\\\n",
       "\t 2013                & 1                   & 1                   & 559                 & 600                 & -1                  &  941                &  910                &  31                 & AA                  &  707                & N3DUAA              & LGA                 & DFW                 & 257                 & 1389                & 6                   &  0                  & 2013-01-01 06:00:00\\\\\n",
       "\t 2013                & 1                   & 1                   & 559                 & 559                 &  0                  &  702                &  706                &  -4                 & B6                  & 1806                & N708JB              & JFK                 & BOS                 &  44                 &  187                & 5                   & 59                  & 2013-01-01 05:00:00\\\\\n",
       "\t 2013                & 1                   & 1                   & 559                 & 600                 & -1                  &  854                &  902                &  -8                 & UA                  & 1187                & N76515              & EWR                 & LAS                 & 337                 & 2227                & 6                   &  0                  & 2013-01-01 06:00:00\\\\\n",
       "\t 2013                & 1                   & 1                   & 600                 & 600                 &  0                  &  851                &  858                &  -7                 & B6                  &  371                & N595JB              & LGA                 & FLL                 & 152                 & 1076                & 6                   &  0                  & 2013-01-01 06:00:00\\\\\n",
       "\t 2013                & 1                   & 1                   & 600                 & 600                 &  0                  &  837                &  825                &  12                 & MQ                  & 4650                & N542MQ              & LGA                 & ATL                 & 134                 &  762                & 6                   &  0                  & 2013-01-01 06:00:00\\\\\n",
       "\t 2013                & 1                   & 1                   & 601                 & 600                 &  1                  &  844                &  850                &  -6                 & B6                  &  343                & N644JB              & EWR                 & PBI                 & 147                 & 1023                & 6                   &  0                  & 2013-01-01 06:00:00\\\\\n",
       "\t 2013                & 1                   & 1                   & 602                 & 610                 & -8                  &  812                &  820                &  -8                 & DL                  & 1919                & N971DL              & LGA                 & MSP                 & 170                 & 1020                & 6                   & 10                  & 2013-01-01 06:00:00\\\\\n",
       "\t 2013                & 1                   & 1                   & 602                 & 605                 & -3                  &  821                &  805                &  16                 & MQ                  & 4401                & N730MQ              & LGA                 & DTW                 & 105                 &  502                & 6                   &  5                  & 2013-01-01 06:00:00\\\\\n",
       "\t 2013                & 1                   & 1                   & 606                 & 610                 & -4                  &  858                &  910                & -12                 & AA                  & 1895                & N633AA              & EWR                 & MIA                 & 152                 & 1085                & 6                   & 10                  & 2013-01-01 06:00:00\\\\\n",
       "\t 2013                & 1                   & 1                   & 606                 & 610                 & -4                  &  837                &  845                &  -8                 & DL                  & 1743                & N3739P              & JFK                 & ATL                 & 128                 &  760                & 6                   & 10                  & 2013-01-01 06:00:00\\\\\n",
       "\t 2013                & 1                   & 1                   & 607                 & 607                 &  0                  &  858                &  915                & -17                 & UA                  & 1077                & N53442              & EWR                 & MIA                 & 157                 & 1085                & 6                   &  7                  & 2013-01-01 06:00:00\\\\\n",
       "\t 2013                & 1                   & 1                   & 608                 & 600                 &  8                  &  807                &  735                &  32                 & MQ                  & 3768                & N9EAMQ              & EWR                 & ORD                 & 139                 &  719                & 6                   &  0                  & 2013-01-01 06:00:00\\\\\n",
       "\t 2013                & 1                   & 1                   & 611                 & 600                 & 11                  &  945                &  931                &  14                 & UA                  &  303                & N532UA              & JFK                 & SFO                 & 366                 & 2586                & 6                   &  0                  & 2013-01-01 06:00:00\\\\\n",
       "\t 2013                & 1                   & 1                   & 613                 & 610                 &  3                  &  925                &  921                &   4                 & B6                  &  135                & N635JB              & JFK                 & RSW                 & 175                 & 1074                & 6                   & 10                  & 2013-01-01 06:00:00\\\\\n",
       "\t 2013                & 1                   & 1                   & 615                 & 615                 &  0                  & 1039                & 1100                & -21                 & B6                  &  709                & N794JB              & JFK                 & SJU                 & 182                 & 1598                & 6                   & 15                  & 2013-01-01 06:00:00\\\\\n",
       "\t 2013                & 1                   & 1                   & 615                 & 615                 &  0                  &  833                &  842                &  -9                 & DL                  &  575                & N326NB              & EWR                 & ATL                 & 120                 &  746                & 6                   & 15                  & 2013-01-01 06:00:00\\\\\n",
       "\t ... & ... & ... & ... & ... & ... & ... & ... & ... & ... & ... & ... & ... & ... & ... & ... & ... & ... & ...\\\\\n",
       "\t 2013                & 9                   & 30                  & 2123                & 2125                &  -2                 & 2223                & 2247                & -24                 & EV                  & 5489                & N712EV              & LGA                 & CHO                 &  45                 &  305                & 21                  & 25                  & 2013-09-30 21:00:00\\\\\n",
       "\t 2013                & 9                   & 30                  & 2127                & 2129                &  -2                 & 2314                & 2323                &  -9                 & EV                  & 3833                & N16546              & EWR                 & CLT                 &  72                 &  529                & 21                  & 29                  & 2013-09-30 21:00:00\\\\\n",
       "\t 2013                & 9                   & 30                  & 2128                & 2130                &  -2                 & 2328                & 2359                & -31                 & B6                  &   97                & N807JB              & JFK                 & DEN                 & 213                 & 1626                & 21                  & 30                  & 2013-09-30 21:00:00\\\\\n",
       "\t 2013                & 9                   & 30                  & 2129                & 2059                &  30                 & 2230                & 2232                &  -2                 & EV                  & 5048                & N751EV              & LGA                 & RIC                 &  45                 &  292                & 20                  & 59                  & 2013-09-30 20:00:00\\\\\n",
       "\t 2013                & 9                   & 30                  & 2131                & 2140                &  -9                 & 2225                & 2255                & -30                 & MQ                  & 3621                & N807MQ              & JFK                 & DCA                 &  36                 &  213                & 21                  & 40                  & 2013-09-30 21:00:00\\\\\n",
       "\t 2013                & 9                   & 30                  & 2140                & 2140                &   0                 &   10                &   40                & -30                 & AA                  &  185                & N335AA              & JFK                 & LAX                 & 298                 & 2475                & 21                  & 40                  & 2013-09-30 21:00:00\\\\\n",
       "\t 2013                & 9                   & 30                  & 2142                & 2129                &  13                 & 2250                & 2239                &  11                 & EV                  & 4509                & N12957              & EWR                 & PWM                 &  47                 &  284                & 21                  & 29                  & 2013-09-30 21:00:00\\\\\n",
       "\t 2013                & 9                   & 30                  & 2145                & 2145                &   0                 &  115                &  140                & -25                 & B6                  & 1103                & N633JB              & JFK                 & SJU                 & 192                 & 1598                & 21                  & 45                  & 2013-09-30 21:00:00\\\\\n",
       "\t 2013                & 9                   & 30                  & 2147                & 2137                &  10                 &   30                &   27                &   3                 & B6                  & 1371                & N627JB              & LGA                 & FLL                 & 139                 & 1076                & 21                  & 37                  & 2013-09-30 21:00:00\\\\\n",
       "\t 2013                & 9                   & 30                  & 2149                & 2156                &  -7                 & 2245                & 2308                & -23                 & UA                  &  523                & N813UA              & EWR                 & BOS                 &  37                 &  200                & 21                  & 56                  & 2013-09-30 21:00:00\\\\\n",
       "\t 2013                & 9                   & 30                  & 2150                & 2159                &  -9                 & 2250                & 2306                & -16                 & EV                  & 3842                & N10575              & EWR                 & MHT                 &  39                 &  209                & 21                  & 59                  & 2013-09-30 21:00:00\\\\\n",
       "\t 2013                & 9                   & 30                  & 2159                & 1845                & 194                 & 2344                & 2030                & 194                 & 9E                  & 3320                & N906XJ              & JFK                 & BUF                 &  50                 &  301                & 18                  & 45                  & 2013-09-30 18:00:00\\\\\n",
       "\t 2013                & 9                   & 30                  & 2203                & 2205                &  -2                 & 2339                & 2331                &   8                 & EV                  & 5311                & N722EV              & LGA                 & BGR                 &  61                 &  378                & 22                  &  5                  & 2013-09-30 22:00:00\\\\\n",
       "\t 2013                & 9                   & 30                  & 2207                & 2140                &  27                 & 2257                & 2250                &   7                 & MQ                  & 3660                & N532MQ              & LGA                 & BNA                 &  97                 &  764                & 21                  & 40                  & 2013-09-30 21:00:00\\\\\n",
       "\t 2013                & 9                   & 30                  & 2211                & 2059                &  72                 & 2339                & 2242                &  57                 & EV                  & 4672                & N12145              & EWR                 & STL                 & 120                 &  872                & 20                  & 59                  & 2013-09-30 20:00:00\\\\\n",
       "\t 2013                & 9                   & 30                  & 2231                & 2245                & -14                 & 2335                & 2356                & -21                 & B6                  &  108                & N193JB              & JFK                 & PWM                 &  48                 &  273                & 22                  & 45                  & 2013-09-30 22:00:00\\\\\n",
       "\t 2013                & 9                   & 30                  & 2233                & 2113                &  80                 &  112                &   30                &  42                 & UA                  &  471                & N578UA              & EWR                 & SFO                 & 318                 & 2565                & 21                  & 13                  & 2013-09-30 21:00:00\\\\\n",
       "\t 2013                & 9                   & 30                  & 2235                & 2001                & 154                 &   59                & 2249                & 130                 & B6                  & 1083                & N804JB              & JFK                 & MCO                 & 123                 &  944                & 20                  &  1                  & 2013-09-30 20:00:00\\\\\n",
       "\t 2013                & 9                   & 30                  & 2237                & 2245                &  -8                 & 2345                & 2353                &  -8                 & B6                  &  234                & N318JB              & JFK                 & BTV                 &  43                 &  266                & 22                  & 45                  & 2013-09-30 22:00:00\\\\\n",
       "\t 2013                & 9                   & 30                  & 2240                & 2245                &  -5                 & 2334                & 2351                & -17                 & B6                  & 1816                & N354JB              & JFK                 & SYR                 &  41                 &  209                & 22                  & 45                  & 2013-09-30 22:00:00\\\\\n",
       "\t 2013                & 9                   & 30                  & 2240                & 2250                & -10                 & 2347                &    7                & -20                 & B6                  & 2002                & N281JB              & JFK                 & BUF                 &  52                 &  301                & 22                  & 50                  & 2013-09-30 22:00:00\\\\\n",
       "\t 2013                & 9                   & 30                  & 2241                & 2246                &  -5                 & 2345                &    1                & -16                 & B6                  &  486                & N346JB              & JFK                 & ROC                 &  47                 &  264                & 22                  & 46                  & 2013-09-30 22:00:00\\\\\n",
       "\t 2013                & 9                   & 30                  & 2307                & 2255                &  12                 & 2359                & 2358                &   1                 & B6                  &  718                & N565JB              & JFK                 & BOS                 &  33                 &  187                & 22                  & 55                  & 2013-09-30 22:00:00\\\\\n",
       "\t 2013                & 9                   & 30                  & 2349                & 2359                & -10                 &  325                &  350                & -25                 & B6                  &  745                & N516JB              & JFK                 & PSE                 & 196                 & 1617                & 23                  & 59                  & 2013-09-30 23:00:00\\\\\n",
       "\t 2013                & 9                   & 30                  &   NA                & 1842                &  NA                 &   NA                & 2019                &  NA                 & EV                  & 5274                & N740EV              & LGA                 & BNA                 &  NA                 &  764                & 18                  & 42                  & 2013-09-30 18:00:00\\\\\n",
       "\t 2013                & 9                   & 30                  &   NA                & 1455                &  NA                 &   NA                & 1634                &  NA                 & 9E                  & 3393                & NA                  & JFK                 & DCA                 &  NA                 &  213                & 14                  & 55                  & 2013-09-30 14:00:00\\\\\n",
       "\t 2013                & 9                   & 30                  &   NA                & 2200                &  NA                 &   NA                & 2312                &  NA                 & 9E                  & 3525                & NA                  & LGA                 & SYR                 &  NA                 &  198                & 22                  &  0                  & 2013-09-30 22:00:00\\\\\n",
       "\t 2013                & 9                   & 30                  &   NA                & 1210                &  NA                 &   NA                & 1330                &  NA                 & MQ                  & 3461                & N535MQ              & LGA                 & BNA                 &  NA                 &  764                & 12                  & 10                  & 2013-09-30 12:00:00\\\\\n",
       "\t 2013                & 9                   & 30                  &   NA                & 1159                &  NA                 &   NA                & 1344                &  NA                 & MQ                  & 3572                & N511MQ              & LGA                 & CLE                 &  NA                 &  419                & 11                  & 59                  & 2013-09-30 11:00:00\\\\\n",
       "\t 2013                & 9                   & 30                  &   NA                &  840                &  NA                 &   NA                & 1020                &  NA                 & MQ                  & 3531                & N839MQ              & LGA                 & RDU                 &  NA                 &  431                &  8                  & 40                  & 2013-09-30 08:00:00\\\\\n",
       "\\end{tabular}\n"
      ],
      "text/markdown": [
       "\n",
       "| year | month | day | dep_time | sched_dep_time | dep_delay | arr_time | sched_arr_time | arr_delay | carrier | flight | tailnum | origin | dest | air_time | distance | hour | minute | time_hour |\n",
       "|---|---|---|---|---|---|---|---|---|---|---|---|---|---|---|---|---|---|---|\n",
       "| 2013                | 1                   | 1                   | 517                 | 515                 |  2                  |  830                |  819                |  11                 | UA                  | 1545                | N14228              | EWR                 | IAH                 | 227                 | 1400                | 5                   | 15                  | 2013-01-01 05:00:00 |\n",
       "| 2013                | 1                   | 1                   | 533                 | 529                 |  4                  |  850                |  830                |  20                 | UA                  | 1714                | N24211              | LGA                 | IAH                 | 227                 | 1416                | 5                   | 29                  | 2013-01-01 05:00:00 |\n",
       "| 2013                | 1                   | 1                   | 542                 | 540                 |  2                  |  923                |  850                |  33                 | AA                  | 1141                | N619AA              | JFK                 | MIA                 | 160                 | 1089                | 5                   | 40                  | 2013-01-01 05:00:00 |\n",
       "| 2013                | 1                   | 1                   | 544                 | 545                 | -1                  | 1004                | 1022                | -18                 | B6                  |  725                | N804JB              | JFK                 | BQN                 | 183                 | 1576                | 5                   | 45                  | 2013-01-01 05:00:00 |\n",
       "| 2013                | 1                   | 1                   | 554                 | 600                 | -6                  |  812                |  837                | -25                 | DL                  |  461                | N668DN              | LGA                 | ATL                 | 116                 |  762                | 6                   |  0                  | 2013-01-01 06:00:00 |\n",
       "| 2013                | 1                   | 1                   | 554                 | 558                 | -4                  |  740                |  728                |  12                 | UA                  | 1696                | N39463              | EWR                 | ORD                 | 150                 |  719                | 5                   | 58                  | 2013-01-01 05:00:00 |\n",
       "| 2013                | 1                   | 1                   | 555                 | 600                 | -5                  |  913                |  854                |  19                 | B6                  |  507                | N516JB              | EWR                 | FLL                 | 158                 | 1065                | 6                   |  0                  | 2013-01-01 06:00:00 |\n",
       "| 2013                | 1                   | 1                   | 557                 | 600                 | -3                  |  709                |  723                | -14                 | EV                  | 5708                | N829AS              | LGA                 | IAD                 |  53                 |  229                | 6                   |  0                  | 2013-01-01 06:00:00 |\n",
       "| 2013                | 1                   | 1                   | 557                 | 600                 | -3                  |  838                |  846                |  -8                 | B6                  |   79                | N593JB              | JFK                 | MCO                 | 140                 |  944                | 6                   |  0                  | 2013-01-01 06:00:00 |\n",
       "| 2013                | 1                   | 1                   | 558                 | 600                 | -2                  |  753                |  745                |   8                 | AA                  |  301                | N3ALAA              | LGA                 | ORD                 | 138                 |  733                | 6                   |  0                  | 2013-01-01 06:00:00 |\n",
       "| 2013                | 1                   | 1                   | 558                 | 600                 | -2                  |  849                |  851                |  -2                 | B6                  |   49                | N793JB              | JFK                 | PBI                 | 149                 | 1028                | 6                   |  0                  | 2013-01-01 06:00:00 |\n",
       "| 2013                | 1                   | 1                   | 558                 | 600                 | -2                  |  853                |  856                |  -3                 | B6                  |   71                | N657JB              | JFK                 | TPA                 | 158                 | 1005                | 6                   |  0                  | 2013-01-01 06:00:00 |\n",
       "| 2013                | 1                   | 1                   | 558                 | 600                 | -2                  |  924                |  917                |   7                 | UA                  |  194                | N29129              | JFK                 | LAX                 | 345                 | 2475                | 6                   |  0                  | 2013-01-01 06:00:00 |\n",
       "| 2013                | 1                   | 1                   | 558                 | 600                 | -2                  |  923                |  937                | -14                 | UA                  | 1124                | N53441              | EWR                 | SFO                 | 361                 | 2565                | 6                   |  0                  | 2013-01-01 06:00:00 |\n",
       "| 2013                | 1                   | 1                   | 559                 | 600                 | -1                  |  941                |  910                |  31                 | AA                  |  707                | N3DUAA              | LGA                 | DFW                 | 257                 | 1389                | 6                   |  0                  | 2013-01-01 06:00:00 |\n",
       "| 2013                | 1                   | 1                   | 559                 | 559                 |  0                  |  702                |  706                |  -4                 | B6                  | 1806                | N708JB              | JFK                 | BOS                 |  44                 |  187                | 5                   | 59                  | 2013-01-01 05:00:00 |\n",
       "| 2013                | 1                   | 1                   | 559                 | 600                 | -1                  |  854                |  902                |  -8                 | UA                  | 1187                | N76515              | EWR                 | LAS                 | 337                 | 2227                | 6                   |  0                  | 2013-01-01 06:00:00 |\n",
       "| 2013                | 1                   | 1                   | 600                 | 600                 |  0                  |  851                |  858                |  -7                 | B6                  |  371                | N595JB              | LGA                 | FLL                 | 152                 | 1076                | 6                   |  0                  | 2013-01-01 06:00:00 |\n",
       "| 2013                | 1                   | 1                   | 600                 | 600                 |  0                  |  837                |  825                |  12                 | MQ                  | 4650                | N542MQ              | LGA                 | ATL                 | 134                 |  762                | 6                   |  0                  | 2013-01-01 06:00:00 |\n",
       "| 2013                | 1                   | 1                   | 601                 | 600                 |  1                  |  844                |  850                |  -6                 | B6                  |  343                | N644JB              | EWR                 | PBI                 | 147                 | 1023                | 6                   |  0                  | 2013-01-01 06:00:00 |\n",
       "| 2013                | 1                   | 1                   | 602                 | 610                 | -8                  |  812                |  820                |  -8                 | DL                  | 1919                | N971DL              | LGA                 | MSP                 | 170                 | 1020                | 6                   | 10                  | 2013-01-01 06:00:00 |\n",
       "| 2013                | 1                   | 1                   | 602                 | 605                 | -3                  |  821                |  805                |  16                 | MQ                  | 4401                | N730MQ              | LGA                 | DTW                 | 105                 |  502                | 6                   |  5                  | 2013-01-01 06:00:00 |\n",
       "| 2013                | 1                   | 1                   | 606                 | 610                 | -4                  |  858                |  910                | -12                 | AA                  | 1895                | N633AA              | EWR                 | MIA                 | 152                 | 1085                | 6                   | 10                  | 2013-01-01 06:00:00 |\n",
       "| 2013                | 1                   | 1                   | 606                 | 610                 | -4                  |  837                |  845                |  -8                 | DL                  | 1743                | N3739P              | JFK                 | ATL                 | 128                 |  760                | 6                   | 10                  | 2013-01-01 06:00:00 |\n",
       "| 2013                | 1                   | 1                   | 607                 | 607                 |  0                  |  858                |  915                | -17                 | UA                  | 1077                | N53442              | EWR                 | MIA                 | 157                 | 1085                | 6                   |  7                  | 2013-01-01 06:00:00 |\n",
       "| 2013                | 1                   | 1                   | 608                 | 600                 |  8                  |  807                |  735                |  32                 | MQ                  | 3768                | N9EAMQ              | EWR                 | ORD                 | 139                 |  719                | 6                   |  0                  | 2013-01-01 06:00:00 |\n",
       "| 2013                | 1                   | 1                   | 611                 | 600                 | 11                  |  945                |  931                |  14                 | UA                  |  303                | N532UA              | JFK                 | SFO                 | 366                 | 2586                | 6                   |  0                  | 2013-01-01 06:00:00 |\n",
       "| 2013                | 1                   | 1                   | 613                 | 610                 |  3                  |  925                |  921                |   4                 | B6                  |  135                | N635JB              | JFK                 | RSW                 | 175                 | 1074                | 6                   | 10                  | 2013-01-01 06:00:00 |\n",
       "| 2013                | 1                   | 1                   | 615                 | 615                 |  0                  | 1039                | 1100                | -21                 | B6                  |  709                | N794JB              | JFK                 | SJU                 | 182                 | 1598                | 6                   | 15                  | 2013-01-01 06:00:00 |\n",
       "| 2013                | 1                   | 1                   | 615                 | 615                 |  0                  |  833                |  842                |  -9                 | DL                  |  575                | N326NB              | EWR                 | ATL                 | 120                 |  746                | 6                   | 15                  | 2013-01-01 06:00:00 |\n",
       "| ... | ... | ... | ... | ... | ... | ... | ... | ... | ... | ... | ... | ... | ... | ... | ... | ... | ... | ... |\n",
       "| 2013                | 9                   | 30                  | 2123                | 2125                |  -2                 | 2223                | 2247                | -24                 | EV                  | 5489                | N712EV              | LGA                 | CHO                 |  45                 |  305                | 21                  | 25                  | 2013-09-30 21:00:00 |\n",
       "| 2013                | 9                   | 30                  | 2127                | 2129                |  -2                 | 2314                | 2323                |  -9                 | EV                  | 3833                | N16546              | EWR                 | CLT                 |  72                 |  529                | 21                  | 29                  | 2013-09-30 21:00:00 |\n",
       "| 2013                | 9                   | 30                  | 2128                | 2130                |  -2                 | 2328                | 2359                | -31                 | B6                  |   97                | N807JB              | JFK                 | DEN                 | 213                 | 1626                | 21                  | 30                  | 2013-09-30 21:00:00 |\n",
       "| 2013                | 9                   | 30                  | 2129                | 2059                |  30                 | 2230                | 2232                |  -2                 | EV                  | 5048                | N751EV              | LGA                 | RIC                 |  45                 |  292                | 20                  | 59                  | 2013-09-30 20:00:00 |\n",
       "| 2013                | 9                   | 30                  | 2131                | 2140                |  -9                 | 2225                | 2255                | -30                 | MQ                  | 3621                | N807MQ              | JFK                 | DCA                 |  36                 |  213                | 21                  | 40                  | 2013-09-30 21:00:00 |\n",
       "| 2013                | 9                   | 30                  | 2140                | 2140                |   0                 |   10                |   40                | -30                 | AA                  |  185                | N335AA              | JFK                 | LAX                 | 298                 | 2475                | 21                  | 40                  | 2013-09-30 21:00:00 |\n",
       "| 2013                | 9                   | 30                  | 2142                | 2129                |  13                 | 2250                | 2239                |  11                 | EV                  | 4509                | N12957              | EWR                 | PWM                 |  47                 |  284                | 21                  | 29                  | 2013-09-30 21:00:00 |\n",
       "| 2013                | 9                   | 30                  | 2145                | 2145                |   0                 |  115                |  140                | -25                 | B6                  | 1103                | N633JB              | JFK                 | SJU                 | 192                 | 1598                | 21                  | 45                  | 2013-09-30 21:00:00 |\n",
       "| 2013                | 9                   | 30                  | 2147                | 2137                |  10                 |   30                |   27                |   3                 | B6                  | 1371                | N627JB              | LGA                 | FLL                 | 139                 | 1076                | 21                  | 37                  | 2013-09-30 21:00:00 |\n",
       "| 2013                | 9                   | 30                  | 2149                | 2156                |  -7                 | 2245                | 2308                | -23                 | UA                  |  523                | N813UA              | EWR                 | BOS                 |  37                 |  200                | 21                  | 56                  | 2013-09-30 21:00:00 |\n",
       "| 2013                | 9                   | 30                  | 2150                | 2159                |  -9                 | 2250                | 2306                | -16                 | EV                  | 3842                | N10575              | EWR                 | MHT                 |  39                 |  209                | 21                  | 59                  | 2013-09-30 21:00:00 |\n",
       "| 2013                | 9                   | 30                  | 2159                | 1845                | 194                 | 2344                | 2030                | 194                 | 9E                  | 3320                | N906XJ              | JFK                 | BUF                 |  50                 |  301                | 18                  | 45                  | 2013-09-30 18:00:00 |\n",
       "| 2013                | 9                   | 30                  | 2203                | 2205                |  -2                 | 2339                | 2331                |   8                 | EV                  | 5311                | N722EV              | LGA                 | BGR                 |  61                 |  378                | 22                  |  5                  | 2013-09-30 22:00:00 |\n",
       "| 2013                | 9                   | 30                  | 2207                | 2140                |  27                 | 2257                | 2250                |   7                 | MQ                  | 3660                | N532MQ              | LGA                 | BNA                 |  97                 |  764                | 21                  | 40                  | 2013-09-30 21:00:00 |\n",
       "| 2013                | 9                   | 30                  | 2211                | 2059                |  72                 | 2339                | 2242                |  57                 | EV                  | 4672                | N12145              | EWR                 | STL                 | 120                 |  872                | 20                  | 59                  | 2013-09-30 20:00:00 |\n",
       "| 2013                | 9                   | 30                  | 2231                | 2245                | -14                 | 2335                | 2356                | -21                 | B6                  |  108                | N193JB              | JFK                 | PWM                 |  48                 |  273                | 22                  | 45                  | 2013-09-30 22:00:00 |\n",
       "| 2013                | 9                   | 30                  | 2233                | 2113                |  80                 |  112                |   30                |  42                 | UA                  |  471                | N578UA              | EWR                 | SFO                 | 318                 | 2565                | 21                  | 13                  | 2013-09-30 21:00:00 |\n",
       "| 2013                | 9                   | 30                  | 2235                | 2001                | 154                 |   59                | 2249                | 130                 | B6                  | 1083                | N804JB              | JFK                 | MCO                 | 123                 |  944                | 20                  |  1                  | 2013-09-30 20:00:00 |\n",
       "| 2013                | 9                   | 30                  | 2237                | 2245                |  -8                 | 2345                | 2353                |  -8                 | B6                  |  234                | N318JB              | JFK                 | BTV                 |  43                 |  266                | 22                  | 45                  | 2013-09-30 22:00:00 |\n",
       "| 2013                | 9                   | 30                  | 2240                | 2245                |  -5                 | 2334                | 2351                | -17                 | B6                  | 1816                | N354JB              | JFK                 | SYR                 |  41                 |  209                | 22                  | 45                  | 2013-09-30 22:00:00 |\n",
       "| 2013                | 9                   | 30                  | 2240                | 2250                | -10                 | 2347                |    7                | -20                 | B6                  | 2002                | N281JB              | JFK                 | BUF                 |  52                 |  301                | 22                  | 50                  | 2013-09-30 22:00:00 |\n",
       "| 2013                | 9                   | 30                  | 2241                | 2246                |  -5                 | 2345                |    1                | -16                 | B6                  |  486                | N346JB              | JFK                 | ROC                 |  47                 |  264                | 22                  | 46                  | 2013-09-30 22:00:00 |\n",
       "| 2013                | 9                   | 30                  | 2307                | 2255                |  12                 | 2359                | 2358                |   1                 | B6                  |  718                | N565JB              | JFK                 | BOS                 |  33                 |  187                | 22                  | 55                  | 2013-09-30 22:00:00 |\n",
       "| 2013                | 9                   | 30                  | 2349                | 2359                | -10                 |  325                |  350                | -25                 | B6                  |  745                | N516JB              | JFK                 | PSE                 | 196                 | 1617                | 23                  | 59                  | 2013-09-30 23:00:00 |\n",
       "| 2013                | 9                   | 30                  |   NA                | 1842                |  NA                 |   NA                | 2019                |  NA                 | EV                  | 5274                | N740EV              | LGA                 | BNA                 |  NA                 |  764                | 18                  | 42                  | 2013-09-30 18:00:00 |\n",
       "| 2013                | 9                   | 30                  |   NA                | 1455                |  NA                 |   NA                | 1634                |  NA                 | 9E                  | 3393                | NA                  | JFK                 | DCA                 |  NA                 |  213                | 14                  | 55                  | 2013-09-30 14:00:00 |\n",
       "| 2013                | 9                   | 30                  |   NA                | 2200                |  NA                 |   NA                | 2312                |  NA                 | 9E                  | 3525                | NA                  | LGA                 | SYR                 |  NA                 |  198                | 22                  |  0                  | 2013-09-30 22:00:00 |\n",
       "| 2013                | 9                   | 30                  |   NA                | 1210                |  NA                 |   NA                | 1330                |  NA                 | MQ                  | 3461                | N535MQ              | LGA                 | BNA                 |  NA                 |  764                | 12                  | 10                  | 2013-09-30 12:00:00 |\n",
       "| 2013                | 9                   | 30                  |   NA                | 1159                |  NA                 |   NA                | 1344                |  NA                 | MQ                  | 3572                | N511MQ              | LGA                 | CLE                 |  NA                 |  419                | 11                  | 59                  | 2013-09-30 11:00:00 |\n",
       "| 2013                | 9                   | 30                  |   NA                |  840                |  NA                 |   NA                | 1020                |  NA                 | MQ                  | 3531                | N839MQ              | LGA                 | RDU                 |  NA                 |  431                |  8                  | 40                  | 2013-09-30 08:00:00 |\n",
       "\n"
      ],
      "text/plain": [
       "       year month day dep_time sched_dep_time dep_delay arr_time sched_arr_time\n",
       "1      2013 1     1   517      515             2         830      819          \n",
       "2      2013 1     1   533      529             4         850      830          \n",
       "3      2013 1     1   542      540             2         923      850          \n",
       "4      2013 1     1   544      545            -1        1004     1022          \n",
       "5      2013 1     1   554      600            -6         812      837          \n",
       "6      2013 1     1   554      558            -4         740      728          \n",
       "7      2013 1     1   555      600            -5         913      854          \n",
       "8      2013 1     1   557      600            -3         709      723          \n",
       "9      2013 1     1   557      600            -3         838      846          \n",
       "10     2013 1     1   558      600            -2         753      745          \n",
       "11     2013 1     1   558      600            -2         849      851          \n",
       "12     2013 1     1   558      600            -2         853      856          \n",
       "13     2013 1     1   558      600            -2         924      917          \n",
       "14     2013 1     1   558      600            -2         923      937          \n",
       "15     2013 1     1   559      600            -1         941      910          \n",
       "16     2013 1     1   559      559             0         702      706          \n",
       "17     2013 1     1   559      600            -1         854      902          \n",
       "18     2013 1     1   600      600             0         851      858          \n",
       "19     2013 1     1   600      600             0         837      825          \n",
       "20     2013 1     1   601      600             1         844      850          \n",
       "21     2013 1     1   602      610            -8         812      820          \n",
       "22     2013 1     1   602      605            -3         821      805          \n",
       "23     2013 1     1   606      610            -4         858      910          \n",
       "24     2013 1     1   606      610            -4         837      845          \n",
       "25     2013 1     1   607      607             0         858      915          \n",
       "26     2013 1     1   608      600             8         807      735          \n",
       "27     2013 1     1   611      600            11         945      931          \n",
       "28     2013 1     1   613      610             3         925      921          \n",
       "29     2013 1     1   615      615             0        1039     1100          \n",
       "30     2013 1     1   615      615             0         833      842          \n",
       "...    ...  ...   ... ...      ...            ...       ...      ...           \n",
       "336747 2013 9     30  2123     2125            -2       2223     2247          \n",
       "336748 2013 9     30  2127     2129            -2       2314     2323          \n",
       "336749 2013 9     30  2128     2130            -2       2328     2359          \n",
       "336750 2013 9     30  2129     2059            30       2230     2232          \n",
       "336751 2013 9     30  2131     2140            -9       2225     2255          \n",
       "336752 2013 9     30  2140     2140             0         10       40          \n",
       "336753 2013 9     30  2142     2129            13       2250     2239          \n",
       "336754 2013 9     30  2145     2145             0        115      140          \n",
       "336755 2013 9     30  2147     2137            10         30       27          \n",
       "336756 2013 9     30  2149     2156            -7       2245     2308          \n",
       "336757 2013 9     30  2150     2159            -9       2250     2306          \n",
       "336758 2013 9     30  2159     1845           194       2344     2030          \n",
       "336759 2013 9     30  2203     2205            -2       2339     2331          \n",
       "336760 2013 9     30  2207     2140            27       2257     2250          \n",
       "336761 2013 9     30  2211     2059            72       2339     2242          \n",
       "336762 2013 9     30  2231     2245           -14       2335     2356          \n",
       "336763 2013 9     30  2233     2113            80        112       30          \n",
       "336764 2013 9     30  2235     2001           154         59     2249          \n",
       "336765 2013 9     30  2237     2245            -8       2345     2353          \n",
       "336766 2013 9     30  2240     2245            -5       2334     2351          \n",
       "336767 2013 9     30  2240     2250           -10       2347        7          \n",
       "336768 2013 9     30  2241     2246            -5       2345        1          \n",
       "336769 2013 9     30  2307     2255            12       2359     2358          \n",
       "336770 2013 9     30  2349     2359           -10        325      350          \n",
       "336771 2013 9     30    NA     1842            NA         NA     2019          \n",
       "336772 2013 9     30    NA     1455            NA         NA     1634          \n",
       "336773 2013 9     30    NA     2200            NA         NA     2312          \n",
       "336774 2013 9     30    NA     1210            NA         NA     1330          \n",
       "336775 2013 9     30    NA     1159            NA         NA     1344          \n",
       "336776 2013 9     30    NA      840            NA         NA     1020          \n",
       "       arr_delay carrier flight tailnum origin dest air_time distance hour\n",
       "1       11       UA      1545   N14228  EWR    IAH  227      1400     5   \n",
       "2       20       UA      1714   N24211  LGA    IAH  227      1416     5   \n",
       "3       33       AA      1141   N619AA  JFK    MIA  160      1089     5   \n",
       "4      -18       B6       725   N804JB  JFK    BQN  183      1576     5   \n",
       "5      -25       DL       461   N668DN  LGA    ATL  116       762     6   \n",
       "6       12       UA      1696   N39463  EWR    ORD  150       719     5   \n",
       "7       19       B6       507   N516JB  EWR    FLL  158      1065     6   \n",
       "8      -14       EV      5708   N829AS  LGA    IAD   53       229     6   \n",
       "9       -8       B6        79   N593JB  JFK    MCO  140       944     6   \n",
       "10       8       AA       301   N3ALAA  LGA    ORD  138       733     6   \n",
       "11      -2       B6        49   N793JB  JFK    PBI  149      1028     6   \n",
       "12      -3       B6        71   N657JB  JFK    TPA  158      1005     6   \n",
       "13       7       UA       194   N29129  JFK    LAX  345      2475     6   \n",
       "14     -14       UA      1124   N53441  EWR    SFO  361      2565     6   \n",
       "15      31       AA       707   N3DUAA  LGA    DFW  257      1389     6   \n",
       "16      -4       B6      1806   N708JB  JFK    BOS   44       187     5   \n",
       "17      -8       UA      1187   N76515  EWR    LAS  337      2227     6   \n",
       "18      -7       B6       371   N595JB  LGA    FLL  152      1076     6   \n",
       "19      12       MQ      4650   N542MQ  LGA    ATL  134       762     6   \n",
       "20      -6       B6       343   N644JB  EWR    PBI  147      1023     6   \n",
       "21      -8       DL      1919   N971DL  LGA    MSP  170      1020     6   \n",
       "22      16       MQ      4401   N730MQ  LGA    DTW  105       502     6   \n",
       "23     -12       AA      1895   N633AA  EWR    MIA  152      1085     6   \n",
       "24      -8       DL      1743   N3739P  JFK    ATL  128       760     6   \n",
       "25     -17       UA      1077   N53442  EWR    MIA  157      1085     6   \n",
       "26      32       MQ      3768   N9EAMQ  EWR    ORD  139       719     6   \n",
       "27      14       UA       303   N532UA  JFK    SFO  366      2586     6   \n",
       "28       4       B6       135   N635JB  JFK    RSW  175      1074     6   \n",
       "29     -21       B6       709   N794JB  JFK    SJU  182      1598     6   \n",
       "30      -9       DL       575   N326NB  EWR    ATL  120       746     6   \n",
       "...    ...       ...     ...    ...     ...    ...  ...      ...      ... \n",
       "336747 -24       EV      5489   N712EV  LGA    CHO   45       305     21  \n",
       "336748  -9       EV      3833   N16546  EWR    CLT   72       529     21  \n",
       "336749 -31       B6        97   N807JB  JFK    DEN  213      1626     21  \n",
       "336750  -2       EV      5048   N751EV  LGA    RIC   45       292     20  \n",
       "336751 -30       MQ      3621   N807MQ  JFK    DCA   36       213     21  \n",
       "336752 -30       AA       185   N335AA  JFK    LAX  298      2475     21  \n",
       "336753  11       EV      4509   N12957  EWR    PWM   47       284     21  \n",
       "336754 -25       B6      1103   N633JB  JFK    SJU  192      1598     21  \n",
       "336755   3       B6      1371   N627JB  LGA    FLL  139      1076     21  \n",
       "336756 -23       UA       523   N813UA  EWR    BOS   37       200     21  \n",
       "336757 -16       EV      3842   N10575  EWR    MHT   39       209     21  \n",
       "336758 194       9E      3320   N906XJ  JFK    BUF   50       301     18  \n",
       "336759   8       EV      5311   N722EV  LGA    BGR   61       378     22  \n",
       "336760   7       MQ      3660   N532MQ  LGA    BNA   97       764     21  \n",
       "336761  57       EV      4672   N12145  EWR    STL  120       872     20  \n",
       "336762 -21       B6       108   N193JB  JFK    PWM   48       273     22  \n",
       "336763  42       UA       471   N578UA  EWR    SFO  318      2565     21  \n",
       "336764 130       B6      1083   N804JB  JFK    MCO  123       944     20  \n",
       "336765  -8       B6       234   N318JB  JFK    BTV   43       266     22  \n",
       "336766 -17       B6      1816   N354JB  JFK    SYR   41       209     22  \n",
       "336767 -20       B6      2002   N281JB  JFK    BUF   52       301     22  \n",
       "336768 -16       B6       486   N346JB  JFK    ROC   47       264     22  \n",
       "336769   1       B6       718   N565JB  JFK    BOS   33       187     22  \n",
       "336770 -25       B6       745   N516JB  JFK    PSE  196      1617     23  \n",
       "336771  NA       EV      5274   N740EV  LGA    BNA   NA       764     18  \n",
       "336772  NA       9E      3393   NA      JFK    DCA   NA       213     14  \n",
       "336773  NA       9E      3525   NA      LGA    SYR   NA       198     22  \n",
       "336774  NA       MQ      3461   N535MQ  LGA    BNA   NA       764     12  \n",
       "336775  NA       MQ      3572   N511MQ  LGA    CLE   NA       419     11  \n",
       "336776  NA       MQ      3531   N839MQ  LGA    RDU   NA       431      8  \n",
       "       minute time_hour          \n",
       "1      15     2013-01-01 05:00:00\n",
       "2      29     2013-01-01 05:00:00\n",
       "3      40     2013-01-01 05:00:00\n",
       "4      45     2013-01-01 05:00:00\n",
       "5       0     2013-01-01 06:00:00\n",
       "6      58     2013-01-01 05:00:00\n",
       "7       0     2013-01-01 06:00:00\n",
       "8       0     2013-01-01 06:00:00\n",
       "9       0     2013-01-01 06:00:00\n",
       "10      0     2013-01-01 06:00:00\n",
       "11      0     2013-01-01 06:00:00\n",
       "12      0     2013-01-01 06:00:00\n",
       "13      0     2013-01-01 06:00:00\n",
       "14      0     2013-01-01 06:00:00\n",
       "15      0     2013-01-01 06:00:00\n",
       "16     59     2013-01-01 05:00:00\n",
       "17      0     2013-01-01 06:00:00\n",
       "18      0     2013-01-01 06:00:00\n",
       "19      0     2013-01-01 06:00:00\n",
       "20      0     2013-01-01 06:00:00\n",
       "21     10     2013-01-01 06:00:00\n",
       "22      5     2013-01-01 06:00:00\n",
       "23     10     2013-01-01 06:00:00\n",
       "24     10     2013-01-01 06:00:00\n",
       "25      7     2013-01-01 06:00:00\n",
       "26      0     2013-01-01 06:00:00\n",
       "27      0     2013-01-01 06:00:00\n",
       "28     10     2013-01-01 06:00:00\n",
       "29     15     2013-01-01 06:00:00\n",
       "30     15     2013-01-01 06:00:00\n",
       "...    ...    ...                \n",
       "336747 25     2013-09-30 21:00:00\n",
       "336748 29     2013-09-30 21:00:00\n",
       "336749 30     2013-09-30 21:00:00\n",
       "336750 59     2013-09-30 20:00:00\n",
       "336751 40     2013-09-30 21:00:00\n",
       "336752 40     2013-09-30 21:00:00\n",
       "336753 29     2013-09-30 21:00:00\n",
       "336754 45     2013-09-30 21:00:00\n",
       "336755 37     2013-09-30 21:00:00\n",
       "336756 56     2013-09-30 21:00:00\n",
       "336757 59     2013-09-30 21:00:00\n",
       "336758 45     2013-09-30 18:00:00\n",
       "336759  5     2013-09-30 22:00:00\n",
       "336760 40     2013-09-30 21:00:00\n",
       "336761 59     2013-09-30 20:00:00\n",
       "336762 45     2013-09-30 22:00:00\n",
       "336763 13     2013-09-30 21:00:00\n",
       "336764  1     2013-09-30 20:00:00\n",
       "336765 45     2013-09-30 22:00:00\n",
       "336766 45     2013-09-30 22:00:00\n",
       "336767 50     2013-09-30 22:00:00\n",
       "336768 46     2013-09-30 22:00:00\n",
       "336769 55     2013-09-30 22:00:00\n",
       "336770 59     2013-09-30 23:00:00\n",
       "336771 42     2013-09-30 18:00:00\n",
       "336772 55     2013-09-30 14:00:00\n",
       "336773  0     2013-09-30 22:00:00\n",
       "336774 10     2013-09-30 12:00:00\n",
       "336775 59     2013-09-30 11:00:00\n",
       "336776 40     2013-09-30 08:00:00"
      ]
     },
     "metadata": {},
     "output_type": "display_data"
    }
   ],
   "source": [
    "flights"
   ]
  },
  {
   "cell_type": "code",
   "execution_count": 3,
   "metadata": {
    "slideshow": {
     "slide_type": "slide"
    }
   },
   "outputs": [
    {
     "name": "stdout",
     "output_type": "stream",
     "text": [
      "Classes 'tbl_df', 'tbl' and 'data.frame':\t336776 obs. of  19 variables:\n",
      " $ year          : int  2013 2013 2013 2013 2013 2013 2013 2013 2013 2013 ...\n",
      " $ month         : int  1 1 1 1 1 1 1 1 1 1 ...\n",
      " $ day           : int  1 1 1 1 1 1 1 1 1 1 ...\n",
      " $ dep_time      : int  517 533 542 544 554 554 555 557 557 558 ...\n",
      " $ sched_dep_time: int  515 529 540 545 600 558 600 600 600 600 ...\n",
      " $ dep_delay     : num  2 4 2 -1 -6 -4 -5 -3 -3 -2 ...\n",
      " $ arr_time      : int  830 850 923 1004 812 740 913 709 838 753 ...\n",
      " $ sched_arr_time: int  819 830 850 1022 837 728 854 723 846 745 ...\n",
      " $ arr_delay     : num  11 20 33 -18 -25 12 19 -14 -8 8 ...\n",
      " $ carrier       : chr  \"UA\" \"UA\" \"AA\" \"B6\" ...\n",
      " $ flight        : int  1545 1714 1141 725 461 1696 507 5708 79 301 ...\n",
      " $ tailnum       : chr  \"N14228\" \"N24211\" \"N619AA\" \"N804JB\" ...\n",
      " $ origin        : chr  \"EWR\" \"LGA\" \"JFK\" \"JFK\" ...\n",
      " $ dest          : chr  \"IAH\" \"IAH\" \"MIA\" \"BQN\" ...\n",
      " $ air_time      : num  227 227 160 183 116 150 158 53 140 138 ...\n",
      " $ distance      : num  1400 1416 1089 1576 762 ...\n",
      " $ hour          : num  5 5 5 5 6 5 6 6 6 6 ...\n",
      " $ minute        : num  15 29 40 45 0 58 0 0 0 0 ...\n",
      " $ time_hour     : POSIXct, format: \"2013-01-01 05:00:00\" \"2013-01-01 05:00:00\" ...\n"
     ]
    }
   ],
   "source": [
    "str(flights)"
   ]
  },
  {
   "cell_type": "markdown",
   "metadata": {
    "slideshow": {
     "slide_type": "slide"
    }
   },
   "source": [
    "## 1.A Filtrar filas con filter()\n"
   ]
  },
  {
   "cell_type": "markdown",
   "metadata": {
    "slideshow": {
     "slide_type": "fragment"
    }
   },
   "source": [
    "Permite separar observaciones de acuerdo con valores dados"
   ]
  },
  {
   "cell_type": "markdown",
   "metadata": {
    "slideshow": {
     "slide_type": "fragment"
    }
   },
   "source": [
    "filter(data, condition1, condition2)"
   ]
  },
  {
   "cell_type": "markdown",
   "metadata": {
    "slideshow": {
     "slide_type": "slide"
    }
   },
   "source": [
    "### Ejercicio 1: Filtrar los datos recolectados durante el primer dia del mes de enero"
   ]
  },
  {
   "cell_type": "code",
   "execution_count": 4,
   "metadata": {
    "slideshow": {
     "slide_type": "fragment"
    }
   },
   "outputs": [],
   "source": [
    "jan1 = filter(flights, month == 1, day == 1)\n",
    "jan1 = filter(flights, month == 1 & day == 1)"
   ]
  },
  {
   "cell_type": "code",
   "execution_count": 5,
   "metadata": {
    "slideshow": {
     "slide_type": "fragment"
    }
   },
   "outputs": [
    {
     "data": {
      "text/html": [
       "<table>\n",
       "<thead><tr><th scope=col>year</th><th scope=col>month</th><th scope=col>day</th><th scope=col>dep_time</th><th scope=col>sched_dep_time</th><th scope=col>dep_delay</th><th scope=col>arr_time</th><th scope=col>sched_arr_time</th><th scope=col>arr_delay</th><th scope=col>carrier</th><th scope=col>flight</th><th scope=col>tailnum</th><th scope=col>origin</th><th scope=col>dest</th><th scope=col>air_time</th><th scope=col>distance</th><th scope=col>hour</th><th scope=col>minute</th><th scope=col>time_hour</th></tr></thead>\n",
       "<tbody>\n",
       "\t<tr><td>2013               </td><td>1                  </td><td>1                  </td><td>517                </td><td>515                </td><td> 2                 </td><td> 830               </td><td> 819               </td><td> 11                </td><td>UA                 </td><td>1545               </td><td>N14228             </td><td>EWR                </td><td>IAH                </td><td>227                </td><td>1400               </td><td>5                  </td><td>15                 </td><td>2013-01-01 05:00:00</td></tr>\n",
       "\t<tr><td>2013               </td><td>1                  </td><td>1                  </td><td>533                </td><td>529                </td><td> 4                 </td><td> 850               </td><td> 830               </td><td> 20                </td><td>UA                 </td><td>1714               </td><td>N24211             </td><td>LGA                </td><td>IAH                </td><td>227                </td><td>1416               </td><td>5                  </td><td>29                 </td><td>2013-01-01 05:00:00</td></tr>\n",
       "\t<tr><td>2013               </td><td>1                  </td><td>1                  </td><td>542                </td><td>540                </td><td> 2                 </td><td> 923               </td><td> 850               </td><td> 33                </td><td>AA                 </td><td>1141               </td><td>N619AA             </td><td>JFK                </td><td>MIA                </td><td>160                </td><td>1089               </td><td>5                  </td><td>40                 </td><td>2013-01-01 05:00:00</td></tr>\n",
       "\t<tr><td>2013               </td><td>1                  </td><td>1                  </td><td>544                </td><td>545                </td><td>-1                 </td><td>1004               </td><td>1022               </td><td>-18                </td><td>B6                 </td><td> 725               </td><td>N804JB             </td><td>JFK                </td><td>BQN                </td><td>183                </td><td>1576               </td><td>5                  </td><td>45                 </td><td>2013-01-01 05:00:00</td></tr>\n",
       "\t<tr><td>2013               </td><td>1                  </td><td>1                  </td><td>554                </td><td>600                </td><td>-6                 </td><td> 812               </td><td> 837               </td><td>-25                </td><td>DL                 </td><td> 461               </td><td>N668DN             </td><td>LGA                </td><td>ATL                </td><td>116                </td><td> 762               </td><td>6                  </td><td> 0                 </td><td>2013-01-01 06:00:00</td></tr>\n",
       "\t<tr><td>2013               </td><td>1                  </td><td>1                  </td><td>554                </td><td>558                </td><td>-4                 </td><td> 740               </td><td> 728               </td><td> 12                </td><td>UA                 </td><td>1696               </td><td>N39463             </td><td>EWR                </td><td>ORD                </td><td>150                </td><td> 719               </td><td>5                  </td><td>58                 </td><td>2013-01-01 05:00:00</td></tr>\n",
       "\t<tr><td>2013               </td><td>1                  </td><td>1                  </td><td>555                </td><td>600                </td><td>-5                 </td><td> 913               </td><td> 854               </td><td> 19                </td><td>B6                 </td><td> 507               </td><td>N516JB             </td><td>EWR                </td><td>FLL                </td><td>158                </td><td>1065               </td><td>6                  </td><td> 0                 </td><td>2013-01-01 06:00:00</td></tr>\n",
       "\t<tr><td>2013               </td><td>1                  </td><td>1                  </td><td>557                </td><td>600                </td><td>-3                 </td><td> 709               </td><td> 723               </td><td>-14                </td><td>EV                 </td><td>5708               </td><td>N829AS             </td><td>LGA                </td><td>IAD                </td><td> 53                </td><td> 229               </td><td>6                  </td><td> 0                 </td><td>2013-01-01 06:00:00</td></tr>\n",
       "\t<tr><td>2013               </td><td>1                  </td><td>1                  </td><td>557                </td><td>600                </td><td>-3                 </td><td> 838               </td><td> 846               </td><td> -8                </td><td>B6                 </td><td>  79               </td><td>N593JB             </td><td>JFK                </td><td>MCO                </td><td>140                </td><td> 944               </td><td>6                  </td><td> 0                 </td><td>2013-01-01 06:00:00</td></tr>\n",
       "\t<tr><td>2013               </td><td>1                  </td><td>1                  </td><td>558                </td><td>600                </td><td>-2                 </td><td> 753               </td><td> 745               </td><td>  8                </td><td>AA                 </td><td> 301               </td><td>N3ALAA             </td><td>LGA                </td><td>ORD                </td><td>138                </td><td> 733               </td><td>6                  </td><td> 0                 </td><td>2013-01-01 06:00:00</td></tr>\n",
       "\t<tr><td>2013               </td><td>1                  </td><td>1                  </td><td>558                </td><td>600                </td><td>-2                 </td><td> 849               </td><td> 851               </td><td> -2                </td><td>B6                 </td><td>  49               </td><td>N793JB             </td><td>JFK                </td><td>PBI                </td><td>149                </td><td>1028               </td><td>6                  </td><td> 0                 </td><td>2013-01-01 06:00:00</td></tr>\n",
       "\t<tr><td>2013               </td><td>1                  </td><td>1                  </td><td>558                </td><td>600                </td><td>-2                 </td><td> 853               </td><td> 856               </td><td> -3                </td><td>B6                 </td><td>  71               </td><td>N657JB             </td><td>JFK                </td><td>TPA                </td><td>158                </td><td>1005               </td><td>6                  </td><td> 0                 </td><td>2013-01-01 06:00:00</td></tr>\n",
       "\t<tr><td>2013               </td><td>1                  </td><td>1                  </td><td>558                </td><td>600                </td><td>-2                 </td><td> 924               </td><td> 917               </td><td>  7                </td><td>UA                 </td><td> 194               </td><td>N29129             </td><td>JFK                </td><td>LAX                </td><td>345                </td><td>2475               </td><td>6                  </td><td> 0                 </td><td>2013-01-01 06:00:00</td></tr>\n",
       "\t<tr><td>2013               </td><td>1                  </td><td>1                  </td><td>558                </td><td>600                </td><td>-2                 </td><td> 923               </td><td> 937               </td><td>-14                </td><td>UA                 </td><td>1124               </td><td>N53441             </td><td>EWR                </td><td>SFO                </td><td>361                </td><td>2565               </td><td>6                  </td><td> 0                 </td><td>2013-01-01 06:00:00</td></tr>\n",
       "\t<tr><td>2013               </td><td>1                  </td><td>1                  </td><td>559                </td><td>600                </td><td>-1                 </td><td> 941               </td><td> 910               </td><td> 31                </td><td>AA                 </td><td> 707               </td><td>N3DUAA             </td><td>LGA                </td><td>DFW                </td><td>257                </td><td>1389               </td><td>6                  </td><td> 0                 </td><td>2013-01-01 06:00:00</td></tr>\n",
       "\t<tr><td>2013               </td><td>1                  </td><td>1                  </td><td>559                </td><td>559                </td><td> 0                 </td><td> 702               </td><td> 706               </td><td> -4                </td><td>B6                 </td><td>1806               </td><td>N708JB             </td><td>JFK                </td><td>BOS                </td><td> 44                </td><td> 187               </td><td>5                  </td><td>59                 </td><td>2013-01-01 05:00:00</td></tr>\n",
       "\t<tr><td>2013               </td><td>1                  </td><td>1                  </td><td>559                </td><td>600                </td><td>-1                 </td><td> 854               </td><td> 902               </td><td> -8                </td><td>UA                 </td><td>1187               </td><td>N76515             </td><td>EWR                </td><td>LAS                </td><td>337                </td><td>2227               </td><td>6                  </td><td> 0                 </td><td>2013-01-01 06:00:00</td></tr>\n",
       "\t<tr><td>2013               </td><td>1                  </td><td>1                  </td><td>600                </td><td>600                </td><td> 0                 </td><td> 851               </td><td> 858               </td><td> -7                </td><td>B6                 </td><td> 371               </td><td>N595JB             </td><td>LGA                </td><td>FLL                </td><td>152                </td><td>1076               </td><td>6                  </td><td> 0                 </td><td>2013-01-01 06:00:00</td></tr>\n",
       "\t<tr><td>2013               </td><td>1                  </td><td>1                  </td><td>600                </td><td>600                </td><td> 0                 </td><td> 837               </td><td> 825               </td><td> 12                </td><td>MQ                 </td><td>4650               </td><td>N542MQ             </td><td>LGA                </td><td>ATL                </td><td>134                </td><td> 762               </td><td>6                  </td><td> 0                 </td><td>2013-01-01 06:00:00</td></tr>\n",
       "\t<tr><td>2013               </td><td>1                  </td><td>1                  </td><td>601                </td><td>600                </td><td> 1                 </td><td> 844               </td><td> 850               </td><td> -6                </td><td>B6                 </td><td> 343               </td><td>N644JB             </td><td>EWR                </td><td>PBI                </td><td>147                </td><td>1023               </td><td>6                  </td><td> 0                 </td><td>2013-01-01 06:00:00</td></tr>\n",
       "\t<tr><td>2013               </td><td>1                  </td><td>1                  </td><td>602                </td><td>610                </td><td>-8                 </td><td> 812               </td><td> 820               </td><td> -8                </td><td>DL                 </td><td>1919               </td><td>N971DL             </td><td>LGA                </td><td>MSP                </td><td>170                </td><td>1020               </td><td>6                  </td><td>10                 </td><td>2013-01-01 06:00:00</td></tr>\n",
       "\t<tr><td>2013               </td><td>1                  </td><td>1                  </td><td>602                </td><td>605                </td><td>-3                 </td><td> 821               </td><td> 805               </td><td> 16                </td><td>MQ                 </td><td>4401               </td><td>N730MQ             </td><td>LGA                </td><td>DTW                </td><td>105                </td><td> 502               </td><td>6                  </td><td> 5                 </td><td>2013-01-01 06:00:00</td></tr>\n",
       "\t<tr><td>2013               </td><td>1                  </td><td>1                  </td><td>606                </td><td>610                </td><td>-4                 </td><td> 858               </td><td> 910               </td><td>-12                </td><td>AA                 </td><td>1895               </td><td>N633AA             </td><td>EWR                </td><td>MIA                </td><td>152                </td><td>1085               </td><td>6                  </td><td>10                 </td><td>2013-01-01 06:00:00</td></tr>\n",
       "\t<tr><td>2013               </td><td>1                  </td><td>1                  </td><td>606                </td><td>610                </td><td>-4                 </td><td> 837               </td><td> 845               </td><td> -8                </td><td>DL                 </td><td>1743               </td><td>N3739P             </td><td>JFK                </td><td>ATL                </td><td>128                </td><td> 760               </td><td>6                  </td><td>10                 </td><td>2013-01-01 06:00:00</td></tr>\n",
       "\t<tr><td>2013               </td><td>1                  </td><td>1                  </td><td>607                </td><td>607                </td><td> 0                 </td><td> 858               </td><td> 915               </td><td>-17                </td><td>UA                 </td><td>1077               </td><td>N53442             </td><td>EWR                </td><td>MIA                </td><td>157                </td><td>1085               </td><td>6                  </td><td> 7                 </td><td>2013-01-01 06:00:00</td></tr>\n",
       "\t<tr><td>2013               </td><td>1                  </td><td>1                  </td><td>608                </td><td>600                </td><td> 8                 </td><td> 807               </td><td> 735               </td><td> 32                </td><td>MQ                 </td><td>3768               </td><td>N9EAMQ             </td><td>EWR                </td><td>ORD                </td><td>139                </td><td> 719               </td><td>6                  </td><td> 0                 </td><td>2013-01-01 06:00:00</td></tr>\n",
       "\t<tr><td>2013               </td><td>1                  </td><td>1                  </td><td>611                </td><td>600                </td><td>11                 </td><td> 945               </td><td> 931               </td><td> 14                </td><td>UA                 </td><td> 303               </td><td>N532UA             </td><td>JFK                </td><td>SFO                </td><td>366                </td><td>2586               </td><td>6                  </td><td> 0                 </td><td>2013-01-01 06:00:00</td></tr>\n",
       "\t<tr><td>2013               </td><td>1                  </td><td>1                  </td><td>613                </td><td>610                </td><td> 3                 </td><td> 925               </td><td> 921               </td><td>  4                </td><td>B6                 </td><td> 135               </td><td>N635JB             </td><td>JFK                </td><td>RSW                </td><td>175                </td><td>1074               </td><td>6                  </td><td>10                 </td><td>2013-01-01 06:00:00</td></tr>\n",
       "\t<tr><td>2013               </td><td>1                  </td><td>1                  </td><td>615                </td><td>615                </td><td> 0                 </td><td>1039               </td><td>1100               </td><td>-21                </td><td>B6                 </td><td> 709               </td><td>N794JB             </td><td>JFK                </td><td>SJU                </td><td>182                </td><td>1598               </td><td>6                  </td><td>15                 </td><td>2013-01-01 06:00:00</td></tr>\n",
       "\t<tr><td>2013               </td><td>1                  </td><td>1                  </td><td>615                </td><td>615                </td><td> 0                 </td><td> 833               </td><td> 842               </td><td> -9                </td><td>DL                 </td><td> 575               </td><td>N326NB             </td><td>EWR                </td><td>ATL                </td><td>120                </td><td> 746               </td><td>6                  </td><td>15                 </td><td>2013-01-01 06:00:00</td></tr>\n",
       "\t<tr><td>...</td><td>...</td><td>...</td><td>...</td><td>...</td><td>...</td><td>...</td><td>...</td><td>...</td><td>...</td><td>...</td><td>...</td><td>...</td><td>...</td><td>...</td><td>...</td><td>...</td><td>...</td><td>...</td></tr>\n",
       "\t<tr><td>2013               </td><td>1                  </td><td>1                  </td><td>2140               </td><td>2135               </td><td>  5                </td><td> 210               </td><td> 224               </td><td>-14                </td><td>B6                 </td><td> 701               </td><td>N284JB             </td><td>JFK                </td><td>SJU                </td><td>189                </td><td>1598               </td><td>21                 </td><td>35                 </td><td>2013-01-01 21:00:00</td></tr>\n",
       "\t<tr><td>2013               </td><td>1                  </td><td>1                  </td><td>2157               </td><td>2155               </td><td>  2                </td><td>  43               </td><td>  41               </td><td>  2                </td><td>B6                 </td><td>  43               </td><td>N537JB             </td><td>JFK                </td><td>MCO                </td><td>140                </td><td> 944               </td><td>21                 </td><td>55                 </td><td>2013-01-01 21:00:00</td></tr>\n",
       "\t<tr><td>2013               </td><td>1                  </td><td>1                  </td><td>2158               </td><td>2200               </td><td> -2                </td><td>2254               </td><td>2307               </td><td>-13                </td><td>EV                 </td><td>4103               </td><td>N14998             </td><td>EWR                </td><td>BWI                </td><td> 36                </td><td> 169               </td><td>22                 </td><td> 0                 </td><td>2013-01-01 22:00:00</td></tr>\n",
       "\t<tr><td>2013               </td><td>1                  </td><td>1                  </td><td>2205               </td><td>1720               </td><td>285                </td><td>  46               </td><td>2040               </td><td>246                </td><td>AA                 </td><td>1999               </td><td>N5DNAA             </td><td>EWR                </td><td>MIA                </td><td>146                </td><td>1085               </td><td>17                 </td><td>20                 </td><td>2013-01-01 17:00:00</td></tr>\n",
       "\t<tr><td>2013               </td><td>1                  </td><td>1                  </td><td>2209               </td><td>2145               </td><td> 24                </td><td>  58               </td><td>  37               </td><td> 21                </td><td>B6                 </td><td>  35               </td><td>N608JB             </td><td>JFK                </td><td>PBI                </td><td>143                </td><td>1028               </td><td>21                 </td><td>45                 </td><td>2013-01-01 21:00:00</td></tr>\n",
       "\t<tr><td>2013               </td><td>1                  </td><td>1                  </td><td>2209               </td><td>2155               </td><td> 14                </td><td>2400               </td><td>2337               </td><td> 23                </td><td>B6                 </td><td>1109               </td><td>N216JB             </td><td>JFK                </td><td>RDU                </td><td> 86                </td><td> 427               </td><td>21                 </td><td>55                 </td><td>2013-01-01 21:00:00</td></tr>\n",
       "\t<tr><td>2013               </td><td>1                  </td><td>1                  </td><td>2211               </td><td>2145               </td><td> 26                </td><td>2339               </td><td>2311               </td><td> 28                </td><td>B6                 </td><td> 104               </td><td>N228JB             </td><td>JFK                </td><td>BUF                </td><td> 64                </td><td> 301               </td><td>21                 </td><td>45                 </td><td>2013-01-01 21:00:00</td></tr>\n",
       "\t<tr><td>2013               </td><td>1                  </td><td>1                  </td><td>2217               </td><td>2229               </td><td>-12                </td><td> 249               </td><td> 315               </td><td>-26                </td><td>B6                 </td><td> 713               </td><td>N547JB             </td><td>JFK                </td><td>SJU                </td><td>191                </td><td>1598               </td><td>22                 </td><td>29                 </td><td>2013-01-01 22:00:00</td></tr>\n",
       "\t<tr><td>2013               </td><td>1                  </td><td>1                  </td><td>2217               </td><td>2130               </td><td> 47                </td><td> 140               </td><td>  27               </td><td> 73                </td><td>B6                 </td><td>  21               </td><td>N516JB             </td><td>JFK                </td><td>TPA                </td><td>163                </td><td>1005               </td><td>21                 </td><td>30                 </td><td>2013-01-01 21:00:00</td></tr>\n",
       "\t<tr><td>2013               </td><td>1                  </td><td>1                  </td><td>2221               </td><td>2000               </td><td>141                </td><td>2331               </td><td>2124               </td><td>127                </td><td>EV                 </td><td>4462               </td><td>N13566             </td><td>EWR                </td><td>BUF                </td><td> 56                </td><td> 282               </td><td>20                 </td><td> 0                 </td><td>2013-01-01 20:00:00</td></tr>\n",
       "\t<tr><td>2013               </td><td>1                  </td><td>1                  </td><td>2224               </td><td>2200               </td><td> 24                </td><td>2324               </td><td>2316               </td><td>  8                </td><td>EV                 </td><td>4206               </td><td>N16561             </td><td>EWR                </td><td>PWM                </td><td> 47                </td><td> 284               </td><td>22                 </td><td> 0                 </td><td>2013-01-01 22:00:00</td></tr>\n",
       "\t<tr><td>2013               </td><td>1                  </td><td>1                  </td><td>2229               </td><td>2159               </td><td> 30                </td><td> 149               </td><td> 100               </td><td> 49                </td><td>B6                 </td><td>  11               </td><td>N531JB             </td><td>JFK                </td><td>FLL                </td><td>153                </td><td>1069               </td><td>21                 </td><td>59                 </td><td>2013-01-01 21:00:00</td></tr>\n",
       "\t<tr><td>2013               </td><td>1                  </td><td>1                  </td><td>2240               </td><td>2245               </td><td> -5                </td><td>2340               </td><td>2356               </td><td>-16                </td><td>B6                 </td><td> 608               </td><td>N279JB             </td><td>JFK                </td><td>PWM                </td><td> 44                </td><td> 273               </td><td>22                 </td><td>45                 </td><td>2013-01-01 22:00:00</td></tr>\n",
       "\t<tr><td>2013               </td><td>1                  </td><td>1                  </td><td>2250               </td><td>2255               </td><td> -5                </td><td>2352               </td><td>2359               </td><td> -7                </td><td>B6                 </td><td>1018               </td><td>N521JB             </td><td>JFK                </td><td>BOS                </td><td> 37                </td><td> 187               </td><td>22                 </td><td>55                 </td><td>2013-01-01 22:00:00</td></tr>\n",
       "\t<tr><td>2013               </td><td>1                  </td><td>1                  </td><td>2302               </td><td>2200               </td><td> 62                </td><td>2342               </td><td>2253               </td><td> 49                </td><td>EV                 </td><td>4276               </td><td>N13903             </td><td>EWR                </td><td>BDL                </td><td> 24                </td><td> 116               </td><td>22                 </td><td> 0                 </td><td>2013-01-01 22:00:00</td></tr>\n",
       "\t<tr><td>2013               </td><td>1                  </td><td>1                  </td><td>2306               </td><td>2245               </td><td> 21                </td><td>  28               </td><td>   5               </td><td> 23                </td><td>B6                 </td><td>  30               </td><td>N281JB             </td><td>JFK                </td><td>ROC                </td><td> 59                </td><td> 264               </td><td>22                 </td><td>45                 </td><td>2013-01-01 22:00:00</td></tr>\n",
       "\t<tr><td>2013               </td><td>1                  </td><td>1                  </td><td>2307               </td><td>2245               </td><td> 22                </td><td>  32               </td><td>2357               </td><td> 35                </td><td>B6                 </td><td> 128               </td><td>N178JB             </td><td>JFK                </td><td>BTV                </td><td> 59                </td><td> 266               </td><td>22                 </td><td>45                 </td><td>2013-01-01 22:00:00</td></tr>\n",
       "\t<tr><td>2013               </td><td>1                  </td><td>1                  </td><td>2310               </td><td>2255               </td><td> 15                </td><td>  24               </td><td>  15               </td><td>  9                </td><td>B6                 </td><td> 112               </td><td>N646JB             </td><td>JFK                </td><td>BUF                </td><td> 57                </td><td> 301               </td><td>22                 </td><td>55                 </td><td>2013-01-01 22:00:00</td></tr>\n",
       "\t<tr><td>2013               </td><td>1                  </td><td>1                  </td><td>2312               </td><td>2000               </td><td>192                </td><td>  21               </td><td>2110               </td><td>191                </td><td>EV                 </td><td>4312               </td><td>N13958             </td><td>EWR                </td><td>DCA                </td><td> 44                </td><td> 199               </td><td>20                 </td><td> 0                 </td><td>2013-01-01 20:00:00</td></tr>\n",
       "\t<tr><td>2013               </td><td>1                  </td><td>1                  </td><td>2323               </td><td>2200               </td><td> 83                </td><td>  22               </td><td>2313               </td><td> 69                </td><td>EV                 </td><td>4257               </td><td>N13538             </td><td>EWR                </td><td>BTV                </td><td> 44                </td><td> 266               </td><td>22                 </td><td> 0                 </td><td>2013-01-01 22:00:00</td></tr>\n",
       "\t<tr><td>2013               </td><td>1                  </td><td>1                  </td><td>2326               </td><td>2130               </td><td>116                </td><td> 131               </td><td>  18               </td><td> 73                </td><td>B6                 </td><td> 199               </td><td>N594JB             </td><td>JFK                </td><td>LAS                </td><td>290                </td><td>2248               </td><td>21                 </td><td>30                 </td><td>2013-01-01 21:00:00</td></tr>\n",
       "\t<tr><td>2013               </td><td>1                  </td><td>1                  </td><td>2327               </td><td>2250               </td><td> 37                </td><td>  32               </td><td>2359               </td><td> 33                </td><td>B6                 </td><td>  22               </td><td>N639JB             </td><td>JFK                </td><td>SYR                </td><td> 45                </td><td> 209               </td><td>22                 </td><td>50                 </td><td>2013-01-01 22:00:00</td></tr>\n",
       "\t<tr><td>2013               </td><td>1                  </td><td>1                  </td><td>2343               </td><td>1724               </td><td>379                </td><td> 314               </td><td>1938               </td><td>456                </td><td>EV                 </td><td>4321               </td><td>N21197             </td><td>EWR                </td><td>MCI                </td><td>222                </td><td>1092               </td><td>17                 </td><td>24                 </td><td>2013-01-01 17:00:00</td></tr>\n",
       "\t<tr><td>2013               </td><td>1                  </td><td>1                  </td><td>2353               </td><td>2359               </td><td> -6                </td><td> 425               </td><td> 445               </td><td>-20                </td><td>B6                 </td><td> 739               </td><td>N591JB             </td><td>JFK                </td><td>PSE                </td><td>195                </td><td>1617               </td><td>23                 </td><td>59                 </td><td>2013-01-01 23:00:00</td></tr>\n",
       "\t<tr><td>2013               </td><td>1                  </td><td>1                  </td><td>2353               </td><td>2359               </td><td> -6                </td><td> 418               </td><td> 442               </td><td>-24                </td><td>B6                 </td><td> 707               </td><td>N794JB             </td><td>JFK                </td><td>SJU                </td><td>185                </td><td>1598               </td><td>23                 </td><td>59                 </td><td>2013-01-01 23:00:00</td></tr>\n",
       "\t<tr><td>2013               </td><td>1                  </td><td>1                  </td><td>2356               </td><td>2359               </td><td> -3                </td><td> 425               </td><td> 437               </td><td>-12                </td><td>B6                 </td><td> 727               </td><td>N588JB             </td><td>JFK                </td><td>BQN                </td><td>186                </td><td>1576               </td><td>23                 </td><td>59                 </td><td>2013-01-01 23:00:00</td></tr>\n",
       "\t<tr><td>2013               </td><td>1                  </td><td>1                  </td><td>  NA               </td><td>1630               </td><td> NA                </td><td>  NA               </td><td>1815               </td><td> NA                </td><td>EV                 </td><td>4308               </td><td>N18120             </td><td>EWR                </td><td>RDU                </td><td> NA                </td><td> 416               </td><td>16                 </td><td>30                 </td><td>2013-01-01 16:00:00</td></tr>\n",
       "\t<tr><td>2013               </td><td>1                  </td><td>1                  </td><td>  NA               </td><td>1935               </td><td> NA                </td><td>  NA               </td><td>2240               </td><td> NA                </td><td>AA                 </td><td> 791               </td><td>N3EHAA             </td><td>LGA                </td><td>DFW                </td><td> NA                </td><td>1389               </td><td>19                 </td><td>35                 </td><td>2013-01-01 19:00:00</td></tr>\n",
       "\t<tr><td>2013               </td><td>1                  </td><td>1                  </td><td>  NA               </td><td>1500               </td><td> NA                </td><td>  NA               </td><td>1825               </td><td> NA                </td><td>AA                 </td><td>1925               </td><td>N3EVAA             </td><td>LGA                </td><td>MIA                </td><td> NA                </td><td>1096               </td><td>15                 </td><td> 0                 </td><td>2013-01-01 15:00:00</td></tr>\n",
       "\t<tr><td>2013               </td><td>1                  </td><td>1                  </td><td>  NA               </td><td> 600               </td><td> NA                </td><td>  NA               </td><td> 901               </td><td> NA                </td><td>B6                 </td><td> 125               </td><td>N618JB             </td><td>JFK                </td><td>FLL                </td><td> NA                </td><td>1069               </td><td> 6                 </td><td> 0                 </td><td>2013-01-01 06:00:00</td></tr>\n",
       "</tbody>\n",
       "</table>\n"
      ],
      "text/latex": [
       "\\begin{tabular}{r|lllllllllllllllllll}\n",
       " year & month & day & dep\\_time & sched\\_dep\\_time & dep\\_delay & arr\\_time & sched\\_arr\\_time & arr\\_delay & carrier & flight & tailnum & origin & dest & air\\_time & distance & hour & minute & time\\_hour\\\\\n",
       "\\hline\n",
       "\t 2013                & 1                   & 1                   & 517                 & 515                 &  2                  &  830                &  819                &  11                 & UA                  & 1545                & N14228              & EWR                 & IAH                 & 227                 & 1400                & 5                   & 15                  & 2013-01-01 05:00:00\\\\\n",
       "\t 2013                & 1                   & 1                   & 533                 & 529                 &  4                  &  850                &  830                &  20                 & UA                  & 1714                & N24211              & LGA                 & IAH                 & 227                 & 1416                & 5                   & 29                  & 2013-01-01 05:00:00\\\\\n",
       "\t 2013                & 1                   & 1                   & 542                 & 540                 &  2                  &  923                &  850                &  33                 & AA                  & 1141                & N619AA              & JFK                 & MIA                 & 160                 & 1089                & 5                   & 40                  & 2013-01-01 05:00:00\\\\\n",
       "\t 2013                & 1                   & 1                   & 544                 & 545                 & -1                  & 1004                & 1022                & -18                 & B6                  &  725                & N804JB              & JFK                 & BQN                 & 183                 & 1576                & 5                   & 45                  & 2013-01-01 05:00:00\\\\\n",
       "\t 2013                & 1                   & 1                   & 554                 & 600                 & -6                  &  812                &  837                & -25                 & DL                  &  461                & N668DN              & LGA                 & ATL                 & 116                 &  762                & 6                   &  0                  & 2013-01-01 06:00:00\\\\\n",
       "\t 2013                & 1                   & 1                   & 554                 & 558                 & -4                  &  740                &  728                &  12                 & UA                  & 1696                & N39463              & EWR                 & ORD                 & 150                 &  719                & 5                   & 58                  & 2013-01-01 05:00:00\\\\\n",
       "\t 2013                & 1                   & 1                   & 555                 & 600                 & -5                  &  913                &  854                &  19                 & B6                  &  507                & N516JB              & EWR                 & FLL                 & 158                 & 1065                & 6                   &  0                  & 2013-01-01 06:00:00\\\\\n",
       "\t 2013                & 1                   & 1                   & 557                 & 600                 & -3                  &  709                &  723                & -14                 & EV                  & 5708                & N829AS              & LGA                 & IAD                 &  53                 &  229                & 6                   &  0                  & 2013-01-01 06:00:00\\\\\n",
       "\t 2013                & 1                   & 1                   & 557                 & 600                 & -3                  &  838                &  846                &  -8                 & B6                  &   79                & N593JB              & JFK                 & MCO                 & 140                 &  944                & 6                   &  0                  & 2013-01-01 06:00:00\\\\\n",
       "\t 2013                & 1                   & 1                   & 558                 & 600                 & -2                  &  753                &  745                &   8                 & AA                  &  301                & N3ALAA              & LGA                 & ORD                 & 138                 &  733                & 6                   &  0                  & 2013-01-01 06:00:00\\\\\n",
       "\t 2013                & 1                   & 1                   & 558                 & 600                 & -2                  &  849                &  851                &  -2                 & B6                  &   49                & N793JB              & JFK                 & PBI                 & 149                 & 1028                & 6                   &  0                  & 2013-01-01 06:00:00\\\\\n",
       "\t 2013                & 1                   & 1                   & 558                 & 600                 & -2                  &  853                &  856                &  -3                 & B6                  &   71                & N657JB              & JFK                 & TPA                 & 158                 & 1005                & 6                   &  0                  & 2013-01-01 06:00:00\\\\\n",
       "\t 2013                & 1                   & 1                   & 558                 & 600                 & -2                  &  924                &  917                &   7                 & UA                  &  194                & N29129              & JFK                 & LAX                 & 345                 & 2475                & 6                   &  0                  & 2013-01-01 06:00:00\\\\\n",
       "\t 2013                & 1                   & 1                   & 558                 & 600                 & -2                  &  923                &  937                & -14                 & UA                  & 1124                & N53441              & EWR                 & SFO                 & 361                 & 2565                & 6                   &  0                  & 2013-01-01 06:00:00\\\\\n",
       "\t 2013                & 1                   & 1                   & 559                 & 600                 & -1                  &  941                &  910                &  31                 & AA                  &  707                & N3DUAA              & LGA                 & DFW                 & 257                 & 1389                & 6                   &  0                  & 2013-01-01 06:00:00\\\\\n",
       "\t 2013                & 1                   & 1                   & 559                 & 559                 &  0                  &  702                &  706                &  -4                 & B6                  & 1806                & N708JB              & JFK                 & BOS                 &  44                 &  187                & 5                   & 59                  & 2013-01-01 05:00:00\\\\\n",
       "\t 2013                & 1                   & 1                   & 559                 & 600                 & -1                  &  854                &  902                &  -8                 & UA                  & 1187                & N76515              & EWR                 & LAS                 & 337                 & 2227                & 6                   &  0                  & 2013-01-01 06:00:00\\\\\n",
       "\t 2013                & 1                   & 1                   & 600                 & 600                 &  0                  &  851                &  858                &  -7                 & B6                  &  371                & N595JB              & LGA                 & FLL                 & 152                 & 1076                & 6                   &  0                  & 2013-01-01 06:00:00\\\\\n",
       "\t 2013                & 1                   & 1                   & 600                 & 600                 &  0                  &  837                &  825                &  12                 & MQ                  & 4650                & N542MQ              & LGA                 & ATL                 & 134                 &  762                & 6                   &  0                  & 2013-01-01 06:00:00\\\\\n",
       "\t 2013                & 1                   & 1                   & 601                 & 600                 &  1                  &  844                &  850                &  -6                 & B6                  &  343                & N644JB              & EWR                 & PBI                 & 147                 & 1023                & 6                   &  0                  & 2013-01-01 06:00:00\\\\\n",
       "\t 2013                & 1                   & 1                   & 602                 & 610                 & -8                  &  812                &  820                &  -8                 & DL                  & 1919                & N971DL              & LGA                 & MSP                 & 170                 & 1020                & 6                   & 10                  & 2013-01-01 06:00:00\\\\\n",
       "\t 2013                & 1                   & 1                   & 602                 & 605                 & -3                  &  821                &  805                &  16                 & MQ                  & 4401                & N730MQ              & LGA                 & DTW                 & 105                 &  502                & 6                   &  5                  & 2013-01-01 06:00:00\\\\\n",
       "\t 2013                & 1                   & 1                   & 606                 & 610                 & -4                  &  858                &  910                & -12                 & AA                  & 1895                & N633AA              & EWR                 & MIA                 & 152                 & 1085                & 6                   & 10                  & 2013-01-01 06:00:00\\\\\n",
       "\t 2013                & 1                   & 1                   & 606                 & 610                 & -4                  &  837                &  845                &  -8                 & DL                  & 1743                & N3739P              & JFK                 & ATL                 & 128                 &  760                & 6                   & 10                  & 2013-01-01 06:00:00\\\\\n",
       "\t 2013                & 1                   & 1                   & 607                 & 607                 &  0                  &  858                &  915                & -17                 & UA                  & 1077                & N53442              & EWR                 & MIA                 & 157                 & 1085                & 6                   &  7                  & 2013-01-01 06:00:00\\\\\n",
       "\t 2013                & 1                   & 1                   & 608                 & 600                 &  8                  &  807                &  735                &  32                 & MQ                  & 3768                & N9EAMQ              & EWR                 & ORD                 & 139                 &  719                & 6                   &  0                  & 2013-01-01 06:00:00\\\\\n",
       "\t 2013                & 1                   & 1                   & 611                 & 600                 & 11                  &  945                &  931                &  14                 & UA                  &  303                & N532UA              & JFK                 & SFO                 & 366                 & 2586                & 6                   &  0                  & 2013-01-01 06:00:00\\\\\n",
       "\t 2013                & 1                   & 1                   & 613                 & 610                 &  3                  &  925                &  921                &   4                 & B6                  &  135                & N635JB              & JFK                 & RSW                 & 175                 & 1074                & 6                   & 10                  & 2013-01-01 06:00:00\\\\\n",
       "\t 2013                & 1                   & 1                   & 615                 & 615                 &  0                  & 1039                & 1100                & -21                 & B6                  &  709                & N794JB              & JFK                 & SJU                 & 182                 & 1598                & 6                   & 15                  & 2013-01-01 06:00:00\\\\\n",
       "\t 2013                & 1                   & 1                   & 615                 & 615                 &  0                  &  833                &  842                &  -9                 & DL                  &  575                & N326NB              & EWR                 & ATL                 & 120                 &  746                & 6                   & 15                  & 2013-01-01 06:00:00\\\\\n",
       "\t ... & ... & ... & ... & ... & ... & ... & ... & ... & ... & ... & ... & ... & ... & ... & ... & ... & ... & ...\\\\\n",
       "\t 2013                & 1                   & 1                   & 2140                & 2135                &   5                 &  210                &  224                & -14                 & B6                  &  701                & N284JB              & JFK                 & SJU                 & 189                 & 1598                & 21                  & 35                  & 2013-01-01 21:00:00\\\\\n",
       "\t 2013                & 1                   & 1                   & 2157                & 2155                &   2                 &   43                &   41                &   2                 & B6                  &   43                & N537JB              & JFK                 & MCO                 & 140                 &  944                & 21                  & 55                  & 2013-01-01 21:00:00\\\\\n",
       "\t 2013                & 1                   & 1                   & 2158                & 2200                &  -2                 & 2254                & 2307                & -13                 & EV                  & 4103                & N14998              & EWR                 & BWI                 &  36                 &  169                & 22                  &  0                  & 2013-01-01 22:00:00\\\\\n",
       "\t 2013                & 1                   & 1                   & 2205                & 1720                & 285                 &   46                & 2040                & 246                 & AA                  & 1999                & N5DNAA              & EWR                 & MIA                 & 146                 & 1085                & 17                  & 20                  & 2013-01-01 17:00:00\\\\\n",
       "\t 2013                & 1                   & 1                   & 2209                & 2145                &  24                 &   58                &   37                &  21                 & B6                  &   35                & N608JB              & JFK                 & PBI                 & 143                 & 1028                & 21                  & 45                  & 2013-01-01 21:00:00\\\\\n",
       "\t 2013                & 1                   & 1                   & 2209                & 2155                &  14                 & 2400                & 2337                &  23                 & B6                  & 1109                & N216JB              & JFK                 & RDU                 &  86                 &  427                & 21                  & 55                  & 2013-01-01 21:00:00\\\\\n",
       "\t 2013                & 1                   & 1                   & 2211                & 2145                &  26                 & 2339                & 2311                &  28                 & B6                  &  104                & N228JB              & JFK                 & BUF                 &  64                 &  301                & 21                  & 45                  & 2013-01-01 21:00:00\\\\\n",
       "\t 2013                & 1                   & 1                   & 2217                & 2229                & -12                 &  249                &  315                & -26                 & B6                  &  713                & N547JB              & JFK                 & SJU                 & 191                 & 1598                & 22                  & 29                  & 2013-01-01 22:00:00\\\\\n",
       "\t 2013                & 1                   & 1                   & 2217                & 2130                &  47                 &  140                &   27                &  73                 & B6                  &   21                & N516JB              & JFK                 & TPA                 & 163                 & 1005                & 21                  & 30                  & 2013-01-01 21:00:00\\\\\n",
       "\t 2013                & 1                   & 1                   & 2221                & 2000                & 141                 & 2331                & 2124                & 127                 & EV                  & 4462                & N13566              & EWR                 & BUF                 &  56                 &  282                & 20                  &  0                  & 2013-01-01 20:00:00\\\\\n",
       "\t 2013                & 1                   & 1                   & 2224                & 2200                &  24                 & 2324                & 2316                &   8                 & EV                  & 4206                & N16561              & EWR                 & PWM                 &  47                 &  284                & 22                  &  0                  & 2013-01-01 22:00:00\\\\\n",
       "\t 2013                & 1                   & 1                   & 2229                & 2159                &  30                 &  149                &  100                &  49                 & B6                  &   11                & N531JB              & JFK                 & FLL                 & 153                 & 1069                & 21                  & 59                  & 2013-01-01 21:00:00\\\\\n",
       "\t 2013                & 1                   & 1                   & 2240                & 2245                &  -5                 & 2340                & 2356                & -16                 & B6                  &  608                & N279JB              & JFK                 & PWM                 &  44                 &  273                & 22                  & 45                  & 2013-01-01 22:00:00\\\\\n",
       "\t 2013                & 1                   & 1                   & 2250                & 2255                &  -5                 & 2352                & 2359                &  -7                 & B6                  & 1018                & N521JB              & JFK                 & BOS                 &  37                 &  187                & 22                  & 55                  & 2013-01-01 22:00:00\\\\\n",
       "\t 2013                & 1                   & 1                   & 2302                & 2200                &  62                 & 2342                & 2253                &  49                 & EV                  & 4276                & N13903              & EWR                 & BDL                 &  24                 &  116                & 22                  &  0                  & 2013-01-01 22:00:00\\\\\n",
       "\t 2013                & 1                   & 1                   & 2306                & 2245                &  21                 &   28                &    5                &  23                 & B6                  &   30                & N281JB              & JFK                 & ROC                 &  59                 &  264                & 22                  & 45                  & 2013-01-01 22:00:00\\\\\n",
       "\t 2013                & 1                   & 1                   & 2307                & 2245                &  22                 &   32                & 2357                &  35                 & B6                  &  128                & N178JB              & JFK                 & BTV                 &  59                 &  266                & 22                  & 45                  & 2013-01-01 22:00:00\\\\\n",
       "\t 2013                & 1                   & 1                   & 2310                & 2255                &  15                 &   24                &   15                &   9                 & B6                  &  112                & N646JB              & JFK                 & BUF                 &  57                 &  301                & 22                  & 55                  & 2013-01-01 22:00:00\\\\\n",
       "\t 2013                & 1                   & 1                   & 2312                & 2000                & 192                 &   21                & 2110                & 191                 & EV                  & 4312                & N13958              & EWR                 & DCA                 &  44                 &  199                & 20                  &  0                  & 2013-01-01 20:00:00\\\\\n",
       "\t 2013                & 1                   & 1                   & 2323                & 2200                &  83                 &   22                & 2313                &  69                 & EV                  & 4257                & N13538              & EWR                 & BTV                 &  44                 &  266                & 22                  &  0                  & 2013-01-01 22:00:00\\\\\n",
       "\t 2013                & 1                   & 1                   & 2326                & 2130                & 116                 &  131                &   18                &  73                 & B6                  &  199                & N594JB              & JFK                 & LAS                 & 290                 & 2248                & 21                  & 30                  & 2013-01-01 21:00:00\\\\\n",
       "\t 2013                & 1                   & 1                   & 2327                & 2250                &  37                 &   32                & 2359                &  33                 & B6                  &   22                & N639JB              & JFK                 & SYR                 &  45                 &  209                & 22                  & 50                  & 2013-01-01 22:00:00\\\\\n",
       "\t 2013                & 1                   & 1                   & 2343                & 1724                & 379                 &  314                & 1938                & 456                 & EV                  & 4321                & N21197              & EWR                 & MCI                 & 222                 & 1092                & 17                  & 24                  & 2013-01-01 17:00:00\\\\\n",
       "\t 2013                & 1                   & 1                   & 2353                & 2359                &  -6                 &  425                &  445                & -20                 & B6                  &  739                & N591JB              & JFK                 & PSE                 & 195                 & 1617                & 23                  & 59                  & 2013-01-01 23:00:00\\\\\n",
       "\t 2013                & 1                   & 1                   & 2353                & 2359                &  -6                 &  418                &  442                & -24                 & B6                  &  707                & N794JB              & JFK                 & SJU                 & 185                 & 1598                & 23                  & 59                  & 2013-01-01 23:00:00\\\\\n",
       "\t 2013                & 1                   & 1                   & 2356                & 2359                &  -3                 &  425                &  437                & -12                 & B6                  &  727                & N588JB              & JFK                 & BQN                 & 186                 & 1576                & 23                  & 59                  & 2013-01-01 23:00:00\\\\\n",
       "\t 2013                & 1                   & 1                   &   NA                & 1630                &  NA                 &   NA                & 1815                &  NA                 & EV                  & 4308                & N18120              & EWR                 & RDU                 &  NA                 &  416                & 16                  & 30                  & 2013-01-01 16:00:00\\\\\n",
       "\t 2013                & 1                   & 1                   &   NA                & 1935                &  NA                 &   NA                & 2240                &  NA                 & AA                  &  791                & N3EHAA              & LGA                 & DFW                 &  NA                 & 1389                & 19                  & 35                  & 2013-01-01 19:00:00\\\\\n",
       "\t 2013                & 1                   & 1                   &   NA                & 1500                &  NA                 &   NA                & 1825                &  NA                 & AA                  & 1925                & N3EVAA              & LGA                 & MIA                 &  NA                 & 1096                & 15                  &  0                  & 2013-01-01 15:00:00\\\\\n",
       "\t 2013                & 1                   & 1                   &   NA                &  600                &  NA                 &   NA                &  901                &  NA                 & B6                  &  125                & N618JB              & JFK                 & FLL                 &  NA                 & 1069                &  6                  &  0                  & 2013-01-01 06:00:00\\\\\n",
       "\\end{tabular}\n"
      ],
      "text/markdown": [
       "\n",
       "| year | month | day | dep_time | sched_dep_time | dep_delay | arr_time | sched_arr_time | arr_delay | carrier | flight | tailnum | origin | dest | air_time | distance | hour | minute | time_hour |\n",
       "|---|---|---|---|---|---|---|---|---|---|---|---|---|---|---|---|---|---|---|\n",
       "| 2013                | 1                   | 1                   | 517                 | 515                 |  2                  |  830                |  819                |  11                 | UA                  | 1545                | N14228              | EWR                 | IAH                 | 227                 | 1400                | 5                   | 15                  | 2013-01-01 05:00:00 |\n",
       "| 2013                | 1                   | 1                   | 533                 | 529                 |  4                  |  850                |  830                |  20                 | UA                  | 1714                | N24211              | LGA                 | IAH                 | 227                 | 1416                | 5                   | 29                  | 2013-01-01 05:00:00 |\n",
       "| 2013                | 1                   | 1                   | 542                 | 540                 |  2                  |  923                |  850                |  33                 | AA                  | 1141                | N619AA              | JFK                 | MIA                 | 160                 | 1089                | 5                   | 40                  | 2013-01-01 05:00:00 |\n",
       "| 2013                | 1                   | 1                   | 544                 | 545                 | -1                  | 1004                | 1022                | -18                 | B6                  |  725                | N804JB              | JFK                 | BQN                 | 183                 | 1576                | 5                   | 45                  | 2013-01-01 05:00:00 |\n",
       "| 2013                | 1                   | 1                   | 554                 | 600                 | -6                  |  812                |  837                | -25                 | DL                  |  461                | N668DN              | LGA                 | ATL                 | 116                 |  762                | 6                   |  0                  | 2013-01-01 06:00:00 |\n",
       "| 2013                | 1                   | 1                   | 554                 | 558                 | -4                  |  740                |  728                |  12                 | UA                  | 1696                | N39463              | EWR                 | ORD                 | 150                 |  719                | 5                   | 58                  | 2013-01-01 05:00:00 |\n",
       "| 2013                | 1                   | 1                   | 555                 | 600                 | -5                  |  913                |  854                |  19                 | B6                  |  507                | N516JB              | EWR                 | FLL                 | 158                 | 1065                | 6                   |  0                  | 2013-01-01 06:00:00 |\n",
       "| 2013                | 1                   | 1                   | 557                 | 600                 | -3                  |  709                |  723                | -14                 | EV                  | 5708                | N829AS              | LGA                 | IAD                 |  53                 |  229                | 6                   |  0                  | 2013-01-01 06:00:00 |\n",
       "| 2013                | 1                   | 1                   | 557                 | 600                 | -3                  |  838                |  846                |  -8                 | B6                  |   79                | N593JB              | JFK                 | MCO                 | 140                 |  944                | 6                   |  0                  | 2013-01-01 06:00:00 |\n",
       "| 2013                | 1                   | 1                   | 558                 | 600                 | -2                  |  753                |  745                |   8                 | AA                  |  301                | N3ALAA              | LGA                 | ORD                 | 138                 |  733                | 6                   |  0                  | 2013-01-01 06:00:00 |\n",
       "| 2013                | 1                   | 1                   | 558                 | 600                 | -2                  |  849                |  851                |  -2                 | B6                  |   49                | N793JB              | JFK                 | PBI                 | 149                 | 1028                | 6                   |  0                  | 2013-01-01 06:00:00 |\n",
       "| 2013                | 1                   | 1                   | 558                 | 600                 | -2                  |  853                |  856                |  -3                 | B6                  |   71                | N657JB              | JFK                 | TPA                 | 158                 | 1005                | 6                   |  0                  | 2013-01-01 06:00:00 |\n",
       "| 2013                | 1                   | 1                   | 558                 | 600                 | -2                  |  924                |  917                |   7                 | UA                  |  194                | N29129              | JFK                 | LAX                 | 345                 | 2475                | 6                   |  0                  | 2013-01-01 06:00:00 |\n",
       "| 2013                | 1                   | 1                   | 558                 | 600                 | -2                  |  923                |  937                | -14                 | UA                  | 1124                | N53441              | EWR                 | SFO                 | 361                 | 2565                | 6                   |  0                  | 2013-01-01 06:00:00 |\n",
       "| 2013                | 1                   | 1                   | 559                 | 600                 | -1                  |  941                |  910                |  31                 | AA                  |  707                | N3DUAA              | LGA                 | DFW                 | 257                 | 1389                | 6                   |  0                  | 2013-01-01 06:00:00 |\n",
       "| 2013                | 1                   | 1                   | 559                 | 559                 |  0                  |  702                |  706                |  -4                 | B6                  | 1806                | N708JB              | JFK                 | BOS                 |  44                 |  187                | 5                   | 59                  | 2013-01-01 05:00:00 |\n",
       "| 2013                | 1                   | 1                   | 559                 | 600                 | -1                  |  854                |  902                |  -8                 | UA                  | 1187                | N76515              | EWR                 | LAS                 | 337                 | 2227                | 6                   |  0                  | 2013-01-01 06:00:00 |\n",
       "| 2013                | 1                   | 1                   | 600                 | 600                 |  0                  |  851                |  858                |  -7                 | B6                  |  371                | N595JB              | LGA                 | FLL                 | 152                 | 1076                | 6                   |  0                  | 2013-01-01 06:00:00 |\n",
       "| 2013                | 1                   | 1                   | 600                 | 600                 |  0                  |  837                |  825                |  12                 | MQ                  | 4650                | N542MQ              | LGA                 | ATL                 | 134                 |  762                | 6                   |  0                  | 2013-01-01 06:00:00 |\n",
       "| 2013                | 1                   | 1                   | 601                 | 600                 |  1                  |  844                |  850                |  -6                 | B6                  |  343                | N644JB              | EWR                 | PBI                 | 147                 | 1023                | 6                   |  0                  | 2013-01-01 06:00:00 |\n",
       "| 2013                | 1                   | 1                   | 602                 | 610                 | -8                  |  812                |  820                |  -8                 | DL                  | 1919                | N971DL              | LGA                 | MSP                 | 170                 | 1020                | 6                   | 10                  | 2013-01-01 06:00:00 |\n",
       "| 2013                | 1                   | 1                   | 602                 | 605                 | -3                  |  821                |  805                |  16                 | MQ                  | 4401                | N730MQ              | LGA                 | DTW                 | 105                 |  502                | 6                   |  5                  | 2013-01-01 06:00:00 |\n",
       "| 2013                | 1                   | 1                   | 606                 | 610                 | -4                  |  858                |  910                | -12                 | AA                  | 1895                | N633AA              | EWR                 | MIA                 | 152                 | 1085                | 6                   | 10                  | 2013-01-01 06:00:00 |\n",
       "| 2013                | 1                   | 1                   | 606                 | 610                 | -4                  |  837                |  845                |  -8                 | DL                  | 1743                | N3739P              | JFK                 | ATL                 | 128                 |  760                | 6                   | 10                  | 2013-01-01 06:00:00 |\n",
       "| 2013                | 1                   | 1                   | 607                 | 607                 |  0                  |  858                |  915                | -17                 | UA                  | 1077                | N53442              | EWR                 | MIA                 | 157                 | 1085                | 6                   |  7                  | 2013-01-01 06:00:00 |\n",
       "| 2013                | 1                   | 1                   | 608                 | 600                 |  8                  |  807                |  735                |  32                 | MQ                  | 3768                | N9EAMQ              | EWR                 | ORD                 | 139                 |  719                | 6                   |  0                  | 2013-01-01 06:00:00 |\n",
       "| 2013                | 1                   | 1                   | 611                 | 600                 | 11                  |  945                |  931                |  14                 | UA                  |  303                | N532UA              | JFK                 | SFO                 | 366                 | 2586                | 6                   |  0                  | 2013-01-01 06:00:00 |\n",
       "| 2013                | 1                   | 1                   | 613                 | 610                 |  3                  |  925                |  921                |   4                 | B6                  |  135                | N635JB              | JFK                 | RSW                 | 175                 | 1074                | 6                   | 10                  | 2013-01-01 06:00:00 |\n",
       "| 2013                | 1                   | 1                   | 615                 | 615                 |  0                  | 1039                | 1100                | -21                 | B6                  |  709                | N794JB              | JFK                 | SJU                 | 182                 | 1598                | 6                   | 15                  | 2013-01-01 06:00:00 |\n",
       "| 2013                | 1                   | 1                   | 615                 | 615                 |  0                  |  833                |  842                |  -9                 | DL                  |  575                | N326NB              | EWR                 | ATL                 | 120                 |  746                | 6                   | 15                  | 2013-01-01 06:00:00 |\n",
       "| ... | ... | ... | ... | ... | ... | ... | ... | ... | ... | ... | ... | ... | ... | ... | ... | ... | ... | ... |\n",
       "| 2013                | 1                   | 1                   | 2140                | 2135                |   5                 |  210                |  224                | -14                 | B6                  |  701                | N284JB              | JFK                 | SJU                 | 189                 | 1598                | 21                  | 35                  | 2013-01-01 21:00:00 |\n",
       "| 2013                | 1                   | 1                   | 2157                | 2155                |   2                 |   43                |   41                |   2                 | B6                  |   43                | N537JB              | JFK                 | MCO                 | 140                 |  944                | 21                  | 55                  | 2013-01-01 21:00:00 |\n",
       "| 2013                | 1                   | 1                   | 2158                | 2200                |  -2                 | 2254                | 2307                | -13                 | EV                  | 4103                | N14998              | EWR                 | BWI                 |  36                 |  169                | 22                  |  0                  | 2013-01-01 22:00:00 |\n",
       "| 2013                | 1                   | 1                   | 2205                | 1720                | 285                 |   46                | 2040                | 246                 | AA                  | 1999                | N5DNAA              | EWR                 | MIA                 | 146                 | 1085                | 17                  | 20                  | 2013-01-01 17:00:00 |\n",
       "| 2013                | 1                   | 1                   | 2209                | 2145                |  24                 |   58                |   37                |  21                 | B6                  |   35                | N608JB              | JFK                 | PBI                 | 143                 | 1028                | 21                  | 45                  | 2013-01-01 21:00:00 |\n",
       "| 2013                | 1                   | 1                   | 2209                | 2155                |  14                 | 2400                | 2337                |  23                 | B6                  | 1109                | N216JB              | JFK                 | RDU                 |  86                 |  427                | 21                  | 55                  | 2013-01-01 21:00:00 |\n",
       "| 2013                | 1                   | 1                   | 2211                | 2145                |  26                 | 2339                | 2311                |  28                 | B6                  |  104                | N228JB              | JFK                 | BUF                 |  64                 |  301                | 21                  | 45                  | 2013-01-01 21:00:00 |\n",
       "| 2013                | 1                   | 1                   | 2217                | 2229                | -12                 |  249                |  315                | -26                 | B6                  |  713                | N547JB              | JFK                 | SJU                 | 191                 | 1598                | 22                  | 29                  | 2013-01-01 22:00:00 |\n",
       "| 2013                | 1                   | 1                   | 2217                | 2130                |  47                 |  140                |   27                |  73                 | B6                  |   21                | N516JB              | JFK                 | TPA                 | 163                 | 1005                | 21                  | 30                  | 2013-01-01 21:00:00 |\n",
       "| 2013                | 1                   | 1                   | 2221                | 2000                | 141                 | 2331                | 2124                | 127                 | EV                  | 4462                | N13566              | EWR                 | BUF                 |  56                 |  282                | 20                  |  0                  | 2013-01-01 20:00:00 |\n",
       "| 2013                | 1                   | 1                   | 2224                | 2200                |  24                 | 2324                | 2316                |   8                 | EV                  | 4206                | N16561              | EWR                 | PWM                 |  47                 |  284                | 22                  |  0                  | 2013-01-01 22:00:00 |\n",
       "| 2013                | 1                   | 1                   | 2229                | 2159                |  30                 |  149                |  100                |  49                 | B6                  |   11                | N531JB              | JFK                 | FLL                 | 153                 | 1069                | 21                  | 59                  | 2013-01-01 21:00:00 |\n",
       "| 2013                | 1                   | 1                   | 2240                | 2245                |  -5                 | 2340                | 2356                | -16                 | B6                  |  608                | N279JB              | JFK                 | PWM                 |  44                 |  273                | 22                  | 45                  | 2013-01-01 22:00:00 |\n",
       "| 2013                | 1                   | 1                   | 2250                | 2255                |  -5                 | 2352                | 2359                |  -7                 | B6                  | 1018                | N521JB              | JFK                 | BOS                 |  37                 |  187                | 22                  | 55                  | 2013-01-01 22:00:00 |\n",
       "| 2013                | 1                   | 1                   | 2302                | 2200                |  62                 | 2342                | 2253                |  49                 | EV                  | 4276                | N13903              | EWR                 | BDL                 |  24                 |  116                | 22                  |  0                  | 2013-01-01 22:00:00 |\n",
       "| 2013                | 1                   | 1                   | 2306                | 2245                |  21                 |   28                |    5                |  23                 | B6                  |   30                | N281JB              | JFK                 | ROC                 |  59                 |  264                | 22                  | 45                  | 2013-01-01 22:00:00 |\n",
       "| 2013                | 1                   | 1                   | 2307                | 2245                |  22                 |   32                | 2357                |  35                 | B6                  |  128                | N178JB              | JFK                 | BTV                 |  59                 |  266                | 22                  | 45                  | 2013-01-01 22:00:00 |\n",
       "| 2013                | 1                   | 1                   | 2310                | 2255                |  15                 |   24                |   15                |   9                 | B6                  |  112                | N646JB              | JFK                 | BUF                 |  57                 |  301                | 22                  | 55                  | 2013-01-01 22:00:00 |\n",
       "| 2013                | 1                   | 1                   | 2312                | 2000                | 192                 |   21                | 2110                | 191                 | EV                  | 4312                | N13958              | EWR                 | DCA                 |  44                 |  199                | 20                  |  0                  | 2013-01-01 20:00:00 |\n",
       "| 2013                | 1                   | 1                   | 2323                | 2200                |  83                 |   22                | 2313                |  69                 | EV                  | 4257                | N13538              | EWR                 | BTV                 |  44                 |  266                | 22                  |  0                  | 2013-01-01 22:00:00 |\n",
       "| 2013                | 1                   | 1                   | 2326                | 2130                | 116                 |  131                |   18                |  73                 | B6                  |  199                | N594JB              | JFK                 | LAS                 | 290                 | 2248                | 21                  | 30                  | 2013-01-01 21:00:00 |\n",
       "| 2013                | 1                   | 1                   | 2327                | 2250                |  37                 |   32                | 2359                |  33                 | B6                  |   22                | N639JB              | JFK                 | SYR                 |  45                 |  209                | 22                  | 50                  | 2013-01-01 22:00:00 |\n",
       "| 2013                | 1                   | 1                   | 2343                | 1724                | 379                 |  314                | 1938                | 456                 | EV                  | 4321                | N21197              | EWR                 | MCI                 | 222                 | 1092                | 17                  | 24                  | 2013-01-01 17:00:00 |\n",
       "| 2013                | 1                   | 1                   | 2353                | 2359                |  -6                 |  425                |  445                | -20                 | B6                  |  739                | N591JB              | JFK                 | PSE                 | 195                 | 1617                | 23                  | 59                  | 2013-01-01 23:00:00 |\n",
       "| 2013                | 1                   | 1                   | 2353                | 2359                |  -6                 |  418                |  442                | -24                 | B6                  |  707                | N794JB              | JFK                 | SJU                 | 185                 | 1598                | 23                  | 59                  | 2013-01-01 23:00:00 |\n",
       "| 2013                | 1                   | 1                   | 2356                | 2359                |  -3                 |  425                |  437                | -12                 | B6                  |  727                | N588JB              | JFK                 | BQN                 | 186                 | 1576                | 23                  | 59                  | 2013-01-01 23:00:00 |\n",
       "| 2013                | 1                   | 1                   |   NA                | 1630                |  NA                 |   NA                | 1815                |  NA                 | EV                  | 4308                | N18120              | EWR                 | RDU                 |  NA                 |  416                | 16                  | 30                  | 2013-01-01 16:00:00 |\n",
       "| 2013                | 1                   | 1                   |   NA                | 1935                |  NA                 |   NA                | 2240                |  NA                 | AA                  |  791                | N3EHAA              | LGA                 | DFW                 |  NA                 | 1389                | 19                  | 35                  | 2013-01-01 19:00:00 |\n",
       "| 2013                | 1                   | 1                   |   NA                | 1500                |  NA                 |   NA                | 1825                |  NA                 | AA                  | 1925                | N3EVAA              | LGA                 | MIA                 |  NA                 | 1096                | 15                  |  0                  | 2013-01-01 15:00:00 |\n",
       "| 2013                | 1                   | 1                   |   NA                |  600                |  NA                 |   NA                |  901                |  NA                 | B6                  |  125                | N618JB              | JFK                 | FLL                 |  NA                 | 1069                |  6                  |  0                  | 2013-01-01 06:00:00 |\n",
       "\n"
      ],
      "text/plain": [
       "    year month day dep_time sched_dep_time dep_delay arr_time sched_arr_time\n",
       "1   2013 1     1   517      515             2         830      819          \n",
       "2   2013 1     1   533      529             4         850      830          \n",
       "3   2013 1     1   542      540             2         923      850          \n",
       "4   2013 1     1   544      545            -1        1004     1022          \n",
       "5   2013 1     1   554      600            -6         812      837          \n",
       "6   2013 1     1   554      558            -4         740      728          \n",
       "7   2013 1     1   555      600            -5         913      854          \n",
       "8   2013 1     1   557      600            -3         709      723          \n",
       "9   2013 1     1   557      600            -3         838      846          \n",
       "10  2013 1     1   558      600            -2         753      745          \n",
       "11  2013 1     1   558      600            -2         849      851          \n",
       "12  2013 1     1   558      600            -2         853      856          \n",
       "13  2013 1     1   558      600            -2         924      917          \n",
       "14  2013 1     1   558      600            -2         923      937          \n",
       "15  2013 1     1   559      600            -1         941      910          \n",
       "16  2013 1     1   559      559             0         702      706          \n",
       "17  2013 1     1   559      600            -1         854      902          \n",
       "18  2013 1     1   600      600             0         851      858          \n",
       "19  2013 1     1   600      600             0         837      825          \n",
       "20  2013 1     1   601      600             1         844      850          \n",
       "21  2013 1     1   602      610            -8         812      820          \n",
       "22  2013 1     1   602      605            -3         821      805          \n",
       "23  2013 1     1   606      610            -4         858      910          \n",
       "24  2013 1     1   606      610            -4         837      845          \n",
       "25  2013 1     1   607      607             0         858      915          \n",
       "26  2013 1     1   608      600             8         807      735          \n",
       "27  2013 1     1   611      600            11         945      931          \n",
       "28  2013 1     1   613      610             3         925      921          \n",
       "29  2013 1     1   615      615             0        1039     1100          \n",
       "30  2013 1     1   615      615             0         833      842          \n",
       "... ...  ...   ... ...      ...            ...       ...      ...           \n",
       "813 2013 1     1   2140     2135             5        210      224          \n",
       "814 2013 1     1   2157     2155             2         43       41          \n",
       "815 2013 1     1   2158     2200            -2       2254     2307          \n",
       "816 2013 1     1   2205     1720           285         46     2040          \n",
       "817 2013 1     1   2209     2145            24         58       37          \n",
       "818 2013 1     1   2209     2155            14       2400     2337          \n",
       "819 2013 1     1   2211     2145            26       2339     2311          \n",
       "820 2013 1     1   2217     2229           -12        249      315          \n",
       "821 2013 1     1   2217     2130            47        140       27          \n",
       "822 2013 1     1   2221     2000           141       2331     2124          \n",
       "823 2013 1     1   2224     2200            24       2324     2316          \n",
       "824 2013 1     1   2229     2159            30        149      100          \n",
       "825 2013 1     1   2240     2245            -5       2340     2356          \n",
       "826 2013 1     1   2250     2255            -5       2352     2359          \n",
       "827 2013 1     1   2302     2200            62       2342     2253          \n",
       "828 2013 1     1   2306     2245            21         28        5          \n",
       "829 2013 1     1   2307     2245            22         32     2357          \n",
       "830 2013 1     1   2310     2255            15         24       15          \n",
       "831 2013 1     1   2312     2000           192         21     2110          \n",
       "832 2013 1     1   2323     2200            83         22     2313          \n",
       "833 2013 1     1   2326     2130           116        131       18          \n",
       "834 2013 1     1   2327     2250            37         32     2359          \n",
       "835 2013 1     1   2343     1724           379        314     1938          \n",
       "836 2013 1     1   2353     2359            -6        425      445          \n",
       "837 2013 1     1   2353     2359            -6        418      442          \n",
       "838 2013 1     1   2356     2359            -3        425      437          \n",
       "839 2013 1     1     NA     1630            NA         NA     1815          \n",
       "840 2013 1     1     NA     1935            NA         NA     2240          \n",
       "841 2013 1     1     NA     1500            NA         NA     1825          \n",
       "842 2013 1     1     NA      600            NA         NA      901          \n",
       "    arr_delay carrier flight tailnum origin dest air_time distance hour minute\n",
       "1    11       UA      1545   N14228  EWR    IAH  227      1400     5    15    \n",
       "2    20       UA      1714   N24211  LGA    IAH  227      1416     5    29    \n",
       "3    33       AA      1141   N619AA  JFK    MIA  160      1089     5    40    \n",
       "4   -18       B6       725   N804JB  JFK    BQN  183      1576     5    45    \n",
       "5   -25       DL       461   N668DN  LGA    ATL  116       762     6     0    \n",
       "6    12       UA      1696   N39463  EWR    ORD  150       719     5    58    \n",
       "7    19       B6       507   N516JB  EWR    FLL  158      1065     6     0    \n",
       "8   -14       EV      5708   N829AS  LGA    IAD   53       229     6     0    \n",
       "9    -8       B6        79   N593JB  JFK    MCO  140       944     6     0    \n",
       "10    8       AA       301   N3ALAA  LGA    ORD  138       733     6     0    \n",
       "11   -2       B6        49   N793JB  JFK    PBI  149      1028     6     0    \n",
       "12   -3       B6        71   N657JB  JFK    TPA  158      1005     6     0    \n",
       "13    7       UA       194   N29129  JFK    LAX  345      2475     6     0    \n",
       "14  -14       UA      1124   N53441  EWR    SFO  361      2565     6     0    \n",
       "15   31       AA       707   N3DUAA  LGA    DFW  257      1389     6     0    \n",
       "16   -4       B6      1806   N708JB  JFK    BOS   44       187     5    59    \n",
       "17   -8       UA      1187   N76515  EWR    LAS  337      2227     6     0    \n",
       "18   -7       B6       371   N595JB  LGA    FLL  152      1076     6     0    \n",
       "19   12       MQ      4650   N542MQ  LGA    ATL  134       762     6     0    \n",
       "20   -6       B6       343   N644JB  EWR    PBI  147      1023     6     0    \n",
       "21   -8       DL      1919   N971DL  LGA    MSP  170      1020     6    10    \n",
       "22   16       MQ      4401   N730MQ  LGA    DTW  105       502     6     5    \n",
       "23  -12       AA      1895   N633AA  EWR    MIA  152      1085     6    10    \n",
       "24   -8       DL      1743   N3739P  JFK    ATL  128       760     6    10    \n",
       "25  -17       UA      1077   N53442  EWR    MIA  157      1085     6     7    \n",
       "26   32       MQ      3768   N9EAMQ  EWR    ORD  139       719     6     0    \n",
       "27   14       UA       303   N532UA  JFK    SFO  366      2586     6     0    \n",
       "28    4       B6       135   N635JB  JFK    RSW  175      1074     6    10    \n",
       "29  -21       B6       709   N794JB  JFK    SJU  182      1598     6    15    \n",
       "30   -9       DL       575   N326NB  EWR    ATL  120       746     6    15    \n",
       "... ...       ...     ...    ...     ...    ...  ...      ...      ...  ...   \n",
       "813 -14       B6       701   N284JB  JFK    SJU  189      1598     21   35    \n",
       "814   2       B6        43   N537JB  JFK    MCO  140       944     21   55    \n",
       "815 -13       EV      4103   N14998  EWR    BWI   36       169     22    0    \n",
       "816 246       AA      1999   N5DNAA  EWR    MIA  146      1085     17   20    \n",
       "817  21       B6        35   N608JB  JFK    PBI  143      1028     21   45    \n",
       "818  23       B6      1109   N216JB  JFK    RDU   86       427     21   55    \n",
       "819  28       B6       104   N228JB  JFK    BUF   64       301     21   45    \n",
       "820 -26       B6       713   N547JB  JFK    SJU  191      1598     22   29    \n",
       "821  73       B6        21   N516JB  JFK    TPA  163      1005     21   30    \n",
       "822 127       EV      4462   N13566  EWR    BUF   56       282     20    0    \n",
       "823   8       EV      4206   N16561  EWR    PWM   47       284     22    0    \n",
       "824  49       B6        11   N531JB  JFK    FLL  153      1069     21   59    \n",
       "825 -16       B6       608   N279JB  JFK    PWM   44       273     22   45    \n",
       "826  -7       B6      1018   N521JB  JFK    BOS   37       187     22   55    \n",
       "827  49       EV      4276   N13903  EWR    BDL   24       116     22    0    \n",
       "828  23       B6        30   N281JB  JFK    ROC   59       264     22   45    \n",
       "829  35       B6       128   N178JB  JFK    BTV   59       266     22   45    \n",
       "830   9       B6       112   N646JB  JFK    BUF   57       301     22   55    \n",
       "831 191       EV      4312   N13958  EWR    DCA   44       199     20    0    \n",
       "832  69       EV      4257   N13538  EWR    BTV   44       266     22    0    \n",
       "833  73       B6       199   N594JB  JFK    LAS  290      2248     21   30    \n",
       "834  33       B6        22   N639JB  JFK    SYR   45       209     22   50    \n",
       "835 456       EV      4321   N21197  EWR    MCI  222      1092     17   24    \n",
       "836 -20       B6       739   N591JB  JFK    PSE  195      1617     23   59    \n",
       "837 -24       B6       707   N794JB  JFK    SJU  185      1598     23   59    \n",
       "838 -12       B6       727   N588JB  JFK    BQN  186      1576     23   59    \n",
       "839  NA       EV      4308   N18120  EWR    RDU   NA       416     16   30    \n",
       "840  NA       AA       791   N3EHAA  LGA    DFW   NA      1389     19   35    \n",
       "841  NA       AA      1925   N3EVAA  LGA    MIA   NA      1096     15    0    \n",
       "842  NA       B6       125   N618JB  JFK    FLL   NA      1069      6    0    \n",
       "    time_hour          \n",
       "1   2013-01-01 05:00:00\n",
       "2   2013-01-01 05:00:00\n",
       "3   2013-01-01 05:00:00\n",
       "4   2013-01-01 05:00:00\n",
       "5   2013-01-01 06:00:00\n",
       "6   2013-01-01 05:00:00\n",
       "7   2013-01-01 06:00:00\n",
       "8   2013-01-01 06:00:00\n",
       "9   2013-01-01 06:00:00\n",
       "10  2013-01-01 06:00:00\n",
       "11  2013-01-01 06:00:00\n",
       "12  2013-01-01 06:00:00\n",
       "13  2013-01-01 06:00:00\n",
       "14  2013-01-01 06:00:00\n",
       "15  2013-01-01 06:00:00\n",
       "16  2013-01-01 05:00:00\n",
       "17  2013-01-01 06:00:00\n",
       "18  2013-01-01 06:00:00\n",
       "19  2013-01-01 06:00:00\n",
       "20  2013-01-01 06:00:00\n",
       "21  2013-01-01 06:00:00\n",
       "22  2013-01-01 06:00:00\n",
       "23  2013-01-01 06:00:00\n",
       "24  2013-01-01 06:00:00\n",
       "25  2013-01-01 06:00:00\n",
       "26  2013-01-01 06:00:00\n",
       "27  2013-01-01 06:00:00\n",
       "28  2013-01-01 06:00:00\n",
       "29  2013-01-01 06:00:00\n",
       "30  2013-01-01 06:00:00\n",
       "... ...                \n",
       "813 2013-01-01 21:00:00\n",
       "814 2013-01-01 21:00:00\n",
       "815 2013-01-01 22:00:00\n",
       "816 2013-01-01 17:00:00\n",
       "817 2013-01-01 21:00:00\n",
       "818 2013-01-01 21:00:00\n",
       "819 2013-01-01 21:00:00\n",
       "820 2013-01-01 22:00:00\n",
       "821 2013-01-01 21:00:00\n",
       "822 2013-01-01 20:00:00\n",
       "823 2013-01-01 22:00:00\n",
       "824 2013-01-01 21:00:00\n",
       "825 2013-01-01 22:00:00\n",
       "826 2013-01-01 22:00:00\n",
       "827 2013-01-01 22:00:00\n",
       "828 2013-01-01 22:00:00\n",
       "829 2013-01-01 22:00:00\n",
       "830 2013-01-01 22:00:00\n",
       "831 2013-01-01 20:00:00\n",
       "832 2013-01-01 22:00:00\n",
       "833 2013-01-01 21:00:00\n",
       "834 2013-01-01 22:00:00\n",
       "835 2013-01-01 17:00:00\n",
       "836 2013-01-01 23:00:00\n",
       "837 2013-01-01 23:00:00\n",
       "838 2013-01-01 23:00:00\n",
       "839 2013-01-01 16:00:00\n",
       "840 2013-01-01 19:00:00\n",
       "841 2013-01-01 15:00:00\n",
       "842 2013-01-01 06:00:00"
      ]
     },
     "metadata": {},
     "output_type": "display_data"
    }
   ],
   "source": [
    "jan1"
   ]
  },
  {
   "cell_type": "markdown",
   "metadata": {
    "slideshow": {
     "slide_type": "slide"
    }
   },
   "source": [
    "### Ejercicio 2: Filtrar los datos recolectados durante todos los dias del mes de enero, excepto el primer dia"
   ]
  },
  {
   "cell_type": "code",
   "execution_count": 6,
   "metadata": {
    "slideshow": {
     "slide_type": "fragment"
    }
   },
   "outputs": [],
   "source": [
    "jan2 = filter(flights, month == 1, !(day == 1))"
   ]
  },
  {
   "cell_type": "code",
   "execution_count": 7,
   "metadata": {
    "slideshow": {
     "slide_type": "fragment"
    }
   },
   "outputs": [
    {
     "data": {
      "text/html": [
       "<table>\n",
       "<thead><tr><th scope=col>year</th><th scope=col>month</th><th scope=col>day</th><th scope=col>dep_time</th><th scope=col>sched_dep_time</th><th scope=col>dep_delay</th><th scope=col>arr_time</th><th scope=col>sched_arr_time</th><th scope=col>arr_delay</th><th scope=col>carrier</th><th scope=col>flight</th><th scope=col>tailnum</th><th scope=col>origin</th><th scope=col>dest</th><th scope=col>air_time</th><th scope=col>distance</th><th scope=col>hour</th><th scope=col>minute</th><th scope=col>time_hour</th></tr></thead>\n",
       "<tbody>\n",
       "\t<tr><td>2013               </td><td>1                  </td><td>2                  </td><td> 42                </td><td>2359               </td><td> 43                </td><td>518                </td><td> 442               </td><td> 36                </td><td>B6                 </td><td> 707               </td><td>N580JB             </td><td>JFK                </td><td>SJU                </td><td>189                </td><td>1598               </td><td>23                 </td><td>59                 </td><td>2013-01-02 23:00:00</td></tr>\n",
       "\t<tr><td>2013               </td><td>1                  </td><td>2                  </td><td>126                </td><td>2250               </td><td>156                </td><td>233                </td><td>2359               </td><td>154                </td><td>B6                 </td><td>  22               </td><td>N636JB             </td><td>JFK                </td><td>SYR                </td><td> 49                </td><td> 209               </td><td>22                 </td><td>50                 </td><td>2013-01-02 22:00:00</td></tr>\n",
       "\t<tr><td>2013               </td><td>1                  </td><td>2                  </td><td>458                </td><td> 500               </td><td> -2                </td><td>703                </td><td> 650               </td><td> 13                </td><td>US                 </td><td>1030               </td><td>N162UW             </td><td>EWR                </td><td>CLT                </td><td>108                </td><td> 529               </td><td> 5                 </td><td> 0                 </td><td>2013-01-02 05:00:00</td></tr>\n",
       "\t<tr><td>2013               </td><td>1                  </td><td>2                  </td><td>512                </td><td> 515               </td><td> -3                </td><td>809                </td><td> 819               </td><td>-10                </td><td>UA                 </td><td>1453               </td><td>N76515             </td><td>EWR                </td><td>IAH                </td><td>214                </td><td>1400               </td><td> 5                 </td><td>15                 </td><td>2013-01-02 05:00:00</td></tr>\n",
       "\t<tr><td>2013               </td><td>1                  </td><td>2                  </td><td>535                </td><td> 540               </td><td> -5                </td><td>831                </td><td> 850               </td><td>-19                </td><td>AA                 </td><td>1141               </td><td>N621AA             </td><td>JFK                </td><td>MIA                </td><td>156                </td><td>1089               </td><td> 5                 </td><td>40                 </td><td>2013-01-02 05:00:00</td></tr>\n",
       "\t<tr><td>2013               </td><td>1                  </td><td>2                  </td><td>536                </td><td> 529               </td><td>  7                </td><td>840                </td><td> 828               </td><td> 12                </td><td>UA                 </td><td> 407               </td><td>N493UA             </td><td>LGA                </td><td>IAH                </td><td>231                </td><td>1416               </td><td> 5                 </td><td>29                 </td><td>2013-01-02 05:00:00</td></tr>\n",
       "\t<tr><td>2013               </td><td>1                  </td><td>2                  </td><td>539                </td><td> 545               </td><td> -6                </td><td>959                </td><td>1022               </td><td>-23                </td><td>B6                 </td><td> 725               </td><td>N624JB             </td><td>JFK                </td><td>BQN                </td><td>184                </td><td>1576               </td><td> 5                 </td><td>45                 </td><td>2013-01-02 05:00:00</td></tr>\n",
       "\t<tr><td>2013               </td><td>1                  </td><td>2                  </td><td>554                </td><td> 600               </td><td> -6                </td><td>845                </td><td> 901               </td><td>-16                </td><td>B6                 </td><td> 125               </td><td>N637JB             </td><td>JFK                </td><td>FLL                </td><td>156                </td><td>1069               </td><td> 6                 </td><td> 0                 </td><td>2013-01-02 06:00:00</td></tr>\n",
       "\t<tr><td>2013               </td><td>1                  </td><td>2                  </td><td>554                </td><td> 600               </td><td> -6                </td><td>841                </td><td> 851               </td><td>-10                </td><td>B6                 </td><td>  49               </td><td>N658JB             </td><td>JFK                </td><td>PBI                </td><td>146                </td><td>1028               </td><td> 6                 </td><td> 0                 </td><td>2013-01-02 06:00:00</td></tr>\n",
       "\t<tr><td>2013               </td><td>1                  </td><td>2                  </td><td>554                </td><td> 600               </td><td> -6                </td><td>909                </td><td> 858               </td><td> 11                </td><td>B6                 </td><td> 371               </td><td>N805JB             </td><td>LGA                </td><td>FLL                </td><td>159                </td><td>1076               </td><td> 6                 </td><td> 0                 </td><td>2013-01-02 06:00:00</td></tr>\n",
       "\t<tr><td>2013               </td><td>1                  </td><td>2                  </td><td>555                </td><td> 600               </td><td> -5                </td><td>931                </td><td> 910               </td><td> 21                </td><td>AA                 </td><td> 707               </td><td>N3BEAA             </td><td>LGA                </td><td>DFW                </td><td>255                </td><td>1389               </td><td> 6                 </td><td> 0                 </td><td>2013-01-02 06:00:00</td></tr>\n",
       "\t<tr><td>2013               </td><td>1                  </td><td>2                  </td><td>555                </td><td> 600               </td><td> -5                </td><td>856                </td><td> 856               </td><td>  0                </td><td>B6                 </td><td>  71               </td><td>N806JB             </td><td>JFK                </td><td>TPA                </td><td>158                </td><td>1005               </td><td> 6                 </td><td> 0                 </td><td>2013-01-02 06:00:00</td></tr>\n",
       "\t<tr><td>2013               </td><td>1                  </td><td>2                  </td><td>555                </td><td> 600               </td><td> -5                </td><td>750                </td><td> 757               </td><td> -7                </td><td>DL                 </td><td> 731               </td><td>N366NB             </td><td>LGA                </td><td>DTW                </td><td> 87                </td><td> 502               </td><td> 6                 </td><td> 0                 </td><td>2013-01-02 06:00:00</td></tr>\n",
       "\t<tr><td>2013               </td><td>1                  </td><td>2                  </td><td>556                </td><td> 600               </td><td> -4                </td><td>724                </td><td> 723               </td><td>  1                </td><td>EV                 </td><td>5708               </td><td>N836AS             </td><td>LGA                </td><td>IAD                </td><td> 54                </td><td> 229               </td><td> 6                 </td><td> 0                 </td><td>2013-01-02 06:00:00</td></tr>\n",
       "\t<tr><td>2013               </td><td>1                  </td><td>2                  </td><td>556                </td><td> 600               </td><td> -4                </td><td>837                </td><td> 837               </td><td>  0                </td><td>DL                 </td><td> 461               </td><td>N618DL             </td><td>LGA                </td><td>ATL                </td><td>128                </td><td> 762               </td><td> 6                 </td><td> 0                 </td><td>2013-01-02 06:00:00</td></tr>\n",
       "\t<tr><td>2013               </td><td>1                  </td><td>2                  </td><td>557                </td><td> 605               </td><td> -8                </td><td>832                </td><td> 823               </td><td>  9                </td><td>DL                 </td><td> 544               </td><td>N325US             </td><td>LGA                </td><td>CVG                </td><td>117                </td><td> 585               </td><td> 6                 </td><td> 5                 </td><td>2013-01-02 06:00:00</td></tr>\n",
       "\t<tr><td>2013               </td><td>1                  </td><td>2                  </td><td>558                </td><td> 600               </td><td> -2                </td><td>838                </td><td> 815               </td><td> 23                </td><td>FL                 </td><td> 345               </td><td>N896AT             </td><td>LGA                </td><td>ATL                </td><td>129                </td><td> 762               </td><td> 6                 </td><td> 0                 </td><td>2013-01-02 06:00:00</td></tr>\n",
       "\t<tr><td>2013               </td><td>1                  </td><td>2                  </td><td>558                </td><td> 600               </td><td> -2                </td><td>916                </td><td> 931               </td><td>-15                </td><td>UA                 </td><td> 303               </td><td>N505UA             </td><td>JFK                </td><td>SFO                </td><td>341                </td><td>2586               </td><td> 6                 </td><td> 0                 </td><td>2013-01-02 06:00:00</td></tr>\n",
       "\t<tr><td>2013               </td><td>1                  </td><td>2                  </td><td>559                </td><td> 601               </td><td> -2                </td><td>809                </td><td> 901               </td><td>-52                </td><td>UA                 </td><td> 402               </td><td>N484UA             </td><td>EWR                </td><td>LAS                </td><td>289                </td><td>2227               </td><td> 6                 </td><td> 1                 </td><td>2013-01-02 06:00:00</td></tr>\n",
       "\t<tr><td>2013               </td><td>1                  </td><td>2                  </td><td>559                </td><td> 600               </td><td> -1                </td><td>906                </td><td> 907               </td><td> -1                </td><td>UA                 </td><td>1077               </td><td>N12225             </td><td>EWR                </td><td>MIA                </td><td>157                </td><td>1085               </td><td> 6                 </td><td> 0                 </td><td>2013-01-02 06:00:00</td></tr>\n",
       "\t<tr><td>2013               </td><td>1                  </td><td>2                  </td><td>600                </td><td> 600               </td><td>  0                </td><td>814                </td><td> 749               </td><td> 25                </td><td>EV                 </td><td>4334               </td><td>N13914             </td><td>EWR                </td><td>CMH                </td><td> 98                </td><td> 463               </td><td> 6                 </td><td> 0                 </td><td>2013-01-02 06:00:00</td></tr>\n",
       "\t<tr><td>2013               </td><td>1                  </td><td>2                  </td><td>600                </td><td> 605               </td><td> -5                </td><td>751                </td><td> 818               </td><td>-27                </td><td>EV                 </td><td>5147               </td><td>N760EV             </td><td>EWR                </td><td>MSP                </td><td>155                </td><td>1008               </td><td> 6                 </td><td> 5                 </td><td>2013-01-02 06:00:00</td></tr>\n",
       "\t<tr><td>2013               </td><td>1                  </td><td>2                  </td><td>600                </td><td> 600               </td><td>  0                </td><td>819                </td><td> 815               </td><td>  4                </td><td>9E                 </td><td>4171               </td><td>N8946A             </td><td>EWR                </td><td>CVG                </td><td>120                </td><td> 569               </td><td> 6                 </td><td> 0                 </td><td>2013-01-02 06:00:00</td></tr>\n",
       "\t<tr><td>2013               </td><td>1                  </td><td>2                  </td><td>600                </td><td> 600               </td><td>  0                </td><td>846                </td><td> 846               </td><td>  0                </td><td>B6                 </td><td>  79               </td><td>N529JB             </td><td>JFK                </td><td>MCO                </td><td>140                </td><td> 944               </td><td> 6                 </td><td> 0                 </td><td>2013-01-02 06:00:00</td></tr>\n",
       "\t<tr><td>2013               </td><td>1                  </td><td>2                  </td><td>600                </td><td> 600               </td><td>  0                </td><td>737                </td><td> 725               </td><td> 12                </td><td>WN                 </td><td>3136               </td><td>N8311Q             </td><td>LGA                </td><td>MDW                </td><td>117                </td><td> 725               </td><td> 6                 </td><td> 0                 </td><td>2013-01-02 06:00:00</td></tr>\n",
       "\t<tr><td>2013               </td><td>1                  </td><td>2                  </td><td>600                </td><td> 605               </td><td> -5                </td><td>748                </td><td> 805               </td><td>-17                </td><td>MQ                 </td><td>4401               </td><td>N713MQ             </td><td>LGA                </td><td>DTW                </td><td> 82                </td><td> 502               </td><td> 6                 </td><td> 5                 </td><td>2013-01-02 06:00:00</td></tr>\n",
       "\t<tr><td>2013               </td><td>1                  </td><td>2                  </td><td>600                </td><td> 600               </td><td>  0                </td><td>747                </td><td> 735               </td><td> 12                </td><td>UA                 </td><td>1280               </td><td>N62631             </td><td>LGA                </td><td>ORD                </td><td>125                </td><td> 733               </td><td> 6                 </td><td> 0                 </td><td>2013-01-02 06:00:00</td></tr>\n",
       "\t<tr><td>2013               </td><td>1                  </td><td>2                  </td><td>602                </td><td> 600               </td><td>  2                </td><td>646                </td><td> 659               </td><td>-13                </td><td>US                 </td><td>1833               </td><td>N951UW             </td><td>LGA                </td><td>PHL                </td><td> 28                </td><td>  96               </td><td> 6                 </td><td> 0                 </td><td>2013-01-02 06:00:00</td></tr>\n",
       "\t<tr><td>2013               </td><td>1                  </td><td>2                  </td><td>603                </td><td> 600               </td><td>  3                </td><td>733                </td><td> 745               </td><td>-12                </td><td>AA                 </td><td> 301               </td><td>N3CRAA             </td><td>LGA                </td><td>ORD                </td><td>118                </td><td> 733               </td><td> 6                 </td><td> 0                 </td><td>2013-01-02 06:00:00</td></tr>\n",
       "\t<tr><td>2013               </td><td>1                  </td><td>2                  </td><td>603                </td><td> 559               </td><td>  4                </td><td>912                </td><td> 916               </td><td> -4                </td><td>UA                 </td><td>1676               </td><td>N17229             </td><td>EWR                </td><td>LAX                </td><td>341                </td><td>2454               </td><td> 5                 </td><td>59                 </td><td>2013-01-02 05:00:00</td></tr>\n",
       "\t<tr><td>...</td><td>...</td><td>...</td><td>...</td><td>...</td><td>...</td><td>...</td><td>...</td><td>...</td><td>...</td><td>...</td><td>...</td><td>...</td><td>...</td><td>...</td><td>...</td><td>...</td><td>...</td><td>...</td></tr>\n",
       "\t<tr><td>2013               </td><td>1                  </td><td>31                 </td><td>NA                 </td><td>1245               </td><td>NA                 </td><td>NA                 </td><td>1600               </td><td>NA                 </td><td>AA                 </td><td>2253               </td><td>N3DTAA             </td><td>LGA                </td><td>MIA                </td><td>NA                 </td><td>1096               </td><td>12                 </td><td>45                 </td><td>2013-01-31 12:00:00</td></tr>\n",
       "\t<tr><td>2013               </td><td>1                  </td><td>31                 </td><td>NA                 </td><td>1240               </td><td>NA                 </td><td>NA                 </td><td>1540               </td><td>NA                 </td><td>AA                 </td><td>1853               </td><td>N4YDAA             </td><td>EWR                </td><td>DFW                </td><td>NA                 </td><td>1372               </td><td>12                 </td><td>40                 </td><td>2013-01-31 12:00:00</td></tr>\n",
       "\t<tr><td>2013               </td><td>1                  </td><td>31                 </td><td>NA                 </td><td>1200               </td><td>NA                 </td><td>NA                 </td><td>1304               </td><td>NA                 </td><td>B6                 </td><td>1174               </td><td>N203JB             </td><td>EWR                </td><td>BOS                </td><td>NA                 </td><td> 200               </td><td>12                 </td><td> 0                 </td><td>2013-01-31 12:00:00</td></tr>\n",
       "\t<tr><td>2013               </td><td>1                  </td><td>31                 </td><td>NA                 </td><td>1415               </td><td>NA                 </td><td>NA                 </td><td>1724               </td><td>NA                 </td><td>B6                 </td><td> 377               </td><td>N503JB             </td><td>LGA                </td><td>FLL                </td><td>NA                 </td><td>1076               </td><td>14                 </td><td>15                 </td><td>2013-01-31 14:00:00</td></tr>\n",
       "\t<tr><td>2013               </td><td>1                  </td><td>31                 </td><td>NA                 </td><td> 825               </td><td>NA                 </td><td>NA                 </td><td>1026               </td><td>NA                 </td><td>US                 </td><td> 487               </td><td>NA                 </td><td>JFK                </td><td>CLT                </td><td>NA                 </td><td> 541               </td><td> 8                 </td><td>25                 </td><td>2013-01-31 08:00:00</td></tr>\n",
       "\t<tr><td>2013               </td><td>1                  </td><td>31                 </td><td>NA                 </td><td>1130               </td><td>NA                 </td><td>NA                 </td><td>1334               </td><td>NA                 </td><td>US                 </td><td>1625               </td><td>NA                 </td><td>LGA                </td><td>CLT                </td><td>NA                 </td><td> 544               </td><td>11                 </td><td>30                 </td><td>2013-01-31 11:00:00</td></tr>\n",
       "\t<tr><td>2013               </td><td>1                  </td><td>31                 </td><td>NA                 </td><td>1500               </td><td>NA                 </td><td>NA                 </td><td>1653               </td><td>NA                 </td><td>US                 </td><td> 720               </td><td>NA                 </td><td>EWR                </td><td>CLT                </td><td>NA                 </td><td> 529               </td><td>15                 </td><td> 0                 </td><td>2013-01-31 15:00:00</td></tr>\n",
       "\t<tr><td>2013               </td><td>1                  </td><td>31                 </td><td>NA                 </td><td> 600               </td><td>NA                 </td><td>NA                 </td><td> 703               </td><td>NA                 </td><td>US                 </td><td>2114               </td><td>NA                 </td><td>LGA                </td><td>BOS                </td><td>NA                 </td><td> 184               </td><td> 6                 </td><td> 0                 </td><td>2013-01-31 06:00:00</td></tr>\n",
       "\t<tr><td>2013               </td><td>1                  </td><td>31                 </td><td>NA                 </td><td> 700               </td><td>NA                 </td><td>NA                 </td><td> 807               </td><td>NA                 </td><td>US                 </td><td>2116               </td><td>NA                 </td><td>LGA                </td><td>BOS                </td><td>NA                 </td><td> 184               </td><td> 7                 </td><td> 0                 </td><td>2013-01-31 07:00:00</td></tr>\n",
       "\t<tr><td>2013               </td><td>1                  </td><td>31                 </td><td>NA                 </td><td> 800               </td><td>NA                 </td><td>NA                 </td><td> 908               </td><td>NA                 </td><td>US                 </td><td>2118               </td><td>NA                 </td><td>LGA                </td><td>BOS                </td><td>NA                 </td><td> 184               </td><td> 8                 </td><td> 0                 </td><td>2013-01-31 08:00:00</td></tr>\n",
       "\t<tr><td>2013               </td><td>1                  </td><td>31                 </td><td>NA                 </td><td>1200               </td><td>NA                 </td><td>NA                 </td><td>1305               </td><td>NA                 </td><td>US                 </td><td>2126               </td><td>NA                 </td><td>LGA                </td><td>BOS                </td><td>NA                 </td><td> 184               </td><td>12                 </td><td> 0                 </td><td>2013-01-31 12:00:00</td></tr>\n",
       "\t<tr><td>2013               </td><td>1                  </td><td>31                 </td><td>NA                 </td><td>1300               </td><td>NA                 </td><td>NA                 </td><td>1406               </td><td>NA                 </td><td>US                 </td><td>2128               </td><td>NA                 </td><td>LGA                </td><td>BOS                </td><td>NA                 </td><td> 184               </td><td>13                 </td><td> 0                 </td><td>2013-01-31 13:00:00</td></tr>\n",
       "\t<tr><td>2013               </td><td>1                  </td><td>31                 </td><td>NA                 </td><td>1500               </td><td>NA                 </td><td>NA                 </td><td>1608               </td><td>NA                 </td><td>US                 </td><td>2132               </td><td>NA                 </td><td>LGA                </td><td>BOS                </td><td>NA                 </td><td> 184               </td><td>15                 </td><td> 0                 </td><td>2013-01-31 15:00:00</td></tr>\n",
       "\t<tr><td>2013               </td><td>1                  </td><td>31                 </td><td>NA                 </td><td>2100               </td><td>NA                 </td><td>NA                 </td><td>2207               </td><td>NA                 </td><td>US                 </td><td>2144               </td><td>NA                 </td><td>LGA                </td><td>BOS                </td><td>NA                 </td><td> 184               </td><td>21                 </td><td> 0                 </td><td>2013-01-31 21:00:00</td></tr>\n",
       "\t<tr><td>2013               </td><td>1                  </td><td>31                 </td><td>NA                 </td><td> 700               </td><td>NA                 </td><td>NA                 </td><td> 807               </td><td>NA                 </td><td>US                 </td><td>2163               </td><td>NA                 </td><td>LGA                </td><td>DCA                </td><td>NA                 </td><td> 214               </td><td> 7                 </td><td> 0                 </td><td>2013-01-31 07:00:00</td></tr>\n",
       "\t<tr><td>2013               </td><td>1                  </td><td>31                 </td><td>NA                 </td><td> 800               </td><td>NA                 </td><td>NA                 </td><td> 917               </td><td>NA                 </td><td>US                 </td><td>2165               </td><td>NA                 </td><td>LGA                </td><td>DCA                </td><td>NA                 </td><td> 214               </td><td> 8                 </td><td> 0                 </td><td>2013-01-31 08:00:00</td></tr>\n",
       "\t<tr><td>2013               </td><td>1                  </td><td>31                 </td><td>NA                 </td><td> 900               </td><td>NA                 </td><td>NA                 </td><td>1022               </td><td>NA                 </td><td>US                 </td><td>2167               </td><td>NA                 </td><td>LGA                </td><td>DCA                </td><td>NA                 </td><td> 214               </td><td> 9                 </td><td> 0                 </td><td>2013-01-31 09:00:00</td></tr>\n",
       "\t<tr><td>2013               </td><td>1                  </td><td>31                 </td><td>NA                 </td><td>1510               </td><td>NA                 </td><td>NA                 </td><td>1650               </td><td>NA                 </td><td>WN                 </td><td> 323               </td><td>N433LV             </td><td>LGA                </td><td>MKE                </td><td>NA                 </td><td> 738               </td><td>15                 </td><td>10                 </td><td>2013-01-31 15:00:00</td></tr>\n",
       "\t<tr><td>2013               </td><td>1                  </td><td>31                 </td><td>NA                 </td><td>1940               </td><td>NA                 </td><td>NA                 </td><td>2100               </td><td>NA                 </td><td>WN                 </td><td> 633               </td><td>N295WN             </td><td>EWR                </td><td>MDW                </td><td>NA                 </td><td> 711               </td><td>19                 </td><td>40                 </td><td>2013-01-31 19:00:00</td></tr>\n",
       "\t<tr><td>2013               </td><td>1                  </td><td>31                 </td><td>NA                 </td><td>1435               </td><td>NA                 </td><td>NA                 </td><td>1559               </td><td>NA                 </td><td>YV                 </td><td>3750               </td><td>N507MJ             </td><td>LGA                </td><td>IAD                </td><td>NA                 </td><td> 229               </td><td>14                 </td><td>35                 </td><td>2013-01-31 14:00:00</td></tr>\n",
       "\t<tr><td>2013               </td><td>1                  </td><td>31                 </td><td>NA                 </td><td>1635               </td><td>NA                 </td><td>NA                 </td><td>1810               </td><td>NA                 </td><td>MQ                 </td><td>3695               </td><td>N544MQ             </td><td>EWR                </td><td>ORD                </td><td>NA                 </td><td> 719               </td><td>16                 </td><td>35                 </td><td>2013-01-31 16:00:00</td></tr>\n",
       "\t<tr><td>2013               </td><td>1                  </td><td>31                 </td><td>NA                 </td><td> 825               </td><td>NA                 </td><td>NA                 </td><td> 945               </td><td>NA                 </td><td>MQ                 </td><td>4418               </td><td>N855MQ             </td><td>JFK                </td><td>DCA                </td><td>NA                 </td><td> 213               </td><td> 8                 </td><td>25                 </td><td>2013-01-31 08:00:00</td></tr>\n",
       "\t<tr><td>2013               </td><td>1                  </td><td>31                 </td><td>NA                 </td><td>1300               </td><td>NA                 </td><td>NA                 </td><td>1450               </td><td>NA                 </td><td>MQ                 </td><td>4426               </td><td>N736MQ             </td><td>LGA                </td><td>CMH                </td><td>NA                 </td><td> 479               </td><td>13                 </td><td> 0                 </td><td>2013-01-31 13:00:00</td></tr>\n",
       "\t<tr><td>2013               </td><td>1                  </td><td>31                 </td><td>NA                 </td><td>1315               </td><td>NA                 </td><td>NA                 </td><td>1520               </td><td>NA                 </td><td>MQ                 </td><td>4564               </td><td>N737MQ             </td><td>LGA                </td><td>DTW                </td><td>NA                 </td><td> 502               </td><td>13                 </td><td>15                 </td><td>2013-01-31 13:00:00</td></tr>\n",
       "\t<tr><td>2013               </td><td>1                  </td><td>31                 </td><td>NA                 </td><td> 920               </td><td>NA                 </td><td>NA                 </td><td>1125               </td><td>NA                 </td><td>MQ                 </td><td>4582               </td><td>N506MQ             </td><td>LGA                </td><td>CLT                </td><td>NA                 </td><td> 544               </td><td> 9                 </td><td>20                 </td><td>2013-01-31 09:00:00</td></tr>\n",
       "\t<tr><td>2013               </td><td>1                  </td><td>31                 </td><td>NA                 </td><td>1325               </td><td>NA                 </td><td>NA                 </td><td>1505               </td><td>NA                 </td><td>MQ                 </td><td>4475               </td><td>N730MQ             </td><td>LGA                </td><td>RDU                </td><td>NA                 </td><td> 431               </td><td>13                 </td><td>25                 </td><td>2013-01-31 13:00:00</td></tr>\n",
       "\t<tr><td>2013               </td><td>1                  </td><td>31                 </td><td>NA                 </td><td>1200               </td><td>NA                 </td><td>NA                 </td><td>1430               </td><td>NA                 </td><td>MQ                 </td><td>4658               </td><td>N505MQ             </td><td>LGA                </td><td>ATL                </td><td>NA                 </td><td> 762               </td><td>12                 </td><td> 0                 </td><td>2013-01-31 12:00:00</td></tr>\n",
       "\t<tr><td>2013               </td><td>1                  </td><td>31                 </td><td>NA                 </td><td>1410               </td><td>NA                 </td><td>NA                 </td><td>1555               </td><td>NA                 </td><td>MQ                 </td><td>4491               </td><td>N734MQ             </td><td>LGA                </td><td>CLE                </td><td>NA                 </td><td> 419               </td><td>14                 </td><td>10                 </td><td>2013-01-31 14:00:00</td></tr>\n",
       "\t<tr><td>2013               </td><td>1                  </td><td>31                 </td><td>NA                 </td><td>1446               </td><td>NA                 </td><td>NA                 </td><td>1757               </td><td>NA                 </td><td>UA                 </td><td> 337               </td><td>NA                 </td><td>LGA                </td><td>IAH                </td><td>NA                 </td><td>1416               </td><td>14                 </td><td>46                 </td><td>2013-01-31 14:00:00</td></tr>\n",
       "\t<tr><td>2013               </td><td>1                  </td><td>31                 </td><td>NA                 </td><td> 625               </td><td>NA                 </td><td>NA                 </td><td> 934               </td><td>NA                 </td><td>UA                 </td><td>1497               </td><td>NA                 </td><td>LGA                </td><td>IAH                </td><td>NA                 </td><td>1416               </td><td> 6                 </td><td>25                 </td><td>2013-01-31 06:00:00</td></tr>\n",
       "</tbody>\n",
       "</table>\n"
      ],
      "text/latex": [
       "\\begin{tabular}{r|lllllllllllllllllll}\n",
       " year & month & day & dep\\_time & sched\\_dep\\_time & dep\\_delay & arr\\_time & sched\\_arr\\_time & arr\\_delay & carrier & flight & tailnum & origin & dest & air\\_time & distance & hour & minute & time\\_hour\\\\\n",
       "\\hline\n",
       "\t 2013                & 1                   & 2                   &  42                 & 2359                &  43                 & 518                 &  442                &  36                 & B6                  &  707                & N580JB              & JFK                 & SJU                 & 189                 & 1598                & 23                  & 59                  & 2013-01-02 23:00:00\\\\\n",
       "\t 2013                & 1                   & 2                   & 126                 & 2250                & 156                 & 233                 & 2359                & 154                 & B6                  &   22                & N636JB              & JFK                 & SYR                 &  49                 &  209                & 22                  & 50                  & 2013-01-02 22:00:00\\\\\n",
       "\t 2013                & 1                   & 2                   & 458                 &  500                &  -2                 & 703                 &  650                &  13                 & US                  & 1030                & N162UW              & EWR                 & CLT                 & 108                 &  529                &  5                  &  0                  & 2013-01-02 05:00:00\\\\\n",
       "\t 2013                & 1                   & 2                   & 512                 &  515                &  -3                 & 809                 &  819                & -10                 & UA                  & 1453                & N76515              & EWR                 & IAH                 & 214                 & 1400                &  5                  & 15                  & 2013-01-02 05:00:00\\\\\n",
       "\t 2013                & 1                   & 2                   & 535                 &  540                &  -5                 & 831                 &  850                & -19                 & AA                  & 1141                & N621AA              & JFK                 & MIA                 & 156                 & 1089                &  5                  & 40                  & 2013-01-02 05:00:00\\\\\n",
       "\t 2013                & 1                   & 2                   & 536                 &  529                &   7                 & 840                 &  828                &  12                 & UA                  &  407                & N493UA              & LGA                 & IAH                 & 231                 & 1416                &  5                  & 29                  & 2013-01-02 05:00:00\\\\\n",
       "\t 2013                & 1                   & 2                   & 539                 &  545                &  -6                 & 959                 & 1022                & -23                 & B6                  &  725                & N624JB              & JFK                 & BQN                 & 184                 & 1576                &  5                  & 45                  & 2013-01-02 05:00:00\\\\\n",
       "\t 2013                & 1                   & 2                   & 554                 &  600                &  -6                 & 845                 &  901                & -16                 & B6                  &  125                & N637JB              & JFK                 & FLL                 & 156                 & 1069                &  6                  &  0                  & 2013-01-02 06:00:00\\\\\n",
       "\t 2013                & 1                   & 2                   & 554                 &  600                &  -6                 & 841                 &  851                & -10                 & B6                  &   49                & N658JB              & JFK                 & PBI                 & 146                 & 1028                &  6                  &  0                  & 2013-01-02 06:00:00\\\\\n",
       "\t 2013                & 1                   & 2                   & 554                 &  600                &  -6                 & 909                 &  858                &  11                 & B6                  &  371                & N805JB              & LGA                 & FLL                 & 159                 & 1076                &  6                  &  0                  & 2013-01-02 06:00:00\\\\\n",
       "\t 2013                & 1                   & 2                   & 555                 &  600                &  -5                 & 931                 &  910                &  21                 & AA                  &  707                & N3BEAA              & LGA                 & DFW                 & 255                 & 1389                &  6                  &  0                  & 2013-01-02 06:00:00\\\\\n",
       "\t 2013                & 1                   & 2                   & 555                 &  600                &  -5                 & 856                 &  856                &   0                 & B6                  &   71                & N806JB              & JFK                 & TPA                 & 158                 & 1005                &  6                  &  0                  & 2013-01-02 06:00:00\\\\\n",
       "\t 2013                & 1                   & 2                   & 555                 &  600                &  -5                 & 750                 &  757                &  -7                 & DL                  &  731                & N366NB              & LGA                 & DTW                 &  87                 &  502                &  6                  &  0                  & 2013-01-02 06:00:00\\\\\n",
       "\t 2013                & 1                   & 2                   & 556                 &  600                &  -4                 & 724                 &  723                &   1                 & EV                  & 5708                & N836AS              & LGA                 & IAD                 &  54                 &  229                &  6                  &  0                  & 2013-01-02 06:00:00\\\\\n",
       "\t 2013                & 1                   & 2                   & 556                 &  600                &  -4                 & 837                 &  837                &   0                 & DL                  &  461                & N618DL              & LGA                 & ATL                 & 128                 &  762                &  6                  &  0                  & 2013-01-02 06:00:00\\\\\n",
       "\t 2013                & 1                   & 2                   & 557                 &  605                &  -8                 & 832                 &  823                &   9                 & DL                  &  544                & N325US              & LGA                 & CVG                 & 117                 &  585                &  6                  &  5                  & 2013-01-02 06:00:00\\\\\n",
       "\t 2013                & 1                   & 2                   & 558                 &  600                &  -2                 & 838                 &  815                &  23                 & FL                  &  345                & N896AT              & LGA                 & ATL                 & 129                 &  762                &  6                  &  0                  & 2013-01-02 06:00:00\\\\\n",
       "\t 2013                & 1                   & 2                   & 558                 &  600                &  -2                 & 916                 &  931                & -15                 & UA                  &  303                & N505UA              & JFK                 & SFO                 & 341                 & 2586                &  6                  &  0                  & 2013-01-02 06:00:00\\\\\n",
       "\t 2013                & 1                   & 2                   & 559                 &  601                &  -2                 & 809                 &  901                & -52                 & UA                  &  402                & N484UA              & EWR                 & LAS                 & 289                 & 2227                &  6                  &  1                  & 2013-01-02 06:00:00\\\\\n",
       "\t 2013                & 1                   & 2                   & 559                 &  600                &  -1                 & 906                 &  907                &  -1                 & UA                  & 1077                & N12225              & EWR                 & MIA                 & 157                 & 1085                &  6                  &  0                  & 2013-01-02 06:00:00\\\\\n",
       "\t 2013                & 1                   & 2                   & 600                 &  600                &   0                 & 814                 &  749                &  25                 & EV                  & 4334                & N13914              & EWR                 & CMH                 &  98                 &  463                &  6                  &  0                  & 2013-01-02 06:00:00\\\\\n",
       "\t 2013                & 1                   & 2                   & 600                 &  605                &  -5                 & 751                 &  818                & -27                 & EV                  & 5147                & N760EV              & EWR                 & MSP                 & 155                 & 1008                &  6                  &  5                  & 2013-01-02 06:00:00\\\\\n",
       "\t 2013                & 1                   & 2                   & 600                 &  600                &   0                 & 819                 &  815                &   4                 & 9E                  & 4171                & N8946A              & EWR                 & CVG                 & 120                 &  569                &  6                  &  0                  & 2013-01-02 06:00:00\\\\\n",
       "\t 2013                & 1                   & 2                   & 600                 &  600                &   0                 & 846                 &  846                &   0                 & B6                  &   79                & N529JB              & JFK                 & MCO                 & 140                 &  944                &  6                  &  0                  & 2013-01-02 06:00:00\\\\\n",
       "\t 2013                & 1                   & 2                   & 600                 &  600                &   0                 & 737                 &  725                &  12                 & WN                  & 3136                & N8311Q              & LGA                 & MDW                 & 117                 &  725                &  6                  &  0                  & 2013-01-02 06:00:00\\\\\n",
       "\t 2013                & 1                   & 2                   & 600                 &  605                &  -5                 & 748                 &  805                & -17                 & MQ                  & 4401                & N713MQ              & LGA                 & DTW                 &  82                 &  502                &  6                  &  5                  & 2013-01-02 06:00:00\\\\\n",
       "\t 2013                & 1                   & 2                   & 600                 &  600                &   0                 & 747                 &  735                &  12                 & UA                  & 1280                & N62631              & LGA                 & ORD                 & 125                 &  733                &  6                  &  0                  & 2013-01-02 06:00:00\\\\\n",
       "\t 2013                & 1                   & 2                   & 602                 &  600                &   2                 & 646                 &  659                & -13                 & US                  & 1833                & N951UW              & LGA                 & PHL                 &  28                 &   96                &  6                  &  0                  & 2013-01-02 06:00:00\\\\\n",
       "\t 2013                & 1                   & 2                   & 603                 &  600                &   3                 & 733                 &  745                & -12                 & AA                  &  301                & N3CRAA              & LGA                 & ORD                 & 118                 &  733                &  6                  &  0                  & 2013-01-02 06:00:00\\\\\n",
       "\t 2013                & 1                   & 2                   & 603                 &  559                &   4                 & 912                 &  916                &  -4                 & UA                  & 1676                & N17229              & EWR                 & LAX                 & 341                 & 2454                &  5                  & 59                  & 2013-01-02 05:00:00\\\\\n",
       "\t ... & ... & ... & ... & ... & ... & ... & ... & ... & ... & ... & ... & ... & ... & ... & ... & ... & ... & ...\\\\\n",
       "\t 2013                & 1                   & 31                  & NA                  & 1245                & NA                  & NA                  & 1600                & NA                  & AA                  & 2253                & N3DTAA              & LGA                 & MIA                 & NA                  & 1096                & 12                  & 45                  & 2013-01-31 12:00:00\\\\\n",
       "\t 2013                & 1                   & 31                  & NA                  & 1240                & NA                  & NA                  & 1540                & NA                  & AA                  & 1853                & N4YDAA              & EWR                 & DFW                 & NA                  & 1372                & 12                  & 40                  & 2013-01-31 12:00:00\\\\\n",
       "\t 2013                & 1                   & 31                  & NA                  & 1200                & NA                  & NA                  & 1304                & NA                  & B6                  & 1174                & N203JB              & EWR                 & BOS                 & NA                  &  200                & 12                  &  0                  & 2013-01-31 12:00:00\\\\\n",
       "\t 2013                & 1                   & 31                  & NA                  & 1415                & NA                  & NA                  & 1724                & NA                  & B6                  &  377                & N503JB              & LGA                 & FLL                 & NA                  & 1076                & 14                  & 15                  & 2013-01-31 14:00:00\\\\\n",
       "\t 2013                & 1                   & 31                  & NA                  &  825                & NA                  & NA                  & 1026                & NA                  & US                  &  487                & NA                  & JFK                 & CLT                 & NA                  &  541                &  8                  & 25                  & 2013-01-31 08:00:00\\\\\n",
       "\t 2013                & 1                   & 31                  & NA                  & 1130                & NA                  & NA                  & 1334                & NA                  & US                  & 1625                & NA                  & LGA                 & CLT                 & NA                  &  544                & 11                  & 30                  & 2013-01-31 11:00:00\\\\\n",
       "\t 2013                & 1                   & 31                  & NA                  & 1500                & NA                  & NA                  & 1653                & NA                  & US                  &  720                & NA                  & EWR                 & CLT                 & NA                  &  529                & 15                  &  0                  & 2013-01-31 15:00:00\\\\\n",
       "\t 2013                & 1                   & 31                  & NA                  &  600                & NA                  & NA                  &  703                & NA                  & US                  & 2114                & NA                  & LGA                 & BOS                 & NA                  &  184                &  6                  &  0                  & 2013-01-31 06:00:00\\\\\n",
       "\t 2013                & 1                   & 31                  & NA                  &  700                & NA                  & NA                  &  807                & NA                  & US                  & 2116                & NA                  & LGA                 & BOS                 & NA                  &  184                &  7                  &  0                  & 2013-01-31 07:00:00\\\\\n",
       "\t 2013                & 1                   & 31                  & NA                  &  800                & NA                  & NA                  &  908                & NA                  & US                  & 2118                & NA                  & LGA                 & BOS                 & NA                  &  184                &  8                  &  0                  & 2013-01-31 08:00:00\\\\\n",
       "\t 2013                & 1                   & 31                  & NA                  & 1200                & NA                  & NA                  & 1305                & NA                  & US                  & 2126                & NA                  & LGA                 & BOS                 & NA                  &  184                & 12                  &  0                  & 2013-01-31 12:00:00\\\\\n",
       "\t 2013                & 1                   & 31                  & NA                  & 1300                & NA                  & NA                  & 1406                & NA                  & US                  & 2128                & NA                  & LGA                 & BOS                 & NA                  &  184                & 13                  &  0                  & 2013-01-31 13:00:00\\\\\n",
       "\t 2013                & 1                   & 31                  & NA                  & 1500                & NA                  & NA                  & 1608                & NA                  & US                  & 2132                & NA                  & LGA                 & BOS                 & NA                  &  184                & 15                  &  0                  & 2013-01-31 15:00:00\\\\\n",
       "\t 2013                & 1                   & 31                  & NA                  & 2100                & NA                  & NA                  & 2207                & NA                  & US                  & 2144                & NA                  & LGA                 & BOS                 & NA                  &  184                & 21                  &  0                  & 2013-01-31 21:00:00\\\\\n",
       "\t 2013                & 1                   & 31                  & NA                  &  700                & NA                  & NA                  &  807                & NA                  & US                  & 2163                & NA                  & LGA                 & DCA                 & NA                  &  214                &  7                  &  0                  & 2013-01-31 07:00:00\\\\\n",
       "\t 2013                & 1                   & 31                  & NA                  &  800                & NA                  & NA                  &  917                & NA                  & US                  & 2165                & NA                  & LGA                 & DCA                 & NA                  &  214                &  8                  &  0                  & 2013-01-31 08:00:00\\\\\n",
       "\t 2013                & 1                   & 31                  & NA                  &  900                & NA                  & NA                  & 1022                & NA                  & US                  & 2167                & NA                  & LGA                 & DCA                 & NA                  &  214                &  9                  &  0                  & 2013-01-31 09:00:00\\\\\n",
       "\t 2013                & 1                   & 31                  & NA                  & 1510                & NA                  & NA                  & 1650                & NA                  & WN                  &  323                & N433LV              & LGA                 & MKE                 & NA                  &  738                & 15                  & 10                  & 2013-01-31 15:00:00\\\\\n",
       "\t 2013                & 1                   & 31                  & NA                  & 1940                & NA                  & NA                  & 2100                & NA                  & WN                  &  633                & N295WN              & EWR                 & MDW                 & NA                  &  711                & 19                  & 40                  & 2013-01-31 19:00:00\\\\\n",
       "\t 2013                & 1                   & 31                  & NA                  & 1435                & NA                  & NA                  & 1559                & NA                  & YV                  & 3750                & N507MJ              & LGA                 & IAD                 & NA                  &  229                & 14                  & 35                  & 2013-01-31 14:00:00\\\\\n",
       "\t 2013                & 1                   & 31                  & NA                  & 1635                & NA                  & NA                  & 1810                & NA                  & MQ                  & 3695                & N544MQ              & EWR                 & ORD                 & NA                  &  719                & 16                  & 35                  & 2013-01-31 16:00:00\\\\\n",
       "\t 2013                & 1                   & 31                  & NA                  &  825                & NA                  & NA                  &  945                & NA                  & MQ                  & 4418                & N855MQ              & JFK                 & DCA                 & NA                  &  213                &  8                  & 25                  & 2013-01-31 08:00:00\\\\\n",
       "\t 2013                & 1                   & 31                  & NA                  & 1300                & NA                  & NA                  & 1450                & NA                  & MQ                  & 4426                & N736MQ              & LGA                 & CMH                 & NA                  &  479                & 13                  &  0                  & 2013-01-31 13:00:00\\\\\n",
       "\t 2013                & 1                   & 31                  & NA                  & 1315                & NA                  & NA                  & 1520                & NA                  & MQ                  & 4564                & N737MQ              & LGA                 & DTW                 & NA                  &  502                & 13                  & 15                  & 2013-01-31 13:00:00\\\\\n",
       "\t 2013                & 1                   & 31                  & NA                  &  920                & NA                  & NA                  & 1125                & NA                  & MQ                  & 4582                & N506MQ              & LGA                 & CLT                 & NA                  &  544                &  9                  & 20                  & 2013-01-31 09:00:00\\\\\n",
       "\t 2013                & 1                   & 31                  & NA                  & 1325                & NA                  & NA                  & 1505                & NA                  & MQ                  & 4475                & N730MQ              & LGA                 & RDU                 & NA                  &  431                & 13                  & 25                  & 2013-01-31 13:00:00\\\\\n",
       "\t 2013                & 1                   & 31                  & NA                  & 1200                & NA                  & NA                  & 1430                & NA                  & MQ                  & 4658                & N505MQ              & LGA                 & ATL                 & NA                  &  762                & 12                  &  0                  & 2013-01-31 12:00:00\\\\\n",
       "\t 2013                & 1                   & 31                  & NA                  & 1410                & NA                  & NA                  & 1555                & NA                  & MQ                  & 4491                & N734MQ              & LGA                 & CLE                 & NA                  &  419                & 14                  & 10                  & 2013-01-31 14:00:00\\\\\n",
       "\t 2013                & 1                   & 31                  & NA                  & 1446                & NA                  & NA                  & 1757                & NA                  & UA                  &  337                & NA                  & LGA                 & IAH                 & NA                  & 1416                & 14                  & 46                  & 2013-01-31 14:00:00\\\\\n",
       "\t 2013                & 1                   & 31                  & NA                  &  625                & NA                  & NA                  &  934                & NA                  & UA                  & 1497                & NA                  & LGA                 & IAH                 & NA                  & 1416                &  6                  & 25                  & 2013-01-31 06:00:00\\\\\n",
       "\\end{tabular}\n"
      ],
      "text/markdown": [
       "\n",
       "| year | month | day | dep_time | sched_dep_time | dep_delay | arr_time | sched_arr_time | arr_delay | carrier | flight | tailnum | origin | dest | air_time | distance | hour | minute | time_hour |\n",
       "|---|---|---|---|---|---|---|---|---|---|---|---|---|---|---|---|---|---|---|\n",
       "| 2013                | 1                   | 2                   |  42                 | 2359                |  43                 | 518                 |  442                |  36                 | B6                  |  707                | N580JB              | JFK                 | SJU                 | 189                 | 1598                | 23                  | 59                  | 2013-01-02 23:00:00 |\n",
       "| 2013                | 1                   | 2                   | 126                 | 2250                | 156                 | 233                 | 2359                | 154                 | B6                  |   22                | N636JB              | JFK                 | SYR                 |  49                 |  209                | 22                  | 50                  | 2013-01-02 22:00:00 |\n",
       "| 2013                | 1                   | 2                   | 458                 |  500                |  -2                 | 703                 |  650                |  13                 | US                  | 1030                | N162UW              | EWR                 | CLT                 | 108                 |  529                |  5                  |  0                  | 2013-01-02 05:00:00 |\n",
       "| 2013                | 1                   | 2                   | 512                 |  515                |  -3                 | 809                 |  819                | -10                 | UA                  | 1453                | N76515              | EWR                 | IAH                 | 214                 | 1400                |  5                  | 15                  | 2013-01-02 05:00:00 |\n",
       "| 2013                | 1                   | 2                   | 535                 |  540                |  -5                 | 831                 |  850                | -19                 | AA                  | 1141                | N621AA              | JFK                 | MIA                 | 156                 | 1089                |  5                  | 40                  | 2013-01-02 05:00:00 |\n",
       "| 2013                | 1                   | 2                   | 536                 |  529                |   7                 | 840                 |  828                |  12                 | UA                  |  407                | N493UA              | LGA                 | IAH                 | 231                 | 1416                |  5                  | 29                  | 2013-01-02 05:00:00 |\n",
       "| 2013                | 1                   | 2                   | 539                 |  545                |  -6                 | 959                 | 1022                | -23                 | B6                  |  725                | N624JB              | JFK                 | BQN                 | 184                 | 1576                |  5                  | 45                  | 2013-01-02 05:00:00 |\n",
       "| 2013                | 1                   | 2                   | 554                 |  600                |  -6                 | 845                 |  901                | -16                 | B6                  |  125                | N637JB              | JFK                 | FLL                 | 156                 | 1069                |  6                  |  0                  | 2013-01-02 06:00:00 |\n",
       "| 2013                | 1                   | 2                   | 554                 |  600                |  -6                 | 841                 |  851                | -10                 | B6                  |   49                | N658JB              | JFK                 | PBI                 | 146                 | 1028                |  6                  |  0                  | 2013-01-02 06:00:00 |\n",
       "| 2013                | 1                   | 2                   | 554                 |  600                |  -6                 | 909                 |  858                |  11                 | B6                  |  371                | N805JB              | LGA                 | FLL                 | 159                 | 1076                |  6                  |  0                  | 2013-01-02 06:00:00 |\n",
       "| 2013                | 1                   | 2                   | 555                 |  600                |  -5                 | 931                 |  910                |  21                 | AA                  |  707                | N3BEAA              | LGA                 | DFW                 | 255                 | 1389                |  6                  |  0                  | 2013-01-02 06:00:00 |\n",
       "| 2013                | 1                   | 2                   | 555                 |  600                |  -5                 | 856                 |  856                |   0                 | B6                  |   71                | N806JB              | JFK                 | TPA                 | 158                 | 1005                |  6                  |  0                  | 2013-01-02 06:00:00 |\n",
       "| 2013                | 1                   | 2                   | 555                 |  600                |  -5                 | 750                 |  757                |  -7                 | DL                  |  731                | N366NB              | LGA                 | DTW                 |  87                 |  502                |  6                  |  0                  | 2013-01-02 06:00:00 |\n",
       "| 2013                | 1                   | 2                   | 556                 |  600                |  -4                 | 724                 |  723                |   1                 | EV                  | 5708                | N836AS              | LGA                 | IAD                 |  54                 |  229                |  6                  |  0                  | 2013-01-02 06:00:00 |\n",
       "| 2013                | 1                   | 2                   | 556                 |  600                |  -4                 | 837                 |  837                |   0                 | DL                  |  461                | N618DL              | LGA                 | ATL                 | 128                 |  762                |  6                  |  0                  | 2013-01-02 06:00:00 |\n",
       "| 2013                | 1                   | 2                   | 557                 |  605                |  -8                 | 832                 |  823                |   9                 | DL                  |  544                | N325US              | LGA                 | CVG                 | 117                 |  585                |  6                  |  5                  | 2013-01-02 06:00:00 |\n",
       "| 2013                | 1                   | 2                   | 558                 |  600                |  -2                 | 838                 |  815                |  23                 | FL                  |  345                | N896AT              | LGA                 | ATL                 | 129                 |  762                |  6                  |  0                  | 2013-01-02 06:00:00 |\n",
       "| 2013                | 1                   | 2                   | 558                 |  600                |  -2                 | 916                 |  931                | -15                 | UA                  |  303                | N505UA              | JFK                 | SFO                 | 341                 | 2586                |  6                  |  0                  | 2013-01-02 06:00:00 |\n",
       "| 2013                | 1                   | 2                   | 559                 |  601                |  -2                 | 809                 |  901                | -52                 | UA                  |  402                | N484UA              | EWR                 | LAS                 | 289                 | 2227                |  6                  |  1                  | 2013-01-02 06:00:00 |\n",
       "| 2013                | 1                   | 2                   | 559                 |  600                |  -1                 | 906                 |  907                |  -1                 | UA                  | 1077                | N12225              | EWR                 | MIA                 | 157                 | 1085                |  6                  |  0                  | 2013-01-02 06:00:00 |\n",
       "| 2013                | 1                   | 2                   | 600                 |  600                |   0                 | 814                 |  749                |  25                 | EV                  | 4334                | N13914              | EWR                 | CMH                 |  98                 |  463                |  6                  |  0                  | 2013-01-02 06:00:00 |\n",
       "| 2013                | 1                   | 2                   | 600                 |  605                |  -5                 | 751                 |  818                | -27                 | EV                  | 5147                | N760EV              | EWR                 | MSP                 | 155                 | 1008                |  6                  |  5                  | 2013-01-02 06:00:00 |\n",
       "| 2013                | 1                   | 2                   | 600                 |  600                |   0                 | 819                 |  815                |   4                 | 9E                  | 4171                | N8946A              | EWR                 | CVG                 | 120                 |  569                |  6                  |  0                  | 2013-01-02 06:00:00 |\n",
       "| 2013                | 1                   | 2                   | 600                 |  600                |   0                 | 846                 |  846                |   0                 | B6                  |   79                | N529JB              | JFK                 | MCO                 | 140                 |  944                |  6                  |  0                  | 2013-01-02 06:00:00 |\n",
       "| 2013                | 1                   | 2                   | 600                 |  600                |   0                 | 737                 |  725                |  12                 | WN                  | 3136                | N8311Q              | LGA                 | MDW                 | 117                 |  725                |  6                  |  0                  | 2013-01-02 06:00:00 |\n",
       "| 2013                | 1                   | 2                   | 600                 |  605                |  -5                 | 748                 |  805                | -17                 | MQ                  | 4401                | N713MQ              | LGA                 | DTW                 |  82                 |  502                |  6                  |  5                  | 2013-01-02 06:00:00 |\n",
       "| 2013                | 1                   | 2                   | 600                 |  600                |   0                 | 747                 |  735                |  12                 | UA                  | 1280                | N62631              | LGA                 | ORD                 | 125                 |  733                |  6                  |  0                  | 2013-01-02 06:00:00 |\n",
       "| 2013                | 1                   | 2                   | 602                 |  600                |   2                 | 646                 |  659                | -13                 | US                  | 1833                | N951UW              | LGA                 | PHL                 |  28                 |   96                |  6                  |  0                  | 2013-01-02 06:00:00 |\n",
       "| 2013                | 1                   | 2                   | 603                 |  600                |   3                 | 733                 |  745                | -12                 | AA                  |  301                | N3CRAA              | LGA                 | ORD                 | 118                 |  733                |  6                  |  0                  | 2013-01-02 06:00:00 |\n",
       "| 2013                | 1                   | 2                   | 603                 |  559                |   4                 | 912                 |  916                |  -4                 | UA                  | 1676                | N17229              | EWR                 | LAX                 | 341                 | 2454                |  5                  | 59                  | 2013-01-02 05:00:00 |\n",
       "| ... | ... | ... | ... | ... | ... | ... | ... | ... | ... | ... | ... | ... | ... | ... | ... | ... | ... | ... |\n",
       "| 2013                | 1                   | 31                  | NA                  | 1245                | NA                  | NA                  | 1600                | NA                  | AA                  | 2253                | N3DTAA              | LGA                 | MIA                 | NA                  | 1096                | 12                  | 45                  | 2013-01-31 12:00:00 |\n",
       "| 2013                | 1                   | 31                  | NA                  | 1240                | NA                  | NA                  | 1540                | NA                  | AA                  | 1853                | N4YDAA              | EWR                 | DFW                 | NA                  | 1372                | 12                  | 40                  | 2013-01-31 12:00:00 |\n",
       "| 2013                | 1                   | 31                  | NA                  | 1200                | NA                  | NA                  | 1304                | NA                  | B6                  | 1174                | N203JB              | EWR                 | BOS                 | NA                  |  200                | 12                  |  0                  | 2013-01-31 12:00:00 |\n",
       "| 2013                | 1                   | 31                  | NA                  | 1415                | NA                  | NA                  | 1724                | NA                  | B6                  |  377                | N503JB              | LGA                 | FLL                 | NA                  | 1076                | 14                  | 15                  | 2013-01-31 14:00:00 |\n",
       "| 2013                | 1                   | 31                  | NA                  |  825                | NA                  | NA                  | 1026                | NA                  | US                  |  487                | NA                  | JFK                 | CLT                 | NA                  |  541                |  8                  | 25                  | 2013-01-31 08:00:00 |\n",
       "| 2013                | 1                   | 31                  | NA                  | 1130                | NA                  | NA                  | 1334                | NA                  | US                  | 1625                | NA                  | LGA                 | CLT                 | NA                  |  544                | 11                  | 30                  | 2013-01-31 11:00:00 |\n",
       "| 2013                | 1                   | 31                  | NA                  | 1500                | NA                  | NA                  | 1653                | NA                  | US                  |  720                | NA                  | EWR                 | CLT                 | NA                  |  529                | 15                  |  0                  | 2013-01-31 15:00:00 |\n",
       "| 2013                | 1                   | 31                  | NA                  |  600                | NA                  | NA                  |  703                | NA                  | US                  | 2114                | NA                  | LGA                 | BOS                 | NA                  |  184                |  6                  |  0                  | 2013-01-31 06:00:00 |\n",
       "| 2013                | 1                   | 31                  | NA                  |  700                | NA                  | NA                  |  807                | NA                  | US                  | 2116                | NA                  | LGA                 | BOS                 | NA                  |  184                |  7                  |  0                  | 2013-01-31 07:00:00 |\n",
       "| 2013                | 1                   | 31                  | NA                  |  800                | NA                  | NA                  |  908                | NA                  | US                  | 2118                | NA                  | LGA                 | BOS                 | NA                  |  184                |  8                  |  0                  | 2013-01-31 08:00:00 |\n",
       "| 2013                | 1                   | 31                  | NA                  | 1200                | NA                  | NA                  | 1305                | NA                  | US                  | 2126                | NA                  | LGA                 | BOS                 | NA                  |  184                | 12                  |  0                  | 2013-01-31 12:00:00 |\n",
       "| 2013                | 1                   | 31                  | NA                  | 1300                | NA                  | NA                  | 1406                | NA                  | US                  | 2128                | NA                  | LGA                 | BOS                 | NA                  |  184                | 13                  |  0                  | 2013-01-31 13:00:00 |\n",
       "| 2013                | 1                   | 31                  | NA                  | 1500                | NA                  | NA                  | 1608                | NA                  | US                  | 2132                | NA                  | LGA                 | BOS                 | NA                  |  184                | 15                  |  0                  | 2013-01-31 15:00:00 |\n",
       "| 2013                | 1                   | 31                  | NA                  | 2100                | NA                  | NA                  | 2207                | NA                  | US                  | 2144                | NA                  | LGA                 | BOS                 | NA                  |  184                | 21                  |  0                  | 2013-01-31 21:00:00 |\n",
       "| 2013                | 1                   | 31                  | NA                  |  700                | NA                  | NA                  |  807                | NA                  | US                  | 2163                | NA                  | LGA                 | DCA                 | NA                  |  214                |  7                  |  0                  | 2013-01-31 07:00:00 |\n",
       "| 2013                | 1                   | 31                  | NA                  |  800                | NA                  | NA                  |  917                | NA                  | US                  | 2165                | NA                  | LGA                 | DCA                 | NA                  |  214                |  8                  |  0                  | 2013-01-31 08:00:00 |\n",
       "| 2013                | 1                   | 31                  | NA                  |  900                | NA                  | NA                  | 1022                | NA                  | US                  | 2167                | NA                  | LGA                 | DCA                 | NA                  |  214                |  9                  |  0                  | 2013-01-31 09:00:00 |\n",
       "| 2013                | 1                   | 31                  | NA                  | 1510                | NA                  | NA                  | 1650                | NA                  | WN                  |  323                | N433LV              | LGA                 | MKE                 | NA                  |  738                | 15                  | 10                  | 2013-01-31 15:00:00 |\n",
       "| 2013                | 1                   | 31                  | NA                  | 1940                | NA                  | NA                  | 2100                | NA                  | WN                  |  633                | N295WN              | EWR                 | MDW                 | NA                  |  711                | 19                  | 40                  | 2013-01-31 19:00:00 |\n",
       "| 2013                | 1                   | 31                  | NA                  | 1435                | NA                  | NA                  | 1559                | NA                  | YV                  | 3750                | N507MJ              | LGA                 | IAD                 | NA                  |  229                | 14                  | 35                  | 2013-01-31 14:00:00 |\n",
       "| 2013                | 1                   | 31                  | NA                  | 1635                | NA                  | NA                  | 1810                | NA                  | MQ                  | 3695                | N544MQ              | EWR                 | ORD                 | NA                  |  719                | 16                  | 35                  | 2013-01-31 16:00:00 |\n",
       "| 2013                | 1                   | 31                  | NA                  |  825                | NA                  | NA                  |  945                | NA                  | MQ                  | 4418                | N855MQ              | JFK                 | DCA                 | NA                  |  213                |  8                  | 25                  | 2013-01-31 08:00:00 |\n",
       "| 2013                | 1                   | 31                  | NA                  | 1300                | NA                  | NA                  | 1450                | NA                  | MQ                  | 4426                | N736MQ              | LGA                 | CMH                 | NA                  |  479                | 13                  |  0                  | 2013-01-31 13:00:00 |\n",
       "| 2013                | 1                   | 31                  | NA                  | 1315                | NA                  | NA                  | 1520                | NA                  | MQ                  | 4564                | N737MQ              | LGA                 | DTW                 | NA                  |  502                | 13                  | 15                  | 2013-01-31 13:00:00 |\n",
       "| 2013                | 1                   | 31                  | NA                  |  920                | NA                  | NA                  | 1125                | NA                  | MQ                  | 4582                | N506MQ              | LGA                 | CLT                 | NA                  |  544                |  9                  | 20                  | 2013-01-31 09:00:00 |\n",
       "| 2013                | 1                   | 31                  | NA                  | 1325                | NA                  | NA                  | 1505                | NA                  | MQ                  | 4475                | N730MQ              | LGA                 | RDU                 | NA                  |  431                | 13                  | 25                  | 2013-01-31 13:00:00 |\n",
       "| 2013                | 1                   | 31                  | NA                  | 1200                | NA                  | NA                  | 1430                | NA                  | MQ                  | 4658                | N505MQ              | LGA                 | ATL                 | NA                  |  762                | 12                  |  0                  | 2013-01-31 12:00:00 |\n",
       "| 2013                | 1                   | 31                  | NA                  | 1410                | NA                  | NA                  | 1555                | NA                  | MQ                  | 4491                | N734MQ              | LGA                 | CLE                 | NA                  |  419                | 14                  | 10                  | 2013-01-31 14:00:00 |\n",
       "| 2013                | 1                   | 31                  | NA                  | 1446                | NA                  | NA                  | 1757                | NA                  | UA                  |  337                | NA                  | LGA                 | IAH                 | NA                  | 1416                | 14                  | 46                  | 2013-01-31 14:00:00 |\n",
       "| 2013                | 1                   | 31                  | NA                  |  625                | NA                  | NA                  |  934                | NA                  | UA                  | 1497                | NA                  | LGA                 | IAH                 | NA                  | 1416                |  6                  | 25                  | 2013-01-31 06:00:00 |\n",
       "\n"
      ],
      "text/plain": [
       "      year month day dep_time sched_dep_time dep_delay arr_time sched_arr_time\n",
       "1     2013 1     2    42      2359            43       518       442          \n",
       "2     2013 1     2   126      2250           156       233      2359          \n",
       "3     2013 1     2   458       500            -2       703       650          \n",
       "4     2013 1     2   512       515            -3       809       819          \n",
       "5     2013 1     2   535       540            -5       831       850          \n",
       "6     2013 1     2   536       529             7       840       828          \n",
       "7     2013 1     2   539       545            -6       959      1022          \n",
       "8     2013 1     2   554       600            -6       845       901          \n",
       "9     2013 1     2   554       600            -6       841       851          \n",
       "10    2013 1     2   554       600            -6       909       858          \n",
       "11    2013 1     2   555       600            -5       931       910          \n",
       "12    2013 1     2   555       600            -5       856       856          \n",
       "13    2013 1     2   555       600            -5       750       757          \n",
       "14    2013 1     2   556       600            -4       724       723          \n",
       "15    2013 1     2   556       600            -4       837       837          \n",
       "16    2013 1     2   557       605            -8       832       823          \n",
       "17    2013 1     2   558       600            -2       838       815          \n",
       "18    2013 1     2   558       600            -2       916       931          \n",
       "19    2013 1     2   559       601            -2       809       901          \n",
       "20    2013 1     2   559       600            -1       906       907          \n",
       "21    2013 1     2   600       600             0       814       749          \n",
       "22    2013 1     2   600       605            -5       751       818          \n",
       "23    2013 1     2   600       600             0       819       815          \n",
       "24    2013 1     2   600       600             0       846       846          \n",
       "25    2013 1     2   600       600             0       737       725          \n",
       "26    2013 1     2   600       605            -5       748       805          \n",
       "27    2013 1     2   600       600             0       747       735          \n",
       "28    2013 1     2   602       600             2       646       659          \n",
       "29    2013 1     2   603       600             3       733       745          \n",
       "30    2013 1     2   603       559             4       912       916          \n",
       "...   ...  ...   ... ...      ...            ...       ...      ...           \n",
       "26133 2013 1     31  NA       1245           NA        NA       1600          \n",
       "26134 2013 1     31  NA       1240           NA        NA       1540          \n",
       "26135 2013 1     31  NA       1200           NA        NA       1304          \n",
       "26136 2013 1     31  NA       1415           NA        NA       1724          \n",
       "26137 2013 1     31  NA        825           NA        NA       1026          \n",
       "26138 2013 1     31  NA       1130           NA        NA       1334          \n",
       "26139 2013 1     31  NA       1500           NA        NA       1653          \n",
       "26140 2013 1     31  NA        600           NA        NA        703          \n",
       "26141 2013 1     31  NA        700           NA        NA        807          \n",
       "26142 2013 1     31  NA        800           NA        NA        908          \n",
       "26143 2013 1     31  NA       1200           NA        NA       1305          \n",
       "26144 2013 1     31  NA       1300           NA        NA       1406          \n",
       "26145 2013 1     31  NA       1500           NA        NA       1608          \n",
       "26146 2013 1     31  NA       2100           NA        NA       2207          \n",
       "26147 2013 1     31  NA        700           NA        NA        807          \n",
       "26148 2013 1     31  NA        800           NA        NA        917          \n",
       "26149 2013 1     31  NA        900           NA        NA       1022          \n",
       "26150 2013 1     31  NA       1510           NA        NA       1650          \n",
       "26151 2013 1     31  NA       1940           NA        NA       2100          \n",
       "26152 2013 1     31  NA       1435           NA        NA       1559          \n",
       "26153 2013 1     31  NA       1635           NA        NA       1810          \n",
       "26154 2013 1     31  NA        825           NA        NA        945          \n",
       "26155 2013 1     31  NA       1300           NA        NA       1450          \n",
       "26156 2013 1     31  NA       1315           NA        NA       1520          \n",
       "26157 2013 1     31  NA        920           NA        NA       1125          \n",
       "26158 2013 1     31  NA       1325           NA        NA       1505          \n",
       "26159 2013 1     31  NA       1200           NA        NA       1430          \n",
       "26160 2013 1     31  NA       1410           NA        NA       1555          \n",
       "26161 2013 1     31  NA       1446           NA        NA       1757          \n",
       "26162 2013 1     31  NA        625           NA        NA        934          \n",
       "      arr_delay carrier flight tailnum origin dest air_time distance hour\n",
       "1      36       B6       707   N580JB  JFK    SJU  189      1598     23  \n",
       "2     154       B6        22   N636JB  JFK    SYR   49       209     22  \n",
       "3      13       US      1030   N162UW  EWR    CLT  108       529      5  \n",
       "4     -10       UA      1453   N76515  EWR    IAH  214      1400      5  \n",
       "5     -19       AA      1141   N621AA  JFK    MIA  156      1089      5  \n",
       "6      12       UA       407   N493UA  LGA    IAH  231      1416      5  \n",
       "7     -23       B6       725   N624JB  JFK    BQN  184      1576      5  \n",
       "8     -16       B6       125   N637JB  JFK    FLL  156      1069      6  \n",
       "9     -10       B6        49   N658JB  JFK    PBI  146      1028      6  \n",
       "10     11       B6       371   N805JB  LGA    FLL  159      1076      6  \n",
       "11     21       AA       707   N3BEAA  LGA    DFW  255      1389      6  \n",
       "12      0       B6        71   N806JB  JFK    TPA  158      1005      6  \n",
       "13     -7       DL       731   N366NB  LGA    DTW   87       502      6  \n",
       "14      1       EV      5708   N836AS  LGA    IAD   54       229      6  \n",
       "15      0       DL       461   N618DL  LGA    ATL  128       762      6  \n",
       "16      9       DL       544   N325US  LGA    CVG  117       585      6  \n",
       "17     23       FL       345   N896AT  LGA    ATL  129       762      6  \n",
       "18    -15       UA       303   N505UA  JFK    SFO  341      2586      6  \n",
       "19    -52       UA       402   N484UA  EWR    LAS  289      2227      6  \n",
       "20     -1       UA      1077   N12225  EWR    MIA  157      1085      6  \n",
       "21     25       EV      4334   N13914  EWR    CMH   98       463      6  \n",
       "22    -27       EV      5147   N760EV  EWR    MSP  155      1008      6  \n",
       "23      4       9E      4171   N8946A  EWR    CVG  120       569      6  \n",
       "24      0       B6        79   N529JB  JFK    MCO  140       944      6  \n",
       "25     12       WN      3136   N8311Q  LGA    MDW  117       725      6  \n",
       "26    -17       MQ      4401   N713MQ  LGA    DTW   82       502      6  \n",
       "27     12       UA      1280   N62631  LGA    ORD  125       733      6  \n",
       "28    -13       US      1833   N951UW  LGA    PHL   28        96      6  \n",
       "29    -12       AA       301   N3CRAA  LGA    ORD  118       733      6  \n",
       "30     -4       UA      1676   N17229  EWR    LAX  341      2454      5  \n",
       "...   ...       ...     ...    ...     ...    ...  ...      ...      ... \n",
       "26133 NA        AA      2253   N3DTAA  LGA    MIA  NA       1096     12  \n",
       "26134 NA        AA      1853   N4YDAA  EWR    DFW  NA       1372     12  \n",
       "26135 NA        B6      1174   N203JB  EWR    BOS  NA        200     12  \n",
       "26136 NA        B6       377   N503JB  LGA    FLL  NA       1076     14  \n",
       "26137 NA        US       487   NA      JFK    CLT  NA        541      8  \n",
       "26138 NA        US      1625   NA      LGA    CLT  NA        544     11  \n",
       "26139 NA        US       720   NA      EWR    CLT  NA        529     15  \n",
       "26140 NA        US      2114   NA      LGA    BOS  NA        184      6  \n",
       "26141 NA        US      2116   NA      LGA    BOS  NA        184      7  \n",
       "26142 NA        US      2118   NA      LGA    BOS  NA        184      8  \n",
       "26143 NA        US      2126   NA      LGA    BOS  NA        184     12  \n",
       "26144 NA        US      2128   NA      LGA    BOS  NA        184     13  \n",
       "26145 NA        US      2132   NA      LGA    BOS  NA        184     15  \n",
       "26146 NA        US      2144   NA      LGA    BOS  NA        184     21  \n",
       "26147 NA        US      2163   NA      LGA    DCA  NA        214      7  \n",
       "26148 NA        US      2165   NA      LGA    DCA  NA        214      8  \n",
       "26149 NA        US      2167   NA      LGA    DCA  NA        214      9  \n",
       "26150 NA        WN       323   N433LV  LGA    MKE  NA        738     15  \n",
       "26151 NA        WN       633   N295WN  EWR    MDW  NA        711     19  \n",
       "26152 NA        YV      3750   N507MJ  LGA    IAD  NA        229     14  \n",
       "26153 NA        MQ      3695   N544MQ  EWR    ORD  NA        719     16  \n",
       "26154 NA        MQ      4418   N855MQ  JFK    DCA  NA        213      8  \n",
       "26155 NA        MQ      4426   N736MQ  LGA    CMH  NA        479     13  \n",
       "26156 NA        MQ      4564   N737MQ  LGA    DTW  NA        502     13  \n",
       "26157 NA        MQ      4582   N506MQ  LGA    CLT  NA        544      9  \n",
       "26158 NA        MQ      4475   N730MQ  LGA    RDU  NA        431     13  \n",
       "26159 NA        MQ      4658   N505MQ  LGA    ATL  NA        762     12  \n",
       "26160 NA        MQ      4491   N734MQ  LGA    CLE  NA        419     14  \n",
       "26161 NA        UA       337   NA      LGA    IAH  NA       1416     14  \n",
       "26162 NA        UA      1497   NA      LGA    IAH  NA       1416      6  \n",
       "      minute time_hour          \n",
       "1     59     2013-01-02 23:00:00\n",
       "2     50     2013-01-02 22:00:00\n",
       "3      0     2013-01-02 05:00:00\n",
       "4     15     2013-01-02 05:00:00\n",
       "5     40     2013-01-02 05:00:00\n",
       "6     29     2013-01-02 05:00:00\n",
       "7     45     2013-01-02 05:00:00\n",
       "8      0     2013-01-02 06:00:00\n",
       "9      0     2013-01-02 06:00:00\n",
       "10     0     2013-01-02 06:00:00\n",
       "11     0     2013-01-02 06:00:00\n",
       "12     0     2013-01-02 06:00:00\n",
       "13     0     2013-01-02 06:00:00\n",
       "14     0     2013-01-02 06:00:00\n",
       "15     0     2013-01-02 06:00:00\n",
       "16     5     2013-01-02 06:00:00\n",
       "17     0     2013-01-02 06:00:00\n",
       "18     0     2013-01-02 06:00:00\n",
       "19     1     2013-01-02 06:00:00\n",
       "20     0     2013-01-02 06:00:00\n",
       "21     0     2013-01-02 06:00:00\n",
       "22     5     2013-01-02 06:00:00\n",
       "23     0     2013-01-02 06:00:00\n",
       "24     0     2013-01-02 06:00:00\n",
       "25     0     2013-01-02 06:00:00\n",
       "26     5     2013-01-02 06:00:00\n",
       "27     0     2013-01-02 06:00:00\n",
       "28     0     2013-01-02 06:00:00\n",
       "29     0     2013-01-02 06:00:00\n",
       "30    59     2013-01-02 05:00:00\n",
       "...   ...    ...                \n",
       "26133 45     2013-01-31 12:00:00\n",
       "26134 40     2013-01-31 12:00:00\n",
       "26135  0     2013-01-31 12:00:00\n",
       "26136 15     2013-01-31 14:00:00\n",
       "26137 25     2013-01-31 08:00:00\n",
       "26138 30     2013-01-31 11:00:00\n",
       "26139  0     2013-01-31 15:00:00\n",
       "26140  0     2013-01-31 06:00:00\n",
       "26141  0     2013-01-31 07:00:00\n",
       "26142  0     2013-01-31 08:00:00\n",
       "26143  0     2013-01-31 12:00:00\n",
       "26144  0     2013-01-31 13:00:00\n",
       "26145  0     2013-01-31 15:00:00\n",
       "26146  0     2013-01-31 21:00:00\n",
       "26147  0     2013-01-31 07:00:00\n",
       "26148  0     2013-01-31 08:00:00\n",
       "26149  0     2013-01-31 09:00:00\n",
       "26150 10     2013-01-31 15:00:00\n",
       "26151 40     2013-01-31 19:00:00\n",
       "26152 35     2013-01-31 14:00:00\n",
       "26153 35     2013-01-31 16:00:00\n",
       "26154 25     2013-01-31 08:00:00\n",
       "26155  0     2013-01-31 13:00:00\n",
       "26156 15     2013-01-31 13:00:00\n",
       "26157 20     2013-01-31 09:00:00\n",
       "26158 25     2013-01-31 13:00:00\n",
       "26159  0     2013-01-31 12:00:00\n",
       "26160 10     2013-01-31 14:00:00\n",
       "26161 46     2013-01-31 14:00:00\n",
       "26162 25     2013-01-31 06:00:00"
      ]
     },
     "metadata": {},
     "output_type": "display_data"
    }
   ],
   "source": [
    "jan2"
   ]
  },
  {
   "cell_type": "markdown",
   "metadata": {
    "slideshow": {
     "slide_type": "slide"
    }
   },
   "source": [
    "## 1.B Ordenar filas con arrange()"
   ]
  },
  {
   "cell_type": "markdown",
   "metadata": {
    "slideshow": {
     "slide_type": "fragment"
    }
   },
   "source": [
    "Ordena las filas de acuerdo con las columnas seleccionadas"
   ]
  },
  {
   "cell_type": "markdown",
   "metadata": {
    "slideshow": {
     "slide_type": "fragment"
    }
   },
   "source": [
    "arrange(data, column1, column2)"
   ]
  },
  {
   "cell_type": "markdown",
   "metadata": {
    "slideshow": {
     "slide_type": "slide"
    }
   },
   "source": [
    "### Ejercicio 3: Ordenar los datos de acuerdo con el año, el mes y el dia."
   ]
  },
  {
   "cell_type": "code",
   "execution_count": 7,
   "metadata": {
    "slideshow": {
     "slide_type": "fragment"
    }
   },
   "outputs": [
    {
     "ename": "ERROR",
     "evalue": "Error in arrange(flights, year, month, day): could not find function \"arrange\"\n",
     "output_type": "error",
     "traceback": [
      "Error in arrange(flights, year, month, day): could not find function \"arrange\"\nTraceback:\n"
     ]
    }
   ],
   "source": [
    "jan3 = arrange(flights, year, month, day)"
   ]
  },
  {
   "cell_type": "code",
   "execution_count": 6,
   "metadata": {
    "slideshow": {
     "slide_type": "fragment"
    }
   },
   "outputs": [
    {
     "ename": "ERROR",
     "evalue": "Error in head(jan3): object 'jan3' not found\n",
     "output_type": "error",
     "traceback": [
      "Error in head(jan3): object 'jan3' not found\nTraceback:\n",
      "1. head(jan3)"
     ]
    }
   ],
   "source": [
    "head(jan3)"
   ]
  },
  {
   "cell_type": "markdown",
   "metadata": {
    "slideshow": {
     "slide_type": "slide"
    }
   },
   "source": [
    "## 1.C Seleccionar columnas con Select()"
   ]
  },
  {
   "cell_type": "markdown",
   "metadata": {
    "slideshow": {
     "slide_type": "fragment"
    }
   },
   "source": [
    "Selecciona las columnas deseadas"
   ]
  },
  {
   "cell_type": "markdown",
   "metadata": {
    "slideshow": {
     "slide_type": "fragment"
    }
   },
   "source": [
    "select(data, column1, column2)"
   ]
  },
  {
   "cell_type": "markdown",
   "metadata": {
    "slideshow": {
     "slide_type": "slide"
    }
   },
   "source": [
    "### Ejercicio 4: Extraer el año, mes y dia para crear una nueva base de datos."
   ]
  },
  {
   "cell_type": "code",
   "execution_count": 10,
   "metadata": {
    "slideshow": {
     "slide_type": "fragment"
    }
   },
   "outputs": [],
   "source": [
    "jan4 = select(flights, year, month, day)"
   ]
  },
  {
   "cell_type": "code",
   "execution_count": 34,
   "metadata": {
    "slideshow": {
     "slide_type": "fragment"
    }
   },
   "outputs": [
    {
     "data": {
      "text/html": [
       "<table>\n",
       "<thead><tr><th scope=col>year</th><th scope=col>month</th><th scope=col>day</th></tr></thead>\n",
       "<tbody>\n",
       "\t<tr><td>2013</td><td>1   </td><td>1   </td></tr>\n",
       "\t<tr><td>2013</td><td>1   </td><td>1   </td></tr>\n",
       "\t<tr><td>2013</td><td>1   </td><td>1   </td></tr>\n",
       "\t<tr><td>2013</td><td>1   </td><td>1   </td></tr>\n",
       "\t<tr><td>2013</td><td>1   </td><td>1   </td></tr>\n",
       "\t<tr><td>2013</td><td>1   </td><td>1   </td></tr>\n",
       "</tbody>\n",
       "</table>\n"
      ],
      "text/latex": [
       "\\begin{tabular}{r|lll}\n",
       " year & month & day\\\\\n",
       "\\hline\n",
       "\t 2013 & 1    & 1   \\\\\n",
       "\t 2013 & 1    & 1   \\\\\n",
       "\t 2013 & 1    & 1   \\\\\n",
       "\t 2013 & 1    & 1   \\\\\n",
       "\t 2013 & 1    & 1   \\\\\n",
       "\t 2013 & 1    & 1   \\\\\n",
       "\\end{tabular}\n"
      ],
      "text/markdown": [
       "\n",
       "| year | month | day |\n",
       "|---|---|---|\n",
       "| 2013 | 1    | 1    |\n",
       "| 2013 | 1    | 1    |\n",
       "| 2013 | 1    | 1    |\n",
       "| 2013 | 1    | 1    |\n",
       "| 2013 | 1    | 1    |\n",
       "| 2013 | 1    | 1    |\n",
       "\n"
      ],
      "text/plain": [
       "  year month day\n",
       "1 2013 1     1  \n",
       "2 2013 1     1  \n",
       "3 2013 1     1  \n",
       "4 2013 1     1  \n",
       "5 2013 1     1  \n",
       "6 2013 1     1  "
      ]
     },
     "metadata": {},
     "output_type": "display_data"
    }
   ],
   "source": [
    "head(jan4)"
   ]
  },
  {
   "cell_type": "markdown",
   "metadata": {
    "slideshow": {
     "slide_type": "slide"
    }
   },
   "source": [
    "### Ejercicio 5: Extraer las variables desde el año(year) hasta el tiempo de arrivo(arr_time)"
   ]
  },
  {
   "cell_type": "code",
   "execution_count": 12,
   "metadata": {
    "slideshow": {
     "slide_type": "fragment"
    }
   },
   "outputs": [],
   "source": [
    "jan5 = select(flights, year:arr_time)"
   ]
  },
  {
   "cell_type": "code",
   "execution_count": 35,
   "metadata": {
    "slideshow": {
     "slide_type": "fragment"
    }
   },
   "outputs": [
    {
     "data": {
      "text/html": [
       "<table>\n",
       "<thead><tr><th scope=col>year</th><th scope=col>month</th><th scope=col>day</th><th scope=col>dep_time</th><th scope=col>sched_dep_time</th><th scope=col>dep_delay</th><th scope=col>arr_time</th></tr></thead>\n",
       "<tbody>\n",
       "\t<tr><td>2013</td><td>1   </td><td>1   </td><td>517 </td><td>515 </td><td> 2  </td><td> 830</td></tr>\n",
       "\t<tr><td>2013</td><td>1   </td><td>1   </td><td>533 </td><td>529 </td><td> 4  </td><td> 850</td></tr>\n",
       "\t<tr><td>2013</td><td>1   </td><td>1   </td><td>542 </td><td>540 </td><td> 2  </td><td> 923</td></tr>\n",
       "\t<tr><td>2013</td><td>1   </td><td>1   </td><td>544 </td><td>545 </td><td>-1  </td><td>1004</td></tr>\n",
       "\t<tr><td>2013</td><td>1   </td><td>1   </td><td>554 </td><td>600 </td><td>-6  </td><td> 812</td></tr>\n",
       "\t<tr><td>2013</td><td>1   </td><td>1   </td><td>554 </td><td>558 </td><td>-4  </td><td> 740</td></tr>\n",
       "</tbody>\n",
       "</table>\n"
      ],
      "text/latex": [
       "\\begin{tabular}{r|lllllll}\n",
       " year & month & day & dep\\_time & sched\\_dep\\_time & dep\\_delay & arr\\_time\\\\\n",
       "\\hline\n",
       "\t 2013 & 1    & 1    & 517  & 515  &  2   &  830\\\\\n",
       "\t 2013 & 1    & 1    & 533  & 529  &  4   &  850\\\\\n",
       "\t 2013 & 1    & 1    & 542  & 540  &  2   &  923\\\\\n",
       "\t 2013 & 1    & 1    & 544  & 545  & -1   & 1004\\\\\n",
       "\t 2013 & 1    & 1    & 554  & 600  & -6   &  812\\\\\n",
       "\t 2013 & 1    & 1    & 554  & 558  & -4   &  740\\\\\n",
       "\\end{tabular}\n"
      ],
      "text/markdown": [
       "\n",
       "| year | month | day | dep_time | sched_dep_time | dep_delay | arr_time |\n",
       "|---|---|---|---|---|---|---|\n",
       "| 2013 | 1    | 1    | 517  | 515  |  2   |  830 |\n",
       "| 2013 | 1    | 1    | 533  | 529  |  4   |  850 |\n",
       "| 2013 | 1    | 1    | 542  | 540  |  2   |  923 |\n",
       "| 2013 | 1    | 1    | 544  | 545  | -1   | 1004 |\n",
       "| 2013 | 1    | 1    | 554  | 600  | -6   |  812 |\n",
       "| 2013 | 1    | 1    | 554  | 558  | -4   |  740 |\n",
       "\n"
      ],
      "text/plain": [
       "  year month day dep_time sched_dep_time dep_delay arr_time\n",
       "1 2013 1     1   517      515             2         830    \n",
       "2 2013 1     1   533      529             4         850    \n",
       "3 2013 1     1   542      540             2         923    \n",
       "4 2013 1     1   544      545            -1        1004    \n",
       "5 2013 1     1   554      600            -6         812    \n",
       "6 2013 1     1   554      558            -4         740    "
      ]
     },
     "metadata": {},
     "output_type": "display_data"
    }
   ],
   "source": [
    "head(jan5)"
   ]
  },
  {
   "cell_type": "markdown",
   "metadata": {
    "slideshow": {
     "slide_type": "slide"
    }
   },
   "source": [
    "### Ejercicio 6: Extraer todas las variables excepto las anteriores"
   ]
  },
  {
   "cell_type": "code",
   "execution_count": 14,
   "metadata": {
    "slideshow": {
     "slide_type": "fragment"
    }
   },
   "outputs": [],
   "source": [
    "jan6 = select(flights, -(year:arr_time))"
   ]
  },
  {
   "cell_type": "code",
   "execution_count": 36,
   "metadata": {
    "slideshow": {
     "slide_type": "fragment"
    }
   },
   "outputs": [
    {
     "data": {
      "text/html": [
       "<table>\n",
       "<thead><tr><th scope=col>sched_arr_time</th><th scope=col>arr_delay</th><th scope=col>carrier</th><th scope=col>flight</th><th scope=col>tailnum</th><th scope=col>origin</th><th scope=col>dest</th><th scope=col>air_time</th><th scope=col>distance</th><th scope=col>hour</th><th scope=col>minute</th><th scope=col>time_hour</th></tr></thead>\n",
       "<tbody>\n",
       "\t<tr><td> 819               </td><td> 11                </td><td>UA                 </td><td>1545               </td><td>N14228             </td><td>EWR                </td><td>IAH                </td><td>227                </td><td>1400               </td><td>5                  </td><td>15                 </td><td>2013-01-01 05:00:00</td></tr>\n",
       "\t<tr><td> 830               </td><td> 20                </td><td>UA                 </td><td>1714               </td><td>N24211             </td><td>LGA                </td><td>IAH                </td><td>227                </td><td>1416               </td><td>5                  </td><td>29                 </td><td>2013-01-01 05:00:00</td></tr>\n",
       "\t<tr><td> 850               </td><td> 33                </td><td>AA                 </td><td>1141               </td><td>N619AA             </td><td>JFK                </td><td>MIA                </td><td>160                </td><td>1089               </td><td>5                  </td><td>40                 </td><td>2013-01-01 05:00:00</td></tr>\n",
       "\t<tr><td>1022               </td><td>-18                </td><td>B6                 </td><td> 725               </td><td>N804JB             </td><td>JFK                </td><td>BQN                </td><td>183                </td><td>1576               </td><td>5                  </td><td>45                 </td><td>2013-01-01 05:00:00</td></tr>\n",
       "\t<tr><td> 837               </td><td>-25                </td><td>DL                 </td><td> 461               </td><td>N668DN             </td><td>LGA                </td><td>ATL                </td><td>116                </td><td> 762               </td><td>6                  </td><td> 0                 </td><td>2013-01-01 06:00:00</td></tr>\n",
       "\t<tr><td> 728               </td><td> 12                </td><td>UA                 </td><td>1696               </td><td>N39463             </td><td>EWR                </td><td>ORD                </td><td>150                </td><td> 719               </td><td>5                  </td><td>58                 </td><td>2013-01-01 05:00:00</td></tr>\n",
       "</tbody>\n",
       "</table>\n"
      ],
      "text/latex": [
       "\\begin{tabular}{r|llllllllllll}\n",
       " sched\\_arr\\_time & arr\\_delay & carrier & flight & tailnum & origin & dest & air\\_time & distance & hour & minute & time\\_hour\\\\\n",
       "\\hline\n",
       "\t  819                &  11                 & UA                  & 1545                & N14228              & EWR                 & IAH                 & 227                 & 1400                & 5                   & 15                  & 2013-01-01 05:00:00\\\\\n",
       "\t  830                &  20                 & UA                  & 1714                & N24211              & LGA                 & IAH                 & 227                 & 1416                & 5                   & 29                  & 2013-01-01 05:00:00\\\\\n",
       "\t  850                &  33                 & AA                  & 1141                & N619AA              & JFK                 & MIA                 & 160                 & 1089                & 5                   & 40                  & 2013-01-01 05:00:00\\\\\n",
       "\t 1022                & -18                 & B6                  &  725                & N804JB              & JFK                 & BQN                 & 183                 & 1576                & 5                   & 45                  & 2013-01-01 05:00:00\\\\\n",
       "\t  837                & -25                 & DL                  &  461                & N668DN              & LGA                 & ATL                 & 116                 &  762                & 6                   &  0                  & 2013-01-01 06:00:00\\\\\n",
       "\t  728                &  12                 & UA                  & 1696                & N39463              & EWR                 & ORD                 & 150                 &  719                & 5                   & 58                  & 2013-01-01 05:00:00\\\\\n",
       "\\end{tabular}\n"
      ],
      "text/markdown": [
       "\n",
       "| sched_arr_time | arr_delay | carrier | flight | tailnum | origin | dest | air_time | distance | hour | minute | time_hour |\n",
       "|---|---|---|---|---|---|---|---|---|---|---|---|\n",
       "|  819                |  11                 | UA                  | 1545                | N14228              | EWR                 | IAH                 | 227                 | 1400                | 5                   | 15                  | 2013-01-01 05:00:00 |\n",
       "|  830                |  20                 | UA                  | 1714                | N24211              | LGA                 | IAH                 | 227                 | 1416                | 5                   | 29                  | 2013-01-01 05:00:00 |\n",
       "|  850                |  33                 | AA                  | 1141                | N619AA              | JFK                 | MIA                 | 160                 | 1089                | 5                   | 40                  | 2013-01-01 05:00:00 |\n",
       "| 1022                | -18                 | B6                  |  725                | N804JB              | JFK                 | BQN                 | 183                 | 1576                | 5                   | 45                  | 2013-01-01 05:00:00 |\n",
       "|  837                | -25                 | DL                  |  461                | N668DN              | LGA                 | ATL                 | 116                 |  762                | 6                   |  0                  | 2013-01-01 06:00:00 |\n",
       "|  728                |  12                 | UA                  | 1696                | N39463              | EWR                 | ORD                 | 150                 |  719                | 5                   | 58                  | 2013-01-01 05:00:00 |\n",
       "\n"
      ],
      "text/plain": [
       "  sched_arr_time arr_delay carrier flight tailnum origin dest air_time distance\n",
       "1  819            11       UA      1545   N14228  EWR    IAH  227      1400    \n",
       "2  830            20       UA      1714   N24211  LGA    IAH  227      1416    \n",
       "3  850            33       AA      1141   N619AA  JFK    MIA  160      1089    \n",
       "4 1022           -18       B6       725   N804JB  JFK    BQN  183      1576    \n",
       "5  837           -25       DL       461   N668DN  LGA    ATL  116       762    \n",
       "6  728            12       UA      1696   N39463  EWR    ORD  150       719    \n",
       "  hour minute time_hour          \n",
       "1 5    15     2013-01-01 05:00:00\n",
       "2 5    29     2013-01-01 05:00:00\n",
       "3 5    40     2013-01-01 05:00:00\n",
       "4 5    45     2013-01-01 05:00:00\n",
       "5 6     0     2013-01-01 06:00:00\n",
       "6 5    58     2013-01-01 05:00:00"
      ]
     },
     "metadata": {},
     "output_type": "display_data"
    }
   ],
   "source": [
    "head(jan6)"
   ]
  },
  {
   "cell_type": "markdown",
   "metadata": {
    "slideshow": {
     "slide_type": "slide"
    }
   },
   "source": [
    "### Ejercicio 7: Renombrar la columna llamada \"tailnum\" por \"tail_num\""
   ]
  },
  {
   "cell_type": "code",
   "execution_count": 16,
   "metadata": {
    "slideshow": {
     "slide_type": "fragment"
    }
   },
   "outputs": [],
   "source": [
    "jan7 = rename(flights, tail_num = tailnum)"
   ]
  },
  {
   "cell_type": "code",
   "execution_count": 37,
   "metadata": {
    "slideshow": {
     "slide_type": "fragment"
    }
   },
   "outputs": [
    {
     "data": {
      "text/html": [
       "<table>\n",
       "<thead><tr><th scope=col>year</th><th scope=col>month</th><th scope=col>day</th><th scope=col>dep_time</th><th scope=col>sched_dep_time</th><th scope=col>dep_delay</th><th scope=col>arr_time</th><th scope=col>sched_arr_time</th><th scope=col>arr_delay</th><th scope=col>carrier</th><th scope=col>flight</th><th scope=col>tail_num</th><th scope=col>origin</th><th scope=col>dest</th><th scope=col>air_time</th><th scope=col>distance</th><th scope=col>hour</th><th scope=col>minute</th><th scope=col>time_hour</th></tr></thead>\n",
       "<tbody>\n",
       "\t<tr><td>2013               </td><td>1                  </td><td>1                  </td><td>517                </td><td>515                </td><td> 2                 </td><td> 830               </td><td> 819               </td><td> 11                </td><td>UA                 </td><td>1545               </td><td>N14228             </td><td>EWR                </td><td>IAH                </td><td>227                </td><td>1400               </td><td>5                  </td><td>15                 </td><td>2013-01-01 05:00:00</td></tr>\n",
       "\t<tr><td>2013               </td><td>1                  </td><td>1                  </td><td>533                </td><td>529                </td><td> 4                 </td><td> 850               </td><td> 830               </td><td> 20                </td><td>UA                 </td><td>1714               </td><td>N24211             </td><td>LGA                </td><td>IAH                </td><td>227                </td><td>1416               </td><td>5                  </td><td>29                 </td><td>2013-01-01 05:00:00</td></tr>\n",
       "\t<tr><td>2013               </td><td>1                  </td><td>1                  </td><td>542                </td><td>540                </td><td> 2                 </td><td> 923               </td><td> 850               </td><td> 33                </td><td>AA                 </td><td>1141               </td><td>N619AA             </td><td>JFK                </td><td>MIA                </td><td>160                </td><td>1089               </td><td>5                  </td><td>40                 </td><td>2013-01-01 05:00:00</td></tr>\n",
       "\t<tr><td>2013               </td><td>1                  </td><td>1                  </td><td>544                </td><td>545                </td><td>-1                 </td><td>1004               </td><td>1022               </td><td>-18                </td><td>B6                 </td><td> 725               </td><td>N804JB             </td><td>JFK                </td><td>BQN                </td><td>183                </td><td>1576               </td><td>5                  </td><td>45                 </td><td>2013-01-01 05:00:00</td></tr>\n",
       "\t<tr><td>2013               </td><td>1                  </td><td>1                  </td><td>554                </td><td>600                </td><td>-6                 </td><td> 812               </td><td> 837               </td><td>-25                </td><td>DL                 </td><td> 461               </td><td>N668DN             </td><td>LGA                </td><td>ATL                </td><td>116                </td><td> 762               </td><td>6                  </td><td> 0                 </td><td>2013-01-01 06:00:00</td></tr>\n",
       "\t<tr><td>2013               </td><td>1                  </td><td>1                  </td><td>554                </td><td>558                </td><td>-4                 </td><td> 740               </td><td> 728               </td><td> 12                </td><td>UA                 </td><td>1696               </td><td>N39463             </td><td>EWR                </td><td>ORD                </td><td>150                </td><td> 719               </td><td>5                  </td><td>58                 </td><td>2013-01-01 05:00:00</td></tr>\n",
       "</tbody>\n",
       "</table>\n"
      ],
      "text/latex": [
       "\\begin{tabular}{r|lllllllllllllllllll}\n",
       " year & month & day & dep\\_time & sched\\_dep\\_time & dep\\_delay & arr\\_time & sched\\_arr\\_time & arr\\_delay & carrier & flight & tail\\_num & origin & dest & air\\_time & distance & hour & minute & time\\_hour\\\\\n",
       "\\hline\n",
       "\t 2013                & 1                   & 1                   & 517                 & 515                 &  2                  &  830                &  819                &  11                 & UA                  & 1545                & N14228              & EWR                 & IAH                 & 227                 & 1400                & 5                   & 15                  & 2013-01-01 05:00:00\\\\\n",
       "\t 2013                & 1                   & 1                   & 533                 & 529                 &  4                  &  850                &  830                &  20                 & UA                  & 1714                & N24211              & LGA                 & IAH                 & 227                 & 1416                & 5                   & 29                  & 2013-01-01 05:00:00\\\\\n",
       "\t 2013                & 1                   & 1                   & 542                 & 540                 &  2                  &  923                &  850                &  33                 & AA                  & 1141                & N619AA              & JFK                 & MIA                 & 160                 & 1089                & 5                   & 40                  & 2013-01-01 05:00:00\\\\\n",
       "\t 2013                & 1                   & 1                   & 544                 & 545                 & -1                  & 1004                & 1022                & -18                 & B6                  &  725                & N804JB              & JFK                 & BQN                 & 183                 & 1576                & 5                   & 45                  & 2013-01-01 05:00:00\\\\\n",
       "\t 2013                & 1                   & 1                   & 554                 & 600                 & -6                  &  812                &  837                & -25                 & DL                  &  461                & N668DN              & LGA                 & ATL                 & 116                 &  762                & 6                   &  0                  & 2013-01-01 06:00:00\\\\\n",
       "\t 2013                & 1                   & 1                   & 554                 & 558                 & -4                  &  740                &  728                &  12                 & UA                  & 1696                & N39463              & EWR                 & ORD                 & 150                 &  719                & 5                   & 58                  & 2013-01-01 05:00:00\\\\\n",
       "\\end{tabular}\n"
      ],
      "text/markdown": [
       "\n",
       "| year | month | day | dep_time | sched_dep_time | dep_delay | arr_time | sched_arr_time | arr_delay | carrier | flight | tail_num | origin | dest | air_time | distance | hour | minute | time_hour |\n",
       "|---|---|---|---|---|---|---|---|---|---|---|---|---|---|---|---|---|---|---|\n",
       "| 2013                | 1                   | 1                   | 517                 | 515                 |  2                  |  830                |  819                |  11                 | UA                  | 1545                | N14228              | EWR                 | IAH                 | 227                 | 1400                | 5                   | 15                  | 2013-01-01 05:00:00 |\n",
       "| 2013                | 1                   | 1                   | 533                 | 529                 |  4                  |  850                |  830                |  20                 | UA                  | 1714                | N24211              | LGA                 | IAH                 | 227                 | 1416                | 5                   | 29                  | 2013-01-01 05:00:00 |\n",
       "| 2013                | 1                   | 1                   | 542                 | 540                 |  2                  |  923                |  850                |  33                 | AA                  | 1141                | N619AA              | JFK                 | MIA                 | 160                 | 1089                | 5                   | 40                  | 2013-01-01 05:00:00 |\n",
       "| 2013                | 1                   | 1                   | 544                 | 545                 | -1                  | 1004                | 1022                | -18                 | B6                  |  725                | N804JB              | JFK                 | BQN                 | 183                 | 1576                | 5                   | 45                  | 2013-01-01 05:00:00 |\n",
       "| 2013                | 1                   | 1                   | 554                 | 600                 | -6                  |  812                |  837                | -25                 | DL                  |  461                | N668DN              | LGA                 | ATL                 | 116                 |  762                | 6                   |  0                  | 2013-01-01 06:00:00 |\n",
       "| 2013                | 1                   | 1                   | 554                 | 558                 | -4                  |  740                |  728                |  12                 | UA                  | 1696                | N39463              | EWR                 | ORD                 | 150                 |  719                | 5                   | 58                  | 2013-01-01 05:00:00 |\n",
       "\n"
      ],
      "text/plain": [
       "  year month day dep_time sched_dep_time dep_delay arr_time sched_arr_time\n",
       "1 2013 1     1   517      515             2         830      819          \n",
       "2 2013 1     1   533      529             4         850      830          \n",
       "3 2013 1     1   542      540             2         923      850          \n",
       "4 2013 1     1   544      545            -1        1004     1022          \n",
       "5 2013 1     1   554      600            -6         812      837          \n",
       "6 2013 1     1   554      558            -4         740      728          \n",
       "  arr_delay carrier flight tail_num origin dest air_time distance hour minute\n",
       "1  11       UA      1545   N14228   EWR    IAH  227      1400     5    15    \n",
       "2  20       UA      1714   N24211   LGA    IAH  227      1416     5    29    \n",
       "3  33       AA      1141   N619AA   JFK    MIA  160      1089     5    40    \n",
       "4 -18       B6       725   N804JB   JFK    BQN  183      1576     5    45    \n",
       "5 -25       DL       461   N668DN   LGA    ATL  116       762     6     0    \n",
       "6  12       UA      1696   N39463   EWR    ORD  150       719     5    58    \n",
       "  time_hour          \n",
       "1 2013-01-01 05:00:00\n",
       "2 2013-01-01 05:00:00\n",
       "3 2013-01-01 05:00:00\n",
       "4 2013-01-01 05:00:00\n",
       "5 2013-01-01 06:00:00\n",
       "6 2013-01-01 05:00:00"
      ]
     },
     "metadata": {},
     "output_type": "display_data"
    }
   ],
   "source": [
    "head(jan7)"
   ]
  },
  {
   "cell_type": "markdown",
   "metadata": {
    "slideshow": {
     "slide_type": "slide"
    }
   },
   "source": [
    "### Ejercicio 8: Ubicar las columnas \"time_hour\" y \"air_time\" al inicio y despues el resto de columnas"
   ]
  },
  {
   "cell_type": "code",
   "execution_count": 18,
   "metadata": {
    "slideshow": {
     "slide_type": "fragment"
    }
   },
   "outputs": [],
   "source": [
    "jan8 = select(flights, time_hour, air_time, everything())"
   ]
  },
  {
   "cell_type": "code",
   "execution_count": 38,
   "metadata": {
    "slideshow": {
     "slide_type": "fragment"
    }
   },
   "outputs": [
    {
     "data": {
      "text/html": [
       "<table>\n",
       "<thead><tr><th scope=col>time_hour</th><th scope=col>air_time</th><th scope=col>year</th><th scope=col>month</th><th scope=col>day</th><th scope=col>dep_time</th><th scope=col>sched_dep_time</th><th scope=col>dep_delay</th><th scope=col>arr_time</th><th scope=col>sched_arr_time</th><th scope=col>arr_delay</th><th scope=col>carrier</th><th scope=col>flight</th><th scope=col>tailnum</th><th scope=col>origin</th><th scope=col>dest</th><th scope=col>distance</th><th scope=col>hour</th><th scope=col>minute</th></tr></thead>\n",
       "<tbody>\n",
       "\t<tr><td>2013-01-01 05:00:00</td><td>227                </td><td>2013               </td><td>1                  </td><td>1                  </td><td>517                </td><td>515                </td><td> 2                 </td><td> 830               </td><td> 819               </td><td> 11                </td><td>UA                 </td><td>1545               </td><td>N14228             </td><td>EWR                </td><td>IAH                </td><td>1400               </td><td>5                  </td><td>15                 </td></tr>\n",
       "\t<tr><td>2013-01-01 05:00:00</td><td>227                </td><td>2013               </td><td>1                  </td><td>1                  </td><td>533                </td><td>529                </td><td> 4                 </td><td> 850               </td><td> 830               </td><td> 20                </td><td>UA                 </td><td>1714               </td><td>N24211             </td><td>LGA                </td><td>IAH                </td><td>1416               </td><td>5                  </td><td>29                 </td></tr>\n",
       "\t<tr><td>2013-01-01 05:00:00</td><td>160                </td><td>2013               </td><td>1                  </td><td>1                  </td><td>542                </td><td>540                </td><td> 2                 </td><td> 923               </td><td> 850               </td><td> 33                </td><td>AA                 </td><td>1141               </td><td>N619AA             </td><td>JFK                </td><td>MIA                </td><td>1089               </td><td>5                  </td><td>40                 </td></tr>\n",
       "\t<tr><td>2013-01-01 05:00:00</td><td>183                </td><td>2013               </td><td>1                  </td><td>1                  </td><td>544                </td><td>545                </td><td>-1                 </td><td>1004               </td><td>1022               </td><td>-18                </td><td>B6                 </td><td> 725               </td><td>N804JB             </td><td>JFK                </td><td>BQN                </td><td>1576               </td><td>5                  </td><td>45                 </td></tr>\n",
       "\t<tr><td>2013-01-01 06:00:00</td><td>116                </td><td>2013               </td><td>1                  </td><td>1                  </td><td>554                </td><td>600                </td><td>-6                 </td><td> 812               </td><td> 837               </td><td>-25                </td><td>DL                 </td><td> 461               </td><td>N668DN             </td><td>LGA                </td><td>ATL                </td><td> 762               </td><td>6                  </td><td> 0                 </td></tr>\n",
       "\t<tr><td>2013-01-01 05:00:00</td><td>150                </td><td>2013               </td><td>1                  </td><td>1                  </td><td>554                </td><td>558                </td><td>-4                 </td><td> 740               </td><td> 728               </td><td> 12                </td><td>UA                 </td><td>1696               </td><td>N39463             </td><td>EWR                </td><td>ORD                </td><td> 719               </td><td>5                  </td><td>58                 </td></tr>\n",
       "</tbody>\n",
       "</table>\n"
      ],
      "text/latex": [
       "\\begin{tabular}{r|lllllllllllllllllll}\n",
       " time\\_hour & air\\_time & year & month & day & dep\\_time & sched\\_dep\\_time & dep\\_delay & arr\\_time & sched\\_arr\\_time & arr\\_delay & carrier & flight & tailnum & origin & dest & distance & hour & minute\\\\\n",
       "\\hline\n",
       "\t 2013-01-01 05:00:00 & 227                 & 2013                & 1                   & 1                   & 517                 & 515                 &  2                  &  830                &  819                &  11                 & UA                  & 1545                & N14228              & EWR                 & IAH                 & 1400                & 5                   & 15                 \\\\\n",
       "\t 2013-01-01 05:00:00 & 227                 & 2013                & 1                   & 1                   & 533                 & 529                 &  4                  &  850                &  830                &  20                 & UA                  & 1714                & N24211              & LGA                 & IAH                 & 1416                & 5                   & 29                 \\\\\n",
       "\t 2013-01-01 05:00:00 & 160                 & 2013                & 1                   & 1                   & 542                 & 540                 &  2                  &  923                &  850                &  33                 & AA                  & 1141                & N619AA              & JFK                 & MIA                 & 1089                & 5                   & 40                 \\\\\n",
       "\t 2013-01-01 05:00:00 & 183                 & 2013                & 1                   & 1                   & 544                 & 545                 & -1                  & 1004                & 1022                & -18                 & B6                  &  725                & N804JB              & JFK                 & BQN                 & 1576                & 5                   & 45                 \\\\\n",
       "\t 2013-01-01 06:00:00 & 116                 & 2013                & 1                   & 1                   & 554                 & 600                 & -6                  &  812                &  837                & -25                 & DL                  &  461                & N668DN              & LGA                 & ATL                 &  762                & 6                   &  0                 \\\\\n",
       "\t 2013-01-01 05:00:00 & 150                 & 2013                & 1                   & 1                   & 554                 & 558                 & -4                  &  740                &  728                &  12                 & UA                  & 1696                & N39463              & EWR                 & ORD                 &  719                & 5                   & 58                 \\\\\n",
       "\\end{tabular}\n"
      ],
      "text/markdown": [
       "\n",
       "| time_hour | air_time | year | month | day | dep_time | sched_dep_time | dep_delay | arr_time | sched_arr_time | arr_delay | carrier | flight | tailnum | origin | dest | distance | hour | minute |\n",
       "|---|---|---|---|---|---|---|---|---|---|---|---|---|---|---|---|---|---|---|\n",
       "| 2013-01-01 05:00:00 | 227                 | 2013                | 1                   | 1                   | 517                 | 515                 |  2                  |  830                |  819                |  11                 | UA                  | 1545                | N14228              | EWR                 | IAH                 | 1400                | 5                   | 15                  |\n",
       "| 2013-01-01 05:00:00 | 227                 | 2013                | 1                   | 1                   | 533                 | 529                 |  4                  |  850                |  830                |  20                 | UA                  | 1714                | N24211              | LGA                 | IAH                 | 1416                | 5                   | 29                  |\n",
       "| 2013-01-01 05:00:00 | 160                 | 2013                | 1                   | 1                   | 542                 | 540                 |  2                  |  923                |  850                |  33                 | AA                  | 1141                | N619AA              | JFK                 | MIA                 | 1089                | 5                   | 40                  |\n",
       "| 2013-01-01 05:00:00 | 183                 | 2013                | 1                   | 1                   | 544                 | 545                 | -1                  | 1004                | 1022                | -18                 | B6                  |  725                | N804JB              | JFK                 | BQN                 | 1576                | 5                   | 45                  |\n",
       "| 2013-01-01 06:00:00 | 116                 | 2013                | 1                   | 1                   | 554                 | 600                 | -6                  |  812                |  837                | -25                 | DL                  |  461                | N668DN              | LGA                 | ATL                 |  762                | 6                   |  0                  |\n",
       "| 2013-01-01 05:00:00 | 150                 | 2013                | 1                   | 1                   | 554                 | 558                 | -4                  |  740                |  728                |  12                 | UA                  | 1696                | N39463              | EWR                 | ORD                 |  719                | 5                   | 58                  |\n",
       "\n"
      ],
      "text/plain": [
       "  time_hour           air_time year month day dep_time sched_dep_time dep_delay\n",
       "1 2013-01-01 05:00:00 227      2013 1     1   517      515             2       \n",
       "2 2013-01-01 05:00:00 227      2013 1     1   533      529             4       \n",
       "3 2013-01-01 05:00:00 160      2013 1     1   542      540             2       \n",
       "4 2013-01-01 05:00:00 183      2013 1     1   544      545            -1       \n",
       "5 2013-01-01 06:00:00 116      2013 1     1   554      600            -6       \n",
       "6 2013-01-01 05:00:00 150      2013 1     1   554      558            -4       \n",
       "  arr_time sched_arr_time arr_delay carrier flight tailnum origin dest distance\n",
       "1  830      819            11       UA      1545   N14228  EWR    IAH  1400    \n",
       "2  850      830            20       UA      1714   N24211  LGA    IAH  1416    \n",
       "3  923      850            33       AA      1141   N619AA  JFK    MIA  1089    \n",
       "4 1004     1022           -18       B6       725   N804JB  JFK    BQN  1576    \n",
       "5  812      837           -25       DL       461   N668DN  LGA    ATL   762    \n",
       "6  740      728            12       UA      1696   N39463  EWR    ORD   719    \n",
       "  hour minute\n",
       "1 5    15    \n",
       "2 5    29    \n",
       "3 5    40    \n",
       "4 5    45    \n",
       "5 6     0    \n",
       "6 5    58    "
      ]
     },
     "metadata": {},
     "output_type": "display_data"
    }
   ],
   "source": [
    "head(jan8)"
   ]
  },
  {
   "cell_type": "markdown",
   "metadata": {
    "slideshow": {
     "slide_type": "slide"
    }
   },
   "source": [
    "## 1.D Adherir nuevas variables con mutate()"
   ]
  },
  {
   "cell_type": "markdown",
   "metadata": {
    "slideshow": {
     "slide_type": "fragment"
    }
   },
   "source": [
    "Crea nuevas columnas"
   ]
  },
  {
   "cell_type": "markdown",
   "metadata": {
    "slideshow": {
     "slide_type": "fragment"
    }
   },
   "source": [
    "mutate(data, newcolumn1, newcolumn2)"
   ]
  },
  {
   "cell_type": "markdown",
   "metadata": {
    "slideshow": {
     "slide_type": "slide"
    }
   },
   "source": [
    "### Ejercicio 9: Crear 2 nuevas columnas apartir de las ya existentes"
   ]
  },
  {
   "cell_type": "code",
   "execution_count": 20,
   "metadata": {
    "slideshow": {
     "slide_type": "fragment"
    }
   },
   "outputs": [],
   "source": [
    "jan9 = mutate(flights,\n",
    "       gain = arr_delay - dep_delay,\n",
    "       speed = distance / air_time * 60\n",
    "       )"
   ]
  },
  {
   "cell_type": "code",
   "execution_count": 39,
   "metadata": {
    "slideshow": {
     "slide_type": "fragment"
    }
   },
   "outputs": [
    {
     "data": {
      "text/html": [
       "<table>\n",
       "<thead><tr><th scope=col>year</th><th scope=col>month</th><th scope=col>day</th><th scope=col>dep_time</th><th scope=col>sched_dep_time</th><th scope=col>dep_delay</th><th scope=col>arr_time</th><th scope=col>sched_arr_time</th><th scope=col>arr_delay</th><th scope=col>carrier</th><th scope=col>...</th><th scope=col>tailnum</th><th scope=col>origin</th><th scope=col>dest</th><th scope=col>air_time</th><th scope=col>distance</th><th scope=col>hour</th><th scope=col>minute</th><th scope=col>time_hour</th><th scope=col>gain</th><th scope=col>speed</th></tr></thead>\n",
       "<tbody>\n",
       "\t<tr><td>2013               </td><td>1                  </td><td>1                  </td><td>517                </td><td>515                </td><td> 2                 </td><td> 830               </td><td> 819               </td><td> 11                </td><td>UA                 </td><td>...                </td><td>N14228             </td><td>EWR                </td><td>IAH                </td><td>227                </td><td>1400               </td><td>5                  </td><td>15                 </td><td>2013-01-01 05:00:00</td><td>  9                </td><td>370.0441           </td></tr>\n",
       "\t<tr><td>2013               </td><td>1                  </td><td>1                  </td><td>533                </td><td>529                </td><td> 4                 </td><td> 850               </td><td> 830               </td><td> 20                </td><td>UA                 </td><td>...                </td><td>N24211             </td><td>LGA                </td><td>IAH                </td><td>227                </td><td>1416               </td><td>5                  </td><td>29                 </td><td>2013-01-01 05:00:00</td><td> 16                </td><td>374.2731           </td></tr>\n",
       "\t<tr><td>2013               </td><td>1                  </td><td>1                  </td><td>542                </td><td>540                </td><td> 2                 </td><td> 923               </td><td> 850               </td><td> 33                </td><td>AA                 </td><td>...                </td><td>N619AA             </td><td>JFK                </td><td>MIA                </td><td>160                </td><td>1089               </td><td>5                  </td><td>40                 </td><td>2013-01-01 05:00:00</td><td> 31                </td><td>408.3750           </td></tr>\n",
       "\t<tr><td>2013               </td><td>1                  </td><td>1                  </td><td>544                </td><td>545                </td><td>-1                 </td><td>1004               </td><td>1022               </td><td>-18                </td><td>B6                 </td><td>...                </td><td>N804JB             </td><td>JFK                </td><td>BQN                </td><td>183                </td><td>1576               </td><td>5                  </td><td>45                 </td><td>2013-01-01 05:00:00</td><td>-17                </td><td>516.7213           </td></tr>\n",
       "\t<tr><td>2013               </td><td>1                  </td><td>1                  </td><td>554                </td><td>600                </td><td>-6                 </td><td> 812               </td><td> 837               </td><td>-25                </td><td>DL                 </td><td>...                </td><td>N668DN             </td><td>LGA                </td><td>ATL                </td><td>116                </td><td> 762               </td><td>6                  </td><td> 0                 </td><td>2013-01-01 06:00:00</td><td>-19                </td><td>394.1379           </td></tr>\n",
       "\t<tr><td>2013               </td><td>1                  </td><td>1                  </td><td>554                </td><td>558                </td><td>-4                 </td><td> 740               </td><td> 728               </td><td> 12                </td><td>UA                 </td><td>...                </td><td>N39463             </td><td>EWR                </td><td>ORD                </td><td>150                </td><td> 719               </td><td>5                  </td><td>58                 </td><td>2013-01-01 05:00:00</td><td> 16                </td><td>287.6000           </td></tr>\n",
       "</tbody>\n",
       "</table>\n"
      ],
      "text/latex": [
       "\\begin{tabular}{r|lllllllllllllllllllll}\n",
       " year & month & day & dep\\_time & sched\\_dep\\_time & dep\\_delay & arr\\_time & sched\\_arr\\_time & arr\\_delay & carrier & ... & tailnum & origin & dest & air\\_time & distance & hour & minute & time\\_hour & gain & speed\\\\\n",
       "\\hline\n",
       "\t 2013                & 1                   & 1                   & 517                 & 515                 &  2                  &  830                &  819                &  11                 & UA                  & ...                 & N14228              & EWR                 & IAH                 & 227                 & 1400                & 5                   & 15                  & 2013-01-01 05:00:00 &   9                 & 370.0441           \\\\\n",
       "\t 2013                & 1                   & 1                   & 533                 & 529                 &  4                  &  850                &  830                &  20                 & UA                  & ...                 & N24211              & LGA                 & IAH                 & 227                 & 1416                & 5                   & 29                  & 2013-01-01 05:00:00 &  16                 & 374.2731           \\\\\n",
       "\t 2013                & 1                   & 1                   & 542                 & 540                 &  2                  &  923                &  850                &  33                 & AA                  & ...                 & N619AA              & JFK                 & MIA                 & 160                 & 1089                & 5                   & 40                  & 2013-01-01 05:00:00 &  31                 & 408.3750           \\\\\n",
       "\t 2013                & 1                   & 1                   & 544                 & 545                 & -1                  & 1004                & 1022                & -18                 & B6                  & ...                 & N804JB              & JFK                 & BQN                 & 183                 & 1576                & 5                   & 45                  & 2013-01-01 05:00:00 & -17                 & 516.7213           \\\\\n",
       "\t 2013                & 1                   & 1                   & 554                 & 600                 & -6                  &  812                &  837                & -25                 & DL                  & ...                 & N668DN              & LGA                 & ATL                 & 116                 &  762                & 6                   &  0                  & 2013-01-01 06:00:00 & -19                 & 394.1379           \\\\\n",
       "\t 2013                & 1                   & 1                   & 554                 & 558                 & -4                  &  740                &  728                &  12                 & UA                  & ...                 & N39463              & EWR                 & ORD                 & 150                 &  719                & 5                   & 58                  & 2013-01-01 05:00:00 &  16                 & 287.6000           \\\\\n",
       "\\end{tabular}\n"
      ],
      "text/markdown": [
       "\n",
       "| year | month | day | dep_time | sched_dep_time | dep_delay | arr_time | sched_arr_time | arr_delay | carrier | ... | tailnum | origin | dest | air_time | distance | hour | minute | time_hour | gain | speed |\n",
       "|---|---|---|---|---|---|---|---|---|---|---|---|---|---|---|---|---|---|---|---|---|\n",
       "| 2013                | 1                   | 1                   | 517                 | 515                 |  2                  |  830                |  819                |  11                 | UA                  | ...                 | N14228              | EWR                 | IAH                 | 227                 | 1400                | 5                   | 15                  | 2013-01-01 05:00:00 |   9                 | 370.0441            |\n",
       "| 2013                | 1                   | 1                   | 533                 | 529                 |  4                  |  850                |  830                |  20                 | UA                  | ...                 | N24211              | LGA                 | IAH                 | 227                 | 1416                | 5                   | 29                  | 2013-01-01 05:00:00 |  16                 | 374.2731            |\n",
       "| 2013                | 1                   | 1                   | 542                 | 540                 |  2                  |  923                |  850                |  33                 | AA                  | ...                 | N619AA              | JFK                 | MIA                 | 160                 | 1089                | 5                   | 40                  | 2013-01-01 05:00:00 |  31                 | 408.3750            |\n",
       "| 2013                | 1                   | 1                   | 544                 | 545                 | -1                  | 1004                | 1022                | -18                 | B6                  | ...                 | N804JB              | JFK                 | BQN                 | 183                 | 1576                | 5                   | 45                  | 2013-01-01 05:00:00 | -17                 | 516.7213            |\n",
       "| 2013                | 1                   | 1                   | 554                 | 600                 | -6                  |  812                |  837                | -25                 | DL                  | ...                 | N668DN              | LGA                 | ATL                 | 116                 |  762                | 6                   |  0                  | 2013-01-01 06:00:00 | -19                 | 394.1379            |\n",
       "| 2013                | 1                   | 1                   | 554                 | 558                 | -4                  |  740                |  728                |  12                 | UA                  | ...                 | N39463              | EWR                 | ORD                 | 150                 |  719                | 5                   | 58                  | 2013-01-01 05:00:00 |  16                 | 287.6000            |\n",
       "\n"
      ],
      "text/plain": [
       "  year month day dep_time sched_dep_time dep_delay arr_time sched_arr_time\n",
       "1 2013 1     1   517      515             2         830      819          \n",
       "2 2013 1     1   533      529             4         850      830          \n",
       "3 2013 1     1   542      540             2         923      850          \n",
       "4 2013 1     1   544      545            -1        1004     1022          \n",
       "5 2013 1     1   554      600            -6         812      837          \n",
       "6 2013 1     1   554      558            -4         740      728          \n",
       "  arr_delay carrier ... tailnum origin dest air_time distance hour minute\n",
       "1  11       UA      ... N14228  EWR    IAH  227      1400     5    15    \n",
       "2  20       UA      ... N24211  LGA    IAH  227      1416     5    29    \n",
       "3  33       AA      ... N619AA  JFK    MIA  160      1089     5    40    \n",
       "4 -18       B6      ... N804JB  JFK    BQN  183      1576     5    45    \n",
       "5 -25       DL      ... N668DN  LGA    ATL  116       762     6     0    \n",
       "6  12       UA      ... N39463  EWR    ORD  150       719     5    58    \n",
       "  time_hour           gain speed   \n",
       "1 2013-01-01 05:00:00   9  370.0441\n",
       "2 2013-01-01 05:00:00  16  374.2731\n",
       "3 2013-01-01 05:00:00  31  408.3750\n",
       "4 2013-01-01 05:00:00 -17  516.7213\n",
       "5 2013-01-01 06:00:00 -19  394.1379\n",
       "6 2013-01-01 05:00:00  16  287.6000"
      ]
     },
     "metadata": {},
     "output_type": "display_data"
    }
   ],
   "source": [
    "head(jan9)"
   ]
  },
  {
   "cell_type": "markdown",
   "metadata": {
    "slideshow": {
     "slide_type": "slide"
    }
   },
   "source": [
    "### Ejercicio 10: Crear 2 columnas apartir de las ya existentes y otra nueva apartir de las recien creadas"
   ]
  },
  {
   "cell_type": "code",
   "execution_count": 22,
   "metadata": {
    "slideshow": {
     "slide_type": "fragment"
    }
   },
   "outputs": [
    {
     "data": {
      "text/html": [
       "<table>\n",
       "<thead><tr><th scope=col>year</th><th scope=col>month</th><th scope=col>day</th><th scope=col>dep_time</th><th scope=col>sched_dep_time</th><th scope=col>dep_delay</th><th scope=col>arr_time</th><th scope=col>sched_arr_time</th><th scope=col>arr_delay</th><th scope=col>carrier</th><th scope=col>...</th><th scope=col>origin</th><th scope=col>dest</th><th scope=col>air_time</th><th scope=col>distance</th><th scope=col>hour</th><th scope=col>minute</th><th scope=col>time_hour</th><th scope=col>gain</th><th scope=col>hours</th><th scope=col>gain_per_hour</th></tr></thead>\n",
       "<tbody>\n",
       "\t<tr><td>2013               </td><td>1                  </td><td>1                  </td><td>517                </td><td>515                </td><td> 2                 </td><td> 830               </td><td> 819               </td><td> 11                </td><td>UA                 </td><td>...                </td><td>EWR                </td><td>IAH                </td><td>227                </td><td>1400               </td><td>5                  </td><td>15                 </td><td>2013-01-01 05:00:00</td><td>  9                </td><td>3.7833333          </td><td>  2.3788546        </td></tr>\n",
       "\t<tr><td>2013               </td><td>1                  </td><td>1                  </td><td>533                </td><td>529                </td><td> 4                 </td><td> 850               </td><td> 830               </td><td> 20                </td><td>UA                 </td><td>...                </td><td>LGA                </td><td>IAH                </td><td>227                </td><td>1416               </td><td>5                  </td><td>29                 </td><td>2013-01-01 05:00:00</td><td> 16                </td><td>3.7833333          </td><td>  4.2290749        </td></tr>\n",
       "\t<tr><td>2013               </td><td>1                  </td><td>1                  </td><td>542                </td><td>540                </td><td> 2                 </td><td> 923               </td><td> 850               </td><td> 33                </td><td>AA                 </td><td>...                </td><td>JFK                </td><td>MIA                </td><td>160                </td><td>1089               </td><td>5                  </td><td>40                 </td><td>2013-01-01 05:00:00</td><td> 31                </td><td>2.6666667          </td><td> 11.6250000        </td></tr>\n",
       "\t<tr><td>2013               </td><td>1                  </td><td>1                  </td><td>544                </td><td>545                </td><td>-1                 </td><td>1004               </td><td>1022               </td><td>-18                </td><td>B6                 </td><td>...                </td><td>JFK                </td><td>BQN                </td><td>183                </td><td>1576               </td><td>5                  </td><td>45                 </td><td>2013-01-01 05:00:00</td><td>-17                </td><td>3.0500000          </td><td> -5.5737705        </td></tr>\n",
       "\t<tr><td>2013               </td><td>1                  </td><td>1                  </td><td>554                </td><td>600                </td><td>-6                 </td><td> 812               </td><td> 837               </td><td>-25                </td><td>DL                 </td><td>...                </td><td>LGA                </td><td>ATL                </td><td>116                </td><td> 762               </td><td>6                  </td><td> 0                 </td><td>2013-01-01 06:00:00</td><td>-19                </td><td>1.9333333          </td><td> -9.8275862        </td></tr>\n",
       "\t<tr><td>2013               </td><td>1                  </td><td>1                  </td><td>554                </td><td>558                </td><td>-4                 </td><td> 740               </td><td> 728               </td><td> 12                </td><td>UA                 </td><td>...                </td><td>EWR                </td><td>ORD                </td><td>150                </td><td> 719               </td><td>5                  </td><td>58                 </td><td>2013-01-01 05:00:00</td><td> 16                </td><td>2.5000000          </td><td>  6.4000000        </td></tr>\n",
       "\t<tr><td>2013               </td><td>1                  </td><td>1                  </td><td>555                </td><td>600                </td><td>-5                 </td><td> 913               </td><td> 854               </td><td> 19                </td><td>B6                 </td><td>...                </td><td>EWR                </td><td>FLL                </td><td>158                </td><td>1065               </td><td>6                  </td><td> 0                 </td><td>2013-01-01 06:00:00</td><td> 24                </td><td>2.6333333          </td><td>  9.1139241        </td></tr>\n",
       "\t<tr><td>2013               </td><td>1                  </td><td>1                  </td><td>557                </td><td>600                </td><td>-3                 </td><td> 709               </td><td> 723               </td><td>-14                </td><td>EV                 </td><td>...                </td><td>LGA                </td><td>IAD                </td><td> 53                </td><td> 229               </td><td>6                  </td><td> 0                 </td><td>2013-01-01 06:00:00</td><td>-11                </td><td>0.8833333          </td><td>-12.4528302        </td></tr>\n",
       "\t<tr><td>2013               </td><td>1                  </td><td>1                  </td><td>557                </td><td>600                </td><td>-3                 </td><td> 838               </td><td> 846               </td><td> -8                </td><td>B6                 </td><td>...                </td><td>JFK                </td><td>MCO                </td><td>140                </td><td> 944               </td><td>6                  </td><td> 0                 </td><td>2013-01-01 06:00:00</td><td> -5                </td><td>2.3333333          </td><td> -2.1428571        </td></tr>\n",
       "\t<tr><td>2013               </td><td>1                  </td><td>1                  </td><td>558                </td><td>600                </td><td>-2                 </td><td> 753               </td><td> 745               </td><td>  8                </td><td>AA                 </td><td>...                </td><td>LGA                </td><td>ORD                </td><td>138                </td><td> 733               </td><td>6                  </td><td> 0                 </td><td>2013-01-01 06:00:00</td><td> 10                </td><td>2.3000000          </td><td>  4.3478261        </td></tr>\n",
       "\t<tr><td>2013               </td><td>1                  </td><td>1                  </td><td>558                </td><td>600                </td><td>-2                 </td><td> 849               </td><td> 851               </td><td> -2                </td><td>B6                 </td><td>...                </td><td>JFK                </td><td>PBI                </td><td>149                </td><td>1028               </td><td>6                  </td><td> 0                 </td><td>2013-01-01 06:00:00</td><td>  0                </td><td>2.4833333          </td><td>  0.0000000        </td></tr>\n",
       "\t<tr><td>2013               </td><td>1                  </td><td>1                  </td><td>558                </td><td>600                </td><td>-2                 </td><td> 853               </td><td> 856               </td><td> -3                </td><td>B6                 </td><td>...                </td><td>JFK                </td><td>TPA                </td><td>158                </td><td>1005               </td><td>6                  </td><td> 0                 </td><td>2013-01-01 06:00:00</td><td> -1                </td><td>2.6333333          </td><td> -0.3797468        </td></tr>\n",
       "\t<tr><td>2013               </td><td>1                  </td><td>1                  </td><td>558                </td><td>600                </td><td>-2                 </td><td> 924               </td><td> 917               </td><td>  7                </td><td>UA                 </td><td>...                </td><td>JFK                </td><td>LAX                </td><td>345                </td><td>2475               </td><td>6                  </td><td> 0                 </td><td>2013-01-01 06:00:00</td><td>  9                </td><td>5.7500000          </td><td>  1.5652174        </td></tr>\n",
       "\t<tr><td>2013               </td><td>1                  </td><td>1                  </td><td>558                </td><td>600                </td><td>-2                 </td><td> 923               </td><td> 937               </td><td>-14                </td><td>UA                 </td><td>...                </td><td>EWR                </td><td>SFO                </td><td>361                </td><td>2565               </td><td>6                  </td><td> 0                 </td><td>2013-01-01 06:00:00</td><td>-12                </td><td>6.0166667          </td><td> -1.9944598        </td></tr>\n",
       "\t<tr><td>2013               </td><td>1                  </td><td>1                  </td><td>559                </td><td>600                </td><td>-1                 </td><td> 941               </td><td> 910               </td><td> 31                </td><td>AA                 </td><td>...                </td><td>LGA                </td><td>DFW                </td><td>257                </td><td>1389               </td><td>6                  </td><td> 0                 </td><td>2013-01-01 06:00:00</td><td> 32                </td><td>4.2833333          </td><td>  7.4708171        </td></tr>\n",
       "\t<tr><td>2013               </td><td>1                  </td><td>1                  </td><td>559                </td><td>559                </td><td> 0                 </td><td> 702               </td><td> 706               </td><td> -4                </td><td>B6                 </td><td>...                </td><td>JFK                </td><td>BOS                </td><td> 44                </td><td> 187               </td><td>5                  </td><td>59                 </td><td>2013-01-01 05:00:00</td><td> -4                </td><td>0.7333333          </td><td> -5.4545455        </td></tr>\n",
       "\t<tr><td>2013               </td><td>1                  </td><td>1                  </td><td>559                </td><td>600                </td><td>-1                 </td><td> 854               </td><td> 902               </td><td> -8                </td><td>UA                 </td><td>...                </td><td>EWR                </td><td>LAS                </td><td>337                </td><td>2227               </td><td>6                  </td><td> 0                 </td><td>2013-01-01 06:00:00</td><td> -7                </td><td>5.6166667          </td><td> -1.2462908        </td></tr>\n",
       "\t<tr><td>2013               </td><td>1                  </td><td>1                  </td><td>600                </td><td>600                </td><td> 0                 </td><td> 851               </td><td> 858               </td><td> -7                </td><td>B6                 </td><td>...                </td><td>LGA                </td><td>FLL                </td><td>152                </td><td>1076               </td><td>6                  </td><td> 0                 </td><td>2013-01-01 06:00:00</td><td> -7                </td><td>2.5333333          </td><td> -2.7631579        </td></tr>\n",
       "\t<tr><td>2013               </td><td>1                  </td><td>1                  </td><td>600                </td><td>600                </td><td> 0                 </td><td> 837               </td><td> 825               </td><td> 12                </td><td>MQ                 </td><td>...                </td><td>LGA                </td><td>ATL                </td><td>134                </td><td> 762               </td><td>6                  </td><td> 0                 </td><td>2013-01-01 06:00:00</td><td> 12                </td><td>2.2333333          </td><td>  5.3731343        </td></tr>\n",
       "\t<tr><td>2013               </td><td>1                  </td><td>1                  </td><td>601                </td><td>600                </td><td> 1                 </td><td> 844               </td><td> 850               </td><td> -6                </td><td>B6                 </td><td>...                </td><td>EWR                </td><td>PBI                </td><td>147                </td><td>1023               </td><td>6                  </td><td> 0                 </td><td>2013-01-01 06:00:00</td><td> -7                </td><td>2.4500000          </td><td> -2.8571429        </td></tr>\n",
       "\t<tr><td>2013               </td><td>1                  </td><td>1                  </td><td>602                </td><td>610                </td><td>-8                 </td><td> 812               </td><td> 820               </td><td> -8                </td><td>DL                 </td><td>...                </td><td>LGA                </td><td>MSP                </td><td>170                </td><td>1020               </td><td>6                  </td><td>10                 </td><td>2013-01-01 06:00:00</td><td>  0                </td><td>2.8333333          </td><td>  0.0000000        </td></tr>\n",
       "\t<tr><td>2013               </td><td>1                  </td><td>1                  </td><td>602                </td><td>605                </td><td>-3                 </td><td> 821               </td><td> 805               </td><td> 16                </td><td>MQ                 </td><td>...                </td><td>LGA                </td><td>DTW                </td><td>105                </td><td> 502               </td><td>6                  </td><td> 5                 </td><td>2013-01-01 06:00:00</td><td> 19                </td><td>1.7500000          </td><td> 10.8571429        </td></tr>\n",
       "\t<tr><td>2013               </td><td>1                  </td><td>1                  </td><td>606                </td><td>610                </td><td>-4                 </td><td> 858               </td><td> 910               </td><td>-12                </td><td>AA                 </td><td>...                </td><td>EWR                </td><td>MIA                </td><td>152                </td><td>1085               </td><td>6                  </td><td>10                 </td><td>2013-01-01 06:00:00</td><td> -8                </td><td>2.5333333          </td><td> -3.1578947        </td></tr>\n",
       "\t<tr><td>2013               </td><td>1                  </td><td>1                  </td><td>606                </td><td>610                </td><td>-4                 </td><td> 837               </td><td> 845               </td><td> -8                </td><td>DL                 </td><td>...                </td><td>JFK                </td><td>ATL                </td><td>128                </td><td> 760               </td><td>6                  </td><td>10                 </td><td>2013-01-01 06:00:00</td><td> -4                </td><td>2.1333333          </td><td> -1.8750000        </td></tr>\n",
       "\t<tr><td>2013               </td><td>1                  </td><td>1                  </td><td>607                </td><td>607                </td><td> 0                 </td><td> 858               </td><td> 915               </td><td>-17                </td><td>UA                 </td><td>...                </td><td>EWR                </td><td>MIA                </td><td>157                </td><td>1085               </td><td>6                  </td><td> 7                 </td><td>2013-01-01 06:00:00</td><td>-17                </td><td>2.6166667          </td><td> -6.4968153        </td></tr>\n",
       "\t<tr><td>2013               </td><td>1                  </td><td>1                  </td><td>608                </td><td>600                </td><td> 8                 </td><td> 807               </td><td> 735               </td><td> 32                </td><td>MQ                 </td><td>...                </td><td>EWR                </td><td>ORD                </td><td>139                </td><td> 719               </td><td>6                  </td><td> 0                 </td><td>2013-01-01 06:00:00</td><td> 24                </td><td>2.3166667          </td><td> 10.3597122        </td></tr>\n",
       "\t<tr><td>2013               </td><td>1                  </td><td>1                  </td><td>611                </td><td>600                </td><td>11                 </td><td> 945               </td><td> 931               </td><td> 14                </td><td>UA                 </td><td>...                </td><td>JFK                </td><td>SFO                </td><td>366                </td><td>2586               </td><td>6                  </td><td> 0                 </td><td>2013-01-01 06:00:00</td><td>  3                </td><td>6.1000000          </td><td>  0.4918033        </td></tr>\n",
       "\t<tr><td>2013               </td><td>1                  </td><td>1                  </td><td>613                </td><td>610                </td><td> 3                 </td><td> 925               </td><td> 921               </td><td>  4                </td><td>B6                 </td><td>...                </td><td>JFK                </td><td>RSW                </td><td>175                </td><td>1074               </td><td>6                  </td><td>10                 </td><td>2013-01-01 06:00:00</td><td>  1                </td><td>2.9166667          </td><td>  0.3428571        </td></tr>\n",
       "\t<tr><td>2013               </td><td>1                  </td><td>1                  </td><td>615                </td><td>615                </td><td> 0                 </td><td>1039               </td><td>1100               </td><td>-21                </td><td>B6                 </td><td>...                </td><td>JFK                </td><td>SJU                </td><td>182                </td><td>1598               </td><td>6                  </td><td>15                 </td><td>2013-01-01 06:00:00</td><td>-21                </td><td>3.0333333          </td><td> -6.9230769        </td></tr>\n",
       "\t<tr><td>2013               </td><td>1                  </td><td>1                  </td><td>615                </td><td>615                </td><td> 0                 </td><td> 833               </td><td> 842               </td><td> -9                </td><td>DL                 </td><td>...                </td><td>EWR                </td><td>ATL                </td><td>120                </td><td> 746               </td><td>6                  </td><td>15                 </td><td>2013-01-01 06:00:00</td><td> -9                </td><td>2.0000000          </td><td> -4.5000000        </td></tr>\n",
       "\t<tr><td>...</td><td>...</td><td>...</td><td>...</td><td>...</td><td>...</td><td>...</td><td>...</td><td>...</td><td>...</td><td>   </td><td>...</td><td>...</td><td>...</td><td>...</td><td>...</td><td>...</td><td>...</td><td>...</td><td>...</td><td>...</td></tr>\n",
       "\t<tr><td>2013               </td><td>9                  </td><td>30                 </td><td>2123               </td><td>2125               </td><td> -2                </td><td>2223               </td><td>2247               </td><td>-24                </td><td>EV                 </td><td>...                </td><td>LGA                </td><td>CHO                </td><td> 45                </td><td> 305               </td><td>21                 </td><td>25                 </td><td>2013-09-30 21:00:00</td><td>-22                </td><td>0.7500000          </td><td>-29.333333         </td></tr>\n",
       "\t<tr><td>2013               </td><td>9                  </td><td>30                 </td><td>2127               </td><td>2129               </td><td> -2                </td><td>2314               </td><td>2323               </td><td> -9                </td><td>EV                 </td><td>...                </td><td>EWR                </td><td>CLT                </td><td> 72                </td><td> 529               </td><td>21                 </td><td>29                 </td><td>2013-09-30 21:00:00</td><td> -7                </td><td>1.2000000          </td><td> -5.833333         </td></tr>\n",
       "\t<tr><td>2013               </td><td>9                  </td><td>30                 </td><td>2128               </td><td>2130               </td><td> -2                </td><td>2328               </td><td>2359               </td><td>-31                </td><td>B6                 </td><td>...                </td><td>JFK                </td><td>DEN                </td><td>213                </td><td>1626               </td><td>21                 </td><td>30                 </td><td>2013-09-30 21:00:00</td><td>-29                </td><td>3.5500000          </td><td> -8.169014         </td></tr>\n",
       "\t<tr><td>2013               </td><td>9                  </td><td>30                 </td><td>2129               </td><td>2059               </td><td> 30                </td><td>2230               </td><td>2232               </td><td> -2                </td><td>EV                 </td><td>...                </td><td>LGA                </td><td>RIC                </td><td> 45                </td><td> 292               </td><td>20                 </td><td>59                 </td><td>2013-09-30 20:00:00</td><td>-32                </td><td>0.7500000          </td><td>-42.666667         </td></tr>\n",
       "\t<tr><td>2013               </td><td>9                  </td><td>30                 </td><td>2131               </td><td>2140               </td><td> -9                </td><td>2225               </td><td>2255               </td><td>-30                </td><td>MQ                 </td><td>...                </td><td>JFK                </td><td>DCA                </td><td> 36                </td><td> 213               </td><td>21                 </td><td>40                 </td><td>2013-09-30 21:00:00</td><td>-21                </td><td>0.6000000          </td><td>-35.000000         </td></tr>\n",
       "\t<tr><td>2013               </td><td>9                  </td><td>30                 </td><td>2140               </td><td>2140               </td><td>  0                </td><td>  10               </td><td>  40               </td><td>-30                </td><td>AA                 </td><td>...                </td><td>JFK                </td><td>LAX                </td><td>298                </td><td>2475               </td><td>21                 </td><td>40                 </td><td>2013-09-30 21:00:00</td><td>-30                </td><td>4.9666667          </td><td> -6.040268         </td></tr>\n",
       "\t<tr><td>2013               </td><td>9                  </td><td>30                 </td><td>2142               </td><td>2129               </td><td> 13                </td><td>2250               </td><td>2239               </td><td> 11                </td><td>EV                 </td><td>...                </td><td>EWR                </td><td>PWM                </td><td> 47                </td><td> 284               </td><td>21                 </td><td>29                 </td><td>2013-09-30 21:00:00</td><td> -2                </td><td>0.7833333          </td><td> -2.553191         </td></tr>\n",
       "\t<tr><td>2013               </td><td>9                  </td><td>30                 </td><td>2145               </td><td>2145               </td><td>  0                </td><td> 115               </td><td> 140               </td><td>-25                </td><td>B6                 </td><td>...                </td><td>JFK                </td><td>SJU                </td><td>192                </td><td>1598               </td><td>21                 </td><td>45                 </td><td>2013-09-30 21:00:00</td><td>-25                </td><td>3.2000000          </td><td> -7.812500         </td></tr>\n",
       "\t<tr><td>2013               </td><td>9                  </td><td>30                 </td><td>2147               </td><td>2137               </td><td> 10                </td><td>  30               </td><td>  27               </td><td>  3                </td><td>B6                 </td><td>...                </td><td>LGA                </td><td>FLL                </td><td>139                </td><td>1076               </td><td>21                 </td><td>37                 </td><td>2013-09-30 21:00:00</td><td> -7                </td><td>2.3166667          </td><td> -3.021583         </td></tr>\n",
       "\t<tr><td>2013               </td><td>9                  </td><td>30                 </td><td>2149               </td><td>2156               </td><td> -7                </td><td>2245               </td><td>2308               </td><td>-23                </td><td>UA                 </td><td>...                </td><td>EWR                </td><td>BOS                </td><td> 37                </td><td> 200               </td><td>21                 </td><td>56                 </td><td>2013-09-30 21:00:00</td><td>-16                </td><td>0.6166667          </td><td>-25.945946         </td></tr>\n",
       "\t<tr><td>2013               </td><td>9                  </td><td>30                 </td><td>2150               </td><td>2159               </td><td> -9                </td><td>2250               </td><td>2306               </td><td>-16                </td><td>EV                 </td><td>...                </td><td>EWR                </td><td>MHT                </td><td> 39                </td><td> 209               </td><td>21                 </td><td>59                 </td><td>2013-09-30 21:00:00</td><td> -7                </td><td>0.6500000          </td><td>-10.769231         </td></tr>\n",
       "\t<tr><td>2013               </td><td>9                  </td><td>30                 </td><td>2159               </td><td>1845               </td><td>194                </td><td>2344               </td><td>2030               </td><td>194                </td><td>9E                 </td><td>...                </td><td>JFK                </td><td>BUF                </td><td> 50                </td><td> 301               </td><td>18                 </td><td>45                 </td><td>2013-09-30 18:00:00</td><td>  0                </td><td>0.8333333          </td><td>  0.000000         </td></tr>\n",
       "\t<tr><td>2013               </td><td>9                  </td><td>30                 </td><td>2203               </td><td>2205               </td><td> -2                </td><td>2339               </td><td>2331               </td><td>  8                </td><td>EV                 </td><td>...                </td><td>LGA                </td><td>BGR                </td><td> 61                </td><td> 378               </td><td>22                 </td><td> 5                 </td><td>2013-09-30 22:00:00</td><td> 10                </td><td>1.0166667          </td><td>  9.836066         </td></tr>\n",
       "\t<tr><td>2013               </td><td>9                  </td><td>30                 </td><td>2207               </td><td>2140               </td><td> 27                </td><td>2257               </td><td>2250               </td><td>  7                </td><td>MQ                 </td><td>...                </td><td>LGA                </td><td>BNA                </td><td> 97                </td><td> 764               </td><td>21                 </td><td>40                 </td><td>2013-09-30 21:00:00</td><td>-20                </td><td>1.6166667          </td><td>-12.371134         </td></tr>\n",
       "\t<tr><td>2013               </td><td>9                  </td><td>30                 </td><td>2211               </td><td>2059               </td><td> 72                </td><td>2339               </td><td>2242               </td><td> 57                </td><td>EV                 </td><td>...                </td><td>EWR                </td><td>STL                </td><td>120                </td><td> 872               </td><td>20                 </td><td>59                 </td><td>2013-09-30 20:00:00</td><td>-15                </td><td>2.0000000          </td><td> -7.500000         </td></tr>\n",
       "\t<tr><td>2013               </td><td>9                  </td><td>30                 </td><td>2231               </td><td>2245               </td><td>-14                </td><td>2335               </td><td>2356               </td><td>-21                </td><td>B6                 </td><td>...                </td><td>JFK                </td><td>PWM                </td><td> 48                </td><td> 273               </td><td>22                 </td><td>45                 </td><td>2013-09-30 22:00:00</td><td> -7                </td><td>0.8000000          </td><td> -8.750000         </td></tr>\n",
       "\t<tr><td>2013               </td><td>9                  </td><td>30                 </td><td>2233               </td><td>2113               </td><td> 80                </td><td> 112               </td><td>  30               </td><td> 42                </td><td>UA                 </td><td>...                </td><td>EWR                </td><td>SFO                </td><td>318                </td><td>2565               </td><td>21                 </td><td>13                 </td><td>2013-09-30 21:00:00</td><td>-38                </td><td>5.3000000          </td><td> -7.169811         </td></tr>\n",
       "\t<tr><td>2013               </td><td>9                  </td><td>30                 </td><td>2235               </td><td>2001               </td><td>154                </td><td>  59               </td><td>2249               </td><td>130                </td><td>B6                 </td><td>...                </td><td>JFK                </td><td>MCO                </td><td>123                </td><td> 944               </td><td>20                 </td><td> 1                 </td><td>2013-09-30 20:00:00</td><td>-24                </td><td>2.0500000          </td><td>-11.707317         </td></tr>\n",
       "\t<tr><td>2013               </td><td>9                  </td><td>30                 </td><td>2237               </td><td>2245               </td><td> -8                </td><td>2345               </td><td>2353               </td><td> -8                </td><td>B6                 </td><td>...                </td><td>JFK                </td><td>BTV                </td><td> 43                </td><td> 266               </td><td>22                 </td><td>45                 </td><td>2013-09-30 22:00:00</td><td>  0                </td><td>0.7166667          </td><td>  0.000000         </td></tr>\n",
       "\t<tr><td>2013               </td><td>9                  </td><td>30                 </td><td>2240               </td><td>2245               </td><td> -5                </td><td>2334               </td><td>2351               </td><td>-17                </td><td>B6                 </td><td>...                </td><td>JFK                </td><td>SYR                </td><td> 41                </td><td> 209               </td><td>22                 </td><td>45                 </td><td>2013-09-30 22:00:00</td><td>-12                </td><td>0.6833333          </td><td>-17.560976         </td></tr>\n",
       "\t<tr><td>2013               </td><td>9                  </td><td>30                 </td><td>2240               </td><td>2250               </td><td>-10                </td><td>2347               </td><td>   7               </td><td>-20                </td><td>B6                 </td><td>...                </td><td>JFK                </td><td>BUF                </td><td> 52                </td><td> 301               </td><td>22                 </td><td>50                 </td><td>2013-09-30 22:00:00</td><td>-10                </td><td>0.8666667          </td><td>-11.538462         </td></tr>\n",
       "\t<tr><td>2013               </td><td>9                  </td><td>30                 </td><td>2241               </td><td>2246               </td><td> -5                </td><td>2345               </td><td>   1               </td><td>-16                </td><td>B6                 </td><td>...                </td><td>JFK                </td><td>ROC                </td><td> 47                </td><td> 264               </td><td>22                 </td><td>46                 </td><td>2013-09-30 22:00:00</td><td>-11                </td><td>0.7833333          </td><td>-14.042553         </td></tr>\n",
       "\t<tr><td>2013               </td><td>9                  </td><td>30                 </td><td>2307               </td><td>2255               </td><td> 12                </td><td>2359               </td><td>2358               </td><td>  1                </td><td>B6                 </td><td>...                </td><td>JFK                </td><td>BOS                </td><td> 33                </td><td> 187               </td><td>22                 </td><td>55                 </td><td>2013-09-30 22:00:00</td><td>-11                </td><td>0.5500000          </td><td>-20.000000         </td></tr>\n",
       "\t<tr><td>2013               </td><td>9                  </td><td>30                 </td><td>2349               </td><td>2359               </td><td>-10                </td><td> 325               </td><td> 350               </td><td>-25                </td><td>B6                 </td><td>...                </td><td>JFK                </td><td>PSE                </td><td>196                </td><td>1617               </td><td>23                 </td><td>59                 </td><td>2013-09-30 23:00:00</td><td>-15                </td><td>3.2666667          </td><td> -4.591837         </td></tr>\n",
       "\t<tr><td>2013               </td><td>9                  </td><td>30                 </td><td>  NA               </td><td>1842               </td><td> NA                </td><td>  NA               </td><td>2019               </td><td> NA                </td><td>EV                 </td><td>...                </td><td>LGA                </td><td>BNA                </td><td> NA                </td><td> 764               </td><td>18                 </td><td>42                 </td><td>2013-09-30 18:00:00</td><td> NA                </td><td>       NA          </td><td>        NA         </td></tr>\n",
       "\t<tr><td>2013               </td><td>9                  </td><td>30                 </td><td>  NA               </td><td>1455               </td><td> NA                </td><td>  NA               </td><td>1634               </td><td> NA                </td><td>9E                 </td><td>...                </td><td>JFK                </td><td>DCA                </td><td> NA                </td><td> 213               </td><td>14                 </td><td>55                 </td><td>2013-09-30 14:00:00</td><td> NA                </td><td>       NA          </td><td>        NA         </td></tr>\n",
       "\t<tr><td>2013               </td><td>9                  </td><td>30                 </td><td>  NA               </td><td>2200               </td><td> NA                </td><td>  NA               </td><td>2312               </td><td> NA                </td><td>9E                 </td><td>...                </td><td>LGA                </td><td>SYR                </td><td> NA                </td><td> 198               </td><td>22                 </td><td> 0                 </td><td>2013-09-30 22:00:00</td><td> NA                </td><td>       NA          </td><td>        NA         </td></tr>\n",
       "\t<tr><td>2013               </td><td>9                  </td><td>30                 </td><td>  NA               </td><td>1210               </td><td> NA                </td><td>  NA               </td><td>1330               </td><td> NA                </td><td>MQ                 </td><td>...                </td><td>LGA                </td><td>BNA                </td><td> NA                </td><td> 764               </td><td>12                 </td><td>10                 </td><td>2013-09-30 12:00:00</td><td> NA                </td><td>       NA          </td><td>        NA         </td></tr>\n",
       "\t<tr><td>2013               </td><td>9                  </td><td>30                 </td><td>  NA               </td><td>1159               </td><td> NA                </td><td>  NA               </td><td>1344               </td><td> NA                </td><td>MQ                 </td><td>...                </td><td>LGA                </td><td>CLE                </td><td> NA                </td><td> 419               </td><td>11                 </td><td>59                 </td><td>2013-09-30 11:00:00</td><td> NA                </td><td>       NA          </td><td>        NA         </td></tr>\n",
       "\t<tr><td>2013               </td><td>9                  </td><td>30                 </td><td>  NA               </td><td> 840               </td><td> NA                </td><td>  NA               </td><td>1020               </td><td> NA                </td><td>MQ                 </td><td>...                </td><td>LGA                </td><td>RDU                </td><td> NA                </td><td> 431               </td><td> 8                 </td><td>40                 </td><td>2013-09-30 08:00:00</td><td> NA                </td><td>       NA          </td><td>        NA         </td></tr>\n",
       "</tbody>\n",
       "</table>\n"
      ],
      "text/latex": [
       "\\begin{tabular}{r|llllllllllllllllllllll}\n",
       " year & month & day & dep\\_time & sched\\_dep\\_time & dep\\_delay & arr\\_time & sched\\_arr\\_time & arr\\_delay & carrier & ... & origin & dest & air\\_time & distance & hour & minute & time\\_hour & gain & hours & gain\\_per\\_hour\\\\\n",
       "\\hline\n",
       "\t 2013                & 1                   & 1                   & 517                 & 515                 &  2                  &  830                &  819                &  11                 & UA                  & ...                 & EWR                 & IAH                 & 227                 & 1400                & 5                   & 15                  & 2013-01-01 05:00:00 &   9                 & 3.7833333           &   2.3788546        \\\\\n",
       "\t 2013                & 1                   & 1                   & 533                 & 529                 &  4                  &  850                &  830                &  20                 & UA                  & ...                 & LGA                 & IAH                 & 227                 & 1416                & 5                   & 29                  & 2013-01-01 05:00:00 &  16                 & 3.7833333           &   4.2290749        \\\\\n",
       "\t 2013                & 1                   & 1                   & 542                 & 540                 &  2                  &  923                &  850                &  33                 & AA                  & ...                 & JFK                 & MIA                 & 160                 & 1089                & 5                   & 40                  & 2013-01-01 05:00:00 &  31                 & 2.6666667           &  11.6250000        \\\\\n",
       "\t 2013                & 1                   & 1                   & 544                 & 545                 & -1                  & 1004                & 1022                & -18                 & B6                  & ...                 & JFK                 & BQN                 & 183                 & 1576                & 5                   & 45                  & 2013-01-01 05:00:00 & -17                 & 3.0500000           &  -5.5737705        \\\\\n",
       "\t 2013                & 1                   & 1                   & 554                 & 600                 & -6                  &  812                &  837                & -25                 & DL                  & ...                 & LGA                 & ATL                 & 116                 &  762                & 6                   &  0                  & 2013-01-01 06:00:00 & -19                 & 1.9333333           &  -9.8275862        \\\\\n",
       "\t 2013                & 1                   & 1                   & 554                 & 558                 & -4                  &  740                &  728                &  12                 & UA                  & ...                 & EWR                 & ORD                 & 150                 &  719                & 5                   & 58                  & 2013-01-01 05:00:00 &  16                 & 2.5000000           &   6.4000000        \\\\\n",
       "\t 2013                & 1                   & 1                   & 555                 & 600                 & -5                  &  913                &  854                &  19                 & B6                  & ...                 & EWR                 & FLL                 & 158                 & 1065                & 6                   &  0                  & 2013-01-01 06:00:00 &  24                 & 2.6333333           &   9.1139241        \\\\\n",
       "\t 2013                & 1                   & 1                   & 557                 & 600                 & -3                  &  709                &  723                & -14                 & EV                  & ...                 & LGA                 & IAD                 &  53                 &  229                & 6                   &  0                  & 2013-01-01 06:00:00 & -11                 & 0.8833333           & -12.4528302        \\\\\n",
       "\t 2013                & 1                   & 1                   & 557                 & 600                 & -3                  &  838                &  846                &  -8                 & B6                  & ...                 & JFK                 & MCO                 & 140                 &  944                & 6                   &  0                  & 2013-01-01 06:00:00 &  -5                 & 2.3333333           &  -2.1428571        \\\\\n",
       "\t 2013                & 1                   & 1                   & 558                 & 600                 & -2                  &  753                &  745                &   8                 & AA                  & ...                 & LGA                 & ORD                 & 138                 &  733                & 6                   &  0                  & 2013-01-01 06:00:00 &  10                 & 2.3000000           &   4.3478261        \\\\\n",
       "\t 2013                & 1                   & 1                   & 558                 & 600                 & -2                  &  849                &  851                &  -2                 & B6                  & ...                 & JFK                 & PBI                 & 149                 & 1028                & 6                   &  0                  & 2013-01-01 06:00:00 &   0                 & 2.4833333           &   0.0000000        \\\\\n",
       "\t 2013                & 1                   & 1                   & 558                 & 600                 & -2                  &  853                &  856                &  -3                 & B6                  & ...                 & JFK                 & TPA                 & 158                 & 1005                & 6                   &  0                  & 2013-01-01 06:00:00 &  -1                 & 2.6333333           &  -0.3797468        \\\\\n",
       "\t 2013                & 1                   & 1                   & 558                 & 600                 & -2                  &  924                &  917                &   7                 & UA                  & ...                 & JFK                 & LAX                 & 345                 & 2475                & 6                   &  0                  & 2013-01-01 06:00:00 &   9                 & 5.7500000           &   1.5652174        \\\\\n",
       "\t 2013                & 1                   & 1                   & 558                 & 600                 & -2                  &  923                &  937                & -14                 & UA                  & ...                 & EWR                 & SFO                 & 361                 & 2565                & 6                   &  0                  & 2013-01-01 06:00:00 & -12                 & 6.0166667           &  -1.9944598        \\\\\n",
       "\t 2013                & 1                   & 1                   & 559                 & 600                 & -1                  &  941                &  910                &  31                 & AA                  & ...                 & LGA                 & DFW                 & 257                 & 1389                & 6                   &  0                  & 2013-01-01 06:00:00 &  32                 & 4.2833333           &   7.4708171        \\\\\n",
       "\t 2013                & 1                   & 1                   & 559                 & 559                 &  0                  &  702                &  706                &  -4                 & B6                  & ...                 & JFK                 & BOS                 &  44                 &  187                & 5                   & 59                  & 2013-01-01 05:00:00 &  -4                 & 0.7333333           &  -5.4545455        \\\\\n",
       "\t 2013                & 1                   & 1                   & 559                 & 600                 & -1                  &  854                &  902                &  -8                 & UA                  & ...                 & EWR                 & LAS                 & 337                 & 2227                & 6                   &  0                  & 2013-01-01 06:00:00 &  -7                 & 5.6166667           &  -1.2462908        \\\\\n",
       "\t 2013                & 1                   & 1                   & 600                 & 600                 &  0                  &  851                &  858                &  -7                 & B6                  & ...                 & LGA                 & FLL                 & 152                 & 1076                & 6                   &  0                  & 2013-01-01 06:00:00 &  -7                 & 2.5333333           &  -2.7631579        \\\\\n",
       "\t 2013                & 1                   & 1                   & 600                 & 600                 &  0                  &  837                &  825                &  12                 & MQ                  & ...                 & LGA                 & ATL                 & 134                 &  762                & 6                   &  0                  & 2013-01-01 06:00:00 &  12                 & 2.2333333           &   5.3731343        \\\\\n",
       "\t 2013                & 1                   & 1                   & 601                 & 600                 &  1                  &  844                &  850                &  -6                 & B6                  & ...                 & EWR                 & PBI                 & 147                 & 1023                & 6                   &  0                  & 2013-01-01 06:00:00 &  -7                 & 2.4500000           &  -2.8571429        \\\\\n",
       "\t 2013                & 1                   & 1                   & 602                 & 610                 & -8                  &  812                &  820                &  -8                 & DL                  & ...                 & LGA                 & MSP                 & 170                 & 1020                & 6                   & 10                  & 2013-01-01 06:00:00 &   0                 & 2.8333333           &   0.0000000        \\\\\n",
       "\t 2013                & 1                   & 1                   & 602                 & 605                 & -3                  &  821                &  805                &  16                 & MQ                  & ...                 & LGA                 & DTW                 & 105                 &  502                & 6                   &  5                  & 2013-01-01 06:00:00 &  19                 & 1.7500000           &  10.8571429        \\\\\n",
       "\t 2013                & 1                   & 1                   & 606                 & 610                 & -4                  &  858                &  910                & -12                 & AA                  & ...                 & EWR                 & MIA                 & 152                 & 1085                & 6                   & 10                  & 2013-01-01 06:00:00 &  -8                 & 2.5333333           &  -3.1578947        \\\\\n",
       "\t 2013                & 1                   & 1                   & 606                 & 610                 & -4                  &  837                &  845                &  -8                 & DL                  & ...                 & JFK                 & ATL                 & 128                 &  760                & 6                   & 10                  & 2013-01-01 06:00:00 &  -4                 & 2.1333333           &  -1.8750000        \\\\\n",
       "\t 2013                & 1                   & 1                   & 607                 & 607                 &  0                  &  858                &  915                & -17                 & UA                  & ...                 & EWR                 & MIA                 & 157                 & 1085                & 6                   &  7                  & 2013-01-01 06:00:00 & -17                 & 2.6166667           &  -6.4968153        \\\\\n",
       "\t 2013                & 1                   & 1                   & 608                 & 600                 &  8                  &  807                &  735                &  32                 & MQ                  & ...                 & EWR                 & ORD                 & 139                 &  719                & 6                   &  0                  & 2013-01-01 06:00:00 &  24                 & 2.3166667           &  10.3597122        \\\\\n",
       "\t 2013                & 1                   & 1                   & 611                 & 600                 & 11                  &  945                &  931                &  14                 & UA                  & ...                 & JFK                 & SFO                 & 366                 & 2586                & 6                   &  0                  & 2013-01-01 06:00:00 &   3                 & 6.1000000           &   0.4918033        \\\\\n",
       "\t 2013                & 1                   & 1                   & 613                 & 610                 &  3                  &  925                &  921                &   4                 & B6                  & ...                 & JFK                 & RSW                 & 175                 & 1074                & 6                   & 10                  & 2013-01-01 06:00:00 &   1                 & 2.9166667           &   0.3428571        \\\\\n",
       "\t 2013                & 1                   & 1                   & 615                 & 615                 &  0                  & 1039                & 1100                & -21                 & B6                  & ...                 & JFK                 & SJU                 & 182                 & 1598                & 6                   & 15                  & 2013-01-01 06:00:00 & -21                 & 3.0333333           &  -6.9230769        \\\\\n",
       "\t 2013                & 1                   & 1                   & 615                 & 615                 &  0                  &  833                &  842                &  -9                 & DL                  & ...                 & EWR                 & ATL                 & 120                 &  746                & 6                   & 15                  & 2013-01-01 06:00:00 &  -9                 & 2.0000000           &  -4.5000000        \\\\\n",
       "\t ... & ... & ... & ... & ... & ... & ... & ... & ... & ... &     & ... & ... & ... & ... & ... & ... & ... & ... & ... & ...\\\\\n",
       "\t 2013                & 9                   & 30                  & 2123                & 2125                &  -2                 & 2223                & 2247                & -24                 & EV                  & ...                 & LGA                 & CHO                 &  45                 &  305                & 21                  & 25                  & 2013-09-30 21:00:00 & -22                 & 0.7500000           & -29.333333         \\\\\n",
       "\t 2013                & 9                   & 30                  & 2127                & 2129                &  -2                 & 2314                & 2323                &  -9                 & EV                  & ...                 & EWR                 & CLT                 &  72                 &  529                & 21                  & 29                  & 2013-09-30 21:00:00 &  -7                 & 1.2000000           &  -5.833333         \\\\\n",
       "\t 2013                & 9                   & 30                  & 2128                & 2130                &  -2                 & 2328                & 2359                & -31                 & B6                  & ...                 & JFK                 & DEN                 & 213                 & 1626                & 21                  & 30                  & 2013-09-30 21:00:00 & -29                 & 3.5500000           &  -8.169014         \\\\\n",
       "\t 2013                & 9                   & 30                  & 2129                & 2059                &  30                 & 2230                & 2232                &  -2                 & EV                  & ...                 & LGA                 & RIC                 &  45                 &  292                & 20                  & 59                  & 2013-09-30 20:00:00 & -32                 & 0.7500000           & -42.666667         \\\\\n",
       "\t 2013                & 9                   & 30                  & 2131                & 2140                &  -9                 & 2225                & 2255                & -30                 & MQ                  & ...                 & JFK                 & DCA                 &  36                 &  213                & 21                  & 40                  & 2013-09-30 21:00:00 & -21                 & 0.6000000           & -35.000000         \\\\\n",
       "\t 2013                & 9                   & 30                  & 2140                & 2140                &   0                 &   10                &   40                & -30                 & AA                  & ...                 & JFK                 & LAX                 & 298                 & 2475                & 21                  & 40                  & 2013-09-30 21:00:00 & -30                 & 4.9666667           &  -6.040268         \\\\\n",
       "\t 2013                & 9                   & 30                  & 2142                & 2129                &  13                 & 2250                & 2239                &  11                 & EV                  & ...                 & EWR                 & PWM                 &  47                 &  284                & 21                  & 29                  & 2013-09-30 21:00:00 &  -2                 & 0.7833333           &  -2.553191         \\\\\n",
       "\t 2013                & 9                   & 30                  & 2145                & 2145                &   0                 &  115                &  140                & -25                 & B6                  & ...                 & JFK                 & SJU                 & 192                 & 1598                & 21                  & 45                  & 2013-09-30 21:00:00 & -25                 & 3.2000000           &  -7.812500         \\\\\n",
       "\t 2013                & 9                   & 30                  & 2147                & 2137                &  10                 &   30                &   27                &   3                 & B6                  & ...                 & LGA                 & FLL                 & 139                 & 1076                & 21                  & 37                  & 2013-09-30 21:00:00 &  -7                 & 2.3166667           &  -3.021583         \\\\\n",
       "\t 2013                & 9                   & 30                  & 2149                & 2156                &  -7                 & 2245                & 2308                & -23                 & UA                  & ...                 & EWR                 & BOS                 &  37                 &  200                & 21                  & 56                  & 2013-09-30 21:00:00 & -16                 & 0.6166667           & -25.945946         \\\\\n",
       "\t 2013                & 9                   & 30                  & 2150                & 2159                &  -9                 & 2250                & 2306                & -16                 & EV                  & ...                 & EWR                 & MHT                 &  39                 &  209                & 21                  & 59                  & 2013-09-30 21:00:00 &  -7                 & 0.6500000           & -10.769231         \\\\\n",
       "\t 2013                & 9                   & 30                  & 2159                & 1845                & 194                 & 2344                & 2030                & 194                 & 9E                  & ...                 & JFK                 & BUF                 &  50                 &  301                & 18                  & 45                  & 2013-09-30 18:00:00 &   0                 & 0.8333333           &   0.000000         \\\\\n",
       "\t 2013                & 9                   & 30                  & 2203                & 2205                &  -2                 & 2339                & 2331                &   8                 & EV                  & ...                 & LGA                 & BGR                 &  61                 &  378                & 22                  &  5                  & 2013-09-30 22:00:00 &  10                 & 1.0166667           &   9.836066         \\\\\n",
       "\t 2013                & 9                   & 30                  & 2207                & 2140                &  27                 & 2257                & 2250                &   7                 & MQ                  & ...                 & LGA                 & BNA                 &  97                 &  764                & 21                  & 40                  & 2013-09-30 21:00:00 & -20                 & 1.6166667           & -12.371134         \\\\\n",
       "\t 2013                & 9                   & 30                  & 2211                & 2059                &  72                 & 2339                & 2242                &  57                 & EV                  & ...                 & EWR                 & STL                 & 120                 &  872                & 20                  & 59                  & 2013-09-30 20:00:00 & -15                 & 2.0000000           &  -7.500000         \\\\\n",
       "\t 2013                & 9                   & 30                  & 2231                & 2245                & -14                 & 2335                & 2356                & -21                 & B6                  & ...                 & JFK                 & PWM                 &  48                 &  273                & 22                  & 45                  & 2013-09-30 22:00:00 &  -7                 & 0.8000000           &  -8.750000         \\\\\n",
       "\t 2013                & 9                   & 30                  & 2233                & 2113                &  80                 &  112                &   30                &  42                 & UA                  & ...                 & EWR                 & SFO                 & 318                 & 2565                & 21                  & 13                  & 2013-09-30 21:00:00 & -38                 & 5.3000000           &  -7.169811         \\\\\n",
       "\t 2013                & 9                   & 30                  & 2235                & 2001                & 154                 &   59                & 2249                & 130                 & B6                  & ...                 & JFK                 & MCO                 & 123                 &  944                & 20                  &  1                  & 2013-09-30 20:00:00 & -24                 & 2.0500000           & -11.707317         \\\\\n",
       "\t 2013                & 9                   & 30                  & 2237                & 2245                &  -8                 & 2345                & 2353                &  -8                 & B6                  & ...                 & JFK                 & BTV                 &  43                 &  266                & 22                  & 45                  & 2013-09-30 22:00:00 &   0                 & 0.7166667           &   0.000000         \\\\\n",
       "\t 2013                & 9                   & 30                  & 2240                & 2245                &  -5                 & 2334                & 2351                & -17                 & B6                  & ...                 & JFK                 & SYR                 &  41                 &  209                & 22                  & 45                  & 2013-09-30 22:00:00 & -12                 & 0.6833333           & -17.560976         \\\\\n",
       "\t 2013                & 9                   & 30                  & 2240                & 2250                & -10                 & 2347                &    7                & -20                 & B6                  & ...                 & JFK                 & BUF                 &  52                 &  301                & 22                  & 50                  & 2013-09-30 22:00:00 & -10                 & 0.8666667           & -11.538462         \\\\\n",
       "\t 2013                & 9                   & 30                  & 2241                & 2246                &  -5                 & 2345                &    1                & -16                 & B6                  & ...                 & JFK                 & ROC                 &  47                 &  264                & 22                  & 46                  & 2013-09-30 22:00:00 & -11                 & 0.7833333           & -14.042553         \\\\\n",
       "\t 2013                & 9                   & 30                  & 2307                & 2255                &  12                 & 2359                & 2358                &   1                 & B6                  & ...                 & JFK                 & BOS                 &  33                 &  187                & 22                  & 55                  & 2013-09-30 22:00:00 & -11                 & 0.5500000           & -20.000000         \\\\\n",
       "\t 2013                & 9                   & 30                  & 2349                & 2359                & -10                 &  325                &  350                & -25                 & B6                  & ...                 & JFK                 & PSE                 & 196                 & 1617                & 23                  & 59                  & 2013-09-30 23:00:00 & -15                 & 3.2666667           &  -4.591837         \\\\\n",
       "\t 2013                & 9                   & 30                  &   NA                & 1842                &  NA                 &   NA                & 2019                &  NA                 & EV                  & ...                 & LGA                 & BNA                 &  NA                 &  764                & 18                  & 42                  & 2013-09-30 18:00:00 &  NA                 &        NA           &         NA         \\\\\n",
       "\t 2013                & 9                   & 30                  &   NA                & 1455                &  NA                 &   NA                & 1634                &  NA                 & 9E                  & ...                 & JFK                 & DCA                 &  NA                 &  213                & 14                  & 55                  & 2013-09-30 14:00:00 &  NA                 &        NA           &         NA         \\\\\n",
       "\t 2013                & 9                   & 30                  &   NA                & 2200                &  NA                 &   NA                & 2312                &  NA                 & 9E                  & ...                 & LGA                 & SYR                 &  NA                 &  198                & 22                  &  0                  & 2013-09-30 22:00:00 &  NA                 &        NA           &         NA         \\\\\n",
       "\t 2013                & 9                   & 30                  &   NA                & 1210                &  NA                 &   NA                & 1330                &  NA                 & MQ                  & ...                 & LGA                 & BNA                 &  NA                 &  764                & 12                  & 10                  & 2013-09-30 12:00:00 &  NA                 &        NA           &         NA         \\\\\n",
       "\t 2013                & 9                   & 30                  &   NA                & 1159                &  NA                 &   NA                & 1344                &  NA                 & MQ                  & ...                 & LGA                 & CLE                 &  NA                 &  419                & 11                  & 59                  & 2013-09-30 11:00:00 &  NA                 &        NA           &         NA         \\\\\n",
       "\t 2013                & 9                   & 30                  &   NA                &  840                &  NA                 &   NA                & 1020                &  NA                 & MQ                  & ...                 & LGA                 & RDU                 &  NA                 &  431                &  8                  & 40                  & 2013-09-30 08:00:00 &  NA                 &        NA           &         NA         \\\\\n",
       "\\end{tabular}\n"
      ],
      "text/markdown": [
       "\n",
       "| year | month | day | dep_time | sched_dep_time | dep_delay | arr_time | sched_arr_time | arr_delay | carrier | ... | origin | dest | air_time | distance | hour | minute | time_hour | gain | hours | gain_per_hour |\n",
       "|---|---|---|---|---|---|---|---|---|---|---|---|---|---|---|---|---|---|---|---|---|\n",
       "| 2013                | 1                   | 1                   | 517                 | 515                 |  2                  |  830                |  819                |  11                 | UA                  | ...                 | EWR                 | IAH                 | 227                 | 1400                | 5                   | 15                  | 2013-01-01 05:00:00 |   9                 | 3.7833333           |   2.3788546         |\n",
       "| 2013                | 1                   | 1                   | 533                 | 529                 |  4                  |  850                |  830                |  20                 | UA                  | ...                 | LGA                 | IAH                 | 227                 | 1416                | 5                   | 29                  | 2013-01-01 05:00:00 |  16                 | 3.7833333           |   4.2290749         |\n",
       "| 2013                | 1                   | 1                   | 542                 | 540                 |  2                  |  923                |  850                |  33                 | AA                  | ...                 | JFK                 | MIA                 | 160                 | 1089                | 5                   | 40                  | 2013-01-01 05:00:00 |  31                 | 2.6666667           |  11.6250000         |\n",
       "| 2013                | 1                   | 1                   | 544                 | 545                 | -1                  | 1004                | 1022                | -18                 | B6                  | ...                 | JFK                 | BQN                 | 183                 | 1576                | 5                   | 45                  | 2013-01-01 05:00:00 | -17                 | 3.0500000           |  -5.5737705         |\n",
       "| 2013                | 1                   | 1                   | 554                 | 600                 | -6                  |  812                |  837                | -25                 | DL                  | ...                 | LGA                 | ATL                 | 116                 |  762                | 6                   |  0                  | 2013-01-01 06:00:00 | -19                 | 1.9333333           |  -9.8275862         |\n",
       "| 2013                | 1                   | 1                   | 554                 | 558                 | -4                  |  740                |  728                |  12                 | UA                  | ...                 | EWR                 | ORD                 | 150                 |  719                | 5                   | 58                  | 2013-01-01 05:00:00 |  16                 | 2.5000000           |   6.4000000         |\n",
       "| 2013                | 1                   | 1                   | 555                 | 600                 | -5                  |  913                |  854                |  19                 | B6                  | ...                 | EWR                 | FLL                 | 158                 | 1065                | 6                   |  0                  | 2013-01-01 06:00:00 |  24                 | 2.6333333           |   9.1139241         |\n",
       "| 2013                | 1                   | 1                   | 557                 | 600                 | -3                  |  709                |  723                | -14                 | EV                  | ...                 | LGA                 | IAD                 |  53                 |  229                | 6                   |  0                  | 2013-01-01 06:00:00 | -11                 | 0.8833333           | -12.4528302         |\n",
       "| 2013                | 1                   | 1                   | 557                 | 600                 | -3                  |  838                |  846                |  -8                 | B6                  | ...                 | JFK                 | MCO                 | 140                 |  944                | 6                   |  0                  | 2013-01-01 06:00:00 |  -5                 | 2.3333333           |  -2.1428571         |\n",
       "| 2013                | 1                   | 1                   | 558                 | 600                 | -2                  |  753                |  745                |   8                 | AA                  | ...                 | LGA                 | ORD                 | 138                 |  733                | 6                   |  0                  | 2013-01-01 06:00:00 |  10                 | 2.3000000           |   4.3478261         |\n",
       "| 2013                | 1                   | 1                   | 558                 | 600                 | -2                  |  849                |  851                |  -2                 | B6                  | ...                 | JFK                 | PBI                 | 149                 | 1028                | 6                   |  0                  | 2013-01-01 06:00:00 |   0                 | 2.4833333           |   0.0000000         |\n",
       "| 2013                | 1                   | 1                   | 558                 | 600                 | -2                  |  853                |  856                |  -3                 | B6                  | ...                 | JFK                 | TPA                 | 158                 | 1005                | 6                   |  0                  | 2013-01-01 06:00:00 |  -1                 | 2.6333333           |  -0.3797468         |\n",
       "| 2013                | 1                   | 1                   | 558                 | 600                 | -2                  |  924                |  917                |   7                 | UA                  | ...                 | JFK                 | LAX                 | 345                 | 2475                | 6                   |  0                  | 2013-01-01 06:00:00 |   9                 | 5.7500000           |   1.5652174         |\n",
       "| 2013                | 1                   | 1                   | 558                 | 600                 | -2                  |  923                |  937                | -14                 | UA                  | ...                 | EWR                 | SFO                 | 361                 | 2565                | 6                   |  0                  | 2013-01-01 06:00:00 | -12                 | 6.0166667           |  -1.9944598         |\n",
       "| 2013                | 1                   | 1                   | 559                 | 600                 | -1                  |  941                |  910                |  31                 | AA                  | ...                 | LGA                 | DFW                 | 257                 | 1389                | 6                   |  0                  | 2013-01-01 06:00:00 |  32                 | 4.2833333           |   7.4708171         |\n",
       "| 2013                | 1                   | 1                   | 559                 | 559                 |  0                  |  702                |  706                |  -4                 | B6                  | ...                 | JFK                 | BOS                 |  44                 |  187                | 5                   | 59                  | 2013-01-01 05:00:00 |  -4                 | 0.7333333           |  -5.4545455         |\n",
       "| 2013                | 1                   | 1                   | 559                 | 600                 | -1                  |  854                |  902                |  -8                 | UA                  | ...                 | EWR                 | LAS                 | 337                 | 2227                | 6                   |  0                  | 2013-01-01 06:00:00 |  -7                 | 5.6166667           |  -1.2462908         |\n",
       "| 2013                | 1                   | 1                   | 600                 | 600                 |  0                  |  851                |  858                |  -7                 | B6                  | ...                 | LGA                 | FLL                 | 152                 | 1076                | 6                   |  0                  | 2013-01-01 06:00:00 |  -7                 | 2.5333333           |  -2.7631579         |\n",
       "| 2013                | 1                   | 1                   | 600                 | 600                 |  0                  |  837                |  825                |  12                 | MQ                  | ...                 | LGA                 | ATL                 | 134                 |  762                | 6                   |  0                  | 2013-01-01 06:00:00 |  12                 | 2.2333333           |   5.3731343         |\n",
       "| 2013                | 1                   | 1                   | 601                 | 600                 |  1                  |  844                |  850                |  -6                 | B6                  | ...                 | EWR                 | PBI                 | 147                 | 1023                | 6                   |  0                  | 2013-01-01 06:00:00 |  -7                 | 2.4500000           |  -2.8571429         |\n",
       "| 2013                | 1                   | 1                   | 602                 | 610                 | -8                  |  812                |  820                |  -8                 | DL                  | ...                 | LGA                 | MSP                 | 170                 | 1020                | 6                   | 10                  | 2013-01-01 06:00:00 |   0                 | 2.8333333           |   0.0000000         |\n",
       "| 2013                | 1                   | 1                   | 602                 | 605                 | -3                  |  821                |  805                |  16                 | MQ                  | ...                 | LGA                 | DTW                 | 105                 |  502                | 6                   |  5                  | 2013-01-01 06:00:00 |  19                 | 1.7500000           |  10.8571429         |\n",
       "| 2013                | 1                   | 1                   | 606                 | 610                 | -4                  |  858                |  910                | -12                 | AA                  | ...                 | EWR                 | MIA                 | 152                 | 1085                | 6                   | 10                  | 2013-01-01 06:00:00 |  -8                 | 2.5333333           |  -3.1578947         |\n",
       "| 2013                | 1                   | 1                   | 606                 | 610                 | -4                  |  837                |  845                |  -8                 | DL                  | ...                 | JFK                 | ATL                 | 128                 |  760                | 6                   | 10                  | 2013-01-01 06:00:00 |  -4                 | 2.1333333           |  -1.8750000         |\n",
       "| 2013                | 1                   | 1                   | 607                 | 607                 |  0                  |  858                |  915                | -17                 | UA                  | ...                 | EWR                 | MIA                 | 157                 | 1085                | 6                   |  7                  | 2013-01-01 06:00:00 | -17                 | 2.6166667           |  -6.4968153         |\n",
       "| 2013                | 1                   | 1                   | 608                 | 600                 |  8                  |  807                |  735                |  32                 | MQ                  | ...                 | EWR                 | ORD                 | 139                 |  719                | 6                   |  0                  | 2013-01-01 06:00:00 |  24                 | 2.3166667           |  10.3597122         |\n",
       "| 2013                | 1                   | 1                   | 611                 | 600                 | 11                  |  945                |  931                |  14                 | UA                  | ...                 | JFK                 | SFO                 | 366                 | 2586                | 6                   |  0                  | 2013-01-01 06:00:00 |   3                 | 6.1000000           |   0.4918033         |\n",
       "| 2013                | 1                   | 1                   | 613                 | 610                 |  3                  |  925                |  921                |   4                 | B6                  | ...                 | JFK                 | RSW                 | 175                 | 1074                | 6                   | 10                  | 2013-01-01 06:00:00 |   1                 | 2.9166667           |   0.3428571         |\n",
       "| 2013                | 1                   | 1                   | 615                 | 615                 |  0                  | 1039                | 1100                | -21                 | B6                  | ...                 | JFK                 | SJU                 | 182                 | 1598                | 6                   | 15                  | 2013-01-01 06:00:00 | -21                 | 3.0333333           |  -6.9230769         |\n",
       "| 2013                | 1                   | 1                   | 615                 | 615                 |  0                  |  833                |  842                |  -9                 | DL                  | ...                 | EWR                 | ATL                 | 120                 |  746                | 6                   | 15                  | 2013-01-01 06:00:00 |  -9                 | 2.0000000           |  -4.5000000         |\n",
       "| ... | ... | ... | ... | ... | ... | ... | ... | ... | ... |     | ... | ... | ... | ... | ... | ... | ... | ... | ... | ... |\n",
       "| 2013                | 9                   | 30                  | 2123                | 2125                |  -2                 | 2223                | 2247                | -24                 | EV                  | ...                 | LGA                 | CHO                 |  45                 |  305                | 21                  | 25                  | 2013-09-30 21:00:00 | -22                 | 0.7500000           | -29.333333          |\n",
       "| 2013                | 9                   | 30                  | 2127                | 2129                |  -2                 | 2314                | 2323                |  -9                 | EV                  | ...                 | EWR                 | CLT                 |  72                 |  529                | 21                  | 29                  | 2013-09-30 21:00:00 |  -7                 | 1.2000000           |  -5.833333          |\n",
       "| 2013                | 9                   | 30                  | 2128                | 2130                |  -2                 | 2328                | 2359                | -31                 | B6                  | ...                 | JFK                 | DEN                 | 213                 | 1626                | 21                  | 30                  | 2013-09-30 21:00:00 | -29                 | 3.5500000           |  -8.169014          |\n",
       "| 2013                | 9                   | 30                  | 2129                | 2059                |  30                 | 2230                | 2232                |  -2                 | EV                  | ...                 | LGA                 | RIC                 |  45                 |  292                | 20                  | 59                  | 2013-09-30 20:00:00 | -32                 | 0.7500000           | -42.666667          |\n",
       "| 2013                | 9                   | 30                  | 2131                | 2140                |  -9                 | 2225                | 2255                | -30                 | MQ                  | ...                 | JFK                 | DCA                 |  36                 |  213                | 21                  | 40                  | 2013-09-30 21:00:00 | -21                 | 0.6000000           | -35.000000          |\n",
       "| 2013                | 9                   | 30                  | 2140                | 2140                |   0                 |   10                |   40                | -30                 | AA                  | ...                 | JFK                 | LAX                 | 298                 | 2475                | 21                  | 40                  | 2013-09-30 21:00:00 | -30                 | 4.9666667           |  -6.040268          |\n",
       "| 2013                | 9                   | 30                  | 2142                | 2129                |  13                 | 2250                | 2239                |  11                 | EV                  | ...                 | EWR                 | PWM                 |  47                 |  284                | 21                  | 29                  | 2013-09-30 21:00:00 |  -2                 | 0.7833333           |  -2.553191          |\n",
       "| 2013                | 9                   | 30                  | 2145                | 2145                |   0                 |  115                |  140                | -25                 | B6                  | ...                 | JFK                 | SJU                 | 192                 | 1598                | 21                  | 45                  | 2013-09-30 21:00:00 | -25                 | 3.2000000           |  -7.812500          |\n",
       "| 2013                | 9                   | 30                  | 2147                | 2137                |  10                 |   30                |   27                |   3                 | B6                  | ...                 | LGA                 | FLL                 | 139                 | 1076                | 21                  | 37                  | 2013-09-30 21:00:00 |  -7                 | 2.3166667           |  -3.021583          |\n",
       "| 2013                | 9                   | 30                  | 2149                | 2156                |  -7                 | 2245                | 2308                | -23                 | UA                  | ...                 | EWR                 | BOS                 |  37                 |  200                | 21                  | 56                  | 2013-09-30 21:00:00 | -16                 | 0.6166667           | -25.945946          |\n",
       "| 2013                | 9                   | 30                  | 2150                | 2159                |  -9                 | 2250                | 2306                | -16                 | EV                  | ...                 | EWR                 | MHT                 |  39                 |  209                | 21                  | 59                  | 2013-09-30 21:00:00 |  -7                 | 0.6500000           | -10.769231          |\n",
       "| 2013                | 9                   | 30                  | 2159                | 1845                | 194                 | 2344                | 2030                | 194                 | 9E                  | ...                 | JFK                 | BUF                 |  50                 |  301                | 18                  | 45                  | 2013-09-30 18:00:00 |   0                 | 0.8333333           |   0.000000          |\n",
       "| 2013                | 9                   | 30                  | 2203                | 2205                |  -2                 | 2339                | 2331                |   8                 | EV                  | ...                 | LGA                 | BGR                 |  61                 |  378                | 22                  |  5                  | 2013-09-30 22:00:00 |  10                 | 1.0166667           |   9.836066          |\n",
       "| 2013                | 9                   | 30                  | 2207                | 2140                |  27                 | 2257                | 2250                |   7                 | MQ                  | ...                 | LGA                 | BNA                 |  97                 |  764                | 21                  | 40                  | 2013-09-30 21:00:00 | -20                 | 1.6166667           | -12.371134          |\n",
       "| 2013                | 9                   | 30                  | 2211                | 2059                |  72                 | 2339                | 2242                |  57                 | EV                  | ...                 | EWR                 | STL                 | 120                 |  872                | 20                  | 59                  | 2013-09-30 20:00:00 | -15                 | 2.0000000           |  -7.500000          |\n",
       "| 2013                | 9                   | 30                  | 2231                | 2245                | -14                 | 2335                | 2356                | -21                 | B6                  | ...                 | JFK                 | PWM                 |  48                 |  273                | 22                  | 45                  | 2013-09-30 22:00:00 |  -7                 | 0.8000000           |  -8.750000          |\n",
       "| 2013                | 9                   | 30                  | 2233                | 2113                |  80                 |  112                |   30                |  42                 | UA                  | ...                 | EWR                 | SFO                 | 318                 | 2565                | 21                  | 13                  | 2013-09-30 21:00:00 | -38                 | 5.3000000           |  -7.169811          |\n",
       "| 2013                | 9                   | 30                  | 2235                | 2001                | 154                 |   59                | 2249                | 130                 | B6                  | ...                 | JFK                 | MCO                 | 123                 |  944                | 20                  |  1                  | 2013-09-30 20:00:00 | -24                 | 2.0500000           | -11.707317          |\n",
       "| 2013                | 9                   | 30                  | 2237                | 2245                |  -8                 | 2345                | 2353                |  -8                 | B6                  | ...                 | JFK                 | BTV                 |  43                 |  266                | 22                  | 45                  | 2013-09-30 22:00:00 |   0                 | 0.7166667           |   0.000000          |\n",
       "| 2013                | 9                   | 30                  | 2240                | 2245                |  -5                 | 2334                | 2351                | -17                 | B6                  | ...                 | JFK                 | SYR                 |  41                 |  209                | 22                  | 45                  | 2013-09-30 22:00:00 | -12                 | 0.6833333           | -17.560976          |\n",
       "| 2013                | 9                   | 30                  | 2240                | 2250                | -10                 | 2347                |    7                | -20                 | B6                  | ...                 | JFK                 | BUF                 |  52                 |  301                | 22                  | 50                  | 2013-09-30 22:00:00 | -10                 | 0.8666667           | -11.538462          |\n",
       "| 2013                | 9                   | 30                  | 2241                | 2246                |  -5                 | 2345                |    1                | -16                 | B6                  | ...                 | JFK                 | ROC                 |  47                 |  264                | 22                  | 46                  | 2013-09-30 22:00:00 | -11                 | 0.7833333           | -14.042553          |\n",
       "| 2013                | 9                   | 30                  | 2307                | 2255                |  12                 | 2359                | 2358                |   1                 | B6                  | ...                 | JFK                 | BOS                 |  33                 |  187                | 22                  | 55                  | 2013-09-30 22:00:00 | -11                 | 0.5500000           | -20.000000          |\n",
       "| 2013                | 9                   | 30                  | 2349                | 2359                | -10                 |  325                |  350                | -25                 | B6                  | ...                 | JFK                 | PSE                 | 196                 | 1617                | 23                  | 59                  | 2013-09-30 23:00:00 | -15                 | 3.2666667           |  -4.591837          |\n",
       "| 2013                | 9                   | 30                  |   NA                | 1842                |  NA                 |   NA                | 2019                |  NA                 | EV                  | ...                 | LGA                 | BNA                 |  NA                 |  764                | 18                  | 42                  | 2013-09-30 18:00:00 |  NA                 |        NA           |         NA          |\n",
       "| 2013                | 9                   | 30                  |   NA                | 1455                |  NA                 |   NA                | 1634                |  NA                 | 9E                  | ...                 | JFK                 | DCA                 |  NA                 |  213                | 14                  | 55                  | 2013-09-30 14:00:00 |  NA                 |        NA           |         NA          |\n",
       "| 2013                | 9                   | 30                  |   NA                | 2200                |  NA                 |   NA                | 2312                |  NA                 | 9E                  | ...                 | LGA                 | SYR                 |  NA                 |  198                | 22                  |  0                  | 2013-09-30 22:00:00 |  NA                 |        NA           |         NA          |\n",
       "| 2013                | 9                   | 30                  |   NA                | 1210                |  NA                 |   NA                | 1330                |  NA                 | MQ                  | ...                 | LGA                 | BNA                 |  NA                 |  764                | 12                  | 10                  | 2013-09-30 12:00:00 |  NA                 |        NA           |         NA          |\n",
       "| 2013                | 9                   | 30                  |   NA                | 1159                |  NA                 |   NA                | 1344                |  NA                 | MQ                  | ...                 | LGA                 | CLE                 |  NA                 |  419                | 11                  | 59                  | 2013-09-30 11:00:00 |  NA                 |        NA           |         NA          |\n",
       "| 2013                | 9                   | 30                  |   NA                |  840                |  NA                 |   NA                | 1020                |  NA                 | MQ                  | ...                 | LGA                 | RDU                 |  NA                 |  431                |  8                  | 40                  | 2013-09-30 08:00:00 |  NA                 |        NA           |         NA          |\n",
       "\n"
      ],
      "text/plain": [
       "       year month day dep_time sched_dep_time dep_delay arr_time sched_arr_time\n",
       "1      2013 1     1   517      515             2         830      819          \n",
       "2      2013 1     1   533      529             4         850      830          \n",
       "3      2013 1     1   542      540             2         923      850          \n",
       "4      2013 1     1   544      545            -1        1004     1022          \n",
       "5      2013 1     1   554      600            -6         812      837          \n",
       "6      2013 1     1   554      558            -4         740      728          \n",
       "7      2013 1     1   555      600            -5         913      854          \n",
       "8      2013 1     1   557      600            -3         709      723          \n",
       "9      2013 1     1   557      600            -3         838      846          \n",
       "10     2013 1     1   558      600            -2         753      745          \n",
       "11     2013 1     1   558      600            -2         849      851          \n",
       "12     2013 1     1   558      600            -2         853      856          \n",
       "13     2013 1     1   558      600            -2         924      917          \n",
       "14     2013 1     1   558      600            -2         923      937          \n",
       "15     2013 1     1   559      600            -1         941      910          \n",
       "16     2013 1     1   559      559             0         702      706          \n",
       "17     2013 1     1   559      600            -1         854      902          \n",
       "18     2013 1     1   600      600             0         851      858          \n",
       "19     2013 1     1   600      600             0         837      825          \n",
       "20     2013 1     1   601      600             1         844      850          \n",
       "21     2013 1     1   602      610            -8         812      820          \n",
       "22     2013 1     1   602      605            -3         821      805          \n",
       "23     2013 1     1   606      610            -4         858      910          \n",
       "24     2013 1     1   606      610            -4         837      845          \n",
       "25     2013 1     1   607      607             0         858      915          \n",
       "26     2013 1     1   608      600             8         807      735          \n",
       "27     2013 1     1   611      600            11         945      931          \n",
       "28     2013 1     1   613      610             3         925      921          \n",
       "29     2013 1     1   615      615             0        1039     1100          \n",
       "30     2013 1     1   615      615             0         833      842          \n",
       "...    ...  ...   ... ...      ...            ...       ...      ...           \n",
       "336747 2013 9     30  2123     2125            -2       2223     2247          \n",
       "336748 2013 9     30  2127     2129            -2       2314     2323          \n",
       "336749 2013 9     30  2128     2130            -2       2328     2359          \n",
       "336750 2013 9     30  2129     2059            30       2230     2232          \n",
       "336751 2013 9     30  2131     2140            -9       2225     2255          \n",
       "336752 2013 9     30  2140     2140             0         10       40          \n",
       "336753 2013 9     30  2142     2129            13       2250     2239          \n",
       "336754 2013 9     30  2145     2145             0        115      140          \n",
       "336755 2013 9     30  2147     2137            10         30       27          \n",
       "336756 2013 9     30  2149     2156            -7       2245     2308          \n",
       "336757 2013 9     30  2150     2159            -9       2250     2306          \n",
       "336758 2013 9     30  2159     1845           194       2344     2030          \n",
       "336759 2013 9     30  2203     2205            -2       2339     2331          \n",
       "336760 2013 9     30  2207     2140            27       2257     2250          \n",
       "336761 2013 9     30  2211     2059            72       2339     2242          \n",
       "336762 2013 9     30  2231     2245           -14       2335     2356          \n",
       "336763 2013 9     30  2233     2113            80        112       30          \n",
       "336764 2013 9     30  2235     2001           154         59     2249          \n",
       "336765 2013 9     30  2237     2245            -8       2345     2353          \n",
       "336766 2013 9     30  2240     2245            -5       2334     2351          \n",
       "336767 2013 9     30  2240     2250           -10       2347        7          \n",
       "336768 2013 9     30  2241     2246            -5       2345        1          \n",
       "336769 2013 9     30  2307     2255            12       2359     2358          \n",
       "336770 2013 9     30  2349     2359           -10        325      350          \n",
       "336771 2013 9     30    NA     1842            NA         NA     2019          \n",
       "336772 2013 9     30    NA     1455            NA         NA     1634          \n",
       "336773 2013 9     30    NA     2200            NA         NA     2312          \n",
       "336774 2013 9     30    NA     1210            NA         NA     1330          \n",
       "336775 2013 9     30    NA     1159            NA         NA     1344          \n",
       "336776 2013 9     30    NA      840            NA         NA     1020          \n",
       "       arr_delay carrier ... origin dest air_time distance hour minute\n",
       "1       11       UA      ... EWR    IAH  227      1400     5    15    \n",
       "2       20       UA      ... LGA    IAH  227      1416     5    29    \n",
       "3       33       AA      ... JFK    MIA  160      1089     5    40    \n",
       "4      -18       B6      ... JFK    BQN  183      1576     5    45    \n",
       "5      -25       DL      ... LGA    ATL  116       762     6     0    \n",
       "6       12       UA      ... EWR    ORD  150       719     5    58    \n",
       "7       19       B6      ... EWR    FLL  158      1065     6     0    \n",
       "8      -14       EV      ... LGA    IAD   53       229     6     0    \n",
       "9       -8       B6      ... JFK    MCO  140       944     6     0    \n",
       "10       8       AA      ... LGA    ORD  138       733     6     0    \n",
       "11      -2       B6      ... JFK    PBI  149      1028     6     0    \n",
       "12      -3       B6      ... JFK    TPA  158      1005     6     0    \n",
       "13       7       UA      ... JFK    LAX  345      2475     6     0    \n",
       "14     -14       UA      ... EWR    SFO  361      2565     6     0    \n",
       "15      31       AA      ... LGA    DFW  257      1389     6     0    \n",
       "16      -4       B6      ... JFK    BOS   44       187     5    59    \n",
       "17      -8       UA      ... EWR    LAS  337      2227     6     0    \n",
       "18      -7       B6      ... LGA    FLL  152      1076     6     0    \n",
       "19      12       MQ      ... LGA    ATL  134       762     6     0    \n",
       "20      -6       B6      ... EWR    PBI  147      1023     6     0    \n",
       "21      -8       DL      ... LGA    MSP  170      1020     6    10    \n",
       "22      16       MQ      ... LGA    DTW  105       502     6     5    \n",
       "23     -12       AA      ... EWR    MIA  152      1085     6    10    \n",
       "24      -8       DL      ... JFK    ATL  128       760     6    10    \n",
       "25     -17       UA      ... EWR    MIA  157      1085     6     7    \n",
       "26      32       MQ      ... EWR    ORD  139       719     6     0    \n",
       "27      14       UA      ... JFK    SFO  366      2586     6     0    \n",
       "28       4       B6      ... JFK    RSW  175      1074     6    10    \n",
       "29     -21       B6      ... JFK    SJU  182      1598     6    15    \n",
       "30      -9       DL      ... EWR    ATL  120       746     6    15    \n",
       "...    ...       ...         ...    ...  ...      ...      ...  ...   \n",
       "336747 -24       EV      ... LGA    CHO   45       305     21   25    \n",
       "336748  -9       EV      ... EWR    CLT   72       529     21   29    \n",
       "336749 -31       B6      ... JFK    DEN  213      1626     21   30    \n",
       "336750  -2       EV      ... LGA    RIC   45       292     20   59    \n",
       "336751 -30       MQ      ... JFK    DCA   36       213     21   40    \n",
       "336752 -30       AA      ... JFK    LAX  298      2475     21   40    \n",
       "336753  11       EV      ... EWR    PWM   47       284     21   29    \n",
       "336754 -25       B6      ... JFK    SJU  192      1598     21   45    \n",
       "336755   3       B6      ... LGA    FLL  139      1076     21   37    \n",
       "336756 -23       UA      ... EWR    BOS   37       200     21   56    \n",
       "336757 -16       EV      ... EWR    MHT   39       209     21   59    \n",
       "336758 194       9E      ... JFK    BUF   50       301     18   45    \n",
       "336759   8       EV      ... LGA    BGR   61       378     22    5    \n",
       "336760   7       MQ      ... LGA    BNA   97       764     21   40    \n",
       "336761  57       EV      ... EWR    STL  120       872     20   59    \n",
       "336762 -21       B6      ... JFK    PWM   48       273     22   45    \n",
       "336763  42       UA      ... EWR    SFO  318      2565     21   13    \n",
       "336764 130       B6      ... JFK    MCO  123       944     20    1    \n",
       "336765  -8       B6      ... JFK    BTV   43       266     22   45    \n",
       "336766 -17       B6      ... JFK    SYR   41       209     22   45    \n",
       "336767 -20       B6      ... JFK    BUF   52       301     22   50    \n",
       "336768 -16       B6      ... JFK    ROC   47       264     22   46    \n",
       "336769   1       B6      ... JFK    BOS   33       187     22   55    \n",
       "336770 -25       B6      ... JFK    PSE  196      1617     23   59    \n",
       "336771  NA       EV      ... LGA    BNA   NA       764     18   42    \n",
       "336772  NA       9E      ... JFK    DCA   NA       213     14   55    \n",
       "336773  NA       9E      ... LGA    SYR   NA       198     22    0    \n",
       "336774  NA       MQ      ... LGA    BNA   NA       764     12   10    \n",
       "336775  NA       MQ      ... LGA    CLE   NA       419     11   59    \n",
       "336776  NA       MQ      ... LGA    RDU   NA       431      8   40    \n",
       "       time_hour           gain hours     gain_per_hour\n",
       "1      2013-01-01 05:00:00   9  3.7833333   2.3788546  \n",
       "2      2013-01-01 05:00:00  16  3.7833333   4.2290749  \n",
       "3      2013-01-01 05:00:00  31  2.6666667  11.6250000  \n",
       "4      2013-01-01 05:00:00 -17  3.0500000  -5.5737705  \n",
       "5      2013-01-01 06:00:00 -19  1.9333333  -9.8275862  \n",
       "6      2013-01-01 05:00:00  16  2.5000000   6.4000000  \n",
       "7      2013-01-01 06:00:00  24  2.6333333   9.1139241  \n",
       "8      2013-01-01 06:00:00 -11  0.8833333 -12.4528302  \n",
       "9      2013-01-01 06:00:00  -5  2.3333333  -2.1428571  \n",
       "10     2013-01-01 06:00:00  10  2.3000000   4.3478261  \n",
       "11     2013-01-01 06:00:00   0  2.4833333   0.0000000  \n",
       "12     2013-01-01 06:00:00  -1  2.6333333  -0.3797468  \n",
       "13     2013-01-01 06:00:00   9  5.7500000   1.5652174  \n",
       "14     2013-01-01 06:00:00 -12  6.0166667  -1.9944598  \n",
       "15     2013-01-01 06:00:00  32  4.2833333   7.4708171  \n",
       "16     2013-01-01 05:00:00  -4  0.7333333  -5.4545455  \n",
       "17     2013-01-01 06:00:00  -7  5.6166667  -1.2462908  \n",
       "18     2013-01-01 06:00:00  -7  2.5333333  -2.7631579  \n",
       "19     2013-01-01 06:00:00  12  2.2333333   5.3731343  \n",
       "20     2013-01-01 06:00:00  -7  2.4500000  -2.8571429  \n",
       "21     2013-01-01 06:00:00   0  2.8333333   0.0000000  \n",
       "22     2013-01-01 06:00:00  19  1.7500000  10.8571429  \n",
       "23     2013-01-01 06:00:00  -8  2.5333333  -3.1578947  \n",
       "24     2013-01-01 06:00:00  -4  2.1333333  -1.8750000  \n",
       "25     2013-01-01 06:00:00 -17  2.6166667  -6.4968153  \n",
       "26     2013-01-01 06:00:00  24  2.3166667  10.3597122  \n",
       "27     2013-01-01 06:00:00   3  6.1000000   0.4918033  \n",
       "28     2013-01-01 06:00:00   1  2.9166667   0.3428571  \n",
       "29     2013-01-01 06:00:00 -21  3.0333333  -6.9230769  \n",
       "30     2013-01-01 06:00:00  -9  2.0000000  -4.5000000  \n",
       "...    ...                 ...  ...       ...          \n",
       "336747 2013-09-30 21:00:00 -22  0.7500000 -29.333333   \n",
       "336748 2013-09-30 21:00:00  -7  1.2000000  -5.833333   \n",
       "336749 2013-09-30 21:00:00 -29  3.5500000  -8.169014   \n",
       "336750 2013-09-30 20:00:00 -32  0.7500000 -42.666667   \n",
       "336751 2013-09-30 21:00:00 -21  0.6000000 -35.000000   \n",
       "336752 2013-09-30 21:00:00 -30  4.9666667  -6.040268   \n",
       "336753 2013-09-30 21:00:00  -2  0.7833333  -2.553191   \n",
       "336754 2013-09-30 21:00:00 -25  3.2000000  -7.812500   \n",
       "336755 2013-09-30 21:00:00  -7  2.3166667  -3.021583   \n",
       "336756 2013-09-30 21:00:00 -16  0.6166667 -25.945946   \n",
       "336757 2013-09-30 21:00:00  -7  0.6500000 -10.769231   \n",
       "336758 2013-09-30 18:00:00   0  0.8333333   0.000000   \n",
       "336759 2013-09-30 22:00:00  10  1.0166667   9.836066   \n",
       "336760 2013-09-30 21:00:00 -20  1.6166667 -12.371134   \n",
       "336761 2013-09-30 20:00:00 -15  2.0000000  -7.500000   \n",
       "336762 2013-09-30 22:00:00  -7  0.8000000  -8.750000   \n",
       "336763 2013-09-30 21:00:00 -38  5.3000000  -7.169811   \n",
       "336764 2013-09-30 20:00:00 -24  2.0500000 -11.707317   \n",
       "336765 2013-09-30 22:00:00   0  0.7166667   0.000000   \n",
       "336766 2013-09-30 22:00:00 -12  0.6833333 -17.560976   \n",
       "336767 2013-09-30 22:00:00 -10  0.8666667 -11.538462   \n",
       "336768 2013-09-30 22:00:00 -11  0.7833333 -14.042553   \n",
       "336769 2013-09-30 22:00:00 -11  0.5500000 -20.000000   \n",
       "336770 2013-09-30 23:00:00 -15  3.2666667  -4.591837   \n",
       "336771 2013-09-30 18:00:00  NA         NA         NA   \n",
       "336772 2013-09-30 14:00:00  NA         NA         NA   \n",
       "336773 2013-09-30 22:00:00  NA         NA         NA   \n",
       "336774 2013-09-30 12:00:00  NA         NA         NA   \n",
       "336775 2013-09-30 11:00:00  NA         NA         NA   \n",
       "336776 2013-09-30 08:00:00  NA         NA         NA   "
      ]
     },
     "metadata": {},
     "output_type": "display_data"
    }
   ],
   "source": [
    "mutate(flights,\n",
    "       gain = arr_delay - dep_delay,\n",
    "       hours = air_time / 60,\n",
    "       gain_per_hour = gain / hours\n",
    "      )"
   ]
  },
  {
   "cell_type": "markdown",
   "metadata": {
    "slideshow": {
     "slide_type": "slide"
    }
   },
   "source": [
    "### Ejercicio 11: Crear una base de datos que solo incluya las columnas creadas"
   ]
  },
  {
   "cell_type": "code",
   "execution_count": 40,
   "metadata": {
    "slideshow": {
     "slide_type": "fragment"
    }
   },
   "outputs": [
    {
     "data": {
      "text/html": [
       "<table>\n",
       "<thead><tr><th scope=col>gain</th><th scope=col>hours</th><th scope=col>gain_per_hour</th></tr></thead>\n",
       "<tbody>\n",
       "\t<tr><td>  9      </td><td>3.783333 </td><td> 2.378855</td></tr>\n",
       "\t<tr><td> 16      </td><td>3.783333 </td><td> 4.229075</td></tr>\n",
       "\t<tr><td> 31      </td><td>2.666667 </td><td>11.625000</td></tr>\n",
       "\t<tr><td>-17      </td><td>3.050000 </td><td>-5.573770</td></tr>\n",
       "\t<tr><td>-19      </td><td>1.933333 </td><td>-9.827586</td></tr>\n",
       "\t<tr><td> 16      </td><td>2.500000 </td><td> 6.400000</td></tr>\n",
       "</tbody>\n",
       "</table>\n"
      ],
      "text/latex": [
       "\\begin{tabular}{r|lll}\n",
       " gain & hours & gain\\_per\\_hour\\\\\n",
       "\\hline\n",
       "\t   9       & 3.783333  &  2.378855\\\\\n",
       "\t  16       & 3.783333  &  4.229075\\\\\n",
       "\t  31       & 2.666667  & 11.625000\\\\\n",
       "\t -17       & 3.050000  & -5.573770\\\\\n",
       "\t -19       & 1.933333  & -9.827586\\\\\n",
       "\t  16       & 2.500000  &  6.400000\\\\\n",
       "\\end{tabular}\n"
      ],
      "text/markdown": [
       "\n",
       "| gain | hours | gain_per_hour |\n",
       "|---|---|---|\n",
       "|   9       | 3.783333  |  2.378855 |\n",
       "|  16       | 3.783333  |  4.229075 |\n",
       "|  31       | 2.666667  | 11.625000 |\n",
       "| -17       | 3.050000  | -5.573770 |\n",
       "| -19       | 1.933333  | -9.827586 |\n",
       "|  16       | 2.500000  |  6.400000 |\n",
       "\n"
      ],
      "text/plain": [
       "  gain hours    gain_per_hour\n",
       "1   9  3.783333  2.378855    \n",
       "2  16  3.783333  4.229075    \n",
       "3  31  2.666667 11.625000    \n",
       "4 -17  3.050000 -5.573770    \n",
       "5 -19  1.933333 -9.827586    \n",
       "6  16  2.500000  6.400000    "
      ]
     },
     "metadata": {},
     "output_type": "display_data"
    }
   ],
   "source": [
    "jan10 = transmute(flights,\n",
    "          gain = arr_delay - dep_delay,\n",
    "          hours = air_time / 60,\n",
    "          gain_per_hour = gain / hours\n",
    "          )\n",
    "head(jan10)"
   ]
  },
  {
   "cell_type": "markdown",
   "metadata": {
    "slideshow": {
     "slide_type": "slide"
    }
   },
   "source": [
    "## 1.E Resumenes agrupados con summarize()"
   ]
  },
  {
   "cell_type": "markdown",
   "metadata": {
    "slideshow": {
     "slide_type": "fragment"
    }
   },
   "source": [
    "Resume datos en una fila mediante un calculo"
   ]
  },
  {
   "cell_type": "markdown",
   "metadata": {
    "slideshow": {
     "slide_type": "fragment"
    }
   },
   "source": [
    "summarize(data, calculation)"
   ]
  },
  {
   "cell_type": "markdown",
   "metadata": {
    "slideshow": {
     "slide_type": "slide"
    }
   },
   "source": [
    "### Ejercicio 12: Calcular la media de dep_delay"
   ]
  },
  {
   "cell_type": "code",
   "execution_count": 24,
   "metadata": {
    "slideshow": {
     "slide_type": "fragment"
    }
   },
   "outputs": [
    {
     "data": {
      "text/html": [
       "<table>\n",
       "<thead><tr><th scope=col>delay</th></tr></thead>\n",
       "<tbody>\n",
       "\t<tr><td>12.63907</td></tr>\n",
       "</tbody>\n",
       "</table>\n"
      ],
      "text/latex": [
       "\\begin{tabular}{r|l}\n",
       " delay\\\\\n",
       "\\hline\n",
       "\t 12.63907\\\\\n",
       "\\end{tabular}\n"
      ],
      "text/markdown": [
       "\n",
       "| delay |\n",
       "|---|\n",
       "| 12.63907 |\n",
       "\n"
      ],
      "text/plain": [
       "  delay   \n",
       "1 12.63907"
      ]
     },
     "metadata": {},
     "output_type": "display_data"
    }
   ],
   "source": [
    "summarize(flights, delay = mean(dep_delay, na.rm = TRUE))"
   ]
  },
  {
   "cell_type": "markdown",
   "metadata": {
    "slideshow": {
     "slide_type": "slide"
    }
   },
   "source": [
    "### Ejercicio 13: Calcular la media de dep_delay por año, mes y dia"
   ]
  },
  {
   "cell_type": "code",
   "execution_count": 45,
   "metadata": {
    "slideshow": {
     "slide_type": "fragment"
    }
   },
   "outputs": [
    {
     "data": {
      "text/html": [
       "<table>\n",
       "<thead><tr><th scope=col>year</th><th scope=col>month</th><th scope=col>day</th><th scope=col>delay</th></tr></thead>\n",
       "<tbody>\n",
       "\t<tr><td>2013     </td><td>1        </td><td> 1       </td><td>11.548926</td></tr>\n",
       "\t<tr><td>2013     </td><td>1        </td><td> 2       </td><td>13.858824</td></tr>\n",
       "\t<tr><td>2013     </td><td>1        </td><td> 3       </td><td>10.987832</td></tr>\n",
       "\t<tr><td>2013     </td><td>1        </td><td> 4       </td><td> 8.951595</td></tr>\n",
       "\t<tr><td>2013     </td><td>1        </td><td> 5       </td><td> 5.732218</td></tr>\n",
       "\t<tr><td>2013     </td><td>1        </td><td> 6       </td><td> 7.148014</td></tr>\n",
       "\t<tr><td>2013     </td><td>1        </td><td> 7       </td><td> 5.417204</td></tr>\n",
       "\t<tr><td>2013     </td><td>1        </td><td> 8       </td><td> 2.553073</td></tr>\n",
       "\t<tr><td>2013     </td><td>1        </td><td> 9       </td><td> 2.276477</td></tr>\n",
       "\t<tr><td>2013     </td><td>1        </td><td>10       </td><td> 2.844995</td></tr>\n",
       "\t<tr><td>2013     </td><td>1        </td><td>11       </td><td> 2.817193</td></tr>\n",
       "\t<tr><td>2013     </td><td>1        </td><td>12       </td><td> 1.596491</td></tr>\n",
       "\t<tr><td>2013     </td><td>1        </td><td>13       </td><td>19.873153</td></tr>\n",
       "\t<tr><td>2013     </td><td>1        </td><td>14       </td><td> 2.792657</td></tr>\n",
       "\t<tr><td>2013     </td><td>1        </td><td>15       </td><td> 0.123723</td></tr>\n",
       "\t<tr><td>2013     </td><td>1        </td><td>16       </td><td>24.612865</td></tr>\n",
       "\t<tr><td>2013     </td><td>1        </td><td>17       </td><td> 7.648148</td></tr>\n",
       "\t<tr><td>2013     </td><td>1        </td><td>18       </td><td> 6.765864</td></tr>\n",
       "\t<tr><td>2013     </td><td>1        </td><td>19       </td><td> 3.475483</td></tr>\n",
       "\t<tr><td>2013     </td><td>1        </td><td>20       </td><td> 6.783887</td></tr>\n",
       "\t<tr><td>2013     </td><td>1        </td><td>21       </td><td> 7.831858</td></tr>\n",
       "\t<tr><td>2013     </td><td>1        </td><td>22       </td><td>12.499435</td></tr>\n",
       "\t<tr><td>2013     </td><td>1        </td><td>23       </td><td>10.610360</td></tr>\n",
       "\t<tr><td>2013     </td><td>1        </td><td>24       </td><td>19.465423</td></tr>\n",
       "\t<tr><td>2013     </td><td>1        </td><td>25       </td><td>21.898534</td></tr>\n",
       "\t<tr><td>2013     </td><td>1        </td><td>26       </td><td> 7.213115</td></tr>\n",
       "\t<tr><td>2013     </td><td>1        </td><td>27       </td><td> 8.377943</td></tr>\n",
       "\t<tr><td>2013     </td><td>1        </td><td>28       </td><td>15.138533</td></tr>\n",
       "\t<tr><td>2013     </td><td>1        </td><td>29       </td><td> 2.497149</td></tr>\n",
       "\t<tr><td>2013     </td><td>1        </td><td>30       </td><td>28.623441</td></tr>\n",
       "\t<tr><td>2013     </td><td>1        </td><td>31       </td><td>28.658363</td></tr>\n",
       "\t<tr><td>2013     </td><td>2        </td><td> 1       </td><td>10.852909</td></tr>\n",
       "\t<tr><td>2013     </td><td>2        </td><td> 2       </td><td> 5.422059</td></tr>\n",
       "\t<tr><td>2013     </td><td>2        </td><td> 3       </td><td> 7.018868</td></tr>\n",
       "\t<tr><td>2013     </td><td>2        </td><td> 4       </td><td>10.924078</td></tr>\n",
       "</tbody>\n",
       "</table>\n"
      ],
      "text/latex": [
       "\\begin{tabular}{r|llll}\n",
       " year & month & day & delay\\\\\n",
       "\\hline\n",
       "\t 2013      & 1         &  1        & 11.548926\\\\\n",
       "\t 2013      & 1         &  2        & 13.858824\\\\\n",
       "\t 2013      & 1         &  3        & 10.987832\\\\\n",
       "\t 2013      & 1         &  4        &  8.951595\\\\\n",
       "\t 2013      & 1         &  5        &  5.732218\\\\\n",
       "\t 2013      & 1         &  6        &  7.148014\\\\\n",
       "\t 2013      & 1         &  7        &  5.417204\\\\\n",
       "\t 2013      & 1         &  8        &  2.553073\\\\\n",
       "\t 2013      & 1         &  9        &  2.276477\\\\\n",
       "\t 2013      & 1         & 10        &  2.844995\\\\\n",
       "\t 2013      & 1         & 11        &  2.817193\\\\\n",
       "\t 2013      & 1         & 12        &  1.596491\\\\\n",
       "\t 2013      & 1         & 13        & 19.873153\\\\\n",
       "\t 2013      & 1         & 14        &  2.792657\\\\\n",
       "\t 2013      & 1         & 15        &  0.123723\\\\\n",
       "\t 2013      & 1         & 16        & 24.612865\\\\\n",
       "\t 2013      & 1         & 17        &  7.648148\\\\\n",
       "\t 2013      & 1         & 18        &  6.765864\\\\\n",
       "\t 2013      & 1         & 19        &  3.475483\\\\\n",
       "\t 2013      & 1         & 20        &  6.783887\\\\\n",
       "\t 2013      & 1         & 21        &  7.831858\\\\\n",
       "\t 2013      & 1         & 22        & 12.499435\\\\\n",
       "\t 2013      & 1         & 23        & 10.610360\\\\\n",
       "\t 2013      & 1         & 24        & 19.465423\\\\\n",
       "\t 2013      & 1         & 25        & 21.898534\\\\\n",
       "\t 2013      & 1         & 26        &  7.213115\\\\\n",
       "\t 2013      & 1         & 27        &  8.377943\\\\\n",
       "\t 2013      & 1         & 28        & 15.138533\\\\\n",
       "\t 2013      & 1         & 29        &  2.497149\\\\\n",
       "\t 2013      & 1         & 30        & 28.623441\\\\\n",
       "\t 2013      & 1         & 31        & 28.658363\\\\\n",
       "\t 2013      & 2         &  1        & 10.852909\\\\\n",
       "\t 2013      & 2         &  2        &  5.422059\\\\\n",
       "\t 2013      & 2         &  3        &  7.018868\\\\\n",
       "\t 2013      & 2         &  4        & 10.924078\\\\\n",
       "\\end{tabular}\n"
      ],
      "text/markdown": [
       "\n",
       "| year | month | day | delay |\n",
       "|---|---|---|---|\n",
       "| 2013      | 1         |  1        | 11.548926 |\n",
       "| 2013      | 1         |  2        | 13.858824 |\n",
       "| 2013      | 1         |  3        | 10.987832 |\n",
       "| 2013      | 1         |  4        |  8.951595 |\n",
       "| 2013      | 1         |  5        |  5.732218 |\n",
       "| 2013      | 1         |  6        |  7.148014 |\n",
       "| 2013      | 1         |  7        |  5.417204 |\n",
       "| 2013      | 1         |  8        |  2.553073 |\n",
       "| 2013      | 1         |  9        |  2.276477 |\n",
       "| 2013      | 1         | 10        |  2.844995 |\n",
       "| 2013      | 1         | 11        |  2.817193 |\n",
       "| 2013      | 1         | 12        |  1.596491 |\n",
       "| 2013      | 1         | 13        | 19.873153 |\n",
       "| 2013      | 1         | 14        |  2.792657 |\n",
       "| 2013      | 1         | 15        |  0.123723 |\n",
       "| 2013      | 1         | 16        | 24.612865 |\n",
       "| 2013      | 1         | 17        |  7.648148 |\n",
       "| 2013      | 1         | 18        |  6.765864 |\n",
       "| 2013      | 1         | 19        |  3.475483 |\n",
       "| 2013      | 1         | 20        |  6.783887 |\n",
       "| 2013      | 1         | 21        |  7.831858 |\n",
       "| 2013      | 1         | 22        | 12.499435 |\n",
       "| 2013      | 1         | 23        | 10.610360 |\n",
       "| 2013      | 1         | 24        | 19.465423 |\n",
       "| 2013      | 1         | 25        | 21.898534 |\n",
       "| 2013      | 1         | 26        |  7.213115 |\n",
       "| 2013      | 1         | 27        |  8.377943 |\n",
       "| 2013      | 1         | 28        | 15.138533 |\n",
       "| 2013      | 1         | 29        |  2.497149 |\n",
       "| 2013      | 1         | 30        | 28.623441 |\n",
       "| 2013      | 1         | 31        | 28.658363 |\n",
       "| 2013      | 2         |  1        | 10.852909 |\n",
       "| 2013      | 2         |  2        |  5.422059 |\n",
       "| 2013      | 2         |  3        |  7.018868 |\n",
       "| 2013      | 2         |  4        | 10.924078 |\n",
       "\n"
      ],
      "text/plain": [
       "   year month day delay    \n",
       "1  2013 1      1  11.548926\n",
       "2  2013 1      2  13.858824\n",
       "3  2013 1      3  10.987832\n",
       "4  2013 1      4   8.951595\n",
       "5  2013 1      5   5.732218\n",
       "6  2013 1      6   7.148014\n",
       "7  2013 1      7   5.417204\n",
       "8  2013 1      8   2.553073\n",
       "9  2013 1      9   2.276477\n",
       "10 2013 1     10   2.844995\n",
       "11 2013 1     11   2.817193\n",
       "12 2013 1     12   1.596491\n",
       "13 2013 1     13  19.873153\n",
       "14 2013 1     14   2.792657\n",
       "15 2013 1     15   0.123723\n",
       "16 2013 1     16  24.612865\n",
       "17 2013 1     17   7.648148\n",
       "18 2013 1     18   6.765864\n",
       "19 2013 1     19   3.475483\n",
       "20 2013 1     20   6.783887\n",
       "21 2013 1     21   7.831858\n",
       "22 2013 1     22  12.499435\n",
       "23 2013 1     23  10.610360\n",
       "24 2013 1     24  19.465423\n",
       "25 2013 1     25  21.898534\n",
       "26 2013 1     26   7.213115\n",
       "27 2013 1     27   8.377943\n",
       "28 2013 1     28  15.138533\n",
       "29 2013 1     29   2.497149\n",
       "30 2013 1     30  28.623441\n",
       "31 2013 1     31  28.658363\n",
       "32 2013 2      1  10.852909\n",
       "33 2013 2      2   5.422059\n",
       "34 2013 2      3   7.018868\n",
       "35 2013 2      4  10.924078"
      ]
     },
     "metadata": {},
     "output_type": "display_data"
    }
   ],
   "source": [
    "by_day <- group_by(flights, year, month, day)\n",
    "by_day_sum <- summarize(by_day, delay = mean(dep_delay, na.rm = TRUE))\n",
    "head(by_day_sum, 6)"
   ]
  },
  {
   "cell_type": "markdown",
   "metadata": {
    "slideshow": {
     "slide_type": "slide"
    }
   },
   "source": [
    "## 1.F Separar y unir columnas con separate() y unite()"
   ]
  },
  {
   "cell_type": "markdown",
   "metadata": {
    "slideshow": {
     "slide_type": "fragment"
    }
   },
   "source": [
    "separate(data, column, sep=\"\"),  \n",
    "unite(data, newcolumn, column1, column2, sep=\"\")"
   ]
  },
  {
   "cell_type": "markdown",
   "metadata": {
    "slideshow": {
     "slide_type": "slide"
    }
   },
   "source": [
    "### Observamos la base de datos"
   ]
  },
  {
   "cell_type": "code",
   "execution_count": 26,
   "metadata": {
    "slideshow": {
     "slide_type": "fragment"
    }
   },
   "outputs": [
    {
     "data": {
      "text/html": [
       "<table>\n",
       "<thead><tr><th scope=col>country</th><th scope=col>year</th><th scope=col>rate</th></tr></thead>\n",
       "<tbody>\n",
       "\t<tr><td>Afghanistan      </td><td>1999             </td><td>745/19987071     </td></tr>\n",
       "\t<tr><td>Afghanistan      </td><td>2000             </td><td>2666/20595360    </td></tr>\n",
       "\t<tr><td>Brazil           </td><td>1999             </td><td>37737/172006362  </td></tr>\n",
       "\t<tr><td>Brazil           </td><td>2000             </td><td>80488/174504898  </td></tr>\n",
       "\t<tr><td>China            </td><td>1999             </td><td>212258/1272915272</td></tr>\n",
       "\t<tr><td>China            </td><td>2000             </td><td>213766/1280428583</td></tr>\n",
       "</tbody>\n",
       "</table>\n"
      ],
      "text/latex": [
       "\\begin{tabular}{r|lll}\n",
       " country & year & rate\\\\\n",
       "\\hline\n",
       "\t Afghanistan       & 1999              & 745/19987071     \\\\\n",
       "\t Afghanistan       & 2000              & 2666/20595360    \\\\\n",
       "\t Brazil            & 1999              & 37737/172006362  \\\\\n",
       "\t Brazil            & 2000              & 80488/174504898  \\\\\n",
       "\t China             & 1999              & 212258/1272915272\\\\\n",
       "\t China             & 2000              & 213766/1280428583\\\\\n",
       "\\end{tabular}\n"
      ],
      "text/markdown": [
       "\n",
       "| country | year | rate |\n",
       "|---|---|---|\n",
       "| Afghanistan       | 1999              | 745/19987071      |\n",
       "| Afghanistan       | 2000              | 2666/20595360     |\n",
       "| Brazil            | 1999              | 37737/172006362   |\n",
       "| Brazil            | 2000              | 80488/174504898   |\n",
       "| China             | 1999              | 212258/1272915272 |\n",
       "| China             | 2000              | 213766/1280428583 |\n",
       "\n"
      ],
      "text/plain": [
       "  country     year rate             \n",
       "1 Afghanistan 1999 745/19987071     \n",
       "2 Afghanistan 2000 2666/20595360    \n",
       "3 Brazil      1999 37737/172006362  \n",
       "4 Brazil      2000 80488/174504898  \n",
       "5 China       1999 212258/1272915272\n",
       "6 China       2000 213766/1280428583"
      ]
     },
     "metadata": {},
     "output_type": "display_data"
    }
   ],
   "source": [
    "table3"
   ]
  },
  {
   "cell_type": "markdown",
   "metadata": {
    "slideshow": {
     "slide_type": "slide"
    }
   },
   "source": [
    "<h3 align=left> Ejercicio 14: Separar la columna rate en 2 nuevas columnas </h3>"
   ]
  },
  {
   "cell_type": "code",
   "execution_count": 27,
   "metadata": {
    "slideshow": {
     "slide_type": "fragment"
    }
   },
   "outputs": [
    {
     "data": {
      "text/html": [
       "<table>\n",
       "<thead><tr><th scope=col>country</th><th scope=col>year</th><th scope=col>cases</th><th scope=col>population</th></tr></thead>\n",
       "<tbody>\n",
       "\t<tr><td>Afghanistan</td><td>1999       </td><td>745        </td><td>19987071   </td></tr>\n",
       "\t<tr><td>Afghanistan</td><td>2000       </td><td>2666       </td><td>20595360   </td></tr>\n",
       "\t<tr><td>Brazil     </td><td>1999       </td><td>37737      </td><td>172006362  </td></tr>\n",
       "\t<tr><td>Brazil     </td><td>2000       </td><td>80488      </td><td>174504898  </td></tr>\n",
       "\t<tr><td>China      </td><td>1999       </td><td>212258     </td><td>1272915272 </td></tr>\n",
       "\t<tr><td>China      </td><td>2000       </td><td>213766     </td><td>1280428583 </td></tr>\n",
       "</tbody>\n",
       "</table>\n"
      ],
      "text/latex": [
       "\\begin{tabular}{r|llll}\n",
       " country & year & cases & population\\\\\n",
       "\\hline\n",
       "\t Afghanistan & 1999        & 745         & 19987071   \\\\\n",
       "\t Afghanistan & 2000        & 2666        & 20595360   \\\\\n",
       "\t Brazil      & 1999        & 37737       & 172006362  \\\\\n",
       "\t Brazil      & 2000        & 80488       & 174504898  \\\\\n",
       "\t China       & 1999        & 212258      & 1272915272 \\\\\n",
       "\t China       & 2000        & 213766      & 1280428583 \\\\\n",
       "\\end{tabular}\n"
      ],
      "text/markdown": [
       "\n",
       "| country | year | cases | population |\n",
       "|---|---|---|---|\n",
       "| Afghanistan | 1999        | 745         | 19987071    |\n",
       "| Afghanistan | 2000        | 2666        | 20595360    |\n",
       "| Brazil      | 1999        | 37737       | 172006362   |\n",
       "| Brazil      | 2000        | 80488       | 174504898   |\n",
       "| China       | 1999        | 212258      | 1272915272  |\n",
       "| China       | 2000        | 213766      | 1280428583  |\n",
       "\n"
      ],
      "text/plain": [
       "  country     year cases  population\n",
       "1 Afghanistan 1999 745    19987071  \n",
       "2 Afghanistan 2000 2666   20595360  \n",
       "3 Brazil      1999 37737  172006362 \n",
       "4 Brazil      2000 80488  174504898 \n",
       "5 China       1999 212258 1272915272\n",
       "6 China       2000 213766 1280428583"
      ]
     },
     "metadata": {},
     "output_type": "display_data"
    }
   ],
   "source": [
    "separate(table3, rate, into = c(\"cases\", \"population\"), sep=\"/\")"
   ]
  },
  {
   "cell_type": "markdown",
   "metadata": {
    "slideshow": {
     "slide_type": "slide"
    }
   },
   "source": [
    "<h3 align=left> Ejercicio 15: Separar la columna year en dos columnas, con las dos primeras cifras y con las dos últimas cifras  </h3>"
   ]
  },
  {
   "cell_type": "code",
   "execution_count": 28,
   "metadata": {
    "slideshow": {
     "slide_type": "fragment"
    }
   },
   "outputs": [
    {
     "data": {
      "text/html": [
       "<table>\n",
       "<thead><tr><th scope=col>country</th><th scope=col>century</th><th scope=col>year</th><th scope=col>rate</th></tr></thead>\n",
       "<tbody>\n",
       "\t<tr><td>Afghanistan      </td><td>19               </td><td>99               </td><td>745/19987071     </td></tr>\n",
       "\t<tr><td>Afghanistan      </td><td>20               </td><td>00               </td><td>2666/20595360    </td></tr>\n",
       "\t<tr><td>Brazil           </td><td>19               </td><td>99               </td><td>37737/172006362  </td></tr>\n",
       "\t<tr><td>Brazil           </td><td>20               </td><td>00               </td><td>80488/174504898  </td></tr>\n",
       "\t<tr><td>China            </td><td>19               </td><td>99               </td><td>212258/1272915272</td></tr>\n",
       "\t<tr><td>China            </td><td>20               </td><td>00               </td><td>213766/1280428583</td></tr>\n",
       "</tbody>\n",
       "</table>\n"
      ],
      "text/latex": [
       "\\begin{tabular}{r|llll}\n",
       " country & century & year & rate\\\\\n",
       "\\hline\n",
       "\t Afghanistan       & 19                & 99                & 745/19987071     \\\\\n",
       "\t Afghanistan       & 20                & 00                & 2666/20595360    \\\\\n",
       "\t Brazil            & 19                & 99                & 37737/172006362  \\\\\n",
       "\t Brazil            & 20                & 00                & 80488/174504898  \\\\\n",
       "\t China             & 19                & 99                & 212258/1272915272\\\\\n",
       "\t China             & 20                & 00                & 213766/1280428583\\\\\n",
       "\\end{tabular}\n"
      ],
      "text/markdown": [
       "\n",
       "| country | century | year | rate |\n",
       "|---|---|---|---|\n",
       "| Afghanistan       | 19                | 99                | 745/19987071      |\n",
       "| Afghanistan       | 20                | 00                | 2666/20595360     |\n",
       "| Brazil            | 19                | 99                | 37737/172006362   |\n",
       "| Brazil            | 20                | 00                | 80488/174504898   |\n",
       "| China             | 19                | 99                | 212258/1272915272 |\n",
       "| China             | 20                | 00                | 213766/1280428583 |\n",
       "\n"
      ],
      "text/plain": [
       "  country     century year rate             \n",
       "1 Afghanistan 19      99   745/19987071     \n",
       "2 Afghanistan 20      00   2666/20595360    \n",
       "3 Brazil      19      99   37737/172006362  \n",
       "4 Brazil      20      00   80488/174504898  \n",
       "5 China       19      99   212258/1272915272\n",
       "6 China       20      00   213766/1280428583"
      ]
     },
     "metadata": {},
     "output_type": "display_data"
    }
   ],
   "source": [
    "jan.1 = separate(table3, year, into = c(\"century\", \"year\"), sep = 2)\n",
    "jan.1"
   ]
  },
  {
   "cell_type": "markdown",
   "metadata": {
    "slideshow": {
     "slide_type": "slide"
    }
   },
   "source": [
    "<h3 align=left> Ejercicio 16: Unir nuevamente la columna separada anteriormente</h3>"
   ]
  },
  {
   "cell_type": "code",
   "execution_count": 29,
   "metadata": {
    "slideshow": {
     "slide_type": "fragment"
    }
   },
   "outputs": [
    {
     "data": {
      "text/html": [
       "<table>\n",
       "<thead><tr><th scope=col>country</th><th scope=col>new</th><th scope=col>rate</th></tr></thead>\n",
       "<tbody>\n",
       "\t<tr><td>Afghanistan      </td><td>1999             </td><td>745/19987071     </td></tr>\n",
       "\t<tr><td>Afghanistan      </td><td>2000             </td><td>2666/20595360    </td></tr>\n",
       "\t<tr><td>Brazil           </td><td>1999             </td><td>37737/172006362  </td></tr>\n",
       "\t<tr><td>Brazil           </td><td>2000             </td><td>80488/174504898  </td></tr>\n",
       "\t<tr><td>China            </td><td>1999             </td><td>212258/1272915272</td></tr>\n",
       "\t<tr><td>China            </td><td>2000             </td><td>213766/1280428583</td></tr>\n",
       "</tbody>\n",
       "</table>\n"
      ],
      "text/latex": [
       "\\begin{tabular}{r|lll}\n",
       " country & new & rate\\\\\n",
       "\\hline\n",
       "\t Afghanistan       & 1999              & 745/19987071     \\\\\n",
       "\t Afghanistan       & 2000              & 2666/20595360    \\\\\n",
       "\t Brazil            & 1999              & 37737/172006362  \\\\\n",
       "\t Brazil            & 2000              & 80488/174504898  \\\\\n",
       "\t China             & 1999              & 212258/1272915272\\\\\n",
       "\t China             & 2000              & 213766/1280428583\\\\\n",
       "\\end{tabular}\n"
      ],
      "text/markdown": [
       "\n",
       "| country | new | rate |\n",
       "|---|---|---|\n",
       "| Afghanistan       | 1999              | 745/19987071      |\n",
       "| Afghanistan       | 2000              | 2666/20595360     |\n",
       "| Brazil            | 1999              | 37737/172006362   |\n",
       "| Brazil            | 2000              | 80488/174504898   |\n",
       "| China             | 1999              | 212258/1272915272 |\n",
       "| China             | 2000              | 213766/1280428583 |\n",
       "\n"
      ],
      "text/plain": [
       "  country     new  rate             \n",
       "1 Afghanistan 1999 745/19987071     \n",
       "2 Afghanistan 2000 2666/20595360    \n",
       "3 Brazil      1999 37737/172006362  \n",
       "4 Brazil      2000 80488/174504898  \n",
       "5 China       1999 212258/1272915272\n",
       "6 China       2000 213766/1280428583"
      ]
     },
     "metadata": {},
     "output_type": "display_data"
    }
   ],
   "source": [
    "unite(jan.1, new, century, year, sep=\"\")"
   ]
  },
  {
   "cell_type": "markdown",
   "metadata": {
    "slideshow": {
     "slide_type": "slide"
    }
   },
   "source": [
    "## 2. Función apply en R – apply, lapply y sapply"
   ]
  },
  {
   "cell_type": "markdown",
   "metadata": {
    "slideshow": {
     "slide_type": "fragment"
    }
   },
   "source": [
    "Son funciones útiles para manipular vectores o matrices de forma iterativa. El objetivo es evitar el uso explicito de ciclos"
   ]
  },
  {
   "cell_type": "markdown",
   "metadata": {
    "slideshow": {
     "slide_type": "slide"
    }
   },
   "source": [
    "2.A apply"
   ]
  },
  {
   "cell_type": "markdown",
   "metadata": {
    "slideshow": {
     "slide_type": "fragment"
    }
   },
   "source": [
    "apply(x, 1, function)"
   ]
  },
  {
   "cell_type": "markdown",
   "metadata": {
    "slideshow": {
     "slide_type": "slide"
    }
   },
   "source": [
    "### Ejercicio 17: Determinar el promedio de las siguientes columnas"
   ]
  },
  {
   "cell_type": "code",
   "execution_count": 51,
   "metadata": {
    "slideshow": {
     "slide_type": "fragment"
    }
   },
   "outputs": [
    {
     "data": {
      "text/html": [
       "<table>\n",
       "<thead><tr><th scope=col>Age</th><th scope=col>Weight</th><th scope=col>Height</th></tr></thead>\n",
       "<tbody>\n",
       "\t<tr><td>56 </td><td>78 </td><td>165</td></tr>\n",
       "\t<tr><td>33 </td><td>67 </td><td>171</td></tr>\n",
       "\t<tr><td>67 </td><td>56 </td><td>167</td></tr>\n",
       "\t<tr><td>33 </td><td>44 </td><td>167</td></tr>\n",
       "\t<tr><td>56 </td><td>56 </td><td>166</td></tr>\n",
       "\t<tr><td>28 </td><td>89 </td><td>181</td></tr>\n",
       "</tbody>\n",
       "</table>\n"
      ],
      "text/latex": [
       "\\begin{tabular}{lll}\n",
       " Age & Weight & Height\\\\\n",
       "\\hline\n",
       "\t 56  & 78  & 165\\\\\n",
       "\t 33  & 67  & 171\\\\\n",
       "\t 67  & 56  & 167\\\\\n",
       "\t 33  & 44  & 167\\\\\n",
       "\t 56  & 56  & 166\\\\\n",
       "\t 28  & 89  & 181\\\\\n",
       "\\end{tabular}\n"
      ],
      "text/markdown": [
       "\n",
       "| Age | Weight | Height |\n",
       "|---|---|---|\n",
       "| 56  | 78  | 165 |\n",
       "| 33  | 67  | 171 |\n",
       "| 67  | 56  | 167 |\n",
       "| 33  | 44  | 167 |\n",
       "| 56  | 56  | 166 |\n",
       "| 28  | 89  | 181 |\n",
       "\n"
      ],
      "text/plain": [
       "     Age Weight Height\n",
       "[1,] 56  78     165   \n",
       "[2,] 33  67     171   \n",
       "[3,] 67  56     167   \n",
       "[4,] 33  44     167   \n",
       "[5,] 56  56     166   \n",
       "[6,] 28  89     181   "
      ]
     },
     "metadata": {},
     "output_type": "display_data"
    }
   ],
   "source": [
    "Age <- c(56, 33, 67, 33, 56, 28)\n",
    "Weight <- c(78, 67, 56, 44, 56, 89)\n",
    "Height <- c(165, 171, 167, 167, 166, 181)\n",
    "\n",
    "vars = cbind(Age, Weight, Height)\n",
    "vars"
   ]
  },
  {
   "cell_type": "code",
   "execution_count": 52,
   "metadata": {
    "slideshow": {
     "slide_type": "fragment"
    }
   },
   "outputs": [
    {
     "data": {
      "text/html": [
       "<dl class=dl-horizontal>\n",
       "\t<dt>Age</dt>\n",
       "\t\t<dd>45.5</dd>\n",
       "\t<dt>Weight</dt>\n",
       "\t\t<dd>65</dd>\n",
       "\t<dt>Height</dt>\n",
       "\t\t<dd>169.5</dd>\n",
       "</dl>\n"
      ],
      "text/latex": [
       "\\begin{description*}\n",
       "\\item[Age] 45.5\n",
       "\\item[Weight] 65\n",
       "\\item[Height] 169.5\n",
       "\\end{description*}\n"
      ],
      "text/markdown": [
       "Age\n",
       ":   45.5Weight\n",
       ":   65Height\n",
       ":   169.5\n",
       "\n"
      ],
      "text/plain": [
       "   Age Weight Height \n",
       "  45.5   65.0  169.5 "
      ]
     },
     "metadata": {},
     "output_type": "display_data"
    }
   ],
   "source": [
    "apply(vars, 2, mean)"
   ]
  },
  {
   "cell_type": "markdown",
   "metadata": {
    "slideshow": {
     "slide_type": "slide"
    }
   },
   "source": [
    "2.B lapply"
   ]
  },
  {
   "cell_type": "markdown",
   "metadata": {
    "slideshow": {
     "slide_type": "fragment"
    }
   },
   "source": [
    "lapply(x, function)"
   ]
  },
  {
   "cell_type": "markdown",
   "metadata": {
    "slideshow": {
     "slide_type": "slide"
    }
   },
   "source": [
    "### Ejercicio 18: Pasar la estatura de metros a centimetros"
   ]
  },
  {
   "cell_type": "code",
   "execution_count": 53,
   "metadata": {
    "slideshow": {
     "slide_type": "fragment"
    }
   },
   "outputs": [
    {
     "data": {
      "text/html": [
       "<ol>\n",
       "\t<li>1.65</li>\n",
       "\t<li>1.71</li>\n",
       "\t<li>1.67</li>\n",
       "\t<li>1.67</li>\n",
       "\t<li>1.66</li>\n",
       "\t<li>1.81</li>\n",
       "</ol>\n"
      ],
      "text/latex": [
       "\\begin{enumerate}\n",
       "\\item 1.65\n",
       "\\item 1.71\n",
       "\\item 1.67\n",
       "\\item 1.67\n",
       "\\item 1.66\n",
       "\\item 1.81\n",
       "\\end{enumerate}\n"
      ],
      "text/markdown": [
       "1. 1.65\n",
       "2. 1.71\n",
       "3. 1.67\n",
       "4. 1.67\n",
       "5. 1.66\n",
       "6. 1.81\n",
       "\n",
       "\n"
      ],
      "text/plain": [
       "[[1]]\n",
       "[1] 1.65\n",
       "\n",
       "[[2]]\n",
       "[1] 1.71\n",
       "\n",
       "[[3]]\n",
       "[1] 1.67\n",
       "\n",
       "[[4]]\n",
       "[1] 1.67\n",
       "\n",
       "[[5]]\n",
       "[1] 1.66\n",
       "\n",
       "[[6]]\n",
       "[1] 1.81\n"
      ]
     },
     "metadata": {},
     "output_type": "display_data"
    }
   ],
   "source": [
    "lapply(Height, function(Height) Height/100)\n"
   ]
  },
  {
   "cell_type": "markdown",
   "metadata": {
    "slideshow": {
     "slide_type": "slide"
    }
   },
   "source": [
    "2.C sapply"
   ]
  },
  {
   "cell_type": "markdown",
   "metadata": {
    "slideshow": {
     "slide_type": "fragment"
    }
   },
   "source": [
    "sapply(x, function)"
   ]
  },
  {
   "cell_type": "markdown",
   "metadata": {
    "slideshow": {
     "slide_type": "slide"
    }
   },
   "source": [
    "### Ejercicio 19: Pasar el peso de kilos a gramos"
   ]
  },
  {
   "cell_type": "code",
   "execution_count": 54,
   "metadata": {
    "slideshow": {
     "slide_type": "fragment"
    }
   },
   "outputs": [
    {
     "data": {
      "text/html": [
       "<ol class=list-inline>\n",
       "\t<li>78000</li>\n",
       "\t<li>67000</li>\n",
       "\t<li>56000</li>\n",
       "\t<li>44000</li>\n",
       "\t<li>56000</li>\n",
       "\t<li>89000</li>\n",
       "</ol>\n"
      ],
      "text/latex": [
       "\\begin{enumerate*}\n",
       "\\item 78000\n",
       "\\item 67000\n",
       "\\item 56000\n",
       "\\item 44000\n",
       "\\item 56000\n",
       "\\item 89000\n",
       "\\end{enumerate*}\n"
      ],
      "text/markdown": [
       "1. 78000\n",
       "2. 67000\n",
       "3. 56000\n",
       "4. 44000\n",
       "5. 56000\n",
       "6. 89000\n",
       "\n",
       "\n"
      ],
      "text/plain": [
       "[1] 78000 67000 56000 44000 56000 89000"
      ]
     },
     "metadata": {},
     "output_type": "display_data"
    }
   ],
   "source": [
    "sapply(Weight, function(Weight) Weight * 1000)"
   ]
  },
  {
   "cell_type": "markdown",
   "metadata": {},
   "source": [
    "## Regex\n",
    "\n",
    "Expresión regular, también conocida como regex, regexp o expresión racional, es una secuencia de caracteres que forma un patrón de búsqueda, principalmente utilizada para la búsqueda de patrones de cadenas de caracteres u operaciones de sustituciones."
   ]
  },
  {
   "cell_type": "code",
   "execution_count": 35,
   "metadata": {},
   "outputs": [],
   "source": [
    "library(stringr)\n",
    "library(XML)\n",
    "library(RCurl)"
   ]
  },
  {
   "cell_type": "markdown",
   "metadata": {},
   "source": [
    "### En R\n",
    "\n",
    "\n",
    "#### Detección del patron\n",
    "Para utilizar expresiones regulares en R se utiliza las funciones `grep` y `grelp` del paquete `stringr` "
   ]
  },
  {
   "cell_type": "code",
   "execution_count": 36,
   "metadata": {},
   "outputs": [
    {
     "data": {
      "text/html": [
       "<ol class=list-inline>\n",
       "\t<li>1</li>\n",
       "\t<li>3</li>\n",
       "\t<li>4</li>\n",
       "</ol>\n"
      ],
      "text/latex": [
       "\\begin{enumerate*}\n",
       "\\item 1\n",
       "\\item 3\n",
       "\\item 4\n",
       "\\end{enumerate*}\n"
      ],
      "text/markdown": [
       "1. 1\n",
       "2. 3\n",
       "3. 4\n",
       "\n",
       "\n"
      ],
      "text/plain": [
       "[1] 1 3 4"
      ]
     },
     "metadata": {},
     "output_type": "display_data"
    },
    {
     "data": {
      "text/html": [
       "<ol class=list-inline>\n",
       "\t<li>TRUE</li>\n",
       "\t<li>FALSE</li>\n",
       "\t<li>TRUE</li>\n",
       "\t<li>TRUE</li>\n",
       "\t<li>FALSE</li>\n",
       "\t<li>FALSE</li>\n",
       "</ol>\n"
      ],
      "text/latex": [
       "\\begin{enumerate*}\n",
       "\\item TRUE\n",
       "\\item FALSE\n",
       "\\item TRUE\n",
       "\\item TRUE\n",
       "\\item FALSE\n",
       "\\item FALSE\n",
       "\\end{enumerate*}\n"
      ],
      "text/markdown": [
       "1. TRUE\n",
       "2. FALSE\n",
       "3. TRUE\n",
       "4. TRUE\n",
       "5. FALSE\n",
       "6. FALSE\n",
       "\n",
       "\n"
      ],
      "text/plain": [
       "[1]  TRUE FALSE  TRUE  TRUE FALSE FALSE"
      ]
     },
     "metadata": {},
     "output_type": "display_data"
    }
   ],
   "source": [
    "municipios <- c(\"Medellín\", \"Bello\", \"Envigado\", \"Sabaneta\", \n",
    "               \"La Estrella\", \"Itagüi\")\n",
    "\n",
    "grep(pattern = \"n\", x = municipios)\n",
    "grepl(pattern = \"n\", x = municipios)"
   ]
  },
  {
   "cell_type": "markdown",
   "metadata": {},
   "source": [
    "-    [:digit:] <- Digitos del 0 al 9.\n",
    "-    [:lower:] <- Letras en minuscula\n",
    "-    [:upper:] <- Letras mayusculas\n",
    "-    [:alpha:] <- Caractes alfabeticos\n",
    "-    [:alnum:] <- Digitos y caracteres alfanumerico\n",
    "-    [:punct:] <- Puntuación\n",
    "-    [:graph:] <- Caracter graficos [:alnum:] y [:punct:]\n",
    "-    [:blank:] <- Caracter en blanco espacio y tabulador\n",
    "-    [:space:] <- Caracteres de espacios : espacio, tabulador, nueva linea y otros caracteres de espacio.\n",
    "-    [:print:] <- Caracteres imprimibles: [:alnum:], [:punct:] y [:space:].\n"
   ]
  },
  {
   "cell_type": "code",
   "execution_count": 44,
   "metadata": {
    "scrolled": true
   },
   "outputs": [
    {
     "data": {
      "text/html": [
       "<ol class=list-inline>\n",
       "\t<li>2</li>\n",
       "\t<li>3</li>\n",
       "</ol>\n"
      ],
      "text/latex": [
       "\\begin{enumerate*}\n",
       "\\item 2\n",
       "\\item 3\n",
       "\\end{enumerate*}\n"
      ],
      "text/markdown": [
       "1. 2\n",
       "2. 3\n",
       "\n",
       "\n"
      ],
      "text/plain": [
       "[1] 2 3"
      ]
     },
     "metadata": {},
     "output_type": "display_data"
    },
    {
     "data": {
      "text/html": [
       "<ol class=list-inline>\n",
       "\t<li>FALSE</li>\n",
       "\t<li>TRUE</li>\n",
       "\t<li>TRUE</li>\n",
       "\t<li>FALSE</li>\n",
       "\t<li>FALSE</li>\n",
       "</ol>\n"
      ],
      "text/latex": [
       "\\begin{enumerate*}\n",
       "\\item FALSE\n",
       "\\item TRUE\n",
       "\\item TRUE\n",
       "\\item FALSE\n",
       "\\item FALSE\n",
       "\\end{enumerate*}\n"
      ],
      "text/markdown": [
       "1. FALSE\n",
       "2. TRUE\n",
       "3. TRUE\n",
       "4. FALSE\n",
       "5. FALSE\n",
       "\n",
       "\n"
      ],
      "text/plain": [
       "[1] FALSE  TRUE  TRUE FALSE FALSE"
      ]
     },
     "metadata": {},
     "output_type": "display_data"
    }
   ],
   "source": [
    "lista <- c(1234, \"hola_mundo\", \"desti2356ds.g\", 22378, \"HOLA MUNDO\")\n",
    "\n",
    "grep(pattern = \"[:digit:]\", x = lista)\n",
    "grepl(pattern = \"[:lower:]\", x = lista)"
   ]
  },
  {
   "cell_type": "markdown",
   "metadata": {},
   "source": [
    "### Cuantificadores\n",
    "\n",
    "Un Cuantificador que precede a un carácter cuantifica las veces que este carácter puede aparecer.\n",
    "\n",
    "- ? El carácter que precede puede aparecer como mucho una vez.\n",
    "- $+$ El carácter que le precede debe aparecer al menos una vez.\n",
    "- $*$ El carácter que le precede puede aparecer cero, una, o más veces.\n",
    "- {} Las llaves juegan el papel de meta caracteres, para que cumplan su funcionalidad deben estar después de la expresión regular y encierran uno o varios números.\n",
    "    - {n} Indica que coincide n veces.\n",
    "    - {n,} Indica que coincide más n veces.\n",
    "    - {,n} Indica que coincide hasta n veces.\n",
    "    - {n,m} Indica que coincide más n veces y menos de m veces.\n"
   ]
  },
  {
   "cell_type": "markdown",
   "metadata": {},
   "source": [
    "#### Extracción de caracteres\n",
    "\n",
    "Para extraer los caracteres que cumplen una condición se utiliza la función `str_extract_all` o agregandole la condición `value=TRUE` a la función `grep`."
   ]
  },
  {
   "cell_type": "code",
   "execution_count": 66,
   "metadata": {},
   "outputs": [
    {
     "data": {
      "text/html": [
       "'hola_mundo'"
      ],
      "text/latex": [
       "'hola\\_mundo'"
      ],
      "text/markdown": [
       "'hola_mundo'"
      ],
      "text/plain": [
       "[1] \"hola_mundo\""
      ]
     },
     "metadata": {},
     "output_type": "display_data"
    },
    {
     "data": {
      "text/html": [
       "'HOLA MUNDO'"
      ],
      "text/latex": [
       "'HOLA MUNDO'"
      ],
      "text/markdown": [
       "'HOLA MUNDO'"
      ],
      "text/plain": [
       "[1] \"HOLA MUNDO\""
      ]
     },
     "metadata": {},
     "output_type": "display_data"
    }
   ],
   "source": [
    "grep(pattern = \"[:blank:]\", lista, value = TRUE)\n",
    "grep(pattern = \" \", lista, value = TRUE)"
   ]
  },
  {
   "cell_type": "code",
   "execution_count": 70,
   "metadata": {},
   "outputs": [
    {
     "data": {
      "text/html": [
       "<ol>\n",
       "\t<li></li>\n",
       "\t<li><ol class=list-inline>\n",
       "\t<li>'h'</li>\n",
       "\t<li>'o'</li>\n",
       "\t<li>'l'</li>\n",
       "\t<li>'a'</li>\n",
       "\t<li>'m'</li>\n",
       "\t<li>'u'</li>\n",
       "\t<li>'n'</li>\n",
       "\t<li>'d'</li>\n",
       "\t<li>'o'</li>\n",
       "</ol>\n",
       "</li>\n",
       "\t<li><ol class=list-inline>\n",
       "\t<li>'d'</li>\n",
       "\t<li>'e'</li>\n",
       "\t<li>'s'</li>\n",
       "\t<li>'t'</li>\n",
       "\t<li>'i'</li>\n",
       "\t<li>'d'</li>\n",
       "\t<li>'s'</li>\n",
       "\t<li>'g'</li>\n",
       "</ol>\n",
       "</li>\n",
       "\t<li></li>\n",
       "\t<li><ol class=list-inline>\n",
       "\t<li>'H'</li>\n",
       "\t<li>'O'</li>\n",
       "\t<li>'L'</li>\n",
       "\t<li>'A'</li>\n",
       "\t<li>'M'</li>\n",
       "\t<li>'U'</li>\n",
       "\t<li>'N'</li>\n",
       "\t<li>'D'</li>\n",
       "\t<li>'O'</li>\n",
       "</ol>\n",
       "</li>\n",
       "</ol>\n"
      ],
      "text/latex": [
       "\\begin{enumerate}\n",
       "\\item \n",
       "\\item \\begin{enumerate*}\n",
       "\\item 'h'\n",
       "\\item 'o'\n",
       "\\item 'l'\n",
       "\\item 'a'\n",
       "\\item 'm'\n",
       "\\item 'u'\n",
       "\\item 'n'\n",
       "\\item 'd'\n",
       "\\item 'o'\n",
       "\\end{enumerate*}\n",
       "\n",
       "\\item \\begin{enumerate*}\n",
       "\\item 'd'\n",
       "\\item 'e'\n",
       "\\item 's'\n",
       "\\item 't'\n",
       "\\item 'i'\n",
       "\\item 'd'\n",
       "\\item 's'\n",
       "\\item 'g'\n",
       "\\end{enumerate*}\n",
       "\n",
       "\\item \n",
       "\\item \\begin{enumerate*}\n",
       "\\item 'H'\n",
       "\\item 'O'\n",
       "\\item 'L'\n",
       "\\item 'A'\n",
       "\\item 'M'\n",
       "\\item 'U'\n",
       "\\item 'N'\n",
       "\\item 'D'\n",
       "\\item 'O'\n",
       "\\end{enumerate*}\n",
       "\n",
       "\\end{enumerate}\n"
      ],
      "text/markdown": [
       "1. \n",
       "2. 1. 'h'\n",
       "2. 'o'\n",
       "3. 'l'\n",
       "4. 'a'\n",
       "5. 'm'\n",
       "6. 'u'\n",
       "7. 'n'\n",
       "8. 'd'\n",
       "9. 'o'\n",
       "\n",
       "\n",
       "\n",
       "3. 1. 'd'\n",
       "2. 'e'\n",
       "3. 's'\n",
       "4. 't'\n",
       "5. 'i'\n",
       "6. 'd'\n",
       "7. 's'\n",
       "8. 'g'\n",
       "\n",
       "\n",
       "\n",
       "4. \n",
       "5. 1. 'H'\n",
       "2. 'O'\n",
       "3. 'L'\n",
       "4. 'A'\n",
       "5. 'M'\n",
       "6. 'U'\n",
       "7. 'N'\n",
       "8. 'D'\n",
       "9. 'O'\n",
       "\n",
       "\n",
       "\n",
       "\n",
       "\n"
      ],
      "text/plain": [
       "[[1]]\n",
       "character(0)\n",
       "\n",
       "[[2]]\n",
       "[1] \"h\" \"o\" \"l\" \"a\" \"m\" \"u\" \"n\" \"d\" \"o\"\n",
       "\n",
       "[[3]]\n",
       "[1] \"d\" \"e\" \"s\" \"t\" \"i\" \"d\" \"s\" \"g\"\n",
       "\n",
       "[[4]]\n",
       "character(0)\n",
       "\n",
       "[[5]]\n",
       "[1] \"H\" \"O\" \"L\" \"A\" \"M\" \"U\" \"N\" \"D\" \"O\"\n"
      ]
     },
     "metadata": {},
     "output_type": "display_data"
    },
    {
     "data": {
      "text/html": [
       "<ol class=list-inline>\n",
       "\t<li>'h'</li>\n",
       "\t<li>'o'</li>\n",
       "\t<li>'l'</li>\n",
       "\t<li>'a'</li>\n",
       "\t<li>'m'</li>\n",
       "\t<li>'u'</li>\n",
       "\t<li>'n'</li>\n",
       "\t<li>'d'</li>\n",
       "\t<li>'o'</li>\n",
       "\t<li>'d'</li>\n",
       "\t<li>'e'</li>\n",
       "\t<li>'s'</li>\n",
       "\t<li>'t'</li>\n",
       "\t<li>'i'</li>\n",
       "\t<li>'d'</li>\n",
       "\t<li>'s'</li>\n",
       "\t<li>'g'</li>\n",
       "\t<li>'H'</li>\n",
       "\t<li>'O'</li>\n",
       "\t<li>'L'</li>\n",
       "\t<li>'A'</li>\n",
       "\t<li>'M'</li>\n",
       "\t<li>'U'</li>\n",
       "\t<li>'N'</li>\n",
       "\t<li>'D'</li>\n",
       "\t<li>'O'</li>\n",
       "</ol>\n"
      ],
      "text/latex": [
       "\\begin{enumerate*}\n",
       "\\item 'h'\n",
       "\\item 'o'\n",
       "\\item 'l'\n",
       "\\item 'a'\n",
       "\\item 'm'\n",
       "\\item 'u'\n",
       "\\item 'n'\n",
       "\\item 'd'\n",
       "\\item 'o'\n",
       "\\item 'd'\n",
       "\\item 'e'\n",
       "\\item 's'\n",
       "\\item 't'\n",
       "\\item 'i'\n",
       "\\item 'd'\n",
       "\\item 's'\n",
       "\\item 'g'\n",
       "\\item 'H'\n",
       "\\item 'O'\n",
       "\\item 'L'\n",
       "\\item 'A'\n",
       "\\item 'M'\n",
       "\\item 'U'\n",
       "\\item 'N'\n",
       "\\item 'D'\n",
       "\\item 'O'\n",
       "\\end{enumerate*}\n"
      ],
      "text/markdown": [
       "1. 'h'\n",
       "2. 'o'\n",
       "3. 'l'\n",
       "4. 'a'\n",
       "5. 'm'\n",
       "6. 'u'\n",
       "7. 'n'\n",
       "8. 'd'\n",
       "9. 'o'\n",
       "10. 'd'\n",
       "11. 'e'\n",
       "12. 's'\n",
       "13. 't'\n",
       "14. 'i'\n",
       "15. 'd'\n",
       "16. 's'\n",
       "17. 'g'\n",
       "18. 'H'\n",
       "19. 'O'\n",
       "20. 'L'\n",
       "21. 'A'\n",
       "22. 'M'\n",
       "23. 'U'\n",
       "24. 'N'\n",
       "25. 'D'\n",
       "26. 'O'\n",
       "\n",
       "\n"
      ],
      "text/plain": [
       " [1] \"h\" \"o\" \"l\" \"a\" \"m\" \"u\" \"n\" \"d\" \"o\" \"d\" \"e\" \"s\" \"t\" \"i\" \"d\" \"s\" \"g\" \"H\" \"O\"\n",
       "[20] \"L\" \"A\" \"M\" \"U\" \"N\" \"D\" \"O\""
      ]
     },
     "metadata": {},
     "output_type": "display_data"
    }
   ],
   "source": [
    "letras <- str_extract_all(lista, \"[:alpha:]\")\n",
    "letras\n",
    "unlist(letras)"
   ]
  },
  {
   "cell_type": "markdown",
   "metadata": {},
   "source": [
    "### Agrupación\n",
    "\n",
    "- () Los paréntesis son usados para la aplicación de operadores sobre más de un carácter.\n",
    "-  [] Los corchetes agrupan caracteres en grupos o clases. Son útiles cuando es necesario buscar uno de un grupo de caracteres.\n",
    "- [a-z] Especifica un rango de caracteres.\n",
    "- [^.... ] Lista de caracteres excluidos\n",
    "\n",
    "- | Una barra vertical separa las alternativas. Realiza el papel de o.\n",
    "\n",
    "- . El punto busca cualquier carácter sin incluir los saltos de línea.\n",
    "\n",
    "- $ Indica que el patrón se en cuentra al final de la cadena de caracteres\n",
    "\n",
    "#### El signo de admiración\n",
    "\n",
    "! El signo de admiración representa una búsqueda negativa, en otras palabras que no incluya la palabra que especificamos.\n",
    "\n"
   ]
  },
  {
   "cell_type": "markdown",
   "metadata": {
    "slideshow": {
     "slide_type": "slide"
    }
   },
   "source": [
    "<img src=\"https://d33wubrfki0l68.cloudfront.net/01f4b6d39d2be8269740a3ad7946faa79f7243cf/8369a/diagrams/transform-logical.png\" \n",
    "width=\"900px\" style=\"margin: 20px auto;\">"
   ]
  },
  {
   "cell_type": "code",
   "execution_count": 72,
   "metadata": {},
   "outputs": [],
   "source": [
    "string <- c(\"R es el mejor lenguaje\", \" Es un lenguaje vectorizado\",\n",
    "            \" Es muy bueno para analítica\")\n",
    "patron <- '(R|lenguaje)'"
   ]
  },
  {
   "cell_type": "code",
   "execution_count": 73,
   "metadata": {
    "scrolled": true
   },
   "outputs": [
    {
     "data": {
      "text/html": [
       "<ol class=list-inline>\n",
       "\t<li>TRUE</li>\n",
       "\t<li>TRUE</li>\n",
       "\t<li>FALSE</li>\n",
       "</ol>\n"
      ],
      "text/latex": [
       "\\begin{enumerate*}\n",
       "\\item TRUE\n",
       "\\item TRUE\n",
       "\\item FALSE\n",
       "\\end{enumerate*}\n"
      ],
      "text/markdown": [
       "1. TRUE\n",
       "2. TRUE\n",
       "3. FALSE\n",
       "\n",
       "\n"
      ],
      "text/plain": [
       "[1]  TRUE  TRUE FALSE"
      ]
     },
     "metadata": {},
     "output_type": "display_data"
    }
   ],
   "source": [
    "str_detect(pattern = patron, string)"
   ]
  },
  {
   "cell_type": "code",
   "execution_count": 129,
   "metadata": {},
   "outputs": [],
   "source": [
    "hilera <- \"Tantas cosas. Las 123 56 Prueba  de expresiones- - y. Otras cosas.\""
   ]
  },
  {
   "cell_type": "code",
   "execution_count": 130,
   "metadata": {},
   "outputs": [
    {
     "data": {
      "text/html": [
       "<ol>\n",
       "\t<li>'cosas.'</li>\n",
       "</ol>\n"
      ],
      "text/latex": [
       "\\begin{enumerate}\n",
       "\\item 'cosas.'\n",
       "\\end{enumerate}\n"
      ],
      "text/markdown": [
       "1. 'cosas.'\n",
       "\n",
       "\n"
      ],
      "text/plain": [
       "[[1]]\n",
       "[1] \"cosas.\"\n"
      ]
     },
     "metadata": {},
     "output_type": "display_data"
    }
   ],
   "source": [
    "str_extract_all(hilera, \"cosas.$\")"
   ]
  },
  {
   "cell_type": "code",
   "execution_count": 131,
   "metadata": {},
   "outputs": [
    {
     "data": {
      "text/html": [
       "<ol>\n",
       "\t<li><ol class=list-inline>\n",
       "\t<li>'cosas.'</li>\n",
       "\t<li>'cosas.'</li>\n",
       "</ol>\n",
       "</li>\n",
       "</ol>\n"
      ],
      "text/latex": [
       "\\begin{enumerate}\n",
       "\\item \\begin{enumerate*}\n",
       "\\item 'cosas.'\n",
       "\\item 'cosas.'\n",
       "\\end{enumerate*}\n",
       "\n",
       "\\end{enumerate}\n"
      ],
      "text/markdown": [
       "1. 1. 'cosas.'\n",
       "2. 'cosas.'\n",
       "\n",
       "\n",
       "\n",
       "\n",
       "\n"
      ],
      "text/plain": [
       "[[1]]\n",
       "[1] \"cosas.\" \"cosas.\"\n"
      ]
     },
     "metadata": {},
     "output_type": "display_data"
    }
   ],
   "source": [
    "str_extract_all(hilera, \"cosas.\")"
   ]
  },
  {
   "cell_type": "code",
   "execution_count": 132,
   "metadata": {},
   "outputs": [
    {
     "data": {
      "text/html": [
       "<ol>\n",
       "\t<li><ol class=list-inline>\n",
       "\t<li>'Prueba'</li>\n",
       "\t<li>'Otras'</li>\n",
       "</ol>\n",
       "</li>\n",
       "</ol>\n"
      ],
      "text/latex": [
       "\\begin{enumerate}\n",
       "\\item \\begin{enumerate*}\n",
       "\\item 'Prueba'\n",
       "\\item 'Otras'\n",
       "\\end{enumerate*}\n",
       "\n",
       "\\end{enumerate}\n"
      ],
      "text/markdown": [
       "1. 1. 'Prueba'\n",
       "2. 'Otras'\n",
       "\n",
       "\n",
       "\n",
       "\n",
       "\n"
      ],
      "text/plain": [
       "[[1]]\n",
       "[1] \"Prueba\" \"Otras\" \n"
      ]
     },
     "metadata": {},
     "output_type": "display_data"
    }
   ],
   "source": [
    "str_extract_all(hilera, \"Prueba|Otras\")"
   ]
  },
  {
   "cell_type": "code",
   "execution_count": 133,
   "metadata": {
    "scrolled": true
   },
   "outputs": [
    {
     "data": {
      "text/html": [
       "<ol>\n",
       "\t<li>'Prueba'</li>\n",
       "</ol>\n"
      ],
      "text/latex": [
       "\\begin{enumerate}\n",
       "\\item 'Prueba'\n",
       "\\end{enumerate}\n"
      ],
      "text/markdown": [
       "1. 'Prueba'\n",
       "\n",
       "\n"
      ],
      "text/plain": [
       "[[1]]\n",
       "[1] \"Prueba\"\n"
      ]
     },
     "metadata": {},
     "output_type": "display_data"
    }
   ],
   "source": [
    "str_extract_all(hilera, \"Pru.ba\")"
   ]
  },
  {
   "cell_type": "code",
   "execution_count": 134,
   "metadata": {
    "scrolled": true
   },
   "outputs": [
    {
     "data": {
      "text/html": [
       "<ol>\n",
       "\t<li>'Prueba'</li>\n",
       "</ol>\n"
      ],
      "text/latex": [
       "\\begin{enumerate}\n",
       "\\item 'Prueba'\n",
       "\\end{enumerate}\n"
      ],
      "text/markdown": [
       "1. 'Prueba'\n",
       "\n",
       "\n"
      ],
      "text/plain": [
       "[[1]]\n",
       "[1] \"Prueba\"\n"
      ]
     },
     "metadata": {},
     "output_type": "display_data"
    },
    {
     "data": {
      "text/html": [
       "<ol>\n",
       "\t<li>'Prueba'</li>\n",
       "</ol>\n"
      ],
      "text/latex": [
       "\\begin{enumerate}\n",
       "\\item 'Prueba'\n",
       "\\end{enumerate}\n"
      ],
      "text/markdown": [
       "1. 'Prueba'\n",
       "\n",
       "\n"
      ],
      "text/plain": [
       "[[1]]\n",
       "[1] \"Prueba\"\n"
      ]
     },
     "metadata": {},
     "output_type": "display_data"
    }
   ],
   "source": [
    "str_extract_all(hilera, \"Pru[aeiou]ba\")\n",
    "str_extract_all(hilera, \"Pru[a-z]ba\")"
   ]
  },
  {
   "cell_type": "code",
   "execution_count": 135,
   "metadata": {
    "scrolled": false
   },
   "outputs": [
    {
     "data": {
      "text/html": [
       "<ol>\n",
       "\t<li><ol class=list-inline>\n",
       "\t<li>'1'</li>\n",
       "\t<li>'2'</li>\n",
       "\t<li>'3'</li>\n",
       "\t<li>'5'</li>\n",
       "\t<li>'6'</li>\n",
       "</ol>\n",
       "</li>\n",
       "</ol>\n"
      ],
      "text/latex": [
       "\\begin{enumerate}\n",
       "\\item \\begin{enumerate*}\n",
       "\\item '1'\n",
       "\\item '2'\n",
       "\\item '3'\n",
       "\\item '5'\n",
       "\\item '6'\n",
       "\\end{enumerate*}\n",
       "\n",
       "\\end{enumerate}\n"
      ],
      "text/markdown": [
       "1. 1. '1'\n",
       "2. '2'\n",
       "3. '3'\n",
       "4. '5'\n",
       "5. '6'\n",
       "\n",
       "\n",
       "\n",
       "\n",
       "\n"
      ],
      "text/plain": [
       "[[1]]\n",
       "[1] \"1\" \"2\" \"3\" \"5\" \"6\"\n"
      ]
     },
     "metadata": {},
     "output_type": "display_data"
    }
   ],
   "source": [
    "str_extract_all(hilera, \"[:digit:]\")"
   ]
  },
  {
   "cell_type": "code",
   "execution_count": 136,
   "metadata": {
    "scrolled": true
   },
   "outputs": [
    {
     "data": {
      "text/html": [
       "<ol>\n",
       "\t<li><ol class=list-inline>\n",
       "\t<li>'a'</li>\n",
       "\t<li>'n'</li>\n",
       "\t<li>'t'</li>\n",
       "\t<li>'a'</li>\n",
       "\t<li>'s'</li>\n",
       "\t<li>'c'</li>\n",
       "\t<li>'o'</li>\n",
       "\t<li>'s'</li>\n",
       "\t<li>'a'</li>\n",
       "\t<li>'s'</li>\n",
       "\t<li>'a'</li>\n",
       "\t<li>'s'</li>\n",
       "\t<li>'r'</li>\n",
       "\t<li>'u'</li>\n",
       "\t<li>'e'</li>\n",
       "\t<li>'b'</li>\n",
       "\t<li>'a'</li>\n",
       "\t<li>'d'</li>\n",
       "\t<li>'e'</li>\n",
       "\t<li>'e'</li>\n",
       "\t<li>'x'</li>\n",
       "\t<li>'p'</li>\n",
       "\t<li>'r'</li>\n",
       "\t<li>'e'</li>\n",
       "\t<li>'s'</li>\n",
       "\t<li>'i'</li>\n",
       "\t<li>'o'</li>\n",
       "\t<li>'n'</li>\n",
       "\t<li>'e'</li>\n",
       "\t<li>'s'</li>\n",
       "\t<li>'y'</li>\n",
       "\t<li>'t'</li>\n",
       "\t<li>'r'</li>\n",
       "\t<li>'a'</li>\n",
       "\t<li>'s'</li>\n",
       "\t<li>'c'</li>\n",
       "\t<li>'o'</li>\n",
       "\t<li>'s'</li>\n",
       "\t<li>'a'</li>\n",
       "\t<li>'s'</li>\n",
       "</ol>\n",
       "</li>\n",
       "</ol>\n"
      ],
      "text/latex": [
       "\\begin{enumerate}\n",
       "\\item \\begin{enumerate*}\n",
       "\\item 'a'\n",
       "\\item 'n'\n",
       "\\item 't'\n",
       "\\item 'a'\n",
       "\\item 's'\n",
       "\\item 'c'\n",
       "\\item 'o'\n",
       "\\item 's'\n",
       "\\item 'a'\n",
       "\\item 's'\n",
       "\\item 'a'\n",
       "\\item 's'\n",
       "\\item 'r'\n",
       "\\item 'u'\n",
       "\\item 'e'\n",
       "\\item 'b'\n",
       "\\item 'a'\n",
       "\\item 'd'\n",
       "\\item 'e'\n",
       "\\item 'e'\n",
       "\\item 'x'\n",
       "\\item 'p'\n",
       "\\item 'r'\n",
       "\\item 'e'\n",
       "\\item 's'\n",
       "\\item 'i'\n",
       "\\item 'o'\n",
       "\\item 'n'\n",
       "\\item 'e'\n",
       "\\item 's'\n",
       "\\item 'y'\n",
       "\\item 't'\n",
       "\\item 'r'\n",
       "\\item 'a'\n",
       "\\item 's'\n",
       "\\item 'c'\n",
       "\\item 'o'\n",
       "\\item 's'\n",
       "\\item 'a'\n",
       "\\item 's'\n",
       "\\end{enumerate*}\n",
       "\n",
       "\\end{enumerate}\n"
      ],
      "text/markdown": [
       "1. 1. 'a'\n",
       "2. 'n'\n",
       "3. 't'\n",
       "4. 'a'\n",
       "5. 's'\n",
       "6. 'c'\n",
       "7. 'o'\n",
       "8. 's'\n",
       "9. 'a'\n",
       "10. 's'\n",
       "11. 'a'\n",
       "12. 's'\n",
       "13. 'r'\n",
       "14. 'u'\n",
       "15. 'e'\n",
       "16. 'b'\n",
       "17. 'a'\n",
       "18. 'd'\n",
       "19. 'e'\n",
       "20. 'e'\n",
       "21. 'x'\n",
       "22. 'p'\n",
       "23. 'r'\n",
       "24. 'e'\n",
       "25. 's'\n",
       "26. 'i'\n",
       "27. 'o'\n",
       "28. 'n'\n",
       "29. 'e'\n",
       "30. 's'\n",
       "31. 'y'\n",
       "32. 't'\n",
       "33. 'r'\n",
       "34. 'a'\n",
       "35. 's'\n",
       "36. 'c'\n",
       "37. 'o'\n",
       "38. 's'\n",
       "39. 'a'\n",
       "40. 's'\n",
       "\n",
       "\n",
       "\n",
       "\n",
       "\n"
      ],
      "text/plain": [
       "[[1]]\n",
       " [1] \"a\" \"n\" \"t\" \"a\" \"s\" \"c\" \"o\" \"s\" \"a\" \"s\" \"a\" \"s\" \"r\" \"u\" \"e\" \"b\" \"a\" \"d\" \"e\"\n",
       "[20] \"e\" \"x\" \"p\" \"r\" \"e\" \"s\" \"i\" \"o\" \"n\" \"e\" \"s\" \"y\" \"t\" \"r\" \"a\" \"s\" \"c\" \"o\" \"s\"\n",
       "[39] \"a\" \"s\"\n"
      ]
     },
     "metadata": {},
     "output_type": "display_data"
    }
   ],
   "source": [
    "str_extract_all(hilera, \"[[:lower:]]\" )"
   ]
  },
  {
   "cell_type": "markdown",
   "metadata": {},
   "source": [
    "### Barra invertida\n",
    "\n",
    "Se utiliza para escapar el siguiente carácter de la expresión de búsqueda de forma que este adquiera un significado especial o deje de tenerlo.\n",
    "\n",
    "- \\e — Representa la tecla “Esc” o “Escape”\n",
    "- \\x — Se utiliza para representar caracteres ASCII o ANSI si conoce su código. De esta forma, si se busca el símbolo de derechos de autor y la fuente en la que se busca utiliza el conjunto de caracteres Latin-1 es posible encontrarlo utilizando “9”.\n",
    "- \\d — Representa un dígito del 0 al 9.\n",
    "- \\w — Representa cualquier carácter alfanumérico.\n",
    "- \\s — Representa un espacio en blanco.\n",
    "- \\D — Representa cualquier carácter que no sea un dígito del 0 al 9.\n",
    "- \\W — Representa cualquier carácter no alfanumérico.\n",
    "- \\S — Representa cualquier carácter que no sea un espacio en blanco.\n",
    "- \\A — Representa el inicio de la cadena. No un carácter sino una posición.\n",
    "- \\Z — Representa el final de la cadena. No un carácter sino una posición.\n",
    "- \\b — Marca la posición de una palabra limitada por espacios en blanco, puntuación o el inicio/final de una cadena.\n",
    "- \\B — Marca la posición entre dos caracteres alfanuméricos o dos no-alfanuméricos.\n"
   ]
  },
  {
   "cell_type": "code",
   "execution_count": 139,
   "metadata": {
    "scrolled": true
   },
   "outputs": [
    {
     "data": {
      "text/html": [
       "<ol>\n",
       "\t<li><ol class=list-inline>\n",
       "\t<li>'.'</li>\n",
       "\t<li>'.'</li>\n",
       "\t<li>'.'</li>\n",
       "</ol>\n",
       "</li>\n",
       "</ol>\n"
      ],
      "text/latex": [
       "\\begin{enumerate}\n",
       "\\item \\begin{enumerate*}\n",
       "\\item '.'\n",
       "\\item '.'\n",
       "\\item '.'\n",
       "\\end{enumerate*}\n",
       "\n",
       "\\end{enumerate}\n"
      ],
      "text/markdown": [
       "1. 1. '.'\n",
       "2. '.'\n",
       "3. '.'\n",
       "\n",
       "\n",
       "\n",
       "\n",
       "\n"
      ],
      "text/plain": [
       "[[1]]\n",
       "[1] \".\" \".\" \".\"\n"
      ]
     },
     "metadata": {},
     "output_type": "display_data"
    }
   ],
   "source": [
    "str_extract_all(hilera, \"\\\\.\")"
   ]
  },
  {
   "cell_type": "code",
   "execution_count": 141,
   "metadata": {
    "scrolled": true
   },
   "outputs": [
    {
     "data": {
      "text/html": [
       "<ol>\n",
       "\t<li><ol class=list-inline>\n",
       "\t<li>'T'</li>\n",
       "\t<li>'a'</li>\n",
       "\t<li>'n'</li>\n",
       "\t<li>'t'</li>\n",
       "\t<li>'a'</li>\n",
       "\t<li>'s'</li>\n",
       "\t<li>' '</li>\n",
       "\t<li>'c'</li>\n",
       "\t<li>'o'</li>\n",
       "\t<li>'s'</li>\n",
       "\t<li>'a'</li>\n",
       "\t<li>'s'</li>\n",
       "\t<li>'.'</li>\n",
       "\t<li>' '</li>\n",
       "\t<li>'L'</li>\n",
       "\t<li>'a'</li>\n",
       "\t<li>'s'</li>\n",
       "\t<li>' '</li>\n",
       "\t<li>' '</li>\n",
       "\t<li>' '</li>\n",
       "\t<li>'P'</li>\n",
       "\t<li>'r'</li>\n",
       "\t<li>'u'</li>\n",
       "\t<li>'e'</li>\n",
       "\t<li>'b'</li>\n",
       "\t<li>'a'</li>\n",
       "\t<li>' '</li>\n",
       "\t<li>' '</li>\n",
       "\t<li>'d'</li>\n",
       "\t<li>'e'</li>\n",
       "\t<li>' '</li>\n",
       "\t<li>'e'</li>\n",
       "\t<li>'x'</li>\n",
       "\t<li>'p'</li>\n",
       "\t<li>'r'</li>\n",
       "\t<li>'e'</li>\n",
       "\t<li>'s'</li>\n",
       "\t<li>'i'</li>\n",
       "\t<li>'o'</li>\n",
       "\t<li>'n'</li>\n",
       "\t<li>'e'</li>\n",
       "\t<li>'s'</li>\n",
       "\t<li>'-'</li>\n",
       "\t<li>' '</li>\n",
       "\t<li>'-'</li>\n",
       "\t<li>' '</li>\n",
       "\t<li>'y'</li>\n",
       "\t<li>'.'</li>\n",
       "\t<li>' '</li>\n",
       "\t<li>'O'</li>\n",
       "\t<li>'t'</li>\n",
       "\t<li>'r'</li>\n",
       "\t<li>'a'</li>\n",
       "\t<li>'s'</li>\n",
       "\t<li>' '</li>\n",
       "\t<li>'c'</li>\n",
       "\t<li>'o'</li>\n",
       "\t<li>'s'</li>\n",
       "\t<li>'a'</li>\n",
       "\t<li>'s'</li>\n",
       "\t<li>'.'</li>\n",
       "</ol>\n",
       "</li>\n",
       "</ol>\n"
      ],
      "text/latex": [
       "\\begin{enumerate}\n",
       "\\item \\begin{enumerate*}\n",
       "\\item 'T'\n",
       "\\item 'a'\n",
       "\\item 'n'\n",
       "\\item 't'\n",
       "\\item 'a'\n",
       "\\item 's'\n",
       "\\item ' '\n",
       "\\item 'c'\n",
       "\\item 'o'\n",
       "\\item 's'\n",
       "\\item 'a'\n",
       "\\item 's'\n",
       "\\item '.'\n",
       "\\item ' '\n",
       "\\item 'L'\n",
       "\\item 'a'\n",
       "\\item 's'\n",
       "\\item ' '\n",
       "\\item ' '\n",
       "\\item ' '\n",
       "\\item 'P'\n",
       "\\item 'r'\n",
       "\\item 'u'\n",
       "\\item 'e'\n",
       "\\item 'b'\n",
       "\\item 'a'\n",
       "\\item ' '\n",
       "\\item ' '\n",
       "\\item 'd'\n",
       "\\item 'e'\n",
       "\\item ' '\n",
       "\\item 'e'\n",
       "\\item 'x'\n",
       "\\item 'p'\n",
       "\\item 'r'\n",
       "\\item 'e'\n",
       "\\item 's'\n",
       "\\item 'i'\n",
       "\\item 'o'\n",
       "\\item 'n'\n",
       "\\item 'e'\n",
       "\\item 's'\n",
       "\\item '-'\n",
       "\\item ' '\n",
       "\\item '-'\n",
       "\\item ' '\n",
       "\\item 'y'\n",
       "\\item '.'\n",
       "\\item ' '\n",
       "\\item 'O'\n",
       "\\item 't'\n",
       "\\item 'r'\n",
       "\\item 'a'\n",
       "\\item 's'\n",
       "\\item ' '\n",
       "\\item 'c'\n",
       "\\item 'o'\n",
       "\\item 's'\n",
       "\\item 'a'\n",
       "\\item 's'\n",
       "\\item '.'\n",
       "\\end{enumerate*}\n",
       "\n",
       "\\end{enumerate}\n"
      ],
      "text/markdown": [
       "1. 1. 'T'\n",
       "2. 'a'\n",
       "3. 'n'\n",
       "4. 't'\n",
       "5. 'a'\n",
       "6. 's'\n",
       "7. ' '\n",
       "8. 'c'\n",
       "9. 'o'\n",
       "10. 's'\n",
       "11. 'a'\n",
       "12. 's'\n",
       "13. '.'\n",
       "14. ' '\n",
       "15. 'L'\n",
       "16. 'a'\n",
       "17. 's'\n",
       "18. ' '\n",
       "19. ' '\n",
       "20. ' '\n",
       "21. 'P'\n",
       "22. 'r'\n",
       "23. 'u'\n",
       "24. 'e'\n",
       "25. 'b'\n",
       "26. 'a'\n",
       "27. ' '\n",
       "28. ' '\n",
       "29. 'd'\n",
       "30. 'e'\n",
       "31. ' '\n",
       "32. 'e'\n",
       "33. 'x'\n",
       "34. 'p'\n",
       "35. 'r'\n",
       "36. 'e'\n",
       "37. 's'\n",
       "38. 'i'\n",
       "39. 'o'\n",
       "40. 'n'\n",
       "41. 'e'\n",
       "42. 's'\n",
       "43. '-'\n",
       "44. ' '\n",
       "45. '-'\n",
       "46. ' '\n",
       "47. 'y'\n",
       "48. '.'\n",
       "49. ' '\n",
       "50. 'O'\n",
       "51. 't'\n",
       "52. 'r'\n",
       "53. 'a'\n",
       "54. 's'\n",
       "55. ' '\n",
       "56. 'c'\n",
       "57. 'o'\n",
       "58. 's'\n",
       "59. 'a'\n",
       "60. 's'\n",
       "61. '.'\n",
       "\n",
       "\n",
       "\n",
       "\n",
       "\n"
      ],
      "text/plain": [
       "[[1]]\n",
       " [1] \"T\" \"a\" \"n\" \"t\" \"a\" \"s\" \" \" \"c\" \"o\" \"s\" \"a\" \"s\" \".\" \" \" \"L\" \"a\" \"s\" \" \" \" \"\n",
       "[20] \" \" \"P\" \"r\" \"u\" \"e\" \"b\" \"a\" \" \" \" \" \"d\" \"e\" \" \" \"e\" \"x\" \"p\" \"r\" \"e\" \"s\" \"i\"\n",
       "[39] \"o\" \"n\" \"e\" \"s\" \"-\" \" \" \"-\" \" \" \"y\" \".\" \" \" \"O\" \"t\" \"r\" \"a\" \"s\" \" \" \"c\" \"o\"\n",
       "[58] \"s\" \"a\" \"s\" \".\"\n"
      ]
     },
     "metadata": {},
     "output_type": "display_data"
    }
   ],
   "source": [
    "str_extract_all(hilera, \"\\\\D\")"
   ]
  },
  {
   "cell_type": "code",
   "execution_count": 150,
   "metadata": {},
   "outputs": [
    {
     "ename": "ERROR",
     "evalue": "Error: '\\W' is an unrecognized escape in character string starting \"\"\\W\"\n",
     "output_type": "error",
     "traceback": [
      "Error: '\\W' is an unrecognized escape in character string starting \"\"\\W\"\nTraceback:\n"
     ]
    }
   ],
   "source": [
    "str_extract_all(hilera, \"\\\\W\")"
   ]
  },
  {
   "cell_type": "markdown",
   "metadata": {},
   "source": [
    "Utilizando los patrones detectados se pueden extarer aquellos que no presenten valor por demasiada repetición o por no aportar valor."
   ]
  },
  {
   "cell_type": "code",
   "execution_count": 74,
   "metadata": {
    "scrolled": true
   },
   "outputs": [
    {
     "data": {
      "text/html": [
       "<ol>\n",
       "\t<li><ol class=list-inline>\n",
       "\t<li>''</li>\n",
       "\t<li>' es el mejor '</li>\n",
       "</ol>\n",
       "</li>\n",
       "\t<li><ol class=list-inline>\n",
       "\t<li>' Es un '</li>\n",
       "\t<li>' vectorizado'</li>\n",
       "</ol>\n",
       "</li>\n",
       "\t<li>' Es muy bueno para analítica'</li>\n",
       "</ol>\n"
      ],
      "text/latex": [
       "\\begin{enumerate}\n",
       "\\item \\begin{enumerate*}\n",
       "\\item ''\n",
       "\\item ' es el mejor '\n",
       "\\end{enumerate*}\n",
       "\n",
       "\\item \\begin{enumerate*}\n",
       "\\item ' Es un '\n",
       "\\item ' vectorizado'\n",
       "\\end{enumerate*}\n",
       "\n",
       "\\item ' Es muy bueno para analítica'\n",
       "\\end{enumerate}\n"
      ],
      "text/markdown": [
       "1. 1. ''\n",
       "2. ' es el mejor '\n",
       "\n",
       "\n",
       "\n",
       "2. 1. ' Es un '\n",
       "2. ' vectorizado'\n",
       "\n",
       "\n",
       "\n",
       "3. ' Es muy bueno para analítica'\n",
       "\n",
       "\n"
      ],
      "text/plain": [
       "[[1]]\n",
       "[1] \"\"              \" es el mejor \"\n",
       "\n",
       "[[2]]\n",
       "[1] \" Es un \"      \" vectorizado\"\n",
       "\n",
       "[[3]]\n",
       "[1] \" Es muy bueno para analítica\"\n"
      ]
     },
     "metadata": {},
     "output_type": "display_data"
    }
   ],
   "source": [
    "strsplit(string, patron)"
   ]
  },
  {
   "cell_type": "code",
   "execution_count": 75,
   "metadata": {},
   "outputs": [
    {
     "data": {
      "text/html": [
       "<ol>\n",
       "\t<li><table>\n",
       "<caption>A matrix: 2 × 2 of type int</caption>\n",
       "<thead>\n",
       "\t<tr><th scope=col>start</th><th scope=col>end</th></tr>\n",
       "</thead>\n",
       "<tbody>\n",
       "\t<tr><td> 1</td><td> 1</td></tr>\n",
       "\t<tr><td>15</td><td>22</td></tr>\n",
       "</tbody>\n",
       "</table>\n",
       "</li>\n",
       "\t<li><table>\n",
       "<caption>A matrix: 1 × 2 of type int</caption>\n",
       "<thead>\n",
       "\t<tr><th scope=col>start</th><th scope=col>end</th></tr>\n",
       "</thead>\n",
       "<tbody>\n",
       "\t<tr><td>8</td><td>15</td></tr>\n",
       "</tbody>\n",
       "</table>\n",
       "</li>\n",
       "\t<li><table>\n",
       "<caption>A matrix: 0 × 2 of type int</caption>\n",
       "<thead>\n",
       "\t<tr><th scope=col>start</th><th scope=col>end</th></tr>\n",
       "</thead>\n",
       "<tbody>\n",
       "</tbody>\n",
       "</table>\n",
       "</li>\n",
       "</ol>\n"
      ],
      "text/latex": [
       "\\begin{enumerate}\n",
       "\\item A matrix: 2 × 2 of type int\n",
       "\\begin{tabular}{ll}\n",
       " start & end\\\\\n",
       "\\hline\n",
       "\t  1 &  1\\\\\n",
       "\t 15 & 22\\\\\n",
       "\\end{tabular}\n",
       "\n",
       "\\item A matrix: 1 × 2 of type int\n",
       "\\begin{tabular}{ll}\n",
       " start & end\\\\\n",
       "\\hline\n",
       "\t 8 & 15\\\\\n",
       "\\end{tabular}\n",
       "\n",
       "\\item A matrix: 0 × 2 of type int\n",
       "\\begin{tabular}{ll}\n",
       " start & end\\\\\n",
       "\\hline\n",
       "\\end{tabular}\n",
       "\n",
       "\\end{enumerate}\n"
      ],
      "text/markdown": [
       "1. \n",
       "A matrix: 2 × 2 of type int\n",
       "\n",
       "| start | end |\n",
       "|---|---|\n",
       "|  1 |  1 |\n",
       "| 15 | 22 |\n",
       "\n",
       "\n",
       "2. \n",
       "A matrix: 1 × 2 of type int\n",
       "\n",
       "| start | end |\n",
       "|---|---|\n",
       "| 8 | 15 |\n",
       "\n",
       "\n",
       "3. \n",
       "A matrix: 0 × 2 of type int\n",
       "\n",
       "| start | end |\n",
       "|---|---|\n",
       "\n",
       "\n",
       "\n",
       "\n"
      ],
      "text/plain": [
       "[[1]]\n",
       "     start end\n",
       "[1,]     1   1\n",
       "[2,]    15  22\n",
       "\n",
       "[[2]]\n",
       "     start end\n",
       "[1,]     8  15\n",
       "\n",
       "[[3]]\n",
       "     start end\n"
      ]
     },
     "metadata": {},
     "output_type": "display_data"
    }
   ],
   "source": [
    "str_locate_all(string , patron)"
   ]
  },
  {
   "cell_type": "markdown",
   "metadata": {},
   "source": [
    "Tambien se puede extraer las veces un patron todas las veces que se repita con el fin de cuantificar la frecuencia de este."
   ]
  },
  {
   "cell_type": "code",
   "execution_count": 80,
   "metadata": {},
   "outputs": [
    {
     "data": {
      "text/html": [
       "<ol>\n",
       "\t<li><ol class=list-inline>\n",
       "\t<li>'R'</li>\n",
       "\t<li>'lenguaje'</li>\n",
       "</ol>\n",
       "</li>\n",
       "\t<li>'lenguaje'</li>\n",
       "\t<li></li>\n",
       "</ol>\n"
      ],
      "text/latex": [
       "\\begin{enumerate}\n",
       "\\item \\begin{enumerate*}\n",
       "\\item 'R'\n",
       "\\item 'lenguaje'\n",
       "\\end{enumerate*}\n",
       "\n",
       "\\item 'lenguaje'\n",
       "\\item \n",
       "\\end{enumerate}\n"
      ],
      "text/markdown": [
       "1. 1. 'R'\n",
       "2. 'lenguaje'\n",
       "\n",
       "\n",
       "\n",
       "2. 'lenguaje'\n",
       "3. \n",
       "\n",
       "\n"
      ],
      "text/plain": [
       "[[1]]\n",
       "[1] \"R\"        \"lenguaje\"\n",
       "\n",
       "[[2]]\n",
       "[1] \"lenguaje\"\n",
       "\n",
       "[[3]]\n",
       "character(0)\n"
      ]
     },
     "metadata": {},
     "output_type": "display_data"
    }
   ],
   "source": [
    "# Extraer las coincidencias en una lista\n",
    "regmatches(string, gregexpr(patron, string))"
   ]
  },
  {
   "cell_type": "code",
   "execution_count": 78,
   "metadata": {
    "scrolled": true
   },
   "outputs": [
    {
     "data": {
      "text/html": [
       "<table>\n",
       "<caption>A matrix: 3 × 2 of type chr</caption>\n",
       "<tbody>\n",
       "\t<tr><td>R       </td><td>lenguaje</td></tr>\n",
       "\t<tr><td>lenguaje</td><td>        </td></tr>\n",
       "\t<tr><td>        </td><td>        </td></tr>\n",
       "</tbody>\n",
       "</table>\n"
      ],
      "text/latex": [
       "A matrix: 3 × 2 of type chr\n",
       "\\begin{tabular}{ll}\n",
       "\t R        & lenguaje\\\\\n",
       "\t lenguaje &         \\\\\n",
       "\t          &         \\\\\n",
       "\\end{tabular}\n"
      ],
      "text/markdown": [
       "\n",
       "A matrix: 3 × 2 of type chr\n",
       "\n",
       "| R        | lenguaje |\n",
       "| lenguaje | <!----> |\n",
       "| <!----> | <!----> |\n",
       "\n"
      ],
      "text/plain": [
       "     [,1]     [,2]    \n",
       "[1,] R        lenguaje\n",
       "[2,] lenguaje         \n",
       "[3,]                  "
      ]
     },
     "metadata": {},
     "output_type": "display_data"
    }
   ],
   "source": [
    "# Extraer solo las coincidencias en una matriz\n",
    "stringr::str_extract_all(string , patron, simplify = T)"
   ]
  },
  {
   "cell_type": "markdown",
   "metadata": {},
   "source": [
    "#### Reemplazar un patron"
   ]
  },
  {
   "cell_type": "code",
   "execution_count": 87,
   "metadata": {},
   "outputs": [
    {
     "data": {
      "text/html": [
       "<ol class=list-inline>\n",
       "\t<li>'python es el mejor lenguaje'</li>\n",
       "\t<li>' Es un python vectorizado'</li>\n",
       "\t<li>' Es muy bueno para analítica'</li>\n",
       "</ol>\n"
      ],
      "text/latex": [
       "\\begin{enumerate*}\n",
       "\\item 'python es el mejor lenguaje'\n",
       "\\item ' Es un python vectorizado'\n",
       "\\item ' Es muy bueno para analítica'\n",
       "\\end{enumerate*}\n"
      ],
      "text/markdown": [
       "1. 'python es el mejor lenguaje'\n",
       "2. ' Es un python vectorizado'\n",
       "3. ' Es muy bueno para analítica'\n",
       "\n",
       "\n"
      ],
      "text/plain": [
       "[1] \"python es el mejor lenguaje\"  \" Es un python vectorizado\"   \n",
       "[3] \" Es muy bueno para analítica\""
      ]
     },
     "metadata": {},
     "output_type": "display_data"
    },
    {
     "data": {
      "text/html": [
       "<ol class=list-inline>\n",
       "\t<li>'python es el mejor python'</li>\n",
       "\t<li>' Es un python vectorizado'</li>\n",
       "\t<li>' Es muy bueno para analítica'</li>\n",
       "</ol>\n"
      ],
      "text/latex": [
       "\\begin{enumerate*}\n",
       "\\item 'python es el mejor python'\n",
       "\\item ' Es un python vectorizado'\n",
       "\\item ' Es muy bueno para analítica'\n",
       "\\end{enumerate*}\n"
      ],
      "text/markdown": [
       "1. 'python es el mejor python'\n",
       "2. ' Es un python vectorizado'\n",
       "3. ' Es muy bueno para analítica'\n",
       "\n",
       "\n"
      ],
      "text/plain": [
       "[1] \"python es el mejor python\"    \" Es un python vectorizado\"   \n",
       "[3] \" Es muy bueno para analítica\""
      ]
     },
     "metadata": {},
     "output_type": "display_data"
    }
   ],
   "source": [
    "# Reemplaza todas coincidencia\n",
    "sub(patron, c(\"python\"), string)\n",
    "str_replace_all(string, patron, \"python\")"
   ]
  },
  {
   "cell_type": "markdown",
   "metadata": {},
   "source": [
    "### Ejercicio\n",
    "\n",
    "Supongamos que se ha recopilado una serie de nombres y número de telefonos de los personajes de ficcion de los “simpson”. La proposito es extrarer los nombres y los numeros y ponerlos en un data frame."
   ]
  },
  {
   "cell_type": "code",
   "execution_count": 95,
   "metadata": {},
   "outputs": [
    {
     "data": {
      "text/html": [
       "<ol class=list-inline>\n",
       "\t<li>'Moe Szyslak'</li>\n",
       "\t<li>'Burns, C. Montgomery'</li>\n",
       "\t<li>'Rev. Timothy Lovejoy'</li>\n",
       "\t<li>'Ned Flander'</li>\n",
       "\t<li>'Simpson, Homer'</li>\n",
       "\t<li>'Dr. Julius Hibbert'</li>\n",
       "</ol>\n"
      ],
      "text/latex": [
       "\\begin{enumerate*}\n",
       "\\item 'Moe Szyslak'\n",
       "\\item 'Burns, C. Montgomery'\n",
       "\\item 'Rev. Timothy Lovejoy'\n",
       "\\item 'Ned Flander'\n",
       "\\item 'Simpson, Homer'\n",
       "\\item 'Dr. Julius Hibbert'\n",
       "\\end{enumerate*}\n"
      ],
      "text/markdown": [
       "1. 'Moe Szyslak'\n",
       "2. 'Burns, C. Montgomery'\n",
       "3. 'Rev. Timothy Lovejoy'\n",
       "4. 'Ned Flander'\n",
       "5. 'Simpson, Homer'\n",
       "6. 'Dr. Julius Hibbert'\n",
       "\n",
       "\n"
      ],
      "text/plain": [
       "[1] \"Moe Szyslak\"          \"Burns, C. Montgomery\" \"Rev. Timothy Lovejoy\"\n",
       "[4] \"Ned Flander\"          \"Simpson, Homer\"       \"Dr. Julius Hibbert\"  "
      ]
     },
     "metadata": {},
     "output_type": "display_data"
    }
   ],
   "source": [
    "hileras <- \"555-1230Moe Szyslak(636) 555-0113Burns, C. Montgomery555-6542Rev. Timothy Lovejoy555 8904Ned Flander636-555-3226Simpson, Homer5543642Dr. Julius Hibbert\"\n",
    "\n",
    "# Estraer información\n",
    "# str_extract_all <-  Extrae porciones de texto del string\n",
    "# unlist <-  para que no lo retorne como un lista\n",
    "nombre <- unlist(str_extract_all(hileras, \"[[:alpha:]., ]{2,}\"))\n",
    "nombre"
   ]
  },
  {
   "cell_type": "code",
   "execution_count": 96,
   "metadata": {
    "scrolled": false
   },
   "outputs": [
    {
     "data": {
      "text/html": [
       "<ol class=list-inline>\n",
       "\t<li>'555-1230'</li>\n",
       "\t<li>'(636) 555-0113'</li>\n",
       "\t<li>'555-6542'</li>\n",
       "\t<li>'555 8904'</li>\n",
       "\t<li>'636-555-3226'</li>\n",
       "\t<li>'5543642'</li>\n",
       "</ol>\n"
      ],
      "text/latex": [
       "\\begin{enumerate*}\n",
       "\\item '555-1230'\n",
       "\\item '(636) 555-0113'\n",
       "\\item '555-6542'\n",
       "\\item '555 8904'\n",
       "\\item '636-555-3226'\n",
       "\\item '5543642'\n",
       "\\end{enumerate*}\n"
      ],
      "text/markdown": [
       "1. '555-1230'\n",
       "2. '(636) 555-0113'\n",
       "3. '555-6542'\n",
       "4. '555 8904'\n",
       "5. '636-555-3226'\n",
       "6. '5543642'\n",
       "\n",
       "\n"
      ],
      "text/plain": [
       "[1] \"555-1230\"       \"(636) 555-0113\" \"555-6542\"       \"555 8904\"      \n",
       "[5] \"636-555-3226\"   \"5543642\"       "
      ]
     },
     "metadata": {},
     "output_type": "display_data"
    }
   ],
   "source": [
    "telefono <- unlist(str_extract_all(hileras, \"\\\\(?(\\\\d{3})?\\\\)?(-| )?\\\\d{3}(-| )?\\\\d{4}\"))\n",
    "telefono"
   ]
  },
  {
   "cell_type": "code",
   "execution_count": 97,
   "metadata": {
    "scrolled": true
   },
   "outputs": [
    {
     "data": {
      "text/html": [
       "<table>\n",
       "<caption>A data.frame: 6 × 2</caption>\n",
       "<thead>\n",
       "\t<tr><th scope=col>Nombre</th><th scope=col>Telefono</th></tr>\n",
       "\t<tr><th scope=col>&lt;fct&gt;</th><th scope=col>&lt;fct&gt;</th></tr>\n",
       "</thead>\n",
       "<tbody>\n",
       "\t<tr><td>Moe Szyslak         </td><td>555-1230      </td></tr>\n",
       "\t<tr><td>Burns, C. Montgomery</td><td>(636) 555-0113</td></tr>\n",
       "\t<tr><td>Rev. Timothy Lovejoy</td><td>555-6542      </td></tr>\n",
       "\t<tr><td>Ned Flander         </td><td>555 8904      </td></tr>\n",
       "\t<tr><td>Simpson, Homer      </td><td>636-555-3226  </td></tr>\n",
       "\t<tr><td>Dr. Julius Hibbert  </td><td>5543642       </td></tr>\n",
       "</tbody>\n",
       "</table>\n"
      ],
      "text/latex": [
       "A data.frame: 6 × 2\n",
       "\\begin{tabular}{r|ll}\n",
       " Nombre & Telefono\\\\\n",
       " <fct> & <fct>\\\\\n",
       "\\hline\n",
       "\t Moe Szyslak          & 555-1230      \\\\\n",
       "\t Burns, C. Montgomery & (636) 555-0113\\\\\n",
       "\t Rev. Timothy Lovejoy & 555-6542      \\\\\n",
       "\t Ned Flander          & 555 8904      \\\\\n",
       "\t Simpson, Homer       & 636-555-3226  \\\\\n",
       "\t Dr. Julius Hibbert   & 5543642       \\\\\n",
       "\\end{tabular}\n"
      ],
      "text/markdown": [
       "\n",
       "A data.frame: 6 × 2\n",
       "\n",
       "| Nombre &lt;fct&gt; | Telefono &lt;fct&gt; |\n",
       "|---|---|\n",
       "| Moe Szyslak          | 555-1230       |\n",
       "| Burns, C. Montgomery | (636) 555-0113 |\n",
       "| Rev. Timothy Lovejoy | 555-6542       |\n",
       "| Ned Flander          | 555 8904       |\n",
       "| Simpson, Homer       | 636-555-3226   |\n",
       "| Dr. Julius Hibbert   | 5543642        |\n",
       "\n"
      ],
      "text/plain": [
       "  Nombre               Telefono      \n",
       "1 Moe Szyslak          555-1230      \n",
       "2 Burns, C. Montgomery (636) 555-0113\n",
       "3 Rev. Timothy Lovejoy 555-6542      \n",
       "4 Ned Flander          555 8904      \n",
       "5 Simpson, Homer       636-555-3226  \n",
       "6 Dr. Julius Hibbert   5543642       "
      ]
     },
     "metadata": {},
     "output_type": "display_data"
    }
   ],
   "source": [
    "data.frame(Nombre = nombre, Telefono = telefono)"
   ]
  },
  {
   "cell_type": "markdown",
   "metadata": {},
   "source": [
    "### Metacaracteres especiales\n",
    "\n",
    "-    \\t — Representa un tabulador.\n",
    "-    \\r — Representa el “retorno de carro” o “regreso al inicio” o sea el lugar en que la línea vuelve a iniciar.\n",
    "-    \\n — Representa la “nueva línea” el carácter por medio del cual una línea de inicio.\n",
    "-    \\f — Representa un salto de página\n",
    "-    \\v — Representa un tabulador vertical\n"
   ]
  },
  {
   "cell_type": "markdown",
   "metadata": {},
   "source": [
    "### Referencias\n",
    "\n",
    "[Marín Y. (2018). *Expresiones regulares*](https://unalyticsteam.github.io/unalytics.github.io/R/Analitica%20de%20datos/02/Expresiones_regulares.html)"
   ]
  }
 ],
 "metadata": {
  "celltoolbar": "Slideshow",
  "kernelspec": {
   "display_name": "R",
   "language": "R",
   "name": "ir"
  },
  "language_info": {
   "codemirror_mode": "r",
   "file_extension": ".r",
   "mimetype": "text/x-r-source",
   "name": "R",
   "pygments_lexer": "r",
   "version": "3.6.1"
  }
 },
 "nbformat": 4,
 "nbformat_minor": 2
}
