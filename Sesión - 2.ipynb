{
 "cells": [
  {
   "cell_type": "markdown",
   "metadata": {},
   "source": [
    "# Limpieza de datos (Data cleansing)"
   ]
  },
  {
   "cell_type": "markdown",
   "metadata": {},
   "source": [
    "### Agenda\n",
    "1. Estandarización de NA´s.\n",
    "2. Identificación de patrones.\n",
    "3. Métodos para tratamientos de NA's.\n",
    "    1.  Eliminación\n",
    "    2.  Imputación\n",
    "        1. Medias\n",
    "        2. Computación de valores aleatorios\n",
    "        3. Modelos predictivos\n",
    "        4. Comparación predictiva de medias\n",
    "        5. Automámica\n",
    "4. Tratamiento de valores duplicados\n",
    "5. Tratamiento de Outliers\n",
    "    1. Identificación\n",
    "    2. Imputación de datos atípicos"
   ]
  },
  {
   "cell_type": "markdown",
   "metadata": {},
   "source": [
    "### 1. Estandarización de NA's"
   ]
  },
  {
   "cell_type": "markdown",
   "metadata": {},
   "source": [
    "Cargamos los paquetes necesarios"
   ]
  },
  {
   "cell_type": "code",
   "execution_count": null,
   "metadata": {},
   "outputs": [],
   "source": [
    "require(dplyr)\n",
    "require(mice)\n",
    "require(VIM)\n",
    "require(Hmisc)"
   ]
  },
  {
   "cell_type": "markdown",
   "metadata": {},
   "source": [
    "Leemos la base de datos"
   ]
  },
  {
   "cell_type": "code",
   "execution_count": 14,
   "metadata": {},
   "outputs": [
    {
     "data": {
      "text/html": [
       "<table>\n",
       "<thead><tr><th scope=col>X</th><th scope=col>Income</th><th scope=col>Phone_type</th><th scope=col>Car_type</th></tr></thead>\n",
       "<tbody>\n",
       "\t<tr><td>1         </td><td>89800     </td><td>Android   </td><td>Luxury    </td></tr>\n",
       "\t<tr><td>2         </td><td>47500     </td><td>Android   </td><td>Non-Luxury</td></tr>\n",
       "\t<tr><td>3         </td><td>45000     </td><td>iPhone    </td><td>Luxury    </td></tr>\n",
       "\t<tr><td>4         </td><td>44700     </td><td>          </td><td>Luxury    </td></tr>\n",
       "\t<tr><td>5         </td><td>59500     </td><td>iPhone    </td><td>Luxury    </td></tr>\n",
       "</tbody>\n",
       "</table>\n"
      ],
      "text/latex": [
       "\\begin{tabular}{r|llll}\n",
       " X & Income & Phone\\_type & Car\\_type\\\\\n",
       "\\hline\n",
       "\t 1          & 89800      & Android    & Luxury    \\\\\n",
       "\t 2          & 47500      & Android    & Non-Luxury\\\\\n",
       "\t 3          & 45000      & iPhone     & Luxury    \\\\\n",
       "\t 4          & 44700      &            & Luxury    \\\\\n",
       "\t 5          & 59500      & iPhone     & Luxury    \\\\\n",
       "\\end{tabular}\n"
      ],
      "text/markdown": [
       "\n",
       "| X | Income | Phone_type | Car_type |\n",
       "|---|---|---|---|\n",
       "| 1          | 89800      | Android    | Luxury     |\n",
       "| 2          | 47500      | Android    | Non-Luxury |\n",
       "| 3          | 45000      | iPhone     | Luxury     |\n",
       "| 4          | 44700      |            | Luxury     |\n",
       "| 5          | 59500      | iPhone     | Luxury     |\n",
       "\n"
      ],
      "text/plain": [
       "  X Income Phone_type Car_type  \n",
       "1 1 89800  Android    Luxury    \n",
       "2 2 47500  Android    Non-Luxury\n",
       "3 3 45000  iPhone     Luxury    \n",
       "4 4 44700             Luxury    \n",
       "5 5 59500  iPhone     Luxury    "
      ]
     },
     "metadata": {},
     "output_type": "display_data"
    }
   ],
   "source": [
    "data1R <- read.csv(\"missing-data.csv\", row.names=NULL)\n",
    "head(data1R, 5)"
   ]
  },
  {
   "cell_type": "markdown",
   "metadata": {},
   "source": [
    "Ahora estandarizamos los NA's"
   ]
  },
  {
   "cell_type": "code",
   "execution_count": 15,
   "metadata": {},
   "outputs": [
    {
     "data": {
      "text/html": [
       "<table>\n",
       "<thead><tr><th scope=col>X</th><th scope=col>Income</th><th scope=col>Phone_type</th><th scope=col>Car_type</th></tr></thead>\n",
       "<tbody>\n",
       "\t<tr><td>1         </td><td>89800     </td><td>Android   </td><td>Luxury    </td></tr>\n",
       "\t<tr><td>2         </td><td>47500     </td><td>Android   </td><td>Non-Luxury</td></tr>\n",
       "\t<tr><td>3         </td><td>45000     </td><td>iPhone    </td><td>Luxury    </td></tr>\n",
       "\t<tr><td>4         </td><td>44700     </td><td>NA        </td><td>Luxury    </td></tr>\n",
       "\t<tr><td>5         </td><td>59500     </td><td>iPhone    </td><td>Luxury    </td></tr>\n",
       "</tbody>\n",
       "</table>\n"
      ],
      "text/latex": [
       "\\begin{tabular}{r|llll}\n",
       " X & Income & Phone\\_type & Car\\_type\\\\\n",
       "\\hline\n",
       "\t 1          & 89800      & Android    & Luxury    \\\\\n",
       "\t 2          & 47500      & Android    & Non-Luxury\\\\\n",
       "\t 3          & 45000      & iPhone     & Luxury    \\\\\n",
       "\t 4          & 44700      & NA         & Luxury    \\\\\n",
       "\t 5          & 59500      & iPhone     & Luxury    \\\\\n",
       "\\end{tabular}\n"
      ],
      "text/markdown": [
       "\n",
       "| X | Income | Phone_type | Car_type |\n",
       "|---|---|---|---|\n",
       "| 1          | 89800      | Android    | Luxury     |\n",
       "| 2          | 47500      | Android    | Non-Luxury |\n",
       "| 3          | 45000      | iPhone     | Luxury     |\n",
       "| 4          | 44700      | NA         | Luxury     |\n",
       "| 5          | 59500      | iPhone     | Luxury     |\n",
       "\n"
      ],
      "text/plain": [
       "  X Income Phone_type Car_type  \n",
       "1 1 89800  Android    Luxury    \n",
       "2 2 47500  Android    Non-Luxury\n",
       "3 3 45000  iPhone     Luxury    \n",
       "4 4 44700  NA         Luxury    \n",
       "5 5 59500  iPhone     Luxury    "
      ]
     },
     "metadata": {},
     "output_type": "display_data"
    }
   ],
   "source": [
    "data1R$Income[data1R$Income == 0]          <- NA\n",
    "data1R$Phone_type[data1R$Phone_type == \"\"] <- NA\n",
    "data1R$Car_type[data1R$Car_type == \"\"]     <- NA\n",
    "\n",
    "head(data1R, 5)"
   ]
  },
  {
   "cell_type": "markdown",
   "metadata": {},
   "source": [
    "## 2. Identificación de patrones"
   ]
  },
  {
   "cell_type": "markdown",
   "metadata": {},
   "source": [
    "Primero contamos el número de NA´s"
   ]
  },
  {
   "cell_type": "code",
   "execution_count": 17,
   "metadata": {},
   "outputs": [
    {
     "data": {
      "text/html": [
       "<dl class=dl-horizontal>\n",
       "\t<dt>X</dt>\n",
       "\t\t<dd>0</dd>\n",
       "\t<dt>Income</dt>\n",
       "\t\t<dd>5</dd>\n",
       "\t<dt>Phone_type</dt>\n",
       "\t\t<dd>2</dd>\n",
       "\t<dt>Car_type</dt>\n",
       "\t\t<dd>0</dd>\n",
       "</dl>\n"
      ],
      "text/latex": [
       "\\begin{description*}\n",
       "\\item[X] 0\n",
       "\\item[Income] 5\n",
       "\\item[Phone\\textbackslash{}\\_type] 2\n",
       "\\item[Car\\textbackslash{}\\_type] 0\n",
       "\\end{description*}\n"
      ],
      "text/markdown": [
       "X\n",
       ":   0Income\n",
       ":   5Phone_type\n",
       ":   2Car_type\n",
       ":   0\n",
       "\n"
      ],
      "text/plain": [
       "         X     Income Phone_type   Car_type \n",
       "         0          5          2          0 "
      ]
     },
     "metadata": {},
     "output_type": "display_data"
    },
    {
     "data": {
      "text/html": [
       "<table>\n",
       "<thead><tr><th scope=col>X</th><th scope=col>Income</th><th scope=col>Phone_type</th><th scope=col>Car_type</th></tr></thead>\n",
       "<tbody>\n",
       "\t<tr><td>0</td><td>5</td><td>2</td><td>0</td></tr>\n",
       "</tbody>\n",
       "</table>\n"
      ],
      "text/latex": [
       "\\begin{tabular}{r|llll}\n",
       " X & Income & Phone\\_type & Car\\_type\\\\\n",
       "\\hline\n",
       "\t 0 & 5 & 2 & 0\\\\\n",
       "\\end{tabular}\n"
      ],
      "text/markdown": [
       "\n",
       "| X | Income | Phone_type | Car_type |\n",
       "|---|---|---|---|\n",
       "| 0 | 5 | 2 | 0 |\n",
       "\n"
      ],
      "text/plain": [
       "  X Income Phone_type Car_type\n",
       "1 0 5      2          0       "
      ]
     },
     "metadata": {},
     "output_type": "display_data"
    }
   ],
   "source": [
    "colSums(is.na(data1R))\n",
    "summarise_all(data1R, funs(sum(is.na(.))))"
   ]
  },
  {
   "cell_type": "markdown",
   "metadata": {},
   "source": [
    "Leemos la base de datos"
   ]
  },
  {
   "cell_type": "code",
   "execution_count": 18,
   "metadata": {},
   "outputs": [],
   "source": [
    "data2R       <- read.csv(\"housing-with-missing-value.csv\")\n",
    "housing.data <- data2R"
   ]
  },
  {
   "cell_type": "markdown",
   "metadata": {},
   "source": [
    "Graficamos"
   ]
  },
  {
   "cell_type": "code",
   "execution_count": 19,
   "metadata": {},
   "outputs": [
    {
     "data": {
      "text/html": [
       "<table>\n",
       "<thead><tr><th></th><th scope=col>X.1</th><th scope=col>X</th><th scope=col>crim</th><th scope=col>zn</th><th scope=col>indus</th><th scope=col>chas</th><th scope=col>nox</th><th scope=col>rm</th><th scope=col>age</th><th scope=col>dis</th><th scope=col>tax</th><th scope=col>b</th><th scope=col>lstat</th><th scope=col>medv</th><th scope=col>rad</th><th scope=col>ptratio</th><th scope=col></th></tr></thead>\n",
       "<tbody>\n",
       "\t<tr><th scope=row>431</th><td>1 </td><td>1 </td><td>1 </td><td>1 </td><td>1 </td><td>1 </td><td>1 </td><td>1 </td><td>1 </td><td>1 </td><td>1 </td><td>1 </td><td>1 </td><td>1 </td><td> 1</td><td> 1</td><td> 0</td></tr>\n",
       "\t<tr><th scope=row>35</th><td>1 </td><td>1 </td><td>1 </td><td>1 </td><td>1 </td><td>1 </td><td>1 </td><td>1 </td><td>1 </td><td>1 </td><td>1 </td><td>1 </td><td>1 </td><td>1 </td><td> 1</td><td> 0</td><td> 1</td></tr>\n",
       "\t<tr><th scope=row>35</th><td>1 </td><td>1 </td><td>1 </td><td>1 </td><td>1 </td><td>1 </td><td>1 </td><td>1 </td><td>1 </td><td>1 </td><td>1 </td><td>1 </td><td>1 </td><td>1 </td><td> 0</td><td> 1</td><td> 1</td></tr>\n",
       "\t<tr><th scope=row>5</th><td>1 </td><td>1 </td><td>1 </td><td>1 </td><td>1 </td><td>1 </td><td>1 </td><td>1 </td><td>1 </td><td>1 </td><td>1 </td><td>1 </td><td>1 </td><td>1 </td><td> 0</td><td> 0</td><td> 2</td></tr>\n",
       "\t<tr><th scope=row></th><td>0 </td><td>0 </td><td>0 </td><td>0 </td><td>0 </td><td>0 </td><td>0 </td><td>0 </td><td>0 </td><td>0 </td><td>0 </td><td>0 </td><td>0 </td><td>0 </td><td>40</td><td>40</td><td>80</td></tr>\n",
       "</tbody>\n",
       "</table>\n"
      ],
      "text/latex": [
       "\\begin{tabular}{r|lllllllllllllllll}\n",
       "  & X.1 & X & crim & zn & indus & chas & nox & rm & age & dis & tax & b & lstat & medv & rad & ptratio & \\\\\n",
       "\\hline\n",
       "\t431 & 1  & 1  & 1  & 1  & 1  & 1  & 1  & 1  & 1  & 1  & 1  & 1  & 1  & 1  &  1 &  1 &  0\\\\\n",
       "\t35 & 1  & 1  & 1  & 1  & 1  & 1  & 1  & 1  & 1  & 1  & 1  & 1  & 1  & 1  &  1 &  0 &  1\\\\\n",
       "\t35 & 1  & 1  & 1  & 1  & 1  & 1  & 1  & 1  & 1  & 1  & 1  & 1  & 1  & 1  &  0 &  1 &  1\\\\\n",
       "\t5 & 1  & 1  & 1  & 1  & 1  & 1  & 1  & 1  & 1  & 1  & 1  & 1  & 1  & 1  &  0 &  0 &  2\\\\\n",
       "\t & 0  & 0  & 0  & 0  & 0  & 0  & 0  & 0  & 0  & 0  & 0  & 0  & 0  & 0  & 40 & 40 & 80\\\\\n",
       "\\end{tabular}\n"
      ],
      "text/markdown": [
       "\n",
       "| <!--/--> | X.1 | X | crim | zn | indus | chas | nox | rm | age | dis | tax | b | lstat | medv | rad | ptratio |  |\n",
       "|---|---|---|---|---|---|---|---|---|---|---|---|---|---|---|---|---|---|\n",
       "| 431 | 1  | 1  | 1  | 1  | 1  | 1  | 1  | 1  | 1  | 1  | 1  | 1  | 1  | 1  |  1 |  1 |  0 |\n",
       "| 35 | 1  | 1  | 1  | 1  | 1  | 1  | 1  | 1  | 1  | 1  | 1  | 1  | 1  | 1  |  1 |  0 |  1 |\n",
       "| 35 | 1  | 1  | 1  | 1  | 1  | 1  | 1  | 1  | 1  | 1  | 1  | 1  | 1  | 1  |  0 |  1 |  1 |\n",
       "| 5 | 1  | 1  | 1  | 1  | 1  | 1  | 1  | 1  | 1  | 1  | 1  | 1  | 1  | 1  |  0 |  0 |  2 |\n",
       "|  | 0  | 0  | 0  | 0  | 0  | 0  | 0  | 0  | 0  | 0  | 0  | 0  | 0  | 0  | 40 | 40 | 80 |\n",
       "\n"
      ],
      "text/plain": [
       "    X.1 X crim zn indus chas nox rm age dis tax b lstat medv rad ptratio   \n",
       "431 1   1 1    1  1     1    1   1  1   1   1   1 1     1     1   1       0\n",
       "35  1   1 1    1  1     1    1   1  1   1   1   1 1     1     1   0       1\n",
       "35  1   1 1    1  1     1    1   1  1   1   1   1 1     1     0   1       1\n",
       "5   1   1 1    1  1     1    1   1  1   1   1   1 1     1     0   0       2\n",
       "    0   0 0    0  0     0    0   0  0   0   0   0 0     0    40  40      80"
      ]
     },
     "metadata": {},
     "output_type": "display_data"
    },
    {
     "data": {
      "image/png": "[encoded data removed]",
      "text/plain": [
       "plot without title"
      ]
     },
     "metadata": {},
     "output_type": "display_data"
    }
   ],
   "source": [
    "md.pattern(housing.data)"
   ]
  },
  {
   "cell_type": "code",
   "execution_count": 20,
   "metadata": {},
   "outputs": [
    {
     "name": "stdout",
     "output_type": "stream",
     "text": [
      "\n",
      " Variables sorted by number of missings: \n",
      " Variable      Count\n",
      "      rad 0.07905138\n",
      "  ptratio 0.07905138\n",
      "      X.1 0.00000000\n",
      "        X 0.00000000\n",
      "     crim 0.00000000\n",
      "       zn 0.00000000\n",
      "    indus 0.00000000\n",
      "     chas 0.00000000\n",
      "      nox 0.00000000\n",
      "       rm 0.00000000\n",
      "      age 0.00000000\n",
      "      dis 0.00000000\n",
      "      tax 0.00000000\n",
      "        b 0.00000000\n",
      "    lstat 0.00000000\n",
      "     medv 0.00000000\n"
     ]
    },
    {
     "data": {
      "image/png": "[encoded data removed]",
      "text/plain": [
       "plot without title"
      ]
     },
     "metadata": {},
     "output_type": "display_data"
    }
   ],
   "source": [
    "aggr(housing.data,\n",
    "     col= c('blue', 'red'),\n",
    "     numbers = TRUE, \n",
    "     sortVars = TRUE,\n",
    "     labels = names(housing.data),\n",
    "     cex.axis = 0.75,\n",
    "     gap = 1,\n",
    "     ylab = c(\"Histograma de NAs\", \"Patrón\")\n",
    ") "
   ]
  },
  {
   "cell_type": "markdown",
   "metadata": {},
   "source": [
    "## 3. Métodos para tratamientos de NA's: Eliminación"
   ]
  },
  {
   "cell_type": "markdown",
   "metadata": {
    "slideshow": {
     "slide_type": "slide"
    }
   },
   "source": [
    "Es posible que eliminar los Na, la forma más simple de hacerlo es eliminar todas las filas que contengan algún valor nulo."
   ]
  },
  {
   "cell_type": "code",
   "execution_count": 21,
   "metadata": {},
   "outputs": [
    {
     "data": {
      "text/html": [
       "<table>\n",
       "<thead><tr><th></th><th scope=col>X</th><th scope=col>Income</th><th scope=col>Phone_type</th><th scope=col>Car_type</th></tr></thead>\n",
       "<tbody>\n",
       "\t<tr><th scope=row>1</th><td>1         </td><td>89800     </td><td>Android   </td><td>Luxury    </td></tr>\n",
       "\t<tr><th scope=row>2</th><td>2         </td><td>47500     </td><td>Android   </td><td>Non-Luxury</td></tr>\n",
       "\t<tr><th scope=row>3</th><td>3         </td><td>45000     </td><td>iPhone    </td><td>Luxury    </td></tr>\n",
       "\t<tr><th scope=row>5</th><td>5         </td><td>59500     </td><td>iPhone    </td><td>Luxury    </td></tr>\n",
       "\t<tr><th scope=row>7</th><td>7         </td><td>63300     </td><td>iPhone    </td><td>Non-Luxury</td></tr>\n",
       "</tbody>\n",
       "</table>\n"
      ],
      "text/latex": [
       "\\begin{tabular}{r|llll}\n",
       "  & X & Income & Phone\\_type & Car\\_type\\\\\n",
       "\\hline\n",
       "\t1 & 1          & 89800      & Android    & Luxury    \\\\\n",
       "\t2 & 2          & 47500      & Android    & Non-Luxury\\\\\n",
       "\t3 & 3          & 45000      & iPhone     & Luxury    \\\\\n",
       "\t5 & 5          & 59500      & iPhone     & Luxury    \\\\\n",
       "\t7 & 7          & 63300      & iPhone     & Non-Luxury\\\\\n",
       "\\end{tabular}\n"
      ],
      "text/markdown": [
       "\n",
       "| <!--/--> | X | Income | Phone_type | Car_type |\n",
       "|---|---|---|---|---|\n",
       "| 1 | 1          | 89800      | Android    | Luxury     |\n",
       "| 2 | 2          | 47500      | Android    | Non-Luxury |\n",
       "| 3 | 3          | 45000      | iPhone     | Luxury     |\n",
       "| 5 | 5          | 59500      | iPhone     | Luxury     |\n",
       "| 7 | 7          | 63300      | iPhone     | Non-Luxury |\n",
       "\n"
      ],
      "text/plain": [
       "  X Income Phone_type Car_type  \n",
       "1 1 89800  Android    Luxury    \n",
       "2 2 47500  Android    Non-Luxury\n",
       "3 3 45000  iPhone     Luxury    \n",
       "5 5 59500  iPhone     Luxury    \n",
       "7 7 63300  iPhone     Non-Luxury"
      ]
     },
     "metadata": {},
     "output_type": "display_data"
    }
   ],
   "source": [
    "ingresos <- na.omit(data1R)\n",
    "head(ingresos, 5)"
   ]
  },
  {
   "cell_type": "code",
   "execution_count": 22,
   "metadata": {},
   "outputs": [
    {
     "data": {
      "text/html": [
       "<table>\n",
       "<thead><tr><th></th><th scope=col>X</th><th scope=col>Income</th><th scope=col>Phone_type</th><th scope=col>Car_type</th></tr></thead>\n",
       "<tbody>\n",
       "\t<tr><th scope=row>1</th><td>1         </td><td>89800     </td><td>Android   </td><td>Luxury    </td></tr>\n",
       "\t<tr><th scope=row>2</th><td>2         </td><td>47500     </td><td>Android   </td><td>Non-Luxury</td></tr>\n",
       "\t<tr><th scope=row>3</th><td>3         </td><td>45000     </td><td>iPhone    </td><td>Luxury    </td></tr>\n",
       "\t<tr><th scope=row>5</th><td>5         </td><td>59500     </td><td>iPhone    </td><td>Luxury    </td></tr>\n",
       "\t<tr><th scope=row>7</th><td>7         </td><td>63300     </td><td>iPhone    </td><td>Non-Luxury</td></tr>\n",
       "</tbody>\n",
       "</table>\n"
      ],
      "text/latex": [
       "\\begin{tabular}{r|llll}\n",
       "  & X & Income & Phone\\_type & Car\\_type\\\\\n",
       "\\hline\n",
       "\t1 & 1          & 89800      & Android    & Luxury    \\\\\n",
       "\t2 & 2          & 47500      & Android    & Non-Luxury\\\\\n",
       "\t3 & 3          & 45000      & iPhone     & Luxury    \\\\\n",
       "\t5 & 5          & 59500      & iPhone     & Luxury    \\\\\n",
       "\t7 & 7          & 63300      & iPhone     & Non-Luxury\\\\\n",
       "\\end{tabular}\n"
      ],
      "text/markdown": [
       "\n",
       "| <!--/--> | X | Income | Phone_type | Car_type |\n",
       "|---|---|---|---|---|\n",
       "| 1 | 1          | 89800      | Android    | Luxury     |\n",
       "| 2 | 2          | 47500      | Android    | Non-Luxury |\n",
       "| 3 | 3          | 45000      | iPhone     | Luxury     |\n",
       "| 5 | 5          | 59500      | iPhone     | Luxury     |\n",
       "| 7 | 7          | 63300      | iPhone     | Non-Luxury |\n",
       "\n"
      ],
      "text/plain": [
       "  X Income Phone_type Car_type  \n",
       "1 1 89800  Android    Luxury    \n",
       "2 2 47500  Android    Non-Luxury\n",
       "3 3 45000  iPhone     Luxury    \n",
       "5 5 59500  iPhone     Luxury    \n",
       "7 7 63300  iPhone     Non-Luxury"
      ]
     },
     "metadata": {},
     "output_type": "display_data"
    }
   ],
   "source": [
    "ingresos <- data1R[complete.cases(data1R),]\n",
    "head(ingresos, 5)"
   ]
  },
  {
   "cell_type": "markdown",
   "metadata": {
    "slideshow": {
     "slide_type": "slide"
    }
   },
   "source": [
    "Aunque tambien existe la opción de eliminar las filas que tengan un valor nulo en una variable concreta."
   ]
  },
  {
   "cell_type": "code",
   "execution_count": 23,
   "metadata": {},
   "outputs": [
    {
     "data": {
      "text/html": [
       "<dl class=dl-horizontal>\n",
       "\t<dt>X</dt>\n",
       "\t\t<dd>0</dd>\n",
       "\t<dt>Income</dt>\n",
       "\t\t<dd>0</dd>\n",
       "\t<dt>Phone_type</dt>\n",
       "\t\t<dd>2</dd>\n",
       "\t<dt>Car_type</dt>\n",
       "\t\t<dd>0</dd>\n",
       "</dl>\n"
      ],
      "text/latex": [
       "\\begin{description*}\n",
       "\\item[X] 0\n",
       "\\item[Income] 0\n",
       "\\item[Phone\\textbackslash{}\\_type] 2\n",
       "\\item[Car\\textbackslash{}\\_type] 0\n",
       "\\end{description*}\n"
      ],
      "text/markdown": [
       "X\n",
       ":   0Income\n",
       ":   0Phone_type\n",
       ":   2Car_type\n",
       ":   0\n",
       "\n"
      ],
      "text/plain": [
       "         X     Income Phone_type   Car_type \n",
       "         0          0          2          0 "
      ]
     },
     "metadata": {},
     "output_type": "display_data"
    },
    {
     "data": {
      "text/html": [
       "<table>\n",
       "<thead><tr><th scope=col>X</th><th scope=col>Income</th><th scope=col>Phone_type</th><th scope=col>Car_type</th></tr></thead>\n",
       "<tbody>\n",
       "\t<tr><td>1         </td><td>89800     </td><td>Android   </td><td>Luxury    </td></tr>\n",
       "\t<tr><td>2         </td><td>47500     </td><td>Android   </td><td>Non-Luxury</td></tr>\n",
       "\t<tr><td>3         </td><td>45000     </td><td>iPhone    </td><td>Luxury    </td></tr>\n",
       "\t<tr><td>4         </td><td>44700     </td><td>NA        </td><td>Luxury    </td></tr>\n",
       "\t<tr><td>5         </td><td>59500     </td><td>iPhone    </td><td>Luxury    </td></tr>\n",
       "</tbody>\n",
       "</table>\n"
      ],
      "text/latex": [
       "\\begin{tabular}{r|llll}\n",
       " X & Income & Phone\\_type & Car\\_type\\\\\n",
       "\\hline\n",
       "\t 1          & 89800      & Android    & Luxury    \\\\\n",
       "\t 2          & 47500      & Android    & Non-Luxury\\\\\n",
       "\t 3          & 45000      & iPhone     & Luxury    \\\\\n",
       "\t 4          & 44700      & NA         & Luxury    \\\\\n",
       "\t 5          & 59500      & iPhone     & Luxury    \\\\\n",
       "\\end{tabular}\n"
      ],
      "text/markdown": [
       "\n",
       "| X | Income | Phone_type | Car_type |\n",
       "|---|---|---|---|\n",
       "| 1          | 89800      | Android    | Luxury     |\n",
       "| 2          | 47500      | Android    | Non-Luxury |\n",
       "| 3          | 45000      | iPhone     | Luxury     |\n",
       "| 4          | 44700      | NA         | Luxury     |\n",
       "| 5          | 59500      | iPhone     | Luxury     |\n",
       "\n"
      ],
      "text/plain": [
       "  X Income Phone_type Car_type  \n",
       "1 1 89800  Android    Luxury    \n",
       "2 2 47500  Android    Non-Luxury\n",
       "3 3 45000  iPhone     Luxury    \n",
       "4 4 44700  NA         Luxury    \n",
       "5 5 59500  iPhone     Luxury    "
      ]
     },
     "metadata": {},
     "output_type": "display_data"
    }
   ],
   "source": [
    "ingresos <- data1R[!is.na(data1R$Income),]\n",
    "colSums(is.na(ingresos))\n",
    "head(ingresos, 5)"
   ]
  },
  {
   "cell_type": "markdown",
   "metadata": {
    "slideshow": {
     "slide_type": "slide"
    }
   },
   "source": [
    "Támbien existe la posibilidad de que alguna variable tenga tantos NA's que sea más conveniente eliminarla."
   ]
  },
  {
   "cell_type": "code",
   "execution_count": 24,
   "metadata": {},
   "outputs": [
    {
     "data": {
      "text/html": [
       "<table>\n",
       "<thead><tr><th scope=col>X</th><th scope=col>Income</th><th scope=col>Car_type</th></tr></thead>\n",
       "<tbody>\n",
       "\t<tr><td>1         </td><td>89800     </td><td>Luxury    </td></tr>\n",
       "\t<tr><td>2         </td><td>47500     </td><td>Non-Luxury</td></tr>\n",
       "\t<tr><td>3         </td><td>45000     </td><td>Luxury    </td></tr>\n",
       "\t<tr><td>4         </td><td>44700     </td><td>Luxury    </td></tr>\n",
       "\t<tr><td>5         </td><td>59500     </td><td>Luxury    </td></tr>\n",
       "</tbody>\n",
       "</table>\n"
      ],
      "text/latex": [
       "\\begin{tabular}{r|lll}\n",
       " X & Income & Car\\_type\\\\\n",
       "\\hline\n",
       "\t 1          & 89800      & Luxury    \\\\\n",
       "\t 2          & 47500      & Non-Luxury\\\\\n",
       "\t 3          & 45000      & Luxury    \\\\\n",
       "\t 4          & 44700      & Luxury    \\\\\n",
       "\t 5          & 59500      & Luxury    \\\\\n",
       "\\end{tabular}\n"
      ],
      "text/markdown": [
       "\n",
       "| X | Income | Car_type |\n",
       "|---|---|---|\n",
       "| 1          | 89800      | Luxury     |\n",
       "| 2          | 47500      | Non-Luxury |\n",
       "| 3          | 45000      | Luxury     |\n",
       "| 4          | 44700      | Luxury     |\n",
       "| 5          | 59500      | Luxury     |\n",
       "\n"
      ],
      "text/plain": [
       "  X Income Car_type  \n",
       "1 1 89800  Luxury    \n",
       "2 2 47500  Non-Luxury\n",
       "3 3 45000  Luxury    \n",
       "4 4 44700  Luxury    \n",
       "5 5 59500  Luxury    "
      ]
     },
     "metadata": {},
     "output_type": "display_data"
    }
   ],
   "source": [
    "ingresos$Phone_type <- NULL\n",
    "head(ingresos, 5)"
   ]
  },
  {
   "cell_type": "markdown",
   "metadata": {},
   "source": [
    "## 3. Métodos para tratamientos de NA's: Imputación por medias"
   ]
  },
  {
   "cell_type": "markdown",
   "metadata": {},
   "source": [
    "Calculamos la media y la desviación estandar para ver la importancia de na.rm=T"
   ]
  },
  {
   "cell_type": "code",
   "execution_count": 25,
   "metadata": {},
   "outputs": [
    {
     "data": {
      "text/html": [
       "&lt;NA&gt;"
      ],
      "text/latex": [
       "<NA>"
      ],
      "text/markdown": [
       "&lt;NA&gt;"
      ],
      "text/plain": [
       "[1] NA"
      ]
     },
     "metadata": {},
     "output_type": "display_data"
    },
    {
     "data": {
      "text/html": [
       "65763.6363636364"
      ],
      "text/latex": [
       "65763.6363636364"
      ],
      "text/markdown": [
       "65763.6363636364"
      ],
      "text/plain": [
       "[1] 65763.64"
      ]
     },
     "metadata": {},
     "output_type": "display_data"
    },
    {
     "data": {
      "text/html": [
       "&lt;NA&gt;"
      ],
      "text/latex": [
       "<NA>"
      ],
      "text/markdown": [
       "&lt;NA&gt;"
      ],
      "text/plain": [
       "[1] NA"
      ]
     },
     "metadata": {},
     "output_type": "display_data"
    },
    {
     "data": {
      "text/html": [
       "26715.8691106552"
      ],
      "text/latex": [
       "26715.8691106552"
      ],
      "text/markdown": [
       "26715.8691106552"
      ],
      "text/plain": [
       "[1] 26715.87"
      ]
     },
     "metadata": {},
     "output_type": "display_data"
    }
   ],
   "source": [
    "mean(data1R$Income)\n",
    "mean(data1R$Income, na.rm=T)\n",
    "\n",
    "sd(data1R$Income)\n",
    "sd(data1R$Income, na.rm=T)"
   ]
  },
  {
   "cell_type": "markdown",
   "metadata": {},
   "source": [
    "Reemplazamos los valores faltantes por la media"
   ]
  },
  {
   "cell_type": "code",
   "execution_count": 26,
   "metadata": {},
   "outputs": [
    {
     "data": {
      "text/html": [
       "<table>\n",
       "<thead><tr><th scope=col>X</th><th scope=col>Income</th><th scope=col>Phone_type</th><th scope=col>Car_type</th><th scope=col>Income.mean</th></tr></thead>\n",
       "<tbody>\n",
       "\t<tr><td>1         </td><td>89800     </td><td>Android   </td><td>Luxury    </td><td>89800     </td></tr>\n",
       "\t<tr><td>2         </td><td>47500     </td><td>Android   </td><td>Non-Luxury</td><td>47500     </td></tr>\n",
       "\t<tr><td>3         </td><td>45000     </td><td>iPhone    </td><td>Luxury    </td><td>45000     </td></tr>\n",
       "\t<tr><td>4         </td><td>44700     </td><td>NA        </td><td>Luxury    </td><td>44700     </td></tr>\n",
       "\t<tr><td>5         </td><td>59500     </td><td>iPhone    </td><td>Luxury    </td><td>59500     </td></tr>\n",
       "</tbody>\n",
       "</table>\n"
      ],
      "text/latex": [
       "\\begin{tabular}{r|lllll}\n",
       " X & Income & Phone\\_type & Car\\_type & Income.mean\\\\\n",
       "\\hline\n",
       "\t 1          & 89800      & Android    & Luxury     & 89800     \\\\\n",
       "\t 2          & 47500      & Android    & Non-Luxury & 47500     \\\\\n",
       "\t 3          & 45000      & iPhone     & Luxury     & 45000     \\\\\n",
       "\t 4          & 44700      & NA         & Luxury     & 44700     \\\\\n",
       "\t 5          & 59500      & iPhone     & Luxury     & 59500     \\\\\n",
       "\\end{tabular}\n"
      ],
      "text/markdown": [
       "\n",
       "| X | Income | Phone_type | Car_type | Income.mean |\n",
       "|---|---|---|---|---|\n",
       "| 1          | 89800      | Android    | Luxury     | 89800      |\n",
       "| 2          | 47500      | Android    | Non-Luxury | 47500      |\n",
       "| 3          | 45000      | iPhone     | Luxury     | 45000      |\n",
       "| 4          | 44700      | NA         | Luxury     | 44700      |\n",
       "| 5          | 59500      | iPhone     | Luxury     | 59500      |\n",
       "\n"
      ],
      "text/plain": [
       "  X Income Phone_type Car_type   Income.mean\n",
       "1 1 89800  Android    Luxury     89800      \n",
       "2 2 47500  Android    Non-Luxury 47500      \n",
       "3 3 45000  iPhone     Luxury     45000      \n",
       "4 4 44700  NA         Luxury     44700      \n",
       "5 5 59500  iPhone     Luxury     59500      "
      ]
     },
     "metadata": {},
     "output_type": "display_data"
    }
   ],
   "source": [
    "ingresos             <- data1R\n",
    "ingresos$Income.mean <- ifelse(is.na(ingresos$Income), \n",
    "                           mean(ingresos$Income, na.rm=TRUE),\n",
    "                           ingresos$Income\n",
    "                           )\n",
    "head(ingresos,5)"
   ]
  },
  {
   "cell_type": "markdown",
   "metadata": {},
   "source": [
    "Calculamos la media y la desviación estandar nuevamente"
   ]
  },
  {
   "cell_type": "code",
   "execution_count": 27,
   "metadata": {},
   "outputs": [
    {
     "data": {
      "text/html": [
       "65763.6363636364"
      ],
      "text/latex": [
       "65763.6363636364"
      ],
      "text/markdown": [
       "65763.6363636364"
      ],
      "text/plain": [
       "[1] 65763.64"
      ]
     },
     "metadata": {},
     "output_type": "display_data"
    },
    {
     "data": {
      "text/html": [
       "24010.0066551515"
      ],
      "text/latex": [
       "24010.0066551515"
      ],
      "text/markdown": [
       "24010.0066551515"
      ],
      "text/plain": [
       "[1] 24010.01"
      ]
     },
     "metadata": {},
     "output_type": "display_data"
    }
   ],
   "source": [
    "mean(ingresos$Income.mean)\n",
    "sd(ingresos$Income.mean)"
   ]
  },
  {
   "cell_type": "markdown",
   "metadata": {},
   "source": [
    "Miramos el summary"
   ]
  },
  {
   "cell_type": "code",
   "execution_count": 28,
   "metadata": {},
   "outputs": [
    {
     "data": {
      "text/plain": [
       "   Min. 1st Qu.  Median    Mean 3rd Qu.    Max.    NA's \n",
       "  12.60   17.40   19.10   18.47   20.20   22.00      40 "
      ]
     },
     "metadata": {},
     "output_type": "display_data"
    }
   ],
   "source": [
    "housing.data <- data2R\n",
    "summary(housing.data$ptratio)"
   ]
  },
  {
   "cell_type": "markdown",
   "metadata": {},
   "source": [
    "Tambien existe un paquete llamado *Hmisc* que permite relizar esto sin necesidad de crear una función, además permite realizar un cambio en el criterio de imputación"
   ]
  },
  {
   "cell_type": "code",
   "execution_count": 29,
   "metadata": {},
   "outputs": [
    {
     "name": "stdout",
     "output_type": "stream",
     "text": [
      "\n",
      " 40 values imputed to 18.4676 \n",
      "\n"
     ]
    },
    {
     "data": {
      "text/plain": [
       "   Min. 1st Qu.  Median    Mean 3rd Qu.    Max. \n",
       "  12.60   17.40   18.60   18.47   20.20   22.00 "
      ]
     },
     "metadata": {},
     "output_type": "display_data"
    }
   ],
   "source": [
    "housing.data$ptratio <- impute(housing.data$ptratio, mean)\n",
    "summary(housing.data$ptratio)"
   ]
  },
  {
   "cell_type": "markdown",
   "metadata": {},
   "source": [
    "También se puede imputar con la mediana y otras medidas"
   ]
  },
  {
   "cell_type": "code",
   "execution_count": 30,
   "metadata": {
    "scrolled": false
   },
   "outputs": [
    {
     "name": "stdout",
     "output_type": "stream",
     "text": [
      "\n",
      " 40 values imputed to 19.1 \n",
      "\n"
     ]
    },
    {
     "data": {
      "text/plain": [
       "   Min. 1st Qu.  Median    Mean 3rd Qu.    Max. \n",
       "  12.60   17.40   19.10   18.52   20.20   22.00 "
      ]
     },
     "metadata": {},
     "output_type": "display_data"
    }
   ],
   "source": [
    "housing.data <- data2R\n",
    "housing.data$ptratio <- impute(housing.data$ptratio, median)\n",
    "summary(housing.data$ptratio)"
   ]
  },
  {
   "cell_type": "markdown",
   "metadata": {},
   "source": [
    "También se puede imputar con un valor fijo"
   ]
  },
  {
   "cell_type": "code",
   "execution_count": 31,
   "metadata": {},
   "outputs": [
    {
     "name": "stdout",
     "output_type": "stream",
     "text": [
      "\n",
      " 40 values imputed to 18 \n",
      "\n"
     ]
    },
    {
     "data": {
      "text/plain": [
       "   Min. 1st Qu.  Median    Mean 3rd Qu.    Max. \n",
       "  12.60   17.40   18.60   18.43   20.20   22.00 "
      ]
     },
     "metadata": {},
     "output_type": "display_data"
    }
   ],
   "source": [
    "housing.data <- data2R\n",
    "housing.data$ptratio <- impute(housing.data$ptratio, 18)\n",
    "summary(housing.data$ptratio)"
   ]
  },
  {
   "cell_type": "markdown",
   "metadata": {},
   "source": [
    "## 3. Métodos para tratamientos de NA's: Imputación por cómputo de valores aleatorios"
   ]
  },
  {
   "cell_type": "markdown",
   "metadata": {},
   "source": [
    "Se usa cuanto tengo valores faltantes, tanto en variables númericas como categoricas, de forma que por medio de un muestreo aleatorio se reeemplazan los valores faltantes. Para esto es conveniente construir una función."
   ]
  },
  {
   "cell_type": "code",
   "execution_count": 32,
   "metadata": {},
   "outputs": [],
   "source": [
    "random.impute        <- function(x) {\n",
    "    missing          <- is.na(x)\n",
    "    n.missing        <- sum(missing)\n",
    "    x.obs            <- x[!missing]\n",
    "    imputed          <- x\n",
    "    imputed[missing] <- sample(x.obs, n.missing, replace=TRUE)\n",
    "    return(imputed)\n",
    "}"
   ]
  },
  {
   "cell_type": "markdown",
   "metadata": {},
   "source": [
    "Primero se se construye un vector con los valores nulos **missing**, luego los sumamos para saber cuales valores hay que reemplazar **n.missing**, luego  se hace un vector de los valores no nulos **x.obs**, **imputed** devuelve por defecto los valores que habian en los valores no nulos y finalmente **imputed[missing]** permite reemplazar aletoriamente los valores nulos con valores observados."
   ]
  },
  {
   "cell_type": "code",
   "execution_count": 33,
   "metadata": {},
   "outputs": [
    {
     "data": {
      "text/html": [
       "<dl class=dl-horizontal>\n",
       "\t<dt>X</dt>\n",
       "\t\t<dd>0</dd>\n",
       "\t<dt>Income</dt>\n",
       "\t\t<dd>5</dd>\n",
       "\t<dt>Phone_type</dt>\n",
       "\t\t<dd>2</dd>\n",
       "\t<dt>Car_type</dt>\n",
       "\t\t<dd>0</dd>\n",
       "\t<dt>Phone_type.imputed</dt>\n",
       "\t\t<dd>0</dd>\n",
       "</dl>\n"
      ],
      "text/latex": [
       "\\begin{description*}\n",
       "\\item[X] 0\n",
       "\\item[Income] 5\n",
       "\\item[Phone\\textbackslash{}\\_type] 2\n",
       "\\item[Car\\textbackslash{}\\_type] 0\n",
       "\\item[Phone\\textbackslash{}\\_type.imputed] 0\n",
       "\\end{description*}\n"
      ],
      "text/markdown": [
       "X\n",
       ":   0Income\n",
       ":   5Phone_type\n",
       ":   2Car_type\n",
       ":   0Phone_type.imputed\n",
       ":   0\n",
       "\n"
      ],
      "text/plain": [
       "                 X             Income         Phone_type           Car_type \n",
       "                 0                  5                  2                  0 \n",
       "Phone_type.imputed \n",
       "                 0 "
      ]
     },
     "metadata": {},
     "output_type": "display_data"
    }
   ],
   "source": [
    "ingresos                    <- data1R\n",
    "ingresos$Phone_type.imputed <- random.impute(ingresos$Phone_type)\n",
    "colSums(is.na(ingresos))"
   ]
  },
  {
   "cell_type": "markdown",
   "metadata": {},
   "source": [
    "Cuando los datos que se tienen en la base de datos fueron tomados de forma totalmente aleatoria, es posible optar por realizar una imputación aleatoria de todos los datos de la variable. Para esto creamos otra variable."
   ]
  },
  {
   "cell_type": "code",
   "execution_count": 34,
   "metadata": {},
   "outputs": [],
   "source": [
    "random.impute.data.frame <- function(dataframe, cols){\n",
    "  names                  <- names(dataframe)\n",
    "  for(col in cols){\n",
    "    name                 <- paste(names[col], \"imputed\", sep = \".\")\n",
    "    dataframe[name]      = random.impute(dataframe[,col])\n",
    "  }\n",
    "  dataframe\n",
    "}"
   ]
  },
  {
   "cell_type": "code",
   "execution_count": 35,
   "metadata": {},
   "outputs": [
    {
     "data": {
      "text/html": [
       "<dl class=dl-horizontal>\n",
       "\t<dt>X</dt>\n",
       "\t\t<dd>0</dd>\n",
       "\t<dt>Income</dt>\n",
       "\t\t<dd>5</dd>\n",
       "\t<dt>Phone_type</dt>\n",
       "\t\t<dd>2</dd>\n",
       "\t<dt>Car_type</dt>\n",
       "\t\t<dd>0</dd>\n",
       "\t<dt>X.imputed</dt>\n",
       "\t\t<dd>0</dd>\n",
       "\t<dt>Income.imputed</dt>\n",
       "\t\t<dd>0</dd>\n",
       "</dl>\n"
      ],
      "text/latex": [
       "\\begin{description*}\n",
       "\\item[X] 0\n",
       "\\item[Income] 5\n",
       "\\item[Phone\\textbackslash{}\\_type] 2\n",
       "\\item[Car\\textbackslash{}\\_type] 0\n",
       "\\item[X.imputed] 0\n",
       "\\item[Income.imputed] 0\n",
       "\\end{description*}\n"
      ],
      "text/markdown": [
       "X\n",
       ":   0Income\n",
       ":   5Phone_type\n",
       ":   2Car_type\n",
       ":   0X.imputed\n",
       ":   0Income.imputed\n",
       ":   0\n",
       "\n"
      ],
      "text/plain": [
       "             X         Income     Phone_type       Car_type      X.imputed \n",
       "             0              5              2              0              0 \n",
       "Income.imputed \n",
       "             0 "
      ]
     },
     "metadata": {},
     "output_type": "display_data"
    }
   ],
   "source": [
    "ingresos <- data1R\n",
    "ingresos <- random.impute.data.frame(ingresos, c(1,2))\n",
    "colSums(is.na(ingresos))"
   ]
  },
  {
   "cell_type": "markdown",
   "metadata": {},
   "source": [
    "## 3. Métodos para tratamientos de NA's: Imputación con modelos predictivos"
   ]
  },
  {
   "cell_type": "markdown",
   "metadata": {},
   "source": [
    "En ocasiones cuando un método para reemplazar valores aleatorios no es el adecuado, por ejemplo cuando el uso de la media y mediana genera mucho ruido, es usual utilizar modelos predictivos para generar los valores faltantes."
   ]
  },
  {
   "cell_type": "code",
   "execution_count": 36,
   "metadata": {},
   "outputs": [
    {
     "data": {
      "text/html": [
       "<table>\n",
       "<thead><tr><th scope=col>X.1</th><th scope=col>X</th><th scope=col>crim</th><th scope=col>zn</th><th scope=col>indus</th><th scope=col>chas</th><th scope=col>nox</th><th scope=col>rm</th><th scope=col>age</th><th scope=col>dis</th><th scope=col>rad</th><th scope=col>tax</th><th scope=col>ptratio</th><th scope=col>b</th><th scope=col>lstat</th><th scope=col>medv</th></tr></thead>\n",
       "<tbody>\n",
       "\t<tr><td>1      </td><td>1      </td><td>0.00632</td><td>18     </td><td>2.31   </td><td>0      </td><td>0.538  </td><td>6.575  </td><td>65.2   </td><td>4.0900 </td><td>1      </td><td>296    </td><td>15.3   </td><td>396.90 </td><td>4.98   </td><td>24.0   </td></tr>\n",
       "\t<tr><td>2      </td><td>2      </td><td>0.02731</td><td> 0     </td><td>7.07   </td><td>0      </td><td>0.469  </td><td>6.421  </td><td>78.9   </td><td>4.9671 </td><td>2      </td><td>242    </td><td>17.8   </td><td>396.90 </td><td>9.14   </td><td>21.6   </td></tr>\n",
       "\t<tr><td>3      </td><td>3      </td><td>0.02729</td><td> 0     </td><td>7.07   </td><td>0      </td><td>0.469  </td><td>7.185  </td><td>61.1   </td><td>4.9671 </td><td>2      </td><td>242    </td><td>17.8   </td><td>392.83 </td><td>4.03   </td><td>34.7   </td></tr>\n",
       "\t<tr><td>4      </td><td>4      </td><td>0.03237</td><td> 0     </td><td>2.18   </td><td>0      </td><td>0.458  </td><td>6.998  </td><td>45.8   </td><td>6.0622 </td><td>3      </td><td>222    </td><td>18.7   </td><td>394.63 </td><td>2.94   </td><td>33.4   </td></tr>\n",
       "\t<tr><td>5      </td><td>5      </td><td>0.06905</td><td> 0     </td><td>2.18   </td><td>0      </td><td>0.458  </td><td>7.147  </td><td>54.2   </td><td>6.0622 </td><td>3      </td><td>222    </td><td>18.7   </td><td>396.90 </td><td>5.33   </td><td>36.2   </td></tr>\n",
       "</tbody>\n",
       "</table>\n"
      ],
      "text/latex": [
       "\\begin{tabular}{r|llllllllllllllll}\n",
       " X.1 & X & crim & zn & indus & chas & nox & rm & age & dis & rad & tax & ptratio & b & lstat & medv\\\\\n",
       "\\hline\n",
       "\t 1       & 1       & 0.00632 & 18      & 2.31    & 0       & 0.538   & 6.575   & 65.2    & 4.0900  & 1       & 296     & 15.3    & 396.90  & 4.98    & 24.0   \\\\\n",
       "\t 2       & 2       & 0.02731 &  0      & 7.07    & 0       & 0.469   & 6.421   & 78.9    & 4.9671  & 2       & 242     & 17.8    & 396.90  & 9.14    & 21.6   \\\\\n",
       "\t 3       & 3       & 0.02729 &  0      & 7.07    & 0       & 0.469   & 7.185   & 61.1    & 4.9671  & 2       & 242     & 17.8    & 392.83  & 4.03    & 34.7   \\\\\n",
       "\t 4       & 4       & 0.03237 &  0      & 2.18    & 0       & 0.458   & 6.998   & 45.8    & 6.0622  & 3       & 222     & 18.7    & 394.63  & 2.94    & 33.4   \\\\\n",
       "\t 5       & 5       & 0.06905 &  0      & 2.18    & 0       & 0.458   & 7.147   & 54.2    & 6.0622  & 3       & 222     & 18.7    & 396.90  & 5.33    & 36.2   \\\\\n",
       "\\end{tabular}\n"
      ],
      "text/markdown": [
       "\n",
       "| X.1 | X | crim | zn | indus | chas | nox | rm | age | dis | rad | tax | ptratio | b | lstat | medv |\n",
       "|---|---|---|---|---|---|---|---|---|---|---|---|---|---|---|---|\n",
       "| 1       | 1       | 0.00632 | 18      | 2.31    | 0       | 0.538   | 6.575   | 65.2    | 4.0900  | 1       | 296     | 15.3    | 396.90  | 4.98    | 24.0    |\n",
       "| 2       | 2       | 0.02731 |  0      | 7.07    | 0       | 0.469   | 6.421   | 78.9    | 4.9671  | 2       | 242     | 17.8    | 396.90  | 9.14    | 21.6    |\n",
       "| 3       | 3       | 0.02729 |  0      | 7.07    | 0       | 0.469   | 7.185   | 61.1    | 4.9671  | 2       | 242     | 17.8    | 392.83  | 4.03    | 34.7    |\n",
       "| 4       | 4       | 0.03237 |  0      | 2.18    | 0       | 0.458   | 6.998   | 45.8    | 6.0622  | 3       | 222     | 18.7    | 394.63  | 2.94    | 33.4    |\n",
       "| 5       | 5       | 0.06905 |  0      | 2.18    | 0       | 0.458   | 7.147   | 54.2    | 6.0622  | 3       | 222     | 18.7    | 396.90  | 5.33    | 36.2    |\n",
       "\n"
      ],
      "text/plain": [
       "  X.1 X crim    zn indus chas nox   rm    age  dis    rad tax ptratio b     \n",
       "1 1   1 0.00632 18 2.31  0    0.538 6.575 65.2 4.0900 1   296 15.3    396.90\n",
       "2 2   2 0.02731  0 7.07  0    0.469 6.421 78.9 4.9671 2   242 17.8    396.90\n",
       "3 3   3 0.02729  0 7.07  0    0.469 7.185 61.1 4.9671 2   242 17.8    392.83\n",
       "4 4   4 0.03237  0 2.18  0    0.458 6.998 45.8 6.0622 3   222 18.7    394.63\n",
       "5 5   5 0.06905  0 2.18  0    0.458 7.147 54.2 6.0622 3   222 18.7    396.90\n",
       "  lstat medv\n",
       "1 4.98  24.0\n",
       "2 9.14  21.6\n",
       "3 4.03  34.7\n",
       "4 2.94  33.4\n",
       "5 5.33  36.2"
      ]
     },
     "metadata": {},
     "output_type": "display_data"
    },
    {
     "data": {
      "text/html": [
       "<ol class=list-inline>\n",
       "\t<li>506</li>\n",
       "\t<li>16</li>\n",
       "</ol>\n"
      ],
      "text/latex": [
       "\\begin{enumerate*}\n",
       "\\item 506\n",
       "\\item 16\n",
       "\\end{enumerate*}\n"
      ],
      "text/markdown": [
       "1. 506\n",
       "2. 16\n",
       "\n",
       "\n"
      ],
      "text/plain": [
       "[1] 506  16"
      ]
     },
     "metadata": {},
     "output_type": "display_data"
    }
   ],
   "source": [
    "housing.data <- data2R\n",
    "head(housing.data, 5)\n",
    "dim(housing.data)"
   ]
  },
  {
   "cell_type": "code",
   "execution_count": 37,
   "metadata": {},
   "outputs": [
    {
     "data": {
      "text/html": [
       "<dl class=dl-horizontal>\n",
       "\t<dt>X.1</dt>\n",
       "\t\t<dd>0</dd>\n",
       "\t<dt>X</dt>\n",
       "\t\t<dd>0</dd>\n",
       "\t<dt>crim</dt>\n",
       "\t\t<dd>0</dd>\n",
       "\t<dt>zn</dt>\n",
       "\t\t<dd>0</dd>\n",
       "\t<dt>indus</dt>\n",
       "\t\t<dd>0</dd>\n",
       "\t<dt>chas</dt>\n",
       "\t\t<dd>0</dd>\n",
       "\t<dt>nox</dt>\n",
       "\t\t<dd>0</dd>\n",
       "\t<dt>rm</dt>\n",
       "\t\t<dd>0</dd>\n",
       "\t<dt>age</dt>\n",
       "\t\t<dd>0</dd>\n",
       "\t<dt>dis</dt>\n",
       "\t\t<dd>0</dd>\n",
       "\t<dt>rad</dt>\n",
       "\t\t<dd>40</dd>\n",
       "\t<dt>tax</dt>\n",
       "\t\t<dd>0</dd>\n",
       "\t<dt>ptratio</dt>\n",
       "\t\t<dd>40</dd>\n",
       "\t<dt>b</dt>\n",
       "\t\t<dd>0</dd>\n",
       "\t<dt>lstat</dt>\n",
       "\t\t<dd>0</dd>\n",
       "\t<dt>medv</dt>\n",
       "\t\t<dd>0</dd>\n",
       "</dl>\n"
      ],
      "text/latex": [
       "\\begin{description*}\n",
       "\\item[X.1] 0\n",
       "\\item[X] 0\n",
       "\\item[crim] 0\n",
       "\\item[zn] 0\n",
       "\\item[indus] 0\n",
       "\\item[chas] 0\n",
       "\\item[nox] 0\n",
       "\\item[rm] 0\n",
       "\\item[age] 0\n",
       "\\item[dis] 0\n",
       "\\item[rad] 40\n",
       "\\item[tax] 0\n",
       "\\item[ptratio] 40\n",
       "\\item[b] 0\n",
       "\\item[lstat] 0\n",
       "\\item[medv] 0\n",
       "\\end{description*}\n"
      ],
      "text/markdown": [
       "X.1\n",
       ":   0X\n",
       ":   0crim\n",
       ":   0zn\n",
       ":   0indus\n",
       ":   0chas\n",
       ":   0nox\n",
       ":   0rm\n",
       ":   0age\n",
       ":   0dis\n",
       ":   0rad\n",
       ":   40tax\n",
       ":   0ptratio\n",
       ":   40b\n",
       ":   0lstat\n",
       ":   0medv\n",
       ":   0\n",
       "\n"
      ],
      "text/plain": [
       "    X.1       X    crim      zn   indus    chas     nox      rm     age     dis \n",
       "      0       0       0       0       0       0       0       0       0       0 \n",
       "    rad     tax ptratio       b   lstat    medv \n",
       "     40       0      40       0       0       0 "
      ]
     },
     "metadata": {},
     "output_type": "display_data"
    }
   ],
   "source": [
    "colSums(is.na(housing.data))"
   ]
  },
  {
   "cell_type": "markdown",
   "metadata": {},
   "source": [
    "Para hacer esto se hace uso del paquete **mice**\n",
    "\n",
    "* m: Es el número de imputaciones que quiero hacer\n",
    "* maxit: Es el número maximo de iteraciones\n",
    "* seed: Es la semilla; todos los métodos de reemplazo del paquete son aleatorios, y la semilla va cambiando si esta no se fija, cambiando así los valores con los que se imputo.\n",
    "* method: Metodo de reemplazo\n",
    "    + pmm - comparación predictiva de medias\n",
    "    + logreg - regresión logistica\n",
    "    + polyreg - regresión logística politómica\n",
    "    + polr - modelo de probabilidades proporcionales\n",
    "    \n",
    "**nota:** Para generar números pseudo aleatorios se utiliza un generador lineal congruencial"
   ]
  },
  {
   "cell_type": "markdown",
   "metadata": {},
   "source": [
    "Con columns señalamos las columnas que continen los valores faltantes"
   ]
  },
  {
   "cell_type": "code",
   "execution_count": 38,
   "metadata": {},
   "outputs": [],
   "source": [
    "columns <- c(\"ptratio\", \"rad\")"
   ]
  },
  {
   "cell_type": "markdown",
   "metadata": {},
   "source": [
    "## 3. Métodos para tratamientos de NA's: Imputación por comparación predictiva de medias"
   ]
  },
  {
   "cell_type": "code",
   "execution_count": 39,
   "metadata": {},
   "outputs": [
    {
     "name": "stdout",
     "output_type": "stream",
     "text": [
      "\n",
      " iter imp variable\n",
      "  1   1  rad  ptratio\n",
      "  1   2  rad  ptratio\n",
      "  1   3  rad  ptratio\n",
      "  1   4  rad  ptratio\n",
      "  1   5  rad  ptratio\n",
      "  2   1  rad  ptratio\n",
      "  2   2  rad  ptratio\n",
      "  2   3  rad  ptratio\n",
      "  2   4  rad  ptratio\n",
      "  2   5  rad  ptratio\n",
      "  3   1  rad  ptratio\n",
      "  3   2  rad  ptratio\n",
      "  3   3  rad  ptratio\n",
      "  3   4  rad  ptratio\n",
      "  3   5  rad  ptratio\n",
      "  4   1  rad  ptratio\n",
      "  4   2  rad  ptratio\n",
      "  4   3  rad  ptratio\n",
      "  4   4  rad  ptratio\n",
      "  4   5  rad  ptratio\n",
      "  5   1  rad  ptratio\n",
      "  5   2  rad  ptratio\n",
      "  5   3  rad  ptratio\n",
      "  5   4  rad  ptratio\n",
      "  5   5  rad  ptratio\n",
      "  6   1  rad  ptratio\n",
      "  6   2  rad  ptratio\n",
      "  6   3  rad  ptratio\n",
      "  6   4  rad  ptratio\n",
      "  6   5  rad  ptratio\n",
      "  7   1  rad  ptratio\n",
      "  7   2  rad  ptratio\n",
      "  7   3  rad  ptratio\n",
      "  7   4  rad  ptratio\n",
      "  7   5  rad  ptratio\n",
      "  8   1  rad  ptratio\n",
      "  8   2  rad  ptratio\n",
      "  8   3  rad  ptratio\n",
      "  8   4  rad  ptratio\n",
      "  8   5  rad  ptratio\n",
      "  9   1  rad  ptratio\n",
      "  9   2  rad  ptratio\n",
      "  9   3  rad  ptratio\n",
      "  9   4  rad  ptratio\n",
      "  9   5  rad  ptratio\n",
      "  10   1  rad  ptratio\n",
      "  10   2  rad  ptratio\n",
      "  10   3  rad  ptratio\n",
      "  10   4  rad  ptratio\n",
      "  10   5  rad  ptratio\n",
      "  11   1  rad  ptratio\n",
      "  11   2  rad  ptratio\n",
      "  11   3  rad  ptratio\n",
      "  11   4  rad  ptratio\n",
      "  11   5  rad  ptratio\n",
      "  12   1  rad  ptratio\n",
      "  12   2  rad  ptratio\n",
      "  12   3  rad  ptratio\n",
      "  12   4  rad  ptratio\n",
      "  12   5  rad  ptratio\n",
      "  13   1  rad  ptratio\n",
      "  13   2  rad  ptratio\n",
      "  13   3  rad  ptratio\n",
      "  13   4  rad  ptratio\n",
      "  13   5  rad  ptratio\n",
      "  14   1  rad  ptratio\n",
      "  14   2  rad  ptratio\n",
      "  14   3  rad  ptratio\n",
      "  14   4  rad  ptratio\n",
      "  14   5  rad  ptratio\n",
      "  15   1  rad  ptratio\n",
      "  15   2  rad  ptratio\n",
      "  15   3  rad  ptratio\n",
      "  15   4  rad  ptratio\n",
      "  15   5  rad  ptratio\n",
      "  16   1  rad  ptratio\n",
      "  16   2  rad  ptratio\n",
      "  16   3  rad  ptratio\n",
      "  16   4  rad  ptratio\n",
      "  16   5  rad  ptratio\n",
      "  17   1  rad  ptratio\n",
      "  17   2  rad  ptratio\n",
      "  17   3  rad  ptratio\n",
      "  17   4  rad  ptratio\n",
      "  17   5  rad  ptratio\n",
      "  18   1  rad  ptratio\n",
      "  18   2  rad  ptratio\n",
      "  18   3  rad  ptratio\n",
      "  18   4  rad  ptratio\n",
      "  18   5  rad  ptratio\n",
      "  19   1  rad  ptratio\n",
      "  19   2  rad  ptratio\n",
      "  19   3  rad  ptratio\n",
      "  19   4  rad  ptratio\n",
      "  19   5  rad  ptratio\n",
      "  20   1  rad  ptratio\n",
      "  20   2  rad  ptratio\n",
      "  20   3  rad  ptratio\n",
      "  20   4  rad  ptratio\n",
      "  20   5  rad  ptratio\n",
      "  21   1  rad  ptratio\n",
      "  21   2  rad  ptratio\n",
      "  21   3  rad  ptratio\n",
      "  21   4  rad  ptratio\n",
      "  21   5  rad  ptratio\n",
      "  22   1  rad  ptratio\n",
      "  22   2  rad  ptratio\n",
      "  22   3  rad  ptratio\n",
      "  22   4  rad  ptratio\n",
      "  22   5  rad  ptratio\n",
      "  23   1  rad  ptratio\n",
      "  23   2  rad  ptratio\n",
      "  23   3  rad  ptratio\n",
      "  23   4  rad  ptratio\n",
      "  23   5  rad  ptratio\n",
      "  24   1  rad  ptratio\n",
      "  24   2  rad  ptratio\n",
      "  24   3  rad  ptratio\n",
      "  24   4  rad  ptratio\n",
      "  24   5  rad  ptratio\n",
      "  25   1  rad  ptratio\n",
      "  25   2  rad  ptratio\n",
      "  25   3  rad  ptratio\n",
      "  25   4  rad  ptratio\n",
      "  25   5  rad  ptratio\n",
      "  26   1  rad  ptratio\n",
      "  26   2  rad  ptratio\n",
      "  26   3  rad  ptratio\n",
      "  26   4  rad  ptratio\n",
      "  26   5  rad  ptratio\n",
      "  27   1  rad  ptratio\n",
      "  27   2  rad  ptratio\n",
      "  27   3  rad  ptratio\n",
      "  27   4  rad  ptratio\n",
      "  27   5  rad  ptratio\n",
      "  28   1  rad  ptratio\n",
      "  28   2  rad  ptratio\n",
      "  28   3  rad  ptratio\n",
      "  28   4  rad  ptratio\n",
      "  28   5  rad  ptratio\n",
      "  29   1  rad  ptratio\n",
      "  29   2  rad  ptratio\n",
      "  29   3  rad  ptratio\n",
      "  29   4  rad  ptratio\n",
      "  29   5  rad  ptratio\n",
      "  30   1  rad  ptratio\n",
      "  30   2  rad  ptratio\n",
      "  30   3  rad  ptratio\n",
      "  30   4  rad  ptratio\n",
      "  30   5  rad  ptratio\n",
      "  31   1  rad  ptratio\n",
      "  31   2  rad  ptratio\n",
      "  31   3  rad  ptratio\n",
      "  31   4  rad  ptratio\n",
      "  31   5  rad  ptratio\n",
      "  32   1  rad  ptratio\n",
      "  32   2  rad  ptratio\n",
      "  32   3  rad  ptratio\n",
      "  32   4  rad  ptratio\n",
      "  32   5  rad  ptratio\n",
      "  33   1  rad  ptratio\n",
      "  33   2  rad  ptratio\n",
      "  33   3  rad  ptratio\n",
      "  33   4  rad  ptratio\n",
      "  33   5  rad  ptratio\n",
      "  34   1  rad  ptratio\n",
      "  34   2  rad  ptratio\n",
      "  34   3  rad  ptratio\n",
      "  34   4  rad  ptratio\n",
      "  34   5  rad  ptratio\n",
      "  35   1  rad  ptratio\n",
      "  35   2  rad  ptratio\n",
      "  35   3  rad  ptratio\n",
      "  35   4  rad  ptratio\n",
      "  35   5  rad  ptratio\n",
      "  36   1  rad  ptratio\n",
      "  36   2  rad  ptratio\n",
      "  36   3  rad  ptratio\n",
      "  36   4  rad  ptratio\n",
      "  36   5  rad  ptratio\n",
      "  37   1  rad  ptratio\n",
      "  37   2  rad  ptratio\n",
      "  37   3  rad  ptratio\n",
      "  37   4  rad  ptratio\n",
      "  37   5  rad  ptratio\n",
      "  38   1  rad  ptratio\n",
      "  38   2  rad  ptratio\n",
      "  38   3  rad  ptratio\n",
      "  38   4  rad  ptratio\n",
      "  38   5  rad  ptratio\n",
      "  39   1  rad  ptratio\n",
      "  39   2  rad  ptratio\n",
      "  39   3  rad  ptratio\n",
      "  39   4  rad  ptratio\n",
      "  39   5  rad  ptratio\n",
      "  40   1  rad  ptratio\n",
      "  40   2  rad  ptratio\n",
      "  40   3  rad  ptratio\n",
      "  40   4  rad  ptratio\n",
      "  40   5  rad  ptratio\n",
      "  41   1  rad  ptratio\n",
      "  41   2  rad  ptratio\n",
      "  41   3  rad  ptratio\n",
      "  41   4  rad  ptratio\n",
      "  41   5  rad  ptratio\n",
      "  42   1  rad  ptratio\n",
      "  42   2  rad  ptratio\n",
      "  42   3  rad  ptratio\n",
      "  42   4  rad  ptratio\n",
      "  42   5  rad  ptratio\n",
      "  43   1  rad  ptratio\n",
      "  43   2  rad  ptratio\n",
      "  43   3  rad  ptratio\n",
      "  43   4  rad  ptratio\n",
      "  43   5  rad  ptratio\n",
      "  44   1  rad  ptratio\n",
      "  44   2  rad  ptratio\n",
      "  44   3  rad  ptratio\n",
      "  44   4  rad  ptratio\n",
      "  44   5  rad  ptratio\n",
      "  45   1  rad  ptratio\n",
      "  45   2  rad  ptratio\n",
      "  45   3  rad  ptratio\n",
      "  45   4  rad  ptratio\n",
      "  45   5  rad  ptratio\n",
      "  46   1  rad  ptratio\n",
      "  46   2  rad  ptratio\n",
      "  46   3  rad  ptratio\n",
      "  46   4  rad  ptratio\n",
      "  46   5  rad  ptratio\n",
      "  47   1  rad  ptratio\n",
      "  47   2  rad  ptratio\n",
      "  47   3  rad  ptratio\n",
      "  47   4  rad  ptratio\n",
      "  47   5  rad  ptratio\n",
      "  48   1  rad  ptratio\n",
      "  48   2  rad  ptratio\n",
      "  48   3  rad  ptratio\n",
      "  48   4  rad  ptratio\n",
      "  48   5  rad  ptratio\n",
      "  49   1  rad  ptratio\n",
      "  49   2  rad  ptratio\n",
      "  49   3  rad  ptratio\n",
      "  49   4  rad  ptratio\n",
      "  49   5  rad  ptratio\n",
      "  50   1  rad  ptratio\n",
      "  50   2  rad  ptratio\n",
      "  50   3  rad  ptratio\n",
      "  50   4  rad  ptratio\n",
      "  50   5  rad  ptratio\n"
     ]
    }
   ],
   "source": [
    "imputed_data <- mice(housing.data[,names(housing.data) %in% columns],\n",
    "                     m = 5, \n",
    "                     maxit = 50, \n",
    "                     method = \"pmm\",\n",
    "                     seed = 2018)"
   ]
  },
  {
   "cell_type": "code",
   "execution_count": 40,
   "metadata": {},
   "outputs": [
    {
     "name": "stdout",
     "output_type": "stream",
     "text": [
      "Class: mids\n",
      "Number of multiple imputations:  5 \n",
      "Imputation methods:\n",
      "    rad ptratio \n",
      "  \"pmm\"   \"pmm\" \n",
      "PredictorMatrix:\n",
      "        rad ptratio\n",
      "rad       0       1\n",
      "ptratio   1       0\n"
     ]
    }
   ],
   "source": [
    "summary(imputed_data)"
   ]
  },
  {
   "cell_type": "markdown",
   "metadata": {},
   "source": [
    "Despues de generar los valores de forma aleatoria, se reemplazan los NA's por los valores generados"
   ]
  },
  {
   "cell_type": "code",
   "execution_count": 41,
   "metadata": {},
   "outputs": [
    {
     "data": {
      "text/html": [
       "<dl class=dl-horizontal>\n",
       "\t<dt>X.1</dt>\n",
       "\t\t<dd>0</dd>\n",
       "\t<dt>X</dt>\n",
       "\t\t<dd>0</dd>\n",
       "\t<dt>crim</dt>\n",
       "\t\t<dd>0</dd>\n",
       "\t<dt>zn</dt>\n",
       "\t\t<dd>0</dd>\n",
       "\t<dt>indus</dt>\n",
       "\t\t<dd>0</dd>\n",
       "\t<dt>chas</dt>\n",
       "\t\t<dd>0</dd>\n",
       "\t<dt>nox</dt>\n",
       "\t\t<dd>0</dd>\n",
       "\t<dt>rm</dt>\n",
       "\t\t<dd>0</dd>\n",
       "\t<dt>age</dt>\n",
       "\t\t<dd>0</dd>\n",
       "\t<dt>dis</dt>\n",
       "\t\t<dd>0</dd>\n",
       "\t<dt>rad</dt>\n",
       "\t\t<dd>0</dd>\n",
       "\t<dt>tax</dt>\n",
       "\t\t<dd>0</dd>\n",
       "\t<dt>ptratio</dt>\n",
       "\t\t<dd>0</dd>\n",
       "\t<dt>b</dt>\n",
       "\t\t<dd>0</dd>\n",
       "\t<dt>lstat</dt>\n",
       "\t\t<dd>0</dd>\n",
       "\t<dt>medv</dt>\n",
       "\t\t<dd>0</dd>\n",
       "</dl>\n"
      ],
      "text/latex": [
       "\\begin{description*}\n",
       "\\item[X.1] 0\n",
       "\\item[X] 0\n",
       "\\item[crim] 0\n",
       "\\item[zn] 0\n",
       "\\item[indus] 0\n",
       "\\item[chas] 0\n",
       "\\item[nox] 0\n",
       "\\item[rm] 0\n",
       "\\item[age] 0\n",
       "\\item[dis] 0\n",
       "\\item[rad] 0\n",
       "\\item[tax] 0\n",
       "\\item[ptratio] 0\n",
       "\\item[b] 0\n",
       "\\item[lstat] 0\n",
       "\\item[medv] 0\n",
       "\\end{description*}\n"
      ],
      "text/markdown": [
       "X.1\n",
       ":   0X\n",
       ":   0crim\n",
       ":   0zn\n",
       ":   0indus\n",
       ":   0chas\n",
       ":   0nox\n",
       ":   0rm\n",
       ":   0age\n",
       ":   0dis\n",
       ":   0rad\n",
       ":   0tax\n",
       ":   0ptratio\n",
       ":   0b\n",
       ":   0lstat\n",
       ":   0medv\n",
       ":   0\n",
       "\n"
      ],
      "text/plain": [
       "    X.1       X    crim      zn   indus    chas     nox      rm     age     dis \n",
       "      0       0       0       0       0       0       0       0       0       0 \n",
       "    rad     tax ptratio       b   lstat    medv \n",
       "      0       0       0       0       0       0 "
      ]
     },
     "metadata": {},
     "output_type": "display_data"
    },
    {
     "data": {
      "text/html": [
       "FALSE"
      ],
      "text/latex": [
       "FALSE"
      ],
      "text/markdown": [
       "FALSE"
      ],
      "text/plain": [
       "[1] FALSE"
      ]
     },
     "metadata": {},
     "output_type": "display_data"
    }
   ],
   "source": [
    "housing.data$ptratio <- mice::complete(imputed_data)$ptratio\n",
    "housing.data$rad <- mice::complete(imputed_data)$rad\n",
    "colSums(is.na(housing.data))\n",
    "anyNA(housing.data)"
   ]
  },
  {
   "cell_type": "markdown",
   "metadata": {},
   "source": [
    "## 3. Métodos para tratamientos de NA's: Imputación automática"
   ]
  },
  {
   "cell_type": "markdown",
   "metadata": {},
   "source": [
    "Es posible utilizar el paquete **hmisc** para que este elija de forma automatica el método e impute los NA's."
   ]
  },
  {
   "cell_type": "code",
   "execution_count": 42,
   "metadata": {},
   "outputs": [
    {
     "name": "stdout",
     "output_type": "stream",
     "text": [
      "Iteration 1 \r",
      "Iteration 2 \r",
      "Iteration 3 \r",
      "Iteration 4 \r",
      "Iteration 5 \r\n"
     ]
    },
    {
     "data": {
      "text/plain": [
       "\n",
       "Multiple Imputation using Bootstrap and PMM\n",
       "\n",
       "aregImpute(formula = ~ptratio + rad, data = housing.data, n.impute = 5)\n",
       "\n",
       "n: 506 \tp: 2 \tImputations: 5  \tnk: 3 \n",
       "\n",
       "Number of NAs:\n",
       "ptratio     rad \n",
       "      0       0 \n",
       "\n",
       "        type d.f.\n",
       "ptratio    s   NA\n",
       "rad        s   NA\n",
       "\n",
       "Transformation of Target Variables Forced to be Linear\n",
       "\n",
       "R-squares for Predicting Non-Missing Values for Each Variable\n",
       "Using Last Imputations of Predictors\n",
       "named numeric(0)"
      ]
     },
     "metadata": {},
     "output_type": "display_data"
    },
    {
     "data": {
      "text/plain": [
       "NULL"
      ]
     },
     "metadata": {},
     "output_type": "display_data"
    }
   ],
   "source": [
    "impute_arg <- aregImpute(~ptratio + rad, data = housing.data, n.impute = 5)\n",
    "\n",
    "impute_arg\n",
    "\n",
    "impute_arg$imputed$rad"
   ]
  },
  {
   "cell_type": "markdown",
   "metadata": {},
   "source": [
    "## 4. Tratamiento de valores duplicados"
   ]
  },
  {
   "cell_type": "markdown",
   "metadata": {},
   "source": [
    "En ocasiones encontramos valores duplicados, o registros duplicados en una valiable, lo primero es verificar si hay registros duplicados en el data frame."
   ]
  },
  {
   "cell_type": "code",
   "execution_count": 43,
   "metadata": {},
   "outputs": [
    {
     "data": {
      "text/html": [
       "<table>\n",
       "<thead><tr><th scope=col>family.salary</th><th scope=col>family.size</th><th scope=col>family.car</th></tr></thead>\n",
       "<tbody>\n",
       "\t<tr><td>40000     </td><td>4         </td><td>Lujo      </td></tr>\n",
       "\t<tr><td>60000     </td><td>3         </td><td>Compacto  </td></tr>\n",
       "\t<tr><td>50000     </td><td>2         </td><td>Utilitario</td></tr>\n",
       "\t<tr><td>80000     </td><td>2         </td><td>Lujo      </td></tr>\n",
       "\t<tr><td>60000     </td><td>3         </td><td>Compacto  </td></tr>\n",
       "\t<tr><td>70000     </td><td>4         </td><td>Compacto  </td></tr>\n",
       "\t<tr><td>60000     </td><td>3         </td><td>Compacto  </td></tr>\n",
       "</tbody>\n",
       "</table>\n"
      ],
      "text/latex": [
       "\\begin{tabular}{r|lll}\n",
       " family.salary & family.size & family.car\\\\\n",
       "\\hline\n",
       "\t 40000      & 4          & Lujo      \\\\\n",
       "\t 60000      & 3          & Compacto  \\\\\n",
       "\t 50000      & 2          & Utilitario\\\\\n",
       "\t 80000      & 2          & Lujo      \\\\\n",
       "\t 60000      & 3          & Compacto  \\\\\n",
       "\t 70000      & 4          & Compacto  \\\\\n",
       "\t 60000      & 3          & Compacto  \\\\\n",
       "\\end{tabular}\n"
      ],
      "text/markdown": [
       "\n",
       "| family.salary | family.size | family.car |\n",
       "|---|---|---|\n",
       "| 40000      | 4          | Lujo       |\n",
       "| 60000      | 3          | Compacto   |\n",
       "| 50000      | 2          | Utilitario |\n",
       "| 80000      | 2          | Lujo       |\n",
       "| 60000      | 3          | Compacto   |\n",
       "| 70000      | 4          | Compacto   |\n",
       "| 60000      | 3          | Compacto   |\n",
       "\n"
      ],
      "text/plain": [
       "  family.salary family.size family.car\n",
       "1 40000         4           Lujo      \n",
       "2 60000         3           Compacto  \n",
       "3 50000         2           Utilitario\n",
       "4 80000         2           Lujo      \n",
       "5 60000         3           Compacto  \n",
       "6 70000         4           Compacto  \n",
       "7 60000         3           Compacto  "
      ]
     },
     "metadata": {},
     "output_type": "display_data"
    }
   ],
   "source": [
    "family.salary <- c(40000, 60000, 50000, 80000, 60000, 70000, 60000)\n",
    "family.size   <- c(4, 3, 2, 2, 3, 4, 3)\n",
    "family.car    <- c(\"Lujo\", \"Compacto\", \"Utilitario\", \"Lujo\", \n",
    "               \"Compacto\", \"Compacto\", \"Compacto\")\n",
    "family        <- data.frame(family.salary, family.size, family.car)\n",
    "family"
   ]
  },
  {
   "cell_type": "code",
   "execution_count": 44,
   "metadata": {},
   "outputs": [
    {
     "data": {
      "text/html": [
       "<ol class=list-inline>\n",
       "\t<li>FALSE</li>\n",
       "\t<li>FALSE</li>\n",
       "\t<li>FALSE</li>\n",
       "\t<li>FALSE</li>\n",
       "\t<li>TRUE</li>\n",
       "\t<li>FALSE</li>\n",
       "\t<li>TRUE</li>\n",
       "</ol>\n"
      ],
      "text/latex": [
       "\\begin{enumerate*}\n",
       "\\item FALSE\n",
       "\\item FALSE\n",
       "\\item FALSE\n",
       "\\item FALSE\n",
       "\\item TRUE\n",
       "\\item FALSE\n",
       "\\item TRUE\n",
       "\\end{enumerate*}\n"
      ],
      "text/markdown": [
       "1. FALSE\n",
       "2. FALSE\n",
       "3. FALSE\n",
       "4. FALSE\n",
       "5. TRUE\n",
       "6. FALSE\n",
       "7. TRUE\n",
       "\n",
       "\n"
      ],
      "text/plain": [
       "[1] FALSE FALSE FALSE FALSE  TRUE FALSE  TRUE"
      ]
     },
     "metadata": {},
     "output_type": "display_data"
    },
    {
     "data": {
      "text/html": [
       "<table>\n",
       "<thead><tr><th></th><th scope=col>family.salary</th><th scope=col>family.size</th><th scope=col>family.car</th></tr></thead>\n",
       "<tbody>\n",
       "\t<tr><th scope=row>5</th><td>60000   </td><td>3       </td><td>Compacto</td></tr>\n",
       "\t<tr><th scope=row>7</th><td>60000   </td><td>3       </td><td>Compacto</td></tr>\n",
       "</tbody>\n",
       "</table>\n"
      ],
      "text/latex": [
       "\\begin{tabular}{r|lll}\n",
       "  & family.salary & family.size & family.car\\\\\n",
       "\\hline\n",
       "\t5 & 60000    & 3        & Compacto\\\\\n",
       "\t7 & 60000    & 3        & Compacto\\\\\n",
       "\\end{tabular}\n"
      ],
      "text/markdown": [
       "\n",
       "| <!--/--> | family.salary | family.size | family.car |\n",
       "|---|---|---|---|\n",
       "| 5 | 60000    | 3        | Compacto |\n",
       "| 7 | 60000    | 3        | Compacto |\n",
       "\n"
      ],
      "text/plain": [
       "  family.salary family.size family.car\n",
       "5 60000         3           Compacto  \n",
       "7 60000         3           Compacto  "
      ]
     },
     "metadata": {},
     "output_type": "display_data"
    }
   ],
   "source": [
    "duplicated(family)\n",
    "family[duplicated(family),]"
   ]
  },
  {
   "cell_type": "markdown",
   "metadata": {},
   "source": [
    "Ahora cuando se encuentran valores duplicados en un data frame, estos se pueden eliminar utilizando la función unique."
   ]
  },
  {
   "cell_type": "code",
   "execution_count": 45,
   "metadata": {},
   "outputs": [
    {
     "data": {
      "text/html": [
       "<table>\n",
       "<thead><tr><th></th><th scope=col>family.salary</th><th scope=col>family.size</th><th scope=col>family.car</th></tr></thead>\n",
       "<tbody>\n",
       "\t<tr><th scope=row>1</th><td>40000     </td><td>4         </td><td>Lujo      </td></tr>\n",
       "\t<tr><th scope=row>2</th><td>60000     </td><td>3         </td><td>Compacto  </td></tr>\n",
       "\t<tr><th scope=row>3</th><td>50000     </td><td>2         </td><td>Utilitario</td></tr>\n",
       "\t<tr><th scope=row>4</th><td>80000     </td><td>2         </td><td>Lujo      </td></tr>\n",
       "\t<tr><th scope=row>6</th><td>70000     </td><td>4         </td><td>Compacto  </td></tr>\n",
       "</tbody>\n",
       "</table>\n"
      ],
      "text/latex": [
       "\\begin{tabular}{r|lll}\n",
       "  & family.salary & family.size & family.car\\\\\n",
       "\\hline\n",
       "\t1 & 40000      & 4          & Lujo      \\\\\n",
       "\t2 & 60000      & 3          & Compacto  \\\\\n",
       "\t3 & 50000      & 2          & Utilitario\\\\\n",
       "\t4 & 80000      & 2          & Lujo      \\\\\n",
       "\t6 & 70000      & 4          & Compacto  \\\\\n",
       "\\end{tabular}\n"
      ],
      "text/markdown": [
       "\n",
       "| <!--/--> | family.salary | family.size | family.car |\n",
       "|---|---|---|---|\n",
       "| 1 | 40000      | 4          | Lujo       |\n",
       "| 2 | 60000      | 3          | Compacto   |\n",
       "| 3 | 50000      | 2          | Utilitario |\n",
       "| 4 | 80000      | 2          | Lujo       |\n",
       "| 6 | 70000      | 4          | Compacto   |\n",
       "\n"
      ],
      "text/plain": [
       "  family.salary family.size family.car\n",
       "1 40000         4           Lujo      \n",
       "2 60000         3           Compacto  \n",
       "3 50000         2           Utilitario\n",
       "4 80000         2           Lujo      \n",
       "6 70000         4           Compacto  "
      ]
     },
     "metadata": {},
     "output_type": "display_data"
    }
   ],
   "source": [
    "family.unique <- unique(family)\n",
    "family.unique"
   ]
  },
  {
   "cell_type": "markdown",
   "metadata": {},
   "source": [
    "## 5. Tratamiento de Outliers"
   ]
  },
  {
   "cell_type": "markdown",
   "metadata": {},
   "source": [
    "En estadistica se conoce como *rango intercuartilico* $RI$ a la distancia que hay entre el cuartil uno $Q_1$ y el cuartil tres $Q_3$, y se considera un outlier un dato que este por fuera de $[Q_1-1.5RI, Q_3+1.5RI]$."
   ]
  },
  {
   "cell_type": "markdown",
   "metadata": {},
   "source": [
    "## 5. Tratamiento de Outliers: Identificación"
   ]
  },
  {
   "cell_type": "markdown",
   "metadata": {},
   "source": [
    "Para identificar si hay valores atípicos en un grupo de datos, una de las herramientas más útilies es el uso de boxplots."
   ]
  },
  {
   "cell_type": "code",
   "execution_count": 46,
   "metadata": {},
   "outputs": [
    {
     "data": {
      "text/html": [
       "<table>\n",
       "<thead><tr><th scope=col>X</th><th scope=col>Month</th><th scope=col>Day_of_month</th><th scope=col>Day_of_week</th><th scope=col>ozone_reading</th><th scope=col>pressure_height</th><th scope=col>Wind_speed</th><th scope=col>Humidity</th><th scope=col>Temperature_Sandburg</th><th scope=col>Temperature_ElMonte</th><th scope=col>Inversion_base_height</th><th scope=col>Pressure_gradient</th><th scope=col>Inversion_temperature</th><th scope=col>Visibility</th></tr></thead>\n",
       "<tbody>\n",
       "\t<tr><td>1    </td><td>1    </td><td>1    </td><td>4    </td><td>3.01 </td><td>5480 </td><td>8    </td><td>20   </td><td>NA   </td><td>   NA</td><td>5000 </td><td>-15  </td><td>30.56</td><td>200  </td></tr>\n",
       "\t<tr><td>2    </td><td>1    </td><td>2    </td><td>5    </td><td>3.20 </td><td>5660 </td><td>6    </td><td>NA   </td><td>38   </td><td>   NA</td><td>  NA </td><td>-14  </td><td>   NA</td><td>300  </td></tr>\n",
       "\t<tr><td>3    </td><td>1    </td><td>3    </td><td>6    </td><td>2.70 </td><td>5710 </td><td>4    </td><td>28   </td><td>40   </td><td>   NA</td><td>2693 </td><td>-25  </td><td>47.66</td><td>250  </td></tr>\n",
       "\t<tr><td>4    </td><td>1    </td><td>4    </td><td>7    </td><td>5.18 </td><td>5700 </td><td>3    </td><td>37   </td><td>45   </td><td>   NA</td><td> 590 </td><td>-24  </td><td>55.04</td><td>100  </td></tr>\n",
       "\t<tr><td>5    </td><td>1    </td><td>5    </td><td>1    </td><td>5.34 </td><td>5760 </td><td>3    </td><td>51   </td><td>54   </td><td>45.32</td><td>1450 </td><td> 25  </td><td>57.02</td><td> 60  </td></tr>\n",
       "</tbody>\n",
       "</table>\n"
      ],
      "text/latex": [
       "\\begin{tabular}{r|llllllllllllll}\n",
       " X & Month & Day\\_of\\_month & Day\\_of\\_week & ozone\\_reading & pressure\\_height & Wind\\_speed & Humidity & Temperature\\_Sandburg & Temperature\\_ElMonte & Inversion\\_base\\_height & Pressure\\_gradient & Inversion\\_temperature & Visibility\\\\\n",
       "\\hline\n",
       "\t 1     & 1     & 1     & 4     & 3.01  & 5480  & 8     & 20    & NA    &    NA & 5000  & -15   & 30.56 & 200  \\\\\n",
       "\t 2     & 1     & 2     & 5     & 3.20  & 5660  & 6     & NA    & 38    &    NA &   NA  & -14   &    NA & 300  \\\\\n",
       "\t 3     & 1     & 3     & 6     & 2.70  & 5710  & 4     & 28    & 40    &    NA & 2693  & -25   & 47.66 & 250  \\\\\n",
       "\t 4     & 1     & 4     & 7     & 5.18  & 5700  & 3     & 37    & 45    &    NA &  590  & -24   & 55.04 & 100  \\\\\n",
       "\t 5     & 1     & 5     & 1     & 5.34  & 5760  & 3     & 51    & 54    & 45.32 & 1450  &  25   & 57.02 &  60  \\\\\n",
       "\\end{tabular}\n"
      ],
      "text/markdown": [
       "\n",
       "| X | Month | Day_of_month | Day_of_week | ozone_reading | pressure_height | Wind_speed | Humidity | Temperature_Sandburg | Temperature_ElMonte | Inversion_base_height | Pressure_gradient | Inversion_temperature | Visibility |\n",
       "|---|---|---|---|---|---|---|---|---|---|---|---|---|---|\n",
       "| 1     | 1     | 1     | 4     | 3.01  | 5480  | 8     | 20    | NA    |    NA | 5000  | -15   | 30.56 | 200   |\n",
       "| 2     | 1     | 2     | 5     | 3.20  | 5660  | 6     | NA    | 38    |    NA |   NA  | -14   |    NA | 300   |\n",
       "| 3     | 1     | 3     | 6     | 2.70  | 5710  | 4     | 28    | 40    |    NA | 2693  | -25   | 47.66 | 250   |\n",
       "| 4     | 1     | 4     | 7     | 5.18  | 5700  | 3     | 37    | 45    |    NA |  590  | -24   | 55.04 | 100   |\n",
       "| 5     | 1     | 5     | 1     | 5.34  | 5760  | 3     | 51    | 54    | 45.32 | 1450  |  25   | 57.02 |  60   |\n",
       "\n"
      ],
      "text/plain": [
       "  X Month Day_of_month Day_of_week ozone_reading pressure_height Wind_speed\n",
       "1 1 1     1            4           3.01          5480            8         \n",
       "2 2 1     2            5           3.20          5660            6         \n",
       "3 3 1     3            6           2.70          5710            4         \n",
       "4 4 1     4            7           5.18          5700            3         \n",
       "5 5 1     5            1           5.34          5760            3         \n",
       "  Humidity Temperature_Sandburg Temperature_ElMonte Inversion_base_height\n",
       "1 20       NA                      NA               5000                 \n",
       "2 NA       38                      NA                 NA                 \n",
       "3 28       40                      NA               2693                 \n",
       "4 37       45                      NA                590                 \n",
       "5 51       54                   45.32               1450                 \n",
       "  Pressure_gradient Inversion_temperature Visibility\n",
       "1 -15               30.56                 200       \n",
       "2 -14                  NA                 300       \n",
       "3 -25               47.66                 250       \n",
       "4 -24               55.04                 100       \n",
       "5  25               57.02                  60       "
      ]
     },
     "metadata": {},
     "output_type": "display_data"
    }
   ],
   "source": [
    "data3R     <- read.csv(\"ozone.csv\", stringsAsFactors=F)\n",
    "ozone.data <- data3R\n",
    "head(ozone.data, 5)"
   ]
  },
  {
   "cell_type": "code",
   "execution_count": 47,
   "metadata": {},
   "outputs": [
    {
     "data": {
      "text/html": [
       "<ol class=list-inline>\n",
       "\t<li>5480</li>\n",
       "\t<li>5410</li>\n",
       "\t<li>5350</li>\n",
       "\t<li>5480</li>\n",
       "\t<li>5490</li>\n",
       "\t<li>5470</li>\n",
       "\t<li>5320</li>\n",
       "\t<li>5420</li>\n",
       "\t<li>5440</li>\n",
       "\t<li>5480</li>\n",
       "\t<li>5450</li>\n",
       "\t<li>5500</li>\n",
       "</ol>\n"
      ],
      "text/latex": [
       "\\begin{enumerate*}\n",
       "\\item 5480\n",
       "\\item 5410\n",
       "\\item 5350\n",
       "\\item 5480\n",
       "\\item 5490\n",
       "\\item 5470\n",
       "\\item 5320\n",
       "\\item 5420\n",
       "\\item 5440\n",
       "\\item 5480\n",
       "\\item 5450\n",
       "\\item 5500\n",
       "\\end{enumerate*}\n"
      ],
      "text/markdown": [
       "1. 5480\n",
       "2. 5410\n",
       "3. 5350\n",
       "4. 5480\n",
       "5. 5490\n",
       "6. 5470\n",
       "7. 5320\n",
       "8. 5420\n",
       "9. 5440\n",
       "10. 5480\n",
       "11. 5450\n",
       "12. 5500\n",
       "\n",
       "\n"
      ],
      "text/plain": [
       " [1] 5480 5410 5350 5480 5490 5470 5320 5420 5440 5480 5450 5500"
      ]
     },
     "metadata": {},
     "output_type": "display_data"
    },
    {
     "data": {
      "image/png": "[encoded data removed]",
      "text/plain": [
       "Plot with title \"Pressure Height\""
      ]
     },
     "metadata": {},
     "output_type": "display_data"
    }
   ],
   "source": [
    "boxplot(ozone.data$pressure_height, \n",
    "        main = \"Pressure Height\",\n",
    "        boxwex = 1.5)$out"
   ]
  },
  {
   "cell_type": "markdown",
   "metadata": {},
   "source": [
    "El parametro out se utiliza para que aparezca cuales son las observaciones que son outliers en la variable analizada.\n",
    "\n",
    "En ocasiones es importante observar si los outlaiers tienen relación con otra variable."
   ]
  },
  {
   "cell_type": "code",
   "execution_count": 48,
   "metadata": {},
   "outputs": [
    {
     "data": {
      "text/html": [
       "<ol class=list-inline>\n",
       "\t<li>11.06</li>\n",
       "\t<li>9.93</li>\n",
       "\t<li>22.89</li>\n",
       "\t<li>24.29</li>\n",
       "\t<li>29.79</li>\n",
       "</ol>\n"
      ],
      "text/latex": [
       "\\begin{enumerate*}\n",
       "\\item 11.06\n",
       "\\item 9.93\n",
       "\\item 22.89\n",
       "\\item 24.29\n",
       "\\item 29.79\n",
       "\\end{enumerate*}\n"
      ],
      "text/markdown": [
       "1. 11.06\n",
       "2. 9.93\n",
       "3. 22.89\n",
       "4. 24.29\n",
       "5. 29.79\n",
       "\n",
       "\n"
      ],
      "text/plain": [
       "[1] 11.06  9.93 22.89 24.29 29.79"
      ]
     },
     "metadata": {},
     "output_type": "display_data"
    },
    {
     "data": {
      "image/png": "[encoded data removed]",
      "text/plain": [
       "Plot with title \"Ozone reading per Month\""
      ]
     },
     "metadata": {},
     "output_type": "display_data"
    }
   ],
   "source": [
    "boxplot(ozone_reading ~Month,\n",
    "        data = ozone.data,\n",
    "        main = \"Ozone reading per Month\")$out\n",
    "\n",
    "mtext(\"Así se puede poner una descripción\")"
   ]
  },
  {
   "cell_type": "markdown",
   "metadata": {},
   "source": [
    "## 5. Tratamiento de Outliers: Imputación de datos atípicos"
   ]
  },
  {
   "cell_type": "markdown",
   "metadata": {},
   "source": [
    "Creamos una función para imputarlos"
   ]
  },
  {
   "cell_type": "code",
   "execution_count": 49,
   "metadata": {},
   "outputs": [],
   "source": [
    "replace_outliers <- function(x, removeNA=TRUE){\n",
    "    q1   <- quantile(x,probs=0.25, na.rm=removeNA)\n",
    "    q3   <- quantile(x,probs=0.75, na.rm=removeNA)\n",
    "    ri   <- q3 - q1   \n",
    "    caps <- quantile(x, probs = c(.05, .95), na.rm = removeNA)  \n",
    "    x[x<q1-1.5 * ri] <- caps[1]\n",
    "    x[x>q3+1.5 * ri] <- caps[2]\n",
    "    x\n",
    "    }"
   ]
  },
  {
   "cell_type": "code",
   "execution_count": 50,
   "metadata": {},
   "outputs": [
    {
     "data": {
      "text/html": [
       "<ol class=list-inline>\n",
       "\t<li>5550</li>\n",
       "\t<li>5660</li>\n",
       "\t<li>5710</li>\n",
       "\t<li>5700</li>\n",
       "\t<li>5760</li>\n",
       "</ol>\n"
      ],
      "text/latex": [
       "\\begin{enumerate*}\n",
       "\\item 5550\n",
       "\\item 5660\n",
       "\\item 5710\n",
       "\\item 5700\n",
       "\\item 5760\n",
       "\\end{enumerate*}\n"
      ],
      "text/markdown": [
       "1. 5550\n",
       "2. 5660\n",
       "3. 5710\n",
       "4. 5700\n",
       "5. 5760\n",
       "\n",
       "\n"
      ],
      "text/plain": [
       "[1] 5550 5660 5710 5700 5760"
      ]
     },
     "metadata": {},
     "output_type": "display_data"
    }
   ],
   "source": [
    "capped_pressure_height <- replace_outliers(ozone.data$pressure_height)\n",
    "head(capped_pressure_height,5)"
   ]
  },
  {
   "cell_type": "code",
   "execution_count": 51,
   "metadata": {},
   "outputs": [
    {
     "data": {
      "image/png": "[encoded data removed]",
      "text/plain": [
       "Plot with title \"Presión sin outliers\""
      ]
     },
     "metadata": {},
     "output_type": "display_data"
    }
   ],
   "source": [
    "par(mfrow = c(1,2))\n",
    "boxplot(ozone.data$pressure_height, main = \"Presión con outliers\")\n",
    "boxplot(capped_pressure_height, main = \"Presión sin outliers\")"
   ]
  }
 ],
 "metadata": {
  "kernelspec": {
   "display_name": "R",
   "language": "R",
   "name": "ir"
  },
  "language_info": {
   "codemirror_mode": "r",
   "file_extension": ".r",
   "mimetype": "text/x-r-source",
   "name": "R",
   "pygments_lexer": "r",
   "version": "3.6.0"
  }
 },
 "nbformat": 4,
 "nbformat_minor": 2
}
