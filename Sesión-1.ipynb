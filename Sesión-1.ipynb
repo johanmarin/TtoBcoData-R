{
 "cells": [
  {
   "cell_type": "markdown",
   "metadata": {
    "slideshow": {
     "slide_type": "slide"
    }
   },
   "source": [
    "# Introducción a Rmarkdown\n",
    "\n",
    "Johan Marin y Amylkar Urrea"
   ]
  },
  {
   "cell_type": "markdown",
   "metadata": {
    "slideshow": {
     "slide_type": "slide"
    }
   },
   "source": [
    "## Rmarkdown\n",
    "\n",
    "Teniendo en cuenta estas ventajas de markdown y el enfoque de R en la estadística y el deseo por generar conocimiento con transparencia, Yihui Xie creo el paquete knitr.\n",
    "\n",
    "El cual aprovecha las características de Markdown, latex, y html para generar reportes en múltiples formatos, sin la necesidad un editor externo."
   ]
  },
  {
   "cell_type": "markdown",
   "metadata": {
    "slideshow": {
     "slide_type": "slide"
    }
   },
   "source": [
    "### Primer Rmarkdown"
   ]
  },
  {
   "cell_type": "markdown",
   "metadata": {
    "slideshow": {
     "slide_type": "slide"
    }
   },
   "source": [
    "## ¿Qué es Markdown?\n",
    "\n",
    "Markdown es un lenguaje de marcado ligero creado “John Gruber” en 2004, que busca conseguir la máxima legibilidad y facilidad de publicación tanto de entrada como de salida. Básicamente markdown un lenguaje, y a la vez una herramienta de software que convierte el lenguaje en XHTML válido.\n",
    "\n",
    "Es decir que en lugar de usar codigo HTML, para publicar, se usa tipado markdown que al compilarse se convierte en código HTML."
   ]
  },
  {
   "cell_type": "markdown",
   "metadata": {
    "slideshow": {
     "slide_type": "slide"
    }
   },
   "source": [
    "## Comandos Básicos Markdown"
   ]
  },
  {
   "cell_type": "markdown",
   "metadata": {
    "slideshow": {
     "slide_type": "slide"
    }
   },
   "source": [
    "![](./img/encabezados.jpg)"
   ]
  },
  {
   "cell_type": "markdown",
   "metadata": {
    "slideshow": {
     "slide_type": "slide"
    }
   },
   "source": [
    "![Enfasis](./img/Enfasis.png)"
   ]
  },
  {
   "attachments": {},
   "cell_type": "markdown",
   "metadata": {
    "slideshow": {
     "slide_type": "slide"
    }
   },
   "source": [
    "![](./img/listas.jpg)\n",
    "\n",
    "En la inclusión de listas markdown permite utilizar diferentes simbolos para enumerar los items:\n",
    "\n",
    "números (1. 2. 3. ...)\n",
    "signos(* + -)"
   ]
  },
  {
   "cell_type": "markdown",
   "metadata": {
    "slideshow": {
     "slide_type": "slide"
    }
   },
   "source": [
    "## Insertar\n",
    "\n",
    "+ **Imagenes**\n",
    "        ![](nombreImagen.tipo)\n",
    "+ **Links**\n",
    "        [texto](url)\n",
    "+ **Link en una imagen**\n",
    "        [![](imagen)](url)"
   ]
  },
  {
   "cell_type": "markdown",
   "metadata": {
    "slideshow": {
     "slide_type": "slide"
    }
   },
   "source": [
    "Tablas\n",
    "\n",
    "        First Header  | Second Header\n",
    "        ------------- | -------------\n",
    "        Content Cell  | Content Cell\n",
    "        Content Cell  | Content Cell\n",
    "\n"
   ]
  },
  {
   "cell_type": "markdown",
   "metadata": {
    "slideshow": {
     "slide_type": "slide"
    }
   },
   "source": [
    "## Latex\n",
    "\n",
    "Para poder incluir ecuaciones Rmarkdown hace uso de el lenguaje Latex, para indicar que se utiliza el signo dolar.\n",
    "\n",
    "        $Equación$ : Ecuaciones en linea\n",
    "        $$Equación$$ : Ecuaciones centradas, fuera del parrafo\n",
    "        \n",
    "Esta es una ecuación en linea $\\displaystyle\\prod_{i=1}^n p_i$ como se puede ver \n",
    "\n",
    "$$ \\begin{Bmatrix} x & y \\\\ z & v \\end{Bmatrix} $$"
   ]
  },
  {
   "cell_type": "markdown",
   "metadata": {
    "slideshow": {
     "slide_type": "slide"
    }
   },
   "source": [
    "Además de esto es posible incluir tablas con formato de árticulo "
   ]
  },
  {
   "cell_type": "code",
   "execution_count": 16,
   "metadata": {
    "slideshow": {
     "slide_type": "skip"
    }
   },
   "outputs": [],
   "source": [
    "library(lubridate)\n",
    "Fecha_Hora <- seq(ymd_hms(\"2019- 08-01 00:00:00\"), ymd_hms(\"2019- 08-01 00:40:00\"), 150)\n",
    "\n",
    "obs <- c(34.75, 50.76, 76.58, 58.43, 43.00, 59.58, 58.62, 62.77, 77.37,\n",
    "37.58, 31.32, 62.44, 44.48, 48.62, 62.49, 70.62, 62.81, 81.62,\n",
    "62.51, 51.00, 55.68, 68.61, 61.35, 35.61, 61.56, 56.59, 59.58,\n",
    "58.64, 64.45, 45.56, 51.55, 55.5 , 50.66, 66.57, 57.00, 58.42,\n",
    "42.58, 58.42, 42.64, 64.00, 62.55, 55.6 , 60.66, 66.59, 59.60,\n",
    "72.58, 58.57, 57.32, 32.51, 51.00, 82.1 , 50.57, 57.67, 67.6,\n",
    "0.00, 60.54, 54.57, 57.51, 51.65, 65.00, 56.53, 53.51, 51.39,\n",
    "39.677, 68.23, 42.56, 56.49, 49.68, 68.59, 59.00, 57.51, 51.766,\n",
    "77.09, 49.53, 53.57, 59.57, 57.74, 74.54, 54.61, 61.00, 61.63,\n",
    "63.57, 57.64, 64.51, 51.59)\n",
    "\n",
    "ob1 <- obs[seq(1,85,5)]\n",
    "ob2 <- obs[seq(2,86,5)]\n",
    "ob3 <- obs[seq(3,87,5)]\n",
    "ob4 <- obs[seq(4,88,5)]\n",
    "ob5 <- obs[seq(5,89,5)]\n",
    "data <- data.frame(Fecha_Hora,ob1, ob2,ob3, ob4, ob5)\n",
    "data$media <- rowMeans(data[,2:6])\n",
    "data$sd <- apply(data[,2:6], 1, sd)\n",
    "data$Rango <- apply(data[,2:6], 1, max) - apply(data[,2:6], 1, min)"
   ]
  },
  {
   "cell_type": "code",
   "execution_count": 17,
   "metadata": {
    "slideshow": {
     "slide_type": "fragment"
    }
   },
   "outputs": [
    {
     "data": {
      "text/plain": [
       "\n",
       "\n",
       "|Fecha_Hora          |ob1  | ob2  |  ob3|  ob4| ob5  |media |   sd| Rango |\n",
       "|:-------------------|:----|:----:|----:|----:|:----:|:-----|----:|:-----:|\n",
       "|2019-08-01 00:00:00 |34,8 | 50,8 | 76,6| 58,4| 43,0 |52,7  | 16,0| 41,8  |\n",
       "|2019-08-01 00:02:30 |59,6 | 58,6 | 62,8| 77,4| 37,6 |59,2  | 14,2| 39,8  |\n",
       "|2019-08-01 00:05:00 |31,3 | 62,4 | 44,5| 48,6| 62,5 |49,9  | 13,2| 31,2  |\n",
       "|2019-08-01 00:07:30 |70,6 | 62,8 | 81,6| 62,5| 51,0 |65,7  | 11,3| 30,6  |\n",
       "|2019-08-01 00:10:00 |55,7 | 68,6 | 61,4| 35,6| 61,6 |56,6  | 12,6| 33,0  |\n",
       "|2019-08-01 00:12:30 |56,6 | 59,6 | 58,6| 64,5| 45,6 |57,0  |  7,0| 18,9  |\n",
       "|2019-08-01 00:15:00 |51,5 | 55,5 | 50,7| 66,6| 57,0 |56,3  |  6,3| 15,9  |\n",
       "|2019-08-01 00:17:30 |58,4 | 42,6 | 58,4| 42,6| 64,0 |53,2  |  9,9| 21,4  |\n",
       "|2019-08-01 00:20:00 |62,5 | 55,6 | 60,7| 66,6| 59,6 |61,0  |  4,0| 11,0  |\n",
       "|2019-08-01 00:22:30 |72,6 | 58,6 | 57,3| 32,5| 51,0 |54,4  | 14,6| 40,1  |\n",
       "|2019-08-01 00:25:00 |82,1 | 50,6 | 57,7| 67,6| 0,0  |51,6  | 31,2| 82,1  |\n",
       "|2019-08-01 00:27:30 |60,5 | 54,6 | 57,5| 51,6| 65,0 |57,9  |  5,2| 13,4  |\n",
       "|2019-08-01 00:30:00 |56,5 | 53,5 | 51,4| 39,7| 68,2 |53,9  | 10,3| 28,6  |\n",
       "|2019-08-01 00:32:30 |42,6 | 56,5 | 49,7| 68,6| 59,0 |55,3  |  9,8| 26,0  |\n",
       "|2019-08-01 00:35:00 |57,5 | 51,8 | 77,1| 49,5| 53,6 |57,9  | 11,1| 27,6  |\n",
       "|2019-08-01 00:37:30 |59,6 | 57,7 | 74,5| 54,6| 61,0 |61,5  |  7,7| 19,9  |\n",
       "|2019-08-01 00:40:00 |61,6 | 63,6 | 57,6| 64,5| 51,6 |59,8  |  5,3| 12,9  |"
      ]
     },
     "metadata": {},
     "output_type": "display_data"
    }
   ],
   "source": [
    "library(knitr)\n",
    "kable( data , caption = \"Datos\"\n",
    ", align = c('l', 'l', 'c', 'r', 'r', 'c', 'l','r', 'c', 'l')\n",
    ", digits = 1\n",
    ", format.args = list( decimal.mark = \",\")\n",
    ")"
   ]
  },
  {
   "cell_type": "markdown",
   "metadata": {
    "slideshow": {
     "slide_type": "slide"
    }
   },
   "source": [
    "## Bloques de código\n",
    "\n",
    "Una de las ventajas de RMarkdown, es que permite integrar bloques de código de R, Bash, Python, C++, SQL y Stan.\n",
    "\n",
    "    ´´´{r}\n",
    "    Chunk de R\n",
    "    ´´´"
   ]
  },
  {
   "cell_type": "markdown",
   "metadata": {
    "slideshow": {
     "slide_type": "slide"
    }
   },
   "source": [
    "### Include\n",
    "\n",
    "Permite decidir si mostrar el resultado o no de un bloque de codigo\n",
    "\n",
    "    ´´´{r include = F}\n",
    "\n",
    "    Chunk de R\n",
    "\n",
    "    ´´´"
   ]
  },
  {
   "cell_type": "markdown",
   "metadata": {
    "slideshow": {
     "slide_type": "slide"
    }
   },
   "source": [
    "### Echo\n",
    "\n",
    "Permite decidir si mostraro no el código que produce unos resultados.\n",
    "\n",
    "    ´´´{r Echo = F}\n",
    "\n",
    "    Chunk de R\n",
    "\n",
    "    ´´´"
   ]
  },
  {
   "cell_type": "markdown",
   "metadata": {
    "slideshow": {
     "slide_type": "slide"
    }
   },
   "source": [
    "### Eval\n",
    "\n",
    "Permite correr o no el código de un bloque.\n",
    "\n",
    "    ´´´{r Eval = F}\n",
    "\n",
    "    Chunk de R\n",
    "\n",
    "    ´´´"
   ]
  },
  {
   "cell_type": "markdown",
   "metadata": {
    "slideshow": {
     "slide_type": "slide"
    }
   },
   "source": [
    "### El cache\n",
    "\n",
    "Cuando se realizan informes muy largos o con códigos que tardan mucho tiempo en compilar, de modo que es conveniente guardar el cache y poder continuar donde se dejó al cerrar el documento."
   ]
  },
  {
   "cell_type": "code",
   "execution_count": 7,
   "metadata": {
    "slideshow": {
     "slide_type": "fragment"
    }
   },
   "outputs": [],
   "source": [
    "knitr::opts_chunk$set(cache  = TRUE)"
   ]
  },
  {
   "cell_type": "markdown",
   "metadata": {},
   "source": [
    "## El uso de Plantillas"
   ]
  },
  {
   "cell_type": "markdown",
   "metadata": {
    "slideshow": {
     "slide_type": "slide"
    }
   },
   "source": [
    "## Referencias\n",
    "\n",
    "[1] https://swcarpentry.github.io/r-novice-gapminder-es/15-knitr-markdown/\n",
    "\n",
    "[2] Xie, Y., Allaire, J. J., & Grolemund, G. (2018). Rmarkdown: The definitive guide. CRC Press."
   ]
  },
  {
   "cell_type": "markdown",
   "metadata": {
    "slideshow": {
     "slide_type": "slide"
    }
   },
   "source": [
    "# Guardar Objetos"
   ]
  },
  {
   "cell_type": "markdown",
   "metadata": {
    "slideshow": {
     "slide_type": "slide"
    }
   },
   "source": [
    "### Guardar un unico objeto\n",
    "\n",
    "En ocasiones cuando se ajustan modelos muy pesados y que tardan mucho tiempo en correr, es una buena practica guardar estos de forma que luego los podamos utilizar sin tener que correrlos nuevamente"
   ]
  },
  {
   "cell_type": "code",
   "execution_count": null,
   "metadata": {
    "slideshow": {
     "slide_type": "fragment"
    }
   },
   "outputs": [],
   "source": [
    "saveRDS(object = iris, file = \"my_data_frame.rds\")"
   ]
  },
  {
   "cell_type": "markdown",
   "metadata": {
    "slideshow": {
     "slide_type": "fragment"
    }
   },
   "source": [
    "Para cargar el modelo"
   ]
  },
  {
   "cell_type": "code",
   "execution_count": null,
   "metadata": {
    "slideshow": {
     "slide_type": "fragment"
    }
   },
   "outputs": [],
   "source": [
    "iris2 <- readRDS(file = \"my_data_frame.rds\")"
   ]
  },
  {
   "cell_type": "markdown",
   "metadata": {
    "slideshow": {
     "slide_type": "slide"
    }
   },
   "source": [
    "### Guardar multiples objetos"
   ]
  },
  {
   "cell_type": "code",
   "execution_count": null,
   "metadata": {
    "slideshow": {
     "slide_type": "fragment"
    }
   },
   "outputs": [],
   "source": [
    "save(iris, cars, file = \"myIrisAndCarsData.Rdata\")"
   ]
  },
  {
   "cell_type": "markdown",
   "metadata": {
    "slideshow": {
     "slide_type": "fragment"
    }
   },
   "source": [
    "Cargarlos"
   ]
  },
  {
   "cell_type": "code",
   "execution_count": null,
   "metadata": {
    "slideshow": {
     "slide_type": "fragment"
    }
   },
   "outputs": [],
   "source": [
    "load(\"myIrisAndCarsData.Rdata\")"
   ]
  },
  {
   "cell_type": "markdown",
   "metadata": {
    "slideshow": {
     "slide_type": "slide"
    }
   },
   "source": [
    "### Guardar Datos\n",
    "\n",
    "Como txt:"
   ]
  },
  {
   "cell_type": "code",
   "execution_count": null,
   "metadata": {
    "slideshow": {
     "slide_type": "fragment"
    }
   },
   "outputs": [],
   "source": [
    " write.table(Datos, file=\"Prueba3.txt\")"
   ]
  },
  {
   "cell_type": "markdown",
   "metadata": {
    "slideshow": {
     "slide_type": "fragment"
    }
   },
   "source": [
    "como .csv"
   ]
  },
  {
   "cell_type": "code",
   "execution_count": null,
   "metadata": {
    "slideshow": {
     "slide_type": "fragment"
    }
   },
   "outputs": [],
   "source": [
    "write.csv(Datos, file=\"Prueba1.csv\")"
   ]
  },
  {
   "cell_type": "markdown",
   "metadata": {
    "slideshow": {
     "slide_type": "slide"
    }
   },
   "source": [
    "## Guardar imagenes"
   ]
  },
  {
   "cell_type": "code",
   "execution_count": null,
   "metadata": {
    "slideshow": {
     "slide_type": "fragment"
    }
   },
   "outputs": [],
   "source": [
    "extensión(\"nombre del archivo gráfico.extensión\")\n",
    " \n",
    "#códigos para creación del gráfico\n",
    " \n",
    "dev.off()"
   ]
  },
  {
   "cell_type": "code",
   "execution_count": 10,
   "metadata": {},
   "outputs": [
    {
     "data": {
      "text/html": [
       "<strong>png:</strong> 2"
      ],
      "text/latex": [
       "\\textbf{png:} 2"
      ],
      "text/markdown": [
       "**png:** 2"
      ],
      "text/plain": [
       "png \n",
       "  2 "
      ]
     },
     "metadata": {},
     "output_type": "display_data"
    }
   ],
   "source": [
    "png(\"Mi gráfico.png\")\n",
    " \n",
    "edades <- c(20, 33, 40, 12, 50, 26, 18, 79, 47, 23, 8)\n",
    "plot(edades, main = \"Edades\", xlab = \"Nº de orden\", ylab = \"Años\")\n",
    " \n",
    "dev.off()"
   ]
  }
 ],
 "metadata": {
  "celltoolbar": "Slideshow",
  "kernelspec": {
   "display_name": "R",
   "language": "R",
   "name": "ir"
  },
  "language_info": {
   "codemirror_mode": "r",
   "file_extension": ".r",
   "mimetype": "text/x-r-source",
   "name": "R",
   "pygments_lexer": "r",
   "version": "3.6.1"
  }
 },
 "nbformat": 4,
 "nbformat_minor": 2
}
