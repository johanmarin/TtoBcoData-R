{
 "cells": [
  {
   "cell_type": "markdown",
   "metadata": {},
   "source": [
    "<h1 align=center> Reestructurando Datos </h1>"
   ]
  },
  {
   "cell_type": "markdown",
   "metadata": {},
   "source": [
    "### Reescalado de datos\n",
    "\n",
    "Es probable que por convención se quiera trabajar los valores númericos con valores en el rango 0-1, o 0-100."
   ]
  },
  {
   "cell_type": "code",
   "execution_count": 8,
   "metadata": {},
   "outputs": [],
   "source": [
    "url1     <- \"https://raw.githubusercontent.com/joanby/r-course/master/data/tema1/missing-data.csv\"\n",
    "data1R   <- read.csv(url1, row.names=NULL)\n",
    "data1R$Income[data1R$Income == 0]          <- NA\n",
    "data1R$Phone_type[data1R$Phone_type == \"\"] <- NA\n",
    "data1R$Car_type[data1R$Car_type == \"\"]     <- NA\n",
    "ingresos <- data1R"
   ]
  },
  {
   "cell_type": "code",
   "execution_count": 9,
   "metadata": {},
   "outputs": [
    {
     "data": {
      "text/html": [
       "<table>\n",
       "<thead><tr><th scope=col>Income</th><th scope=col>Phone_type</th><th scope=col>Car_type</th><th scope=col>Income.rescaled</th><th scope=col>Income.rescaled2</th></tr></thead>\n",
       "<tbody>\n",
       "\t<tr><td>89800     </td><td>Android   </td><td>Luxury    </td><td>0.5788271 </td><td>57.88271  </td></tr>\n",
       "\t<tr><td>47500     </td><td>Android   </td><td>Non-Luxury</td><td>0.2566641 </td><td>25.66641  </td></tr>\n",
       "\t<tr><td>45000     </td><td>iPhone    </td><td>Luxury    </td><td>0.2376238 </td><td>23.76238  </td></tr>\n",
       "\t<tr><td>44700     </td><td>NA        </td><td>Luxury    </td><td>0.2353389 </td><td>23.53389  </td></tr>\n",
       "\t<tr><td>59500     </td><td>iPhone    </td><td>Luxury    </td><td>0.3480579 </td><td>34.80579  </td></tr>\n",
       "</tbody>\n",
       "</table>\n"
      ],
      "text/latex": [
       "\\begin{tabular}{r|lllll}\n",
       " Income & Phone\\_type & Car\\_type & Income.rescaled & Income.rescaled2\\\\\n",
       "\\hline\n",
       "\t 89800      & Android    & Luxury     & 0.5788271  & 57.88271  \\\\\n",
       "\t 47500      & Android    & Non-Luxury & 0.2566641  & 25.66641  \\\\\n",
       "\t 45000      & iPhone     & Luxury     & 0.2376238  & 23.76238  \\\\\n",
       "\t 44700      & NA         & Luxury     & 0.2353389  & 23.53389  \\\\\n",
       "\t 59500      & iPhone     & Luxury     & 0.3480579  & 34.80579  \\\\\n",
       "\\end{tabular}\n"
      ],
      "text/markdown": [
       "\n",
       "Income | Phone_type | Car_type | Income.rescaled | Income.rescaled2 | \n",
       "|---|---|---|---|---|\n",
       "| 89800      | Android    | Luxury     | 0.5788271  | 57.88271   | \n",
       "| 47500      | Android    | Non-Luxury | 0.2566641  | 25.66641   | \n",
       "| 45000      | iPhone     | Luxury     | 0.2376238  | 23.76238   | \n",
       "| 44700      | NA         | Luxury     | 0.2353389  | 23.53389   | \n",
       "| 59500      | iPhone     | Luxury     | 0.3480579  | 34.80579   | \n",
       "\n",
       "\n"
      ],
      "text/plain": [
       "  Income Phone_type Car_type   Income.rescaled Income.rescaled2\n",
       "1 89800  Android    Luxury     0.5788271       57.88271        \n",
       "2 47500  Android    Non-Luxury 0.2566641       25.66641        \n",
       "3 45000  iPhone     Luxury     0.2376238       23.76238        \n",
       "4 44700  NA         Luxury     0.2353389       23.53389        \n",
       "5 59500  iPhone     Luxury     0.3480579       34.80579        "
      ]
     },
     "metadata": {},
     "output_type": "display_data"
    }
   ],
   "source": [
    "library(scales)\n",
    "ingresos                  <- data1R\n",
    "ingresos$Income.rescaled  <- rescale(ingresos$Income)\n",
    "ingresos$Income.rescaled2 <- rescale(ingresos$Income,\n",
    "                                   to = c(0, 100))\n",
    "head(ingresos, 5)"
   ]
  },
  {
   "cell_type": "markdown",
   "metadata": {},
   "source": [
    "Cuando se quieren reescalar muchas variables de un data frame es conveniente utilizar una función que permita hbles aacelo con varias variable a la vez."
   ]
  },
  {
   "cell_type": "code",
   "execution_count": 10,
   "metadata": {},
   "outputs": [],
   "source": [
    "rescale.many        <- function(dataframe, cols){\n",
    "  names             <- names(dataframe)\n",
    "  for(col in cols){\n",
    "    name            <- paste(names[col], \"rescaled\", sep = \".\")\n",
    "    dataframe[name] <- rescale(dataframe[,col]) \n",
    "  }\n",
    "  cat(paste(\"Hemos reescalado \", length(cols), \" variable(s)\"))\n",
    "  dataframe\n",
    "}  "
   ]
  },
  {
   "cell_type": "code",
   "execution_count": 11,
   "metadata": {},
   "outputs": [
    {
     "data": {
      "text/html": [
       "<table>\n",
       "<thead><tr><th scope=col>Age</th><th scope=col>State</th><th scope=col>Gender</th><th scope=col>Height</th><th scope=col>Income</th></tr></thead>\n",
       "<tbody>\n",
       "\t<tr><td>23   </td><td>NJ   </td><td>F    </td><td>61   </td><td> 5000</td></tr>\n",
       "\t<tr><td>13   </td><td>NY   </td><td>M    </td><td>55   </td><td> 1000</td></tr>\n",
       "\t<tr><td>36   </td><td>NJ   </td><td>M    </td><td>66   </td><td> 3000</td></tr>\n",
       "\t<tr><td>31   </td><td>VA   </td><td>F    </td><td>64   </td><td> 4000</td></tr>\n",
       "\t<tr><td>58   </td><td>NY   </td><td>F    </td><td>70   </td><td>30000</td></tr>\n",
       "</tbody>\n",
       "</table>\n"
      ],
      "text/latex": [
       "\\begin{tabular}{r|lllll}\n",
       " Age & State & Gender & Height & Income\\\\\n",
       "\\hline\n",
       "\t 23    & NJ    & F     & 61    &  5000\\\\\n",
       "\t 13    & NY    & M     & 55    &  1000\\\\\n",
       "\t 36    & NJ    & M     & 66    &  3000\\\\\n",
       "\t 31    & VA    & F     & 64    &  4000\\\\\n",
       "\t 58    & NY    & F     & 70    & 30000\\\\\n",
       "\\end{tabular}\n"
      ],
      "text/markdown": [
       "\n",
       "Age | State | Gender | Height | Income | \n",
       "|---|---|---|---|---|\n",
       "| 23    | NJ    | F     | 61    |  5000 | \n",
       "| 13    | NY    | M     | 55    |  1000 | \n",
       "| 36    | NJ    | M     | 66    |  3000 | \n",
       "| 31    | VA    | F     | 64    |  4000 | \n",
       "| 58    | NY    | F     | 70    | 30000 | \n",
       "\n",
       "\n"
      ],
      "text/plain": [
       "  Age State Gender Height Income\n",
       "1 23  NJ    F      61      5000 \n",
       "2 13  NY    M      55      1000 \n",
       "3 36  NJ    M      66      3000 \n",
       "4 31  VA    F      64      4000 \n",
       "5 58  NY    F      70     30000 "
      ]
     },
     "metadata": {},
     "output_type": "display_data"
    }
   ],
   "source": [
    "url2   <- \"https://raw.githubusercontent.com/joanby/r-course/master/data/tema1/data-conversion.csv\"\n",
    "data2R <- read.csv(url2)\n",
    "head(data2R, 5)"
   ]
  },
  {
   "cell_type": "code",
   "execution_count": 12,
   "metadata": {},
   "outputs": [
    {
     "name": "stdout",
     "output_type": "stream",
     "text": [
      "Hemos reescalado  2  variable(s)"
     ]
    },
    {
     "data": {
      "text/html": [
       "<table>\n",
       "<thead><tr><th scope=col>Age</th><th scope=col>State</th><th scope=col>Gender</th><th scope=col>Height</th><th scope=col>Income</th><th scope=col>Age.rescaled</th><th scope=col>Height.rescaled</th></tr></thead>\n",
       "<tbody>\n",
       "\t<tr><td>23       </td><td>NJ       </td><td>F        </td><td>61       </td><td> 5000    </td><td>0.2222222</td><td>0.4000000</td></tr>\n",
       "\t<tr><td>13       </td><td>NY       </td><td>M        </td><td>55       </td><td> 1000    </td><td>0.0000000</td><td>0.0000000</td></tr>\n",
       "\t<tr><td>36       </td><td>NJ       </td><td>M        </td><td>66       </td><td> 3000    </td><td>0.5111111</td><td>0.7333333</td></tr>\n",
       "\t<tr><td>31       </td><td>VA       </td><td>F        </td><td>64       </td><td> 4000    </td><td>0.4000000</td><td>0.6000000</td></tr>\n",
       "\t<tr><td>58       </td><td>NY       </td><td>F        </td><td>70       </td><td>30000    </td><td>1.0000000</td><td>1.0000000</td></tr>\n",
       "</tbody>\n",
       "</table>\n"
      ],
      "text/latex": [
       "\\begin{tabular}{r|lllllll}\n",
       " Age & State & Gender & Height & Income & Age.rescaled & Height.rescaled\\\\\n",
       "\\hline\n",
       "\t 23        & NJ        & F         & 61        &  5000     & 0.2222222 & 0.4000000\\\\\n",
       "\t 13        & NY        & M         & 55        &  1000     & 0.0000000 & 0.0000000\\\\\n",
       "\t 36        & NJ        & M         & 66        &  3000     & 0.5111111 & 0.7333333\\\\\n",
       "\t 31        & VA        & F         & 64        &  4000     & 0.4000000 & 0.6000000\\\\\n",
       "\t 58        & NY        & F         & 70        & 30000     & 1.0000000 & 1.0000000\\\\\n",
       "\\end{tabular}\n"
      ],
      "text/markdown": [
       "\n",
       "Age | State | Gender | Height | Income | Age.rescaled | Height.rescaled | \n",
       "|---|---|---|---|---|\n",
       "| 23        | NJ        | F         | 61        |  5000     | 0.2222222 | 0.4000000 | \n",
       "| 13        | NY        | M         | 55        |  1000     | 0.0000000 | 0.0000000 | \n",
       "| 36        | NJ        | M         | 66        |  3000     | 0.5111111 | 0.7333333 | \n",
       "| 31        | VA        | F         | 64        |  4000     | 0.4000000 | 0.6000000 | \n",
       "| 58        | NY        | F         | 70        | 30000     | 1.0000000 | 1.0000000 | \n",
       "\n",
       "\n"
      ],
      "text/plain": [
       "  Age State Gender Height Income Age.rescaled Height.rescaled\n",
       "1 23  NJ    F      61      5000  0.2222222    0.4000000      \n",
       "2 13  NY    M      55      1000  0.0000000    0.0000000      \n",
       "3 36  NJ    M      66      3000  0.5111111    0.7333333      \n",
       "4 31  VA    F      64      4000  0.4000000    0.6000000      \n",
       "5 58  NY    F      70     30000  1.0000000    1.0000000      "
      ]
     },
     "metadata": {},
     "output_type": "display_data"
    }
   ],
   "source": [
    "students <- rescale.many(data2R, c(1,4))\n",
    "head(students, 5)"
   ]
  },
  {
   "cell_type": "markdown",
   "metadata": {},
   "source": [
    "### Normalizando los datos\n",
    "\n",
    "Es muy probable que se quiera normalizar los valores, en lugar de reescalarlos, lo cual se puede hacer con la función **scale**, que por defectos tiene un valor de cero para la media (*center*) y uno de 1 para la desviación estandar (*scale*)."
   ]
  },
  {
   "cell_type": "code",
   "execution_count": 13,
   "metadata": {},
   "outputs": [
    {
     "data": {
      "text/html": [
       "<table>\n",
       "<thead><tr><th scope=col>Income</th><th scope=col>Phone_type</th><th scope=col>Car_type</th><th scope=col>Income.rescaled</th></tr></thead>\n",
       "<tbody>\n",
       "\t<tr><td>89800     </td><td>Android   </td><td>Luxury    </td><td> 0.8997036</td></tr>\n",
       "\t<tr><td>47500     </td><td>Android   </td><td>Non-Luxury</td><td>-0.6836250</td></tr>\n",
       "\t<tr><td>45000     </td><td>iPhone    </td><td>Luxury    </td><td>-0.7772024</td></tr>\n",
       "\t<tr><td>44700     </td><td>NA        </td><td>Luxury    </td><td>-0.7884316</td></tr>\n",
       "\t<tr><td>59500     </td><td>iPhone    </td><td>Luxury    </td><td>-0.2344538</td></tr>\n",
       "</tbody>\n",
       "</table>\n"
      ],
      "text/latex": [
       "\\begin{tabular}{r|llll}\n",
       " Income & Phone\\_type & Car\\_type & Income.rescaled\\\\\n",
       "\\hline\n",
       "\t 89800      & Android    & Luxury     &  0.8997036\\\\\n",
       "\t 47500      & Android    & Non-Luxury & -0.6836250\\\\\n",
       "\t 45000      & iPhone     & Luxury     & -0.7772024\\\\\n",
       "\t 44700      & NA         & Luxury     & -0.7884316\\\\\n",
       "\t 59500      & iPhone     & Luxury     & -0.2344538\\\\\n",
       "\\end{tabular}\n"
      ],
      "text/markdown": [
       "\n",
       "Income | Phone_type | Car_type | Income.rescaled | \n",
       "|---|---|---|---|---|\n",
       "| 89800      | Android    | Luxury     |  0.8997036 | \n",
       "| 47500      | Android    | Non-Luxury | -0.6836250 | \n",
       "| 45000      | iPhone     | Luxury     | -0.7772024 | \n",
       "| 44700      | NA         | Luxury     | -0.7884316 | \n",
       "| 59500      | iPhone     | Luxury     | -0.2344538 | \n",
       "\n",
       "\n"
      ],
      "text/plain": [
       "  Income Phone_type Car_type   Income.rescaled\n",
       "1 89800  Android    Luxury      0.8997036     \n",
       "2 47500  Android    Non-Luxury -0.6836250     \n",
       "3 45000  iPhone     Luxury     -0.7772024     \n",
       "4 44700  NA         Luxury     -0.7884316     \n",
       "5 59500  iPhone     Luxury     -0.2344538     "
      ]
     },
     "metadata": {},
     "output_type": "display_data"
    }
   ],
   "source": [
    "ingresos  <- data1R\n",
    "ingresos$Income.rescaled  <- scale(ingresos$Income)\n",
    "head(ingresos, 5)"
   ]
  },
  {
   "cell_type": "code",
   "execution_count": 14,
   "metadata": {},
   "outputs": [],
   "source": [
    "scale.many <- function(dataframe, cols){\n",
    "  names    <- names(dataframe)\n",
    "  for(col in cols){\n",
    "    name   <- paste(names[col], \"z\", sep = \".\")\n",
    "    dataframe[name] <- scale(dataframe[,col])\n",
    "  }\n",
    "  cat(paste(\"Hemos normalizado \", length(cols), \" variable(s)\"))\n",
    "  dataframe\n",
    "}"
   ]
  },
  {
   "cell_type": "markdown",
   "metadata": {},
   "source": [
    "### Categorizar Variables númericas\n",
    "\n",
    "En ocasiones es necesario o conveniente categorizar una variable númerica; convertirla en booleana o factor."
   ]
  },
  {
   "cell_type": "code",
   "execution_count": 15,
   "metadata": {},
   "outputs": [
    {
     "data": {
      "text/html": [
       "<table>\n",
       "<thead><tr><th scope=col>Age</th><th scope=col>State</th><th scope=col>Gender</th><th scope=col>Height</th><th scope=col>Income</th></tr></thead>\n",
       "<tbody>\n",
       "\t<tr><td>23   </td><td>NJ   </td><td>F    </td><td>61   </td><td> 5000</td></tr>\n",
       "\t<tr><td>13   </td><td>NY   </td><td>M    </td><td>55   </td><td> 1000</td></tr>\n",
       "\t<tr><td>36   </td><td>NJ   </td><td>M    </td><td>66   </td><td> 3000</td></tr>\n",
       "\t<tr><td>31   </td><td>VA   </td><td>F    </td><td>64   </td><td> 4000</td></tr>\n",
       "\t<tr><td>58   </td><td>NY   </td><td>F    </td><td>70   </td><td>30000</td></tr>\n",
       "</tbody>\n",
       "</table>\n"
      ],
      "text/latex": [
       "\\begin{tabular}{r|lllll}\n",
       " Age & State & Gender & Height & Income\\\\\n",
       "\\hline\n",
       "\t 23    & NJ    & F     & 61    &  5000\\\\\n",
       "\t 13    & NY    & M     & 55    &  1000\\\\\n",
       "\t 36    & NJ    & M     & 66    &  3000\\\\\n",
       "\t 31    & VA    & F     & 64    &  4000\\\\\n",
       "\t 58    & NY    & F     & 70    & 30000\\\\\n",
       "\\end{tabular}\n"
      ],
      "text/markdown": [
       "\n",
       "Age | State | Gender | Height | Income | \n",
       "|---|---|---|---|---|\n",
       "| 23    | NJ    | F     | 61    |  5000 | \n",
       "| 13    | NY    | M     | 55    |  1000 | \n",
       "| 36    | NJ    | M     | 66    |  3000 | \n",
       "| 31    | VA    | F     | 64    |  4000 | \n",
       "| 58    | NY    | F     | 70    | 30000 | \n",
       "\n",
       "\n"
      ],
      "text/plain": [
       "  Age State Gender Height Income\n",
       "1 23  NJ    F      61      5000 \n",
       "2 13  NY    M      55      1000 \n",
       "3 36  NJ    M      66      3000 \n",
       "4 31  VA    F      64      4000 \n",
       "5 58  NY    F      70     30000 "
      ]
     },
     "metadata": {},
     "output_type": "display_data"
    }
   ],
   "source": [
    "students <- data2R\n",
    "head(students, 5)"
   ]
  },
  {
   "cell_type": "markdown",
   "metadata": {},
   "source": [
    "Para poder convertir las variables númericas en categoricas, es necesario definir rangos para cada categoría, utilizando la función cut. Es importante para definir los intervalos de corte utilizar criterios estadisticos, o en caso contrario dejar qeu la función la corte automaticamente en rangos iguales."
   ]
  },
  {
   "cell_type": "code",
   "execution_count": 16,
   "metadata": {
    "scrolled": true
   },
   "outputs": [
    {
     "data": {
      "text/html": [
       "<table>\n",
       "<thead><tr><th scope=col>Age</th><th scope=col>State</th><th scope=col>Gender</th><th scope=col>Height</th><th scope=col>Income</th><th scope=col>Income.cat</th></tr></thead>\n",
       "<tbody>\n",
       "\t<tr><td>23     </td><td>NJ     </td><td>F      </td><td>61     </td><td> 5000  </td><td>Low    </td></tr>\n",
       "\t<tr><td>13     </td><td>NY     </td><td>M      </td><td>55     </td><td> 1000  </td><td>Low    </td></tr>\n",
       "\t<tr><td>36     </td><td>NJ     </td><td>M      </td><td>66     </td><td> 3000  </td><td>Low    </td></tr>\n",
       "\t<tr><td>31     </td><td>VA     </td><td>F      </td><td>64     </td><td> 4000  </td><td>Low    </td></tr>\n",
       "\t<tr><td>58     </td><td>NY     </td><td>F      </td><td>70     </td><td>30000  </td><td>Average</td></tr>\n",
       "</tbody>\n",
       "</table>\n"
      ],
      "text/latex": [
       "\\begin{tabular}{r|llllll}\n",
       " Age & State & Gender & Height & Income & Income.cat\\\\\n",
       "\\hline\n",
       "\t 23      & NJ      & F       & 61      &  5000   & Low    \\\\\n",
       "\t 13      & NY      & M       & 55      &  1000   & Low    \\\\\n",
       "\t 36      & NJ      & M       & 66      &  3000   & Low    \\\\\n",
       "\t 31      & VA      & F       & 64      &  4000   & Low    \\\\\n",
       "\t 58      & NY      & F       & 70      & 30000   & Average\\\\\n",
       "\\end{tabular}\n"
      ],
      "text/markdown": [
       "\n",
       "Age | State | Gender | Height | Income | Income.cat | \n",
       "|---|---|---|---|---|\n",
       "| 23      | NJ      | F       | 61      |  5000   | Low     | \n",
       "| 13      | NY      | M       | 55      |  1000   | Low     | \n",
       "| 36      | NJ      | M       | 66      |  3000   | Low     | \n",
       "| 31      | VA      | F       | 64      |  4000   | Low     | \n",
       "| 58      | NY      | F       | 70      | 30000   | Average | \n",
       "\n",
       "\n"
      ],
      "text/plain": [
       "  Age State Gender Height Income Income.cat\n",
       "1 23  NJ    F      61      5000  Low       \n",
       "2 13  NY    M      55      1000  Low       \n",
       "3 36  NJ    M      66      3000  Low       \n",
       "4 31  VA    F      64      4000  Low       \n",
       "5 58  NY    F      70     30000  Average   "
      ]
     },
     "metadata": {},
     "output_type": "display_data"
    }
   ],
   "source": [
    "bp                  <- c(-Inf, 10000, 31000, Inf)\n",
    "names               <- c(\"Low\", \"Average\", \"High\")\n",
    "students$Income.cat <- cut(students$Income, breaks = bp,\n",
    "                           labels = names)\n",
    "head(students, 5)"
   ]
  },
  {
   "cell_type": "markdown",
   "metadata": {},
   "source": [
    "Como se puede ver en la función cut en el argumento *breaks*, se especifican los rangos y en *labels* los  nombres de la categoria."
   ]
  },
  {
   "cell_type": "markdown",
   "metadata": {},
   "source": [
    "#### Variables categoricas\n",
    "\n",
    "Las variables categoricas se pueden tranformar en variables ficticias o en varaibles booleanas."
   ]
  },
  {
   "cell_type": "code",
   "execution_count": 17,
   "metadata": {},
   "outputs": [
    {
     "name": "stderr",
     "output_type": "stream",
     "text": [
      "dummies-1.5.6 provided by Decision Patterns\n",
      "\n"
     ]
    },
    {
     "data": {
      "text/html": [
       "<ol class=list-inline>\n",
       "\t<li>'Age'</li>\n",
       "\t<li>'State.NJ'</li>\n",
       "\t<li>'State.NY'</li>\n",
       "\t<li>'State.TX'</li>\n",
       "\t<li>'State.VA'</li>\n",
       "\t<li>'Gender.F'</li>\n",
       "\t<li>'Gender.M'</li>\n",
       "\t<li>'Height'</li>\n",
       "\t<li>'Income'</li>\n",
       "</ol>\n"
      ],
      "text/latex": [
       "\\begin{enumerate*}\n",
       "\\item 'Age'\n",
       "\\item 'State.NJ'\n",
       "\\item 'State.NY'\n",
       "\\item 'State.TX'\n",
       "\\item 'State.VA'\n",
       "\\item 'Gender.F'\n",
       "\\item 'Gender.M'\n",
       "\\item 'Height'\n",
       "\\item 'Income'\n",
       "\\end{enumerate*}\n"
      ],
      "text/markdown": [
       "1. 'Age'\n",
       "2. 'State.NJ'\n",
       "3. 'State.NY'\n",
       "4. 'State.TX'\n",
       "5. 'State.VA'\n",
       "6. 'Gender.F'\n",
       "7. 'Gender.M'\n",
       "8. 'Height'\n",
       "9. 'Income'\n",
       "\n",
       "\n"
      ],
      "text/plain": [
       "[1] \"Age\"      \"State.NJ\" \"State.NY\" \"State.TX\" \"State.VA\" \"Gender.F\" \"Gender.M\"\n",
       "[8] \"Height\"   \"Income\"  "
      ]
     },
     "metadata": {},
     "output_type": "display_data"
    }
   ],
   "source": [
    "library(dummies)\n",
    "students       <- data2R\n",
    "students.dummy <- dummy.data.frame(students, sep = \".\")\n",
    "names(students.dummy)"
   ]
  },
  {
   "cell_type": "code",
   "execution_count": 18,
   "metadata": {},
   "outputs": [
    {
     "data": {
      "text/html": [
       "<table>\n",
       "<thead><tr><th scope=col>NA.NJ</th><th scope=col>NA.NY</th><th scope=col>NA.TX</th><th scope=col>NA.VA</th></tr></thead>\n",
       "<tbody>\n",
       "\t<tr><td>1</td><td>0</td><td>0</td><td>0</td></tr>\n",
       "\t<tr><td>0</td><td>1</td><td>0</td><td>0</td></tr>\n",
       "\t<tr><td>1</td><td>0</td><td>0</td><td>0</td></tr>\n",
       "\t<tr><td>0</td><td>0</td><td>0</td><td>1</td></tr>\n",
       "\t<tr><td>0</td><td>1</td><td>0</td><td>0</td></tr>\n",
       "\t<tr><td>0</td><td>0</td><td>1</td><td>0</td></tr>\n",
       "\t<tr><td>1</td><td>0</td><td>0</td><td>0</td></tr>\n",
       "\t<tr><td>0</td><td>0</td><td>0</td><td>1</td></tr>\n",
       "\t<tr><td>0</td><td>0</td><td>1</td><td>0</td></tr>\n",
       "\t<tr><td>0</td><td>0</td><td>0</td><td>1</td></tr>\n",
       "</tbody>\n",
       "</table>\n"
      ],
      "text/latex": [
       "\\begin{tabular}{llll}\n",
       " NA.NJ & NA.NY & NA.TX & NA.VA\\\\\n",
       "\\hline\n",
       "\t 1 & 0 & 0 & 0\\\\\n",
       "\t 0 & 1 & 0 & 0\\\\\n",
       "\t 1 & 0 & 0 & 0\\\\\n",
       "\t 0 & 0 & 0 & 1\\\\\n",
       "\t 0 & 1 & 0 & 0\\\\\n",
       "\t 0 & 0 & 1 & 0\\\\\n",
       "\t 1 & 0 & 0 & 0\\\\\n",
       "\t 0 & 0 & 0 & 1\\\\\n",
       "\t 0 & 0 & 1 & 0\\\\\n",
       "\t 0 & 0 & 0 & 1\\\\\n",
       "\\end{tabular}\n"
      ],
      "text/markdown": [
       "\n",
       "NA.NJ | NA.NY | NA.TX | NA.VA | \n",
       "|---|---|---|---|---|---|---|---|---|---|\n",
       "| 1 | 0 | 0 | 0 | \n",
       "| 0 | 1 | 0 | 0 | \n",
       "| 1 | 0 | 0 | 0 | \n",
       "| 0 | 0 | 0 | 1 | \n",
       "| 0 | 1 | 0 | 0 | \n",
       "| 0 | 0 | 1 | 0 | \n",
       "| 1 | 0 | 0 | 0 | \n",
       "| 0 | 0 | 0 | 1 | \n",
       "| 0 | 0 | 1 | 0 | \n",
       "| 0 | 0 | 0 | 1 | \n",
       "\n",
       "\n"
      ],
      "text/plain": [
       "      NA.NJ NA.NY NA.TX NA.VA\n",
       " [1,] 1     0     0     0    \n",
       " [2,] 0     1     0     0    \n",
       " [3,] 1     0     0     0    \n",
       " [4,] 0     0     0     1    \n",
       " [5,] 0     1     0     0    \n",
       " [6,] 0     0     1     0    \n",
       " [7,] 1     0     0     0    \n",
       " [8,] 0     0     0     1    \n",
       " [9,] 0     0     1     0    \n",
       "[10,] 0     0     0     1    "
      ]
     },
     "metadata": {},
     "output_type": "display_data"
    }
   ],
   "source": [
    "students <- data2R\n",
    "dummy(students$State, sep=\".\")"
   ]
  },
  {
   "cell_type": "code",
   "execution_count": 19,
   "metadata": {},
   "outputs": [
    {
     "data": {
      "text/html": [
       "<table>\n",
       "<thead><tr><th scope=col>Age</th><th scope=col>State.NJ</th><th scope=col>State.NY</th><th scope=col>State.TX</th><th scope=col>State.VA</th><th scope=col>Gender.F</th><th scope=col>Gender.M</th><th scope=col>Height</th><th scope=col>Income</th></tr></thead>\n",
       "<tbody>\n",
       "\t<tr><td>23   </td><td>1    </td><td>0    </td><td>0    </td><td>0    </td><td>1    </td><td>0    </td><td>61   </td><td> 5000</td></tr>\n",
       "\t<tr><td>13   </td><td>0    </td><td>1    </td><td>0    </td><td>0    </td><td>0    </td><td>1    </td><td>55   </td><td> 1000</td></tr>\n",
       "\t<tr><td>36   </td><td>1    </td><td>0    </td><td>0    </td><td>0    </td><td>0    </td><td>1    </td><td>66   </td><td> 3000</td></tr>\n",
       "\t<tr><td>31   </td><td>0    </td><td>0    </td><td>0    </td><td>1    </td><td>1    </td><td>0    </td><td>64   </td><td> 4000</td></tr>\n",
       "\t<tr><td>58   </td><td>0    </td><td>1    </td><td>0    </td><td>0    </td><td>1    </td><td>0    </td><td>70   </td><td>30000</td></tr>\n",
       "\t<tr><td>29   </td><td>0    </td><td>0    </td><td>1    </td><td>0    </td><td>1    </td><td>0    </td><td>63   </td><td>10000</td></tr>\n",
       "\t<tr><td>39   </td><td>1    </td><td>0    </td><td>0    </td><td>0    </td><td>0    </td><td>1    </td><td>67   </td><td>50000</td></tr>\n",
       "\t<tr><td>50   </td><td>0    </td><td>0    </td><td>0    </td><td>1    </td><td>0    </td><td>1    </td><td>70   </td><td>55000</td></tr>\n",
       "\t<tr><td>23   </td><td>0    </td><td>0    </td><td>1    </td><td>0    </td><td>1    </td><td>0    </td><td>61   </td><td> 2000</td></tr>\n",
       "\t<tr><td>36   </td><td>0    </td><td>0    </td><td>0    </td><td>1    </td><td>0    </td><td>1    </td><td>66   </td><td>20000</td></tr>\n",
       "</tbody>\n",
       "</table>\n"
      ],
      "text/latex": [
       "\\begin{tabular}{r|lllllllll}\n",
       " Age & State.NJ & State.NY & State.TX & State.VA & Gender.F & Gender.M & Height & Income\\\\\n",
       "\\hline\n",
       "\t 23    & 1     & 0     & 0     & 0     & 1     & 0     & 61    &  5000\\\\\n",
       "\t 13    & 0     & 1     & 0     & 0     & 0     & 1     & 55    &  1000\\\\\n",
       "\t 36    & 1     & 0     & 0     & 0     & 0     & 1     & 66    &  3000\\\\\n",
       "\t 31    & 0     & 0     & 0     & 1     & 1     & 0     & 64    &  4000\\\\\n",
       "\t 58    & 0     & 1     & 0     & 0     & 1     & 0     & 70    & 30000\\\\\n",
       "\t 29    & 0     & 0     & 1     & 0     & 1     & 0     & 63    & 10000\\\\\n",
       "\t 39    & 1     & 0     & 0     & 0     & 0     & 1     & 67    & 50000\\\\\n",
       "\t 50    & 0     & 0     & 0     & 1     & 0     & 1     & 70    & 55000\\\\\n",
       "\t 23    & 0     & 0     & 1     & 0     & 1     & 0     & 61    &  2000\\\\\n",
       "\t 36    & 0     & 0     & 0     & 1     & 0     & 1     & 66    & 20000\\\\\n",
       "\\end{tabular}\n"
      ],
      "text/markdown": [
       "\n",
       "Age | State.NJ | State.NY | State.TX | State.VA | Gender.F | Gender.M | Height | Income | \n",
       "|---|---|---|---|---|---|---|---|---|---|\n",
       "| 23    | 1     | 0     | 0     | 0     | 1     | 0     | 61    |  5000 | \n",
       "| 13    | 0     | 1     | 0     | 0     | 0     | 1     | 55    |  1000 | \n",
       "| 36    | 1     | 0     | 0     | 0     | 0     | 1     | 66    |  3000 | \n",
       "| 31    | 0     | 0     | 0     | 1     | 1     | 0     | 64    |  4000 | \n",
       "| 58    | 0     | 1     | 0     | 0     | 1     | 0     | 70    | 30000 | \n",
       "| 29    | 0     | 0     | 1     | 0     | 1     | 0     | 63    | 10000 | \n",
       "| 39    | 1     | 0     | 0     | 0     | 0     | 1     | 67    | 50000 | \n",
       "| 50    | 0     | 0     | 0     | 1     | 0     | 1     | 70    | 55000 | \n",
       "| 23    | 0     | 0     | 1     | 0     | 1     | 0     | 61    |  2000 | \n",
       "| 36    | 0     | 0     | 0     | 1     | 0     | 1     | 66    | 20000 | \n",
       "\n",
       "\n"
      ],
      "text/plain": [
       "   Age State.NJ State.NY State.TX State.VA Gender.F Gender.M Height Income\n",
       "1  23  1        0        0        0        1        0        61      5000 \n",
       "2  13  0        1        0        0        0        1        55      1000 \n",
       "3  36  1        0        0        0        0        1        66      3000 \n",
       "4  31  0        0        0        1        1        0        64      4000 \n",
       "5  58  0        1        0        0        1        0        70     30000 \n",
       "6  29  0        0        1        0        1        0        63     10000 \n",
       "7  39  1        0        0        0        0        1        67     50000 \n",
       "8  50  0        0        0        1        0        1        70     55000 \n",
       "9  23  0        0        1        0        1        0        61      2000 \n",
       "10 36  0        0        0        1        0        1        66     20000 "
      ]
     },
     "metadata": {},
     "output_type": "display_data"
    }
   ],
   "source": [
    "students <- data2R\n",
    "dummy.data.frame(students, names = c(\"State\", \"Gender\"), sep = \".\")"
   ]
  },
  {
   "cell_type": "markdown",
   "metadata": {},
   "source": [
    "## Estructurar la Información\n",
    "\n",
    "Es una buena practica despues de haber procesado los valores nulos, duplicados, organizar la información de modo que se pueda tener todo el valor con el uso de R."
   ]
  },
  {
   "cell_type": "code",
   "execution_count": 2,
   "metadata": {},
   "outputs": [
    {
     "data": {
      "text/html": [
       "<table>\n",
       "<thead><tr><th scope=col>X</th><th scope=col>Murder</th><th scope=col>Assault</th><th scope=col>UrbanPop</th><th scope=col>Rape</th></tr></thead>\n",
       "<tbody>\n",
       "\t<tr><td>Alabama   </td><td>13.2      </td><td>236       </td><td>58        </td><td>21.2      </td></tr>\n",
       "\t<tr><td>Alaska    </td><td>10.0      </td><td>263       </td><td>48        </td><td>44.5      </td></tr>\n",
       "\t<tr><td>Arizona   </td><td> 8.1      </td><td>294       </td><td>80        </td><td>31.0      </td></tr>\n",
       "\t<tr><td>Arkansas  </td><td> 8.8      </td><td>190       </td><td>50        </td><td>19.5      </td></tr>\n",
       "\t<tr><td>California</td><td> 9.0      </td><td>276       </td><td>91        </td><td>40.6      </td></tr>\n",
       "</tbody>\n",
       "</table>\n"
      ],
      "text/latex": [
       "\\begin{tabular}{r|lllll}\n",
       " X & Murder & Assault & UrbanPop & Rape\\\\\n",
       "\\hline\n",
       "\t Alabama    & 13.2       & 236        & 58         & 21.2      \\\\\n",
       "\t Alaska     & 10.0       & 263        & 48         & 44.5      \\\\\n",
       "\t Arizona    &  8.1       & 294        & 80         & 31.0      \\\\\n",
       "\t Arkansas   &  8.8       & 190        & 50         & 19.5      \\\\\n",
       "\t California &  9.0       & 276        & 91         & 40.6      \\\\\n",
       "\\end{tabular}\n"
      ],
      "text/markdown": [
       "\n",
       "X | Murder | Assault | UrbanPop | Rape | \n",
       "|---|---|---|---|---|\n",
       "| Alabama    | 13.2       | 236        | 58         | 21.2       | \n",
       "| Alaska     | 10.0       | 263        | 48         | 44.5       | \n",
       "| Arizona    |  8.1       | 294        | 80         | 31.0       | \n",
       "| Arkansas   |  8.8       | 190        | 50         | 19.5       | \n",
       "| California |  9.0       | 276        | 91         | 40.6       | \n",
       "\n",
       "\n"
      ],
      "text/plain": [
       "  X          Murder Assault UrbanPop Rape\n",
       "1 Alabama    13.2   236     58       21.2\n",
       "2 Alaska     10.0   263     48       44.5\n",
       "3 Arizona     8.1   294     80       31.0\n",
       "4 Arkansas    8.8   190     50       19.5\n",
       "5 California  9.0   276     91       40.6"
      ]
     },
     "metadata": {},
     "output_type": "display_data"
    }
   ],
   "source": [
    "url4       <- \"https://raw.githubusercontent.com/joanby/r-course/master/data/tema1/USArrests.csv\"\n",
    "data4R     <- read.csv(url4, stringsAsFactors=F)\n",
    "crime.data <- data4R\n",
    "head(crime.data, 5)"
   ]
  },
  {
   "cell_type": "code",
   "execution_count": 3,
   "metadata": {},
   "outputs": [
    {
     "data": {
      "text/html": [
       "<table>\n",
       "<thead><tr><th scope=col>state</th><th scope=col>X</th><th scope=col>Murder</th><th scope=col>Assault</th><th scope=col>UrbanPop</th><th scope=col>Rape</th></tr></thead>\n",
       "<tbody>\n",
       "\t<tr><td>1         </td><td>Alabama   </td><td>13.2      </td><td>236       </td><td>58        </td><td>21.2      </td></tr>\n",
       "\t<tr><td>2         </td><td>Alaska    </td><td>10.0      </td><td>263       </td><td>48        </td><td>44.5      </td></tr>\n",
       "\t<tr><td>3         </td><td>Arizona   </td><td> 8.1      </td><td>294       </td><td>80        </td><td>31.0      </td></tr>\n",
       "\t<tr><td>4         </td><td>Arkansas  </td><td> 8.8      </td><td>190       </td><td>50        </td><td>19.5      </td></tr>\n",
       "\t<tr><td>5         </td><td>California</td><td> 9.0      </td><td>276       </td><td>91        </td><td>40.6      </td></tr>\n",
       "</tbody>\n",
       "</table>\n"
      ],
      "text/latex": [
       "\\begin{tabular}{r|llllll}\n",
       " state & X & Murder & Assault & UrbanPop & Rape\\\\\n",
       "\\hline\n",
       "\t 1          & Alabama    & 13.2       & 236        & 58         & 21.2      \\\\\n",
       "\t 2          & Alaska     & 10.0       & 263        & 48         & 44.5      \\\\\n",
       "\t 3          & Arizona    &  8.1       & 294        & 80         & 31.0      \\\\\n",
       "\t 4          & Arkansas   &  8.8       & 190        & 50         & 19.5      \\\\\n",
       "\t 5          & California &  9.0       & 276        & 91         & 40.6      \\\\\n",
       "\\end{tabular}\n"
      ],
      "text/markdown": [
       "\n",
       "state | X | Murder | Assault | UrbanPop | Rape | \n",
       "|---|---|---|---|---|\n",
       "| 1          | Alabama    | 13.2       | 236        | 58         | 21.2       | \n",
       "| 2          | Alaska     | 10.0       | 263        | 48         | 44.5       | \n",
       "| 3          | Arizona    |  8.1       | 294        | 80         | 31.0       | \n",
       "| 4          | Arkansas   |  8.8       | 190        | 50         | 19.5       | \n",
       "| 5          | California |  9.0       | 276        | 91         | 40.6       | \n",
       "\n",
       "\n"
      ],
      "text/plain": [
       "  state X          Murder Assault UrbanPop Rape\n",
       "1 1     Alabama    13.2   236     58       21.2\n",
       "2 2     Alaska     10.0   263     48       44.5\n",
       "3 3     Arizona     8.1   294     80       31.0\n",
       "4 4     Arkansas    8.8   190     50       19.5\n",
       "5 5     California  9.0   276     91       40.6"
      ]
     },
     "metadata": {},
     "output_type": "display_data"
    }
   ],
   "source": [
    "library(tidyr)\n",
    "crime.data <- cbind(state = rownames(crime.data), crime.data)\n",
    "head(crime.data, 5)"
   ]
  },
  {
   "cell_type": "markdown",
   "metadata": {},
   "source": [
    "Una de las opciones para organizar las variables es organizar la base de datos en formato clave valor, reuniendo (gather) variables, al unirlas."
   ]
  },
  {
   "cell_type": "code",
   "execution_count": 5,
   "metadata": {},
   "outputs": [
    {
     "data": {
      "text/html": [
       "<table>\n",
       "<thead><tr><th scope=col>state</th><th scope=col>X</th><th scope=col>Rape</th><th scope=col>crime_type</th><th scope=col>arrest_estimate</th></tr></thead>\n",
       "<tbody>\n",
       "\t<tr><td>1            </td><td>Alabama      </td><td>21.2         </td><td>Murder       </td><td>13.2         </td></tr>\n",
       "\t<tr><td>2            </td><td>Alaska       </td><td>44.5         </td><td>Murder       </td><td>10.0         </td></tr>\n",
       "\t<tr><td>3            </td><td>Arizona      </td><td>31.0         </td><td>Murder       </td><td> 8.1         </td></tr>\n",
       "\t<tr><td>4            </td><td>Arkansas     </td><td>19.5         </td><td>Murder       </td><td> 8.8         </td></tr>\n",
       "\t<tr><td>5            </td><td>California   </td><td>40.6         </td><td>Murder       </td><td> 9.0         </td></tr>\n",
       "\t<tr><td>6            </td><td>Colorado     </td><td>38.7         </td><td>Murder       </td><td> 7.9         </td></tr>\n",
       "\t<tr><td>7            </td><td>Connecticut  </td><td>11.1         </td><td>Murder       </td><td> 3.3         </td></tr>\n",
       "\t<tr><td>8            </td><td>Delaware     </td><td>15.8         </td><td>Murder       </td><td> 5.9         </td></tr>\n",
       "\t<tr><td>9            </td><td>Florida      </td><td>31.9         </td><td>Murder       </td><td>15.4         </td></tr>\n",
       "\t<tr><td>10           </td><td>Georgia      </td><td>25.8         </td><td>Murder       </td><td>17.4         </td></tr>\n",
       "\t<tr><td>11           </td><td>Hawaii       </td><td>20.2         </td><td>Murder       </td><td> 5.3         </td></tr>\n",
       "\t<tr><td>12           </td><td>Idaho        </td><td>14.2         </td><td>Murder       </td><td> 2.6         </td></tr>\n",
       "\t<tr><td>13           </td><td>Illinois     </td><td>24.0         </td><td>Murder       </td><td>10.4         </td></tr>\n",
       "\t<tr><td>14           </td><td>Indiana      </td><td>21.0         </td><td>Murder       </td><td> 7.2         </td></tr>\n",
       "\t<tr><td>15           </td><td>Iowa         </td><td>11.3         </td><td>Murder       </td><td> 2.2         </td></tr>\n",
       "\t<tr><td>16           </td><td>Kansas       </td><td>18.0         </td><td>Murder       </td><td> 6.0         </td></tr>\n",
       "\t<tr><td>17           </td><td>Kentucky     </td><td>16.3         </td><td>Murder       </td><td> 9.7         </td></tr>\n",
       "\t<tr><td>18           </td><td>Louisiana    </td><td>22.2         </td><td>Murder       </td><td>15.4         </td></tr>\n",
       "\t<tr><td>19           </td><td>Maine        </td><td> 7.8         </td><td>Murder       </td><td> 2.1         </td></tr>\n",
       "\t<tr><td>20           </td><td>Maryland     </td><td>27.8         </td><td>Murder       </td><td>11.3         </td></tr>\n",
       "\t<tr><td>21           </td><td>Massachusetts</td><td>16.3         </td><td>Murder       </td><td> 4.4         </td></tr>\n",
       "\t<tr><td>22           </td><td>Michigan     </td><td>35.1         </td><td>Murder       </td><td>12.1         </td></tr>\n",
       "\t<tr><td>23           </td><td>Minnesota    </td><td>14.9         </td><td>Murder       </td><td> 2.7         </td></tr>\n",
       "\t<tr><td>24           </td><td>Mississippi  </td><td>17.1         </td><td>Murder       </td><td>16.1         </td></tr>\n",
       "\t<tr><td>25           </td><td>Missouri     </td><td>28.2         </td><td>Murder       </td><td> 9.0         </td></tr>\n",
       "\t<tr><td>26           </td><td>Montana      </td><td>16.4         </td><td>Murder       </td><td> 6.0         </td></tr>\n",
       "\t<tr><td>27           </td><td>Nebraska     </td><td>16.5         </td><td>Murder       </td><td> 4.3         </td></tr>\n",
       "\t<tr><td>28           </td><td>Nevada       </td><td>46.0         </td><td>Murder       </td><td>12.2         </td></tr>\n",
       "\t<tr><td>29           </td><td>New Hampshire</td><td> 9.5         </td><td>Murder       </td><td> 2.1         </td></tr>\n",
       "\t<tr><td>30           </td><td>New Jersey   </td><td>18.8         </td><td>Murder       </td><td> 7.4         </td></tr>\n",
       "\t<tr><td>⋮</td><td>⋮</td><td>⋮</td><td>⋮</td><td>⋮</td></tr>\n",
       "\t<tr><td>21            </td><td>Massachusetts </td><td>16.3          </td><td>UrbanPop      </td><td>85            </td></tr>\n",
       "\t<tr><td>22            </td><td>Michigan      </td><td>35.1          </td><td>UrbanPop      </td><td>74            </td></tr>\n",
       "\t<tr><td>23            </td><td>Minnesota     </td><td>14.9          </td><td>UrbanPop      </td><td>66            </td></tr>\n",
       "\t<tr><td>24            </td><td>Mississippi   </td><td>17.1          </td><td>UrbanPop      </td><td>44            </td></tr>\n",
       "\t<tr><td>25            </td><td>Missouri      </td><td>28.2          </td><td>UrbanPop      </td><td>70            </td></tr>\n",
       "\t<tr><td>26            </td><td>Montana       </td><td>16.4          </td><td>UrbanPop      </td><td>53            </td></tr>\n",
       "\t<tr><td>27            </td><td>Nebraska      </td><td>16.5          </td><td>UrbanPop      </td><td>62            </td></tr>\n",
       "\t<tr><td>28            </td><td>Nevada        </td><td>46.0          </td><td>UrbanPop      </td><td>81            </td></tr>\n",
       "\t<tr><td>29            </td><td>New Hampshire </td><td> 9.5          </td><td>UrbanPop      </td><td>56            </td></tr>\n",
       "\t<tr><td>30            </td><td>New Jersey    </td><td>18.8          </td><td>UrbanPop      </td><td>89            </td></tr>\n",
       "\t<tr><td>31            </td><td>New Mexico    </td><td>32.1          </td><td>UrbanPop      </td><td>70            </td></tr>\n",
       "\t<tr><td>32            </td><td>New York      </td><td>26.1          </td><td>UrbanPop      </td><td>86            </td></tr>\n",
       "\t<tr><td>33            </td><td>North Carolina</td><td>16.1          </td><td>UrbanPop      </td><td>45            </td></tr>\n",
       "\t<tr><td>34            </td><td>North Dakota  </td><td> 7.3          </td><td>UrbanPop      </td><td>44            </td></tr>\n",
       "\t<tr><td>35            </td><td>Ohio          </td><td>21.4          </td><td>UrbanPop      </td><td>75            </td></tr>\n",
       "\t<tr><td>36            </td><td>Oklahoma      </td><td>20.0          </td><td>UrbanPop      </td><td>68            </td></tr>\n",
       "\t<tr><td>37            </td><td>Oregon        </td><td>29.3          </td><td>UrbanPop      </td><td>67            </td></tr>\n",
       "\t<tr><td>38            </td><td>Pennsylvania  </td><td>14.9          </td><td>UrbanPop      </td><td>72            </td></tr>\n",
       "\t<tr><td>39            </td><td>Rhode Island  </td><td> 8.3          </td><td>UrbanPop      </td><td>87            </td></tr>\n",
       "\t<tr><td>40            </td><td>South Carolina</td><td>22.5          </td><td>UrbanPop      </td><td>48            </td></tr>\n",
       "\t<tr><td>41            </td><td>South Dakota  </td><td>12.8          </td><td>UrbanPop      </td><td>45            </td></tr>\n",
       "\t<tr><td>42            </td><td>Tennessee     </td><td>26.9          </td><td>UrbanPop      </td><td>59            </td></tr>\n",
       "\t<tr><td>43            </td><td>Texas         </td><td>25.5          </td><td>UrbanPop      </td><td>80            </td></tr>\n",
       "\t<tr><td>44            </td><td>Utah          </td><td>22.9          </td><td>UrbanPop      </td><td>80            </td></tr>\n",
       "\t<tr><td>45            </td><td>Vermont       </td><td>11.2          </td><td>UrbanPop      </td><td>32            </td></tr>\n",
       "\t<tr><td>46            </td><td>Virginia      </td><td>20.7          </td><td>UrbanPop      </td><td>63            </td></tr>\n",
       "\t<tr><td>47            </td><td>Washington    </td><td>26.2          </td><td>UrbanPop      </td><td>73            </td></tr>\n",
       "\t<tr><td>48            </td><td>West Virginia </td><td> 9.3          </td><td>UrbanPop      </td><td>39            </td></tr>\n",
       "\t<tr><td>49            </td><td>Wisconsin     </td><td>10.8          </td><td>UrbanPop      </td><td>66            </td></tr>\n",
       "\t<tr><td>50            </td><td>Wyoming       </td><td>15.6          </td><td>UrbanPop      </td><td>60            </td></tr>\n",
       "</tbody>\n",
       "</table>\n"
      ],
      "text/latex": [
       "\\begin{tabular}{r|lllll}\n",
       " state & X & Rape & crime\\_type & arrest\\_estimate\\\\\n",
       "\\hline\n",
       "\t 1             & Alabama       & 21.2          & Murder        & 13.2         \\\\\n",
       "\t 2             & Alaska        & 44.5          & Murder        & 10.0         \\\\\n",
       "\t 3             & Arizona       & 31.0          & Murder        &  8.1         \\\\\n",
       "\t 4             & Arkansas      & 19.5          & Murder        &  8.8         \\\\\n",
       "\t 5             & California    & 40.6          & Murder        &  9.0         \\\\\n",
       "\t 6             & Colorado      & 38.7          & Murder        &  7.9         \\\\\n",
       "\t 7             & Connecticut   & 11.1          & Murder        &  3.3         \\\\\n",
       "\t 8             & Delaware      & 15.8          & Murder        &  5.9         \\\\\n",
       "\t 9             & Florida       & 31.9          & Murder        & 15.4         \\\\\n",
       "\t 10            & Georgia       & 25.8          & Murder        & 17.4         \\\\\n",
       "\t 11            & Hawaii        & 20.2          & Murder        &  5.3         \\\\\n",
       "\t 12            & Idaho         & 14.2          & Murder        &  2.6         \\\\\n",
       "\t 13            & Illinois      & 24.0          & Murder        & 10.4         \\\\\n",
       "\t 14            & Indiana       & 21.0          & Murder        &  7.2         \\\\\n",
       "\t 15            & Iowa          & 11.3          & Murder        &  2.2         \\\\\n",
       "\t 16            & Kansas        & 18.0          & Murder        &  6.0         \\\\\n",
       "\t 17            & Kentucky      & 16.3          & Murder        &  9.7         \\\\\n",
       "\t 18            & Louisiana     & 22.2          & Murder        & 15.4         \\\\\n",
       "\t 19            & Maine         &  7.8          & Murder        &  2.1         \\\\\n",
       "\t 20            & Maryland      & 27.8          & Murder        & 11.3         \\\\\n",
       "\t 21            & Massachusetts & 16.3          & Murder        &  4.4         \\\\\n",
       "\t 22            & Michigan      & 35.1          & Murder        & 12.1         \\\\\n",
       "\t 23            & Minnesota     & 14.9          & Murder        &  2.7         \\\\\n",
       "\t 24            & Mississippi   & 17.1          & Murder        & 16.1         \\\\\n",
       "\t 25            & Missouri      & 28.2          & Murder        &  9.0         \\\\\n",
       "\t 26            & Montana       & 16.4          & Murder        &  6.0         \\\\\n",
       "\t 27            & Nebraska      & 16.5          & Murder        &  4.3         \\\\\n",
       "\t 28            & Nevada        & 46.0          & Murder        & 12.2         \\\\\n",
       "\t 29            & New Hampshire &  9.5          & Murder        &  2.1         \\\\\n",
       "\t 30            & New Jersey    & 18.8          & Murder        &  7.4         \\\\\n",
       "\t ⋮ & ⋮ & ⋮ & ⋮ & ⋮\\\\\n",
       "\t 21             & Massachusetts  & 16.3           & UrbanPop       & 85            \\\\\n",
       "\t 22             & Michigan       & 35.1           & UrbanPop       & 74            \\\\\n",
       "\t 23             & Minnesota      & 14.9           & UrbanPop       & 66            \\\\\n",
       "\t 24             & Mississippi    & 17.1           & UrbanPop       & 44            \\\\\n",
       "\t 25             & Missouri       & 28.2           & UrbanPop       & 70            \\\\\n",
       "\t 26             & Montana        & 16.4           & UrbanPop       & 53            \\\\\n",
       "\t 27             & Nebraska       & 16.5           & UrbanPop       & 62            \\\\\n",
       "\t 28             & Nevada         & 46.0           & UrbanPop       & 81            \\\\\n",
       "\t 29             & New Hampshire  &  9.5           & UrbanPop       & 56            \\\\\n",
       "\t 30             & New Jersey     & 18.8           & UrbanPop       & 89            \\\\\n",
       "\t 31             & New Mexico     & 32.1           & UrbanPop       & 70            \\\\\n",
       "\t 32             & New York       & 26.1           & UrbanPop       & 86            \\\\\n",
       "\t 33             & North Carolina & 16.1           & UrbanPop       & 45            \\\\\n",
       "\t 34             & North Dakota   &  7.3           & UrbanPop       & 44            \\\\\n",
       "\t 35             & Ohio           & 21.4           & UrbanPop       & 75            \\\\\n",
       "\t 36             & Oklahoma       & 20.0           & UrbanPop       & 68            \\\\\n",
       "\t 37             & Oregon         & 29.3           & UrbanPop       & 67            \\\\\n",
       "\t 38             & Pennsylvania   & 14.9           & UrbanPop       & 72            \\\\\n",
       "\t 39             & Rhode Island   &  8.3           & UrbanPop       & 87            \\\\\n",
       "\t 40             & South Carolina & 22.5           & UrbanPop       & 48            \\\\\n",
       "\t 41             & South Dakota   & 12.8           & UrbanPop       & 45            \\\\\n",
       "\t 42             & Tennessee      & 26.9           & UrbanPop       & 59            \\\\\n",
       "\t 43             & Texas          & 25.5           & UrbanPop       & 80            \\\\\n",
       "\t 44             & Utah           & 22.9           & UrbanPop       & 80            \\\\\n",
       "\t 45             & Vermont        & 11.2           & UrbanPop       & 32            \\\\\n",
       "\t 46             & Virginia       & 20.7           & UrbanPop       & 63            \\\\\n",
       "\t 47             & Washington     & 26.2           & UrbanPop       & 73            \\\\\n",
       "\t 48             & West Virginia  &  9.3           & UrbanPop       & 39            \\\\\n",
       "\t 49             & Wisconsin      & 10.8           & UrbanPop       & 66            \\\\\n",
       "\t 50             & Wyoming        & 15.6           & UrbanPop       & 60            \\\\\n",
       "\\end{tabular}\n"
      ],
      "text/markdown": [
       "\n",
       "state | X | Rape | crime_type | arrest_estimate | \n",
       "|---|---|---|---|---|---|---|---|---|---|---|---|---|---|---|---|---|---|---|---|---|---|---|---|---|---|---|---|---|---|---|---|---|---|---|---|---|---|---|---|---|---|---|---|---|---|---|---|---|---|---|---|---|---|---|---|---|---|---|---|---|\n",
       "| 1             | Alabama       | 21.2          | Murder        | 13.2          | \n",
       "| 2             | Alaska        | 44.5          | Murder        | 10.0          | \n",
       "| 3             | Arizona       | 31.0          | Murder        |  8.1          | \n",
       "| 4             | Arkansas      | 19.5          | Murder        |  8.8          | \n",
       "| 5             | California    | 40.6          | Murder        |  9.0          | \n",
       "| 6             | Colorado      | 38.7          | Murder        |  7.9          | \n",
       "| 7             | Connecticut   | 11.1          | Murder        |  3.3          | \n",
       "| 8             | Delaware      | 15.8          | Murder        |  5.9          | \n",
       "| 9             | Florida       | 31.9          | Murder        | 15.4          | \n",
       "| 10            | Georgia       | 25.8          | Murder        | 17.4          | \n",
       "| 11            | Hawaii        | 20.2          | Murder        |  5.3          | \n",
       "| 12            | Idaho         | 14.2          | Murder        |  2.6          | \n",
       "| 13            | Illinois      | 24.0          | Murder        | 10.4          | \n",
       "| 14            | Indiana       | 21.0          | Murder        |  7.2          | \n",
       "| 15            | Iowa          | 11.3          | Murder        |  2.2          | \n",
       "| 16            | Kansas        | 18.0          | Murder        |  6.0          | \n",
       "| 17            | Kentucky      | 16.3          | Murder        |  9.7          | \n",
       "| 18            | Louisiana     | 22.2          | Murder        | 15.4          | \n",
       "| 19            | Maine         |  7.8          | Murder        |  2.1          | \n",
       "| 20            | Maryland      | 27.8          | Murder        | 11.3          | \n",
       "| 21            | Massachusetts | 16.3          | Murder        |  4.4          | \n",
       "| 22            | Michigan      | 35.1          | Murder        | 12.1          | \n",
       "| 23            | Minnesota     | 14.9          | Murder        |  2.7          | \n",
       "| 24            | Mississippi   | 17.1          | Murder        | 16.1          | \n",
       "| 25            | Missouri      | 28.2          | Murder        |  9.0          | \n",
       "| 26            | Montana       | 16.4          | Murder        |  6.0          | \n",
       "| 27            | Nebraska      | 16.5          | Murder        |  4.3          | \n",
       "| 28            | Nevada        | 46.0          | Murder        | 12.2          | \n",
       "| 29            | New Hampshire |  9.5          | Murder        |  2.1          | \n",
       "| 30            | New Jersey    | 18.8          | Murder        |  7.4          | \n",
       "| ⋮ | ⋮ | ⋮ | ⋮ | ⋮ | \n",
       "| 21             | Massachusetts  | 16.3           | UrbanPop       | 85             | \n",
       "| 22             | Michigan       | 35.1           | UrbanPop       | 74             | \n",
       "| 23             | Minnesota      | 14.9           | UrbanPop       | 66             | \n",
       "| 24             | Mississippi    | 17.1           | UrbanPop       | 44             | \n",
       "| 25             | Missouri       | 28.2           | UrbanPop       | 70             | \n",
       "| 26             | Montana        | 16.4           | UrbanPop       | 53             | \n",
       "| 27             | Nebraska       | 16.5           | UrbanPop       | 62             | \n",
       "| 28             | Nevada         | 46.0           | UrbanPop       | 81             | \n",
       "| 29             | New Hampshire  |  9.5           | UrbanPop       | 56             | \n",
       "| 30             | New Jersey     | 18.8           | UrbanPop       | 89             | \n",
       "| 31             | New Mexico     | 32.1           | UrbanPop       | 70             | \n",
       "| 32             | New York       | 26.1           | UrbanPop       | 86             | \n",
       "| 33             | North Carolina | 16.1           | UrbanPop       | 45             | \n",
       "| 34             | North Dakota   |  7.3           | UrbanPop       | 44             | \n",
       "| 35             | Ohio           | 21.4           | UrbanPop       | 75             | \n",
       "| 36             | Oklahoma       | 20.0           | UrbanPop       | 68             | \n",
       "| 37             | Oregon         | 29.3           | UrbanPop       | 67             | \n",
       "| 38             | Pennsylvania   | 14.9           | UrbanPop       | 72             | \n",
       "| 39             | Rhode Island   |  8.3           | UrbanPop       | 87             | \n",
       "| 40             | South Carolina | 22.5           | UrbanPop       | 48             | \n",
       "| 41             | South Dakota   | 12.8           | UrbanPop       | 45             | \n",
       "| 42             | Tennessee      | 26.9           | UrbanPop       | 59             | \n",
       "| 43             | Texas          | 25.5           | UrbanPop       | 80             | \n",
       "| 44             | Utah           | 22.9           | UrbanPop       | 80             | \n",
       "| 45             | Vermont        | 11.2           | UrbanPop       | 32             | \n",
       "| 46             | Virginia       | 20.7           | UrbanPop       | 63             | \n",
       "| 47             | Washington     | 26.2           | UrbanPop       | 73             | \n",
       "| 48             | West Virginia  |  9.3           | UrbanPop       | 39             | \n",
       "| 49             | Wisconsin      | 10.8           | UrbanPop       | 66             | \n",
       "| 50             | Wyoming        | 15.6           | UrbanPop       | 60             | \n",
       "\n",
       "\n"
      ],
      "text/plain": [
       "    state X              Rape crime_type arrest_estimate\n",
       "1   1     Alabama        21.2 Murder     13.2           \n",
       "2   2     Alaska         44.5 Murder     10.0           \n",
       "3   3     Arizona        31.0 Murder      8.1           \n",
       "4   4     Arkansas       19.5 Murder      8.8           \n",
       "5   5     California     40.6 Murder      9.0           \n",
       "6   6     Colorado       38.7 Murder      7.9           \n",
       "7   7     Connecticut    11.1 Murder      3.3           \n",
       "8   8     Delaware       15.8 Murder      5.9           \n",
       "9   9     Florida        31.9 Murder     15.4           \n",
       "10  10    Georgia        25.8 Murder     17.4           \n",
       "11  11    Hawaii         20.2 Murder      5.3           \n",
       "12  12    Idaho          14.2 Murder      2.6           \n",
       "13  13    Illinois       24.0 Murder     10.4           \n",
       "14  14    Indiana        21.0 Murder      7.2           \n",
       "15  15    Iowa           11.3 Murder      2.2           \n",
       "16  16    Kansas         18.0 Murder      6.0           \n",
       "17  17    Kentucky       16.3 Murder      9.7           \n",
       "18  18    Louisiana      22.2 Murder     15.4           \n",
       "19  19    Maine           7.8 Murder      2.1           \n",
       "20  20    Maryland       27.8 Murder     11.3           \n",
       "21  21    Massachusetts  16.3 Murder      4.4           \n",
       "22  22    Michigan       35.1 Murder     12.1           \n",
       "23  23    Minnesota      14.9 Murder      2.7           \n",
       "24  24    Mississippi    17.1 Murder     16.1           \n",
       "25  25    Missouri       28.2 Murder      9.0           \n",
       "26  26    Montana        16.4 Murder      6.0           \n",
       "27  27    Nebraska       16.5 Murder      4.3           \n",
       "28  28    Nevada         46.0 Murder     12.2           \n",
       "29  29    New Hampshire   9.5 Murder      2.1           \n",
       "30  30    New Jersey     18.8 Murder      7.4           \n",
       "⋮   ⋮     ⋮              ⋮    ⋮          ⋮              \n",
       "121 21    Massachusetts  16.3 UrbanPop   85             \n",
       "122 22    Michigan       35.1 UrbanPop   74             \n",
       "123 23    Minnesota      14.9 UrbanPop   66             \n",
       "124 24    Mississippi    17.1 UrbanPop   44             \n",
       "125 25    Missouri       28.2 UrbanPop   70             \n",
       "126 26    Montana        16.4 UrbanPop   53             \n",
       "127 27    Nebraska       16.5 UrbanPop   62             \n",
       "128 28    Nevada         46.0 UrbanPop   81             \n",
       "129 29    New Hampshire   9.5 UrbanPop   56             \n",
       "130 30    New Jersey     18.8 UrbanPop   89             \n",
       "131 31    New Mexico     32.1 UrbanPop   70             \n",
       "132 32    New York       26.1 UrbanPop   86             \n",
       "133 33    North Carolina 16.1 UrbanPop   45             \n",
       "134 34    North Dakota    7.3 UrbanPop   44             \n",
       "135 35    Ohio           21.4 UrbanPop   75             \n",
       "136 36    Oklahoma       20.0 UrbanPop   68             \n",
       "137 37    Oregon         29.3 UrbanPop   67             \n",
       "138 38    Pennsylvania   14.9 UrbanPop   72             \n",
       "139 39    Rhode Island    8.3 UrbanPop   87             \n",
       "140 40    South Carolina 22.5 UrbanPop   48             \n",
       "141 41    South Dakota   12.8 UrbanPop   45             \n",
       "142 42    Tennessee      26.9 UrbanPop   59             \n",
       "143 43    Texas          25.5 UrbanPop   80             \n",
       "144 44    Utah           22.9 UrbanPop   80             \n",
       "145 45    Vermont        11.2 UrbanPop   32             \n",
       "146 46    Virginia       20.7 UrbanPop   63             \n",
       "147 47    Washington     26.2 UrbanPop   73             \n",
       "148 48    West Virginia   9.3 UrbanPop   39             \n",
       "149 49    Wisconsin      10.8 UrbanPop   66             \n",
       "150 50    Wyoming        15.6 UrbanPop   60             "
      ]
     },
     "metadata": {},
     "output_type": "display_data"
    }
   ],
   "source": [
    "crime.data.1 <- gather(crime.data,\n",
    "                       key = \"crime_type\", \n",
    "                       value = \"arrest_estimate\",\n",
    "                       Murder:UrbanPop)\n",
    "crime.data.1"
   ]
  },
  {
   "cell_type": "code",
   "execution_count": 24,
   "metadata": {},
   "outputs": [
    {
     "data": {
      "text/html": [
       "<table>\n",
       "<thead><tr><th scope=col>state</th><th scope=col>crime_type</th><th scope=col>arrest_estimate</th></tr></thead>\n",
       "<tbody>\n",
       "\t<tr><td>1         </td><td>X         </td><td>Alabama   </td></tr>\n",
       "\t<tr><td>2         </td><td>X         </td><td>Alaska    </td></tr>\n",
       "\t<tr><td>3         </td><td>X         </td><td>Arizona   </td></tr>\n",
       "\t<tr><td>4         </td><td>X         </td><td>Arkansas  </td></tr>\n",
       "\t<tr><td>5         </td><td>X         </td><td>California</td></tr>\n",
       "</tbody>\n",
       "</table>\n"
      ],
      "text/latex": [
       "\\begin{tabular}{r|lll}\n",
       " state & crime\\_type & arrest\\_estimate\\\\\n",
       "\\hline\n",
       "\t 1          & X          & Alabama   \\\\\n",
       "\t 2          & X          & Alaska    \\\\\n",
       "\t 3          & X          & Arizona   \\\\\n",
       "\t 4          & X          & Arkansas  \\\\\n",
       "\t 5          & X          & California\\\\\n",
       "\\end{tabular}\n"
      ],
      "text/markdown": [
       "\n",
       "state | crime_type | arrest_estimate | \n",
       "|---|---|---|---|---|\n",
       "| 1          | X          | Alabama    | \n",
       "| 2          | X          | Alaska     | \n",
       "| 3          | X          | Arizona    | \n",
       "| 4          | X          | Arkansas   | \n",
       "| 5          | X          | California | \n",
       "\n",
       "\n"
      ],
      "text/plain": [
       "  state crime_type arrest_estimate\n",
       "1 1     X          Alabama        \n",
       "2 2     X          Alaska         \n",
       "3 3     X          Arizona        \n",
       "4 4     X          Arkansas       \n",
       "5 5     X          California     "
      ]
     },
     "metadata": {},
     "output_type": "display_data"
    }
   ],
   "source": [
    "crime.data.2 <- gather(crime.data,\n",
    "                       key = \"crime_type\",\n",
    "                       value = \"arrest_estimate\",\n",
    "                       -state)\n",
    "head(crime.data.2, 5)"
   ]
  },
  {
   "cell_type": "markdown",
   "metadata": {},
   "source": [
    "Es posible que tambien sea necesario separar (spread) valores de una variable en varias de ellas"
   ]
  },
  {
   "cell_type": "code",
   "execution_count": 25,
   "metadata": {},
   "outputs": [
    {
     "data": {
      "text/html": [
       "<table>\n",
       "<thead><tr><th scope=col>state</th><th scope=col>Assault</th><th scope=col>Murder</th><th scope=col>Rape</th><th scope=col>UrbanPop</th><th scope=col>X</th></tr></thead>\n",
       "<tbody>\n",
       "\t<tr><td>1       </td><td>236     </td><td>13.2    </td><td>21.2    </td><td>58      </td><td>Alabama </td></tr>\n",
       "\t<tr><td>10      </td><td>211     </td><td>17.4    </td><td>25.8    </td><td>60      </td><td>Georgia </td></tr>\n",
       "\t<tr><td>11      </td><td>46      </td><td>5.3     </td><td>20.2    </td><td>83      </td><td>Hawaii  </td></tr>\n",
       "\t<tr><td>12      </td><td>120     </td><td>2.6     </td><td>14.2    </td><td>54      </td><td>Idaho   </td></tr>\n",
       "\t<tr><td>13      </td><td>249     </td><td>10.4    </td><td>24      </td><td>83      </td><td>Illinois</td></tr>\n",
       "</tbody>\n",
       "</table>\n"
      ],
      "text/latex": [
       "\\begin{tabular}{r|llllll}\n",
       " state & Assault & Murder & Rape & UrbanPop & X\\\\\n",
       "\\hline\n",
       "\t 1        & 236      & 13.2     & 21.2     & 58       & Alabama \\\\\n",
       "\t 10       & 211      & 17.4     & 25.8     & 60       & Georgia \\\\\n",
       "\t 11       & 46       & 5.3      & 20.2     & 83       & Hawaii  \\\\\n",
       "\t 12       & 120      & 2.6      & 14.2     & 54       & Idaho   \\\\\n",
       "\t 13       & 249      & 10.4     & 24       & 83       & Illinois\\\\\n",
       "\\end{tabular}\n"
      ],
      "text/markdown": [
       "\n",
       "state | Assault | Murder | Rape | UrbanPop | X | \n",
       "|---|---|---|---|---|\n",
       "| 1        | 236      | 13.2     | 21.2     | 58       | Alabama  | \n",
       "| 10       | 211      | 17.4     | 25.8     | 60       | Georgia  | \n",
       "| 11       | 46       | 5.3      | 20.2     | 83       | Hawaii   | \n",
       "| 12       | 120      | 2.6      | 14.2     | 54       | Idaho    | \n",
       "| 13       | 249      | 10.4     | 24       | 83       | Illinois | \n",
       "\n",
       "\n"
      ],
      "text/plain": [
       "  state Assault Murder Rape UrbanPop X       \n",
       "1 1     236     13.2   21.2 58       Alabama \n",
       "2 10    211     17.4   25.8 60       Georgia \n",
       "3 11    46      5.3    20.2 83       Hawaii  \n",
       "4 12    120     2.6    14.2 54       Idaho   \n",
       "5 13    249     10.4   24   83       Illinois"
      ]
     },
     "metadata": {},
     "output_type": "display_data"
    }
   ],
   "source": [
    "crime.data.3 <- spread(crime.data.2, \n",
    "                       key = \"crime_type\",\n",
    "                       value = \"arrest_estimate\")\n",
    "head(crime.data.3, 5)"
   ]
  },
  {
   "cell_type": "markdown",
   "metadata": {},
   "source": [
    "En ocasiones existen variables que no tienen sentido solas y es preferible unifcarlos en una sola.\n",
    "\n",
    "**ejemplo:** por ejemplo poner nombres y apellidos en una sola columna"
   ]
  },
  {
   "cell_type": "code",
   "execution_count": 26,
   "metadata": {},
   "outputs": [
    {
     "data": {
      "text/html": [
       "<table>\n",
       "<thead><tr><th scope=col>state</th><th scope=col>X</th><th scope=col>Murder_Assault</th><th scope=col>UrbanPop</th><th scope=col>Rape</th></tr></thead>\n",
       "<tbody>\n",
       "\t<tr><td>1         </td><td>Alabama   </td><td>13.2_236  </td><td>58        </td><td>21.2      </td></tr>\n",
       "\t<tr><td>2         </td><td>Alaska    </td><td>10_263    </td><td>48        </td><td>44.5      </td></tr>\n",
       "\t<tr><td>3         </td><td>Arizona   </td><td>8.1_294   </td><td>80        </td><td>31.0      </td></tr>\n",
       "\t<tr><td>4         </td><td>Arkansas  </td><td>8.8_190   </td><td>50        </td><td>19.5      </td></tr>\n",
       "\t<tr><td>5         </td><td>California</td><td>9_276     </td><td>91        </td><td>40.6      </td></tr>\n",
       "</tbody>\n",
       "</table>\n"
      ],
      "text/latex": [
       "\\begin{tabular}{r|lllll}\n",
       " state & X & Murder\\_Assault & UrbanPop & Rape\\\\\n",
       "\\hline\n",
       "\t 1          & Alabama    & 13.2\\_236 & 58         & 21.2      \\\\\n",
       "\t 2          & Alaska     & 10\\_263   & 48         & 44.5      \\\\\n",
       "\t 3          & Arizona    & 8.1\\_294  & 80         & 31.0      \\\\\n",
       "\t 4          & Arkansas   & 8.8\\_190  & 50         & 19.5      \\\\\n",
       "\t 5          & California & 9\\_276    & 91         & 40.6      \\\\\n",
       "\\end{tabular}\n"
      ],
      "text/markdown": [
       "\n",
       "state | X | Murder_Assault | UrbanPop | Rape | \n",
       "|---|---|---|---|---|\n",
       "| 1          | Alabama    | 13.2_236   | 58         | 21.2       | \n",
       "| 2          | Alaska     | 10_263     | 48         | 44.5       | \n",
       "| 3          | Arizona    | 8.1_294    | 80         | 31.0       | \n",
       "| 4          | Arkansas   | 8.8_190    | 50         | 19.5       | \n",
       "| 5          | California | 9_276      | 91         | 40.6       | \n",
       "\n",
       "\n"
      ],
      "text/plain": [
       "  state X          Murder_Assault UrbanPop Rape\n",
       "1 1     Alabama    13.2_236       58       21.2\n",
       "2 2     Alaska     10_263         48       44.5\n",
       "3 3     Arizona    8.1_294        80       31.0\n",
       "4 4     Arkansas   8.8_190        50       19.5\n",
       "5 5     California 9_276          91       40.6"
      ]
     },
     "metadata": {},
     "output_type": "display_data"
    }
   ],
   "source": [
    "crime.data.4 <- unite(crime.data,\n",
    "                      col = \"Murder_Assault\",\n",
    "                      Murder, Assault, \n",
    "                      sep = \"_\")\n",
    "head(crime.data.4, 5)"
   ]
  },
  {
   "cell_type": "markdown",
   "metadata": {},
   "source": [
    "La opción contraria tambien es posible siempre y cuando se conozca el tipo de separador e indicando el número de colunas en que se quiere separar"
   ]
  },
  {
   "cell_type": "code",
   "execution_count": 27,
   "metadata": {},
   "outputs": [
    {
     "data": {
      "text/html": [
       "<table>\n",
       "<thead><tr><th scope=col>state</th><th scope=col>X</th><th scope=col>Murder</th><th scope=col>Assault</th><th scope=col>UrbanPop</th><th scope=col>Rape</th></tr></thead>\n",
       "<tbody>\n",
       "\t<tr><td>1         </td><td>Alabama   </td><td>13.2      </td><td>236       </td><td>58        </td><td>21.2      </td></tr>\n",
       "\t<tr><td>2         </td><td>Alaska    </td><td>10        </td><td>263       </td><td>48        </td><td>44.5      </td></tr>\n",
       "\t<tr><td>3         </td><td>Arizona   </td><td>8.1       </td><td>294       </td><td>80        </td><td>31.0      </td></tr>\n",
       "\t<tr><td>4         </td><td>Arkansas  </td><td>8.8       </td><td>190       </td><td>50        </td><td>19.5      </td></tr>\n",
       "\t<tr><td>5         </td><td>California</td><td>9         </td><td>276       </td><td>91        </td><td>40.6      </td></tr>\n",
       "</tbody>\n",
       "</table>\n"
      ],
      "text/latex": [
       "\\begin{tabular}{r|llllll}\n",
       " state & X & Murder & Assault & UrbanPop & Rape\\\\\n",
       "\\hline\n",
       "\t 1          & Alabama    & 13.2       & 236        & 58         & 21.2      \\\\\n",
       "\t 2          & Alaska     & 10         & 263        & 48         & 44.5      \\\\\n",
       "\t 3          & Arizona    & 8.1        & 294        & 80         & 31.0      \\\\\n",
       "\t 4          & Arkansas   & 8.8        & 190        & 50         & 19.5      \\\\\n",
       "\t 5          & California & 9          & 276        & 91         & 40.6      \\\\\n",
       "\\end{tabular}\n"
      ],
      "text/markdown": [
       "\n",
       "state | X | Murder | Assault | UrbanPop | Rape | \n",
       "|---|---|---|---|---|\n",
       "| 1          | Alabama    | 13.2       | 236        | 58         | 21.2       | \n",
       "| 2          | Alaska     | 10         | 263        | 48         | 44.5       | \n",
       "| 3          | Arizona    | 8.1        | 294        | 80         | 31.0       | \n",
       "| 4          | Arkansas   | 8.8        | 190        | 50         | 19.5       | \n",
       "| 5          | California | 9          | 276        | 91         | 40.6       | \n",
       "\n",
       "\n"
      ],
      "text/plain": [
       "  state X          Murder Assault UrbanPop Rape\n",
       "1 1     Alabama    13.2   236     58       21.2\n",
       "2 2     Alaska     10     263     48       44.5\n",
       "3 3     Arizona    8.1    294     80       31.0\n",
       "4 4     Arkansas   8.8    190     50       19.5\n",
       "5 5     California 9      276     91       40.6"
      ]
     },
     "metadata": {},
     "output_type": "display_data"
    }
   ],
   "source": [
    "crime.data.5 <- separate(crime.data.4,\n",
    "                         col= \"Murder_Assault\",\n",
    "                         into = c(\"Murder\", \"Assault\"),\n",
    "                         sep = \"_\")\n",
    "head(crime.data.5, 5)"
   ]
  },
  {
   "cell_type": "markdown",
   "metadata": {},
   "source": [
    "## Manejo de Fechas"
   ]
  },
  {
   "cell_type": "code",
   "execution_count": 30,
   "metadata": {},
   "outputs": [],
   "source": [
    "url3   <- \"https://raw.githubusercontent.com/joanby/r-course/master/data/tema2/daily-bike-rentals.csv\"\n",
    "data3R <- read.csv(url3)\n",
    "data   <- data3R"
   ]
  },
  {
   "cell_type": "code",
   "execution_count": 31,
   "metadata": {},
   "outputs": [],
   "source": [
    "data$dteday <- as.Date(data$dteday, format=\"%Y-%m-%d\")\n",
    "attach(data)"
   ]
  },
  {
   "cell_type": "code",
   "execution_count": 34,
   "metadata": {
    "scrolled": true
   },
   "outputs": [
    {
     "data": {},
     "metadata": {},
     "output_type": "display_data"
    },
    {
     "data": {
      "image/png": "[encoded data removed]",
      "text/plain": [
       "plot without title"
      ]
     },
     "metadata": {},
     "output_type": "display_data"
    }
   ],
   "source": [
    "library(lattice)\n",
    "bwplot(cnt ~ weathersit, data = data, \n",
    "       layout = c(1,1), \n",
    "       xlab = \"Pronóstico del tiempo\",\n",
    "       ylab = \"Frecuencias\",\n",
    "       panel = function(x,y,...){\n",
    "         panel.bwplot(x,y,...)\n",
    "         panel.stripplot(x,y,jitter.data = TRUE,...)\n",
    "       },\n",
    "       par.settings = list(box.rectangle = list(fill = c('red', 'yellow', 'green'))))\n",
    "\n"
   ]
  }
 ],
 "metadata": {
  "kernelspec": {
   "display_name": "R",
   "language": "R",
   "name": "ir"
  },
  "language_info": {
   "codemirror_mode": "r",
   "file_extension": ".r",
   "mimetype": "text/x-r-source",
   "name": "R",
   "pygments_lexer": "r",
   "version": "3.5.3"
  }
 },
 "nbformat": 4,
 "nbformat_minor": 2
}
