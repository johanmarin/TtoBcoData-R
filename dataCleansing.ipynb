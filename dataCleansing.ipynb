{
 "cells": [
  {
   "cell_type": "markdown",
   "metadata": {
    "slideshow": {
     "slide_type": "slide"
    }
   },
   "source": [
    "<h1 align = center> Limpieza de la Base de Datos </h1>"
   ]
  },
  {
   "cell_type": "markdown",
   "metadata": {
    "slideshow": {
     "slide_type": "fragment"
    }
   },
   "source": [
    "Usualmente las bases de datos presentan muchos posibles problemas, como datos faltantes y datos atipicos que se deben tratar para poder utilizar la base de datos."
   ]
  },
  {
   "cell_type": "markdown",
   "metadata": {
    "slideshow": {
     "slide_type": "slide"
    }
   },
   "source": [
    "## Tratamiento de Na's"
   ]
  },
  {
   "cell_type": "markdown",
   "metadata": {
    "slideshow": {
     "slide_type": "slide"
    }
   },
   "source": [
    "Lo primero que se hace es realizar la lectura de la base de datos"
   ]
  },
  {
   "cell_type": "code",
   "execution_count": null,
   "metadata": {
    "scrolled": true,
    "slideshow": {
     "slide_type": "-"
    }
   },
   "outputs": [],
   "source": [
    "url1   <- \"https://raw.githubusercontent.com/joanby/r-course/master/data/tema1/missing-data.csv\"\n",
    "data1R <- read.csv(url1, row.names=NULL)\n",
    "head(data1R, 5)"
   ]
  },
  {
   "cell_type": "markdown",
   "metadata": {
    "slideshow": {
     "slide_type": "slide"
    }
   },
   "source": [
    "### Estandarizar los NAN"
   ]
  },
  {
   "cell_type": "code",
   "execution_count": null,
   "metadata": {
    "slideshow": {
     "slide_type": "-"
    }
   },
   "outputs": [],
   "source": [
    "data1R$Income[data1R$Income == 0]          <- NA\n",
    "data1R$Phone_type[data1R$Phone_type == \"\"] <- NA\n",
    "data1R$Car_type[data1R$Car_type == \"\"]     <- NA\n",
    "\n",
    "head(data1R, 5)"
   ]
  },
  {
   "cell_type": "markdown",
   "metadata": {
    "slideshow": {
     "slide_type": "slide"
    }
   },
   "source": [
    "### Observación de NA's e Identificación de Patrones\n",
    "Contar el número de NAN por variable (columna)."
   ]
  },
  {
   "cell_type": "code",
   "execution_count": null,
   "metadata": {
    "scrolled": true,
    "slideshow": {
     "slide_type": "-"
    }
   },
   "outputs": [],
   "source": [
    "colSums(is.na(data1R))\n",
    "\n",
    "library(dplyr)\n",
    "summarise_all(data1R, funs(sum(is.na(.))))"
   ]
  },
  {
   "cell_type": "markdown",
   "metadata": {
    "slideshow": {
     "slide_type": "slide"
    }
   },
   "source": [
    "Dependiendo del contexto en ocasiones el ruido que introduce una variable cuando contiene muchos valores nulos es demasiado, por lo tanto es una buena tecnica observar el patron que siguen lis NA's."
   ]
  },
  {
   "cell_type": "code",
   "execution_count": null,
   "metadata": {
    "slideshow": {
     "slide_type": "skip"
    }
   },
   "outputs": [],
   "source": [
    "url3         <- \"https://raw.githubusercontent.com/joanby/r-course/master/data/tema1/housing-with-missing-value.csv\"\n",
    "data3R       <- read.csv(url3)\n",
    "housing.data <- data3R"
   ]
  },
  {
   "cell_type": "code",
   "execution_count": null,
   "metadata": {
    "slideshow": {
     "slide_type": "-"
    }
   },
   "outputs": [],
   "source": [
    "library(mice)\n",
    "md.pattern(housing.data)"
   ]
  },
  {
   "cell_type": "code",
   "execution_count": null,
   "metadata": {
    "scrolled": true,
    "slideshow": {
     "slide_type": "skip"
    }
   },
   "outputs": [],
   "source": [
    "\n",
    "library(VIM)\n",
    "\n",
    "aggr(housing.data,\n",
    "     col= c('blue', 'red'),\n",
    "     numbers = TRUE, \n",
    "     sortVars = TRUE,\n",
    "     labels = names(housing.data),\n",
    "     cex.axis = 0.75,\n",
    "     gap = 1,\n",
    "     ylab = c(\"Histograma de NAs\", \"Patrón\")\n",
    ")     "
   ]
  },
  {
   "cell_type": "markdown",
   "metadata": {
    "slideshow": {
     "slide_type": "slide"
    }
   },
   "source": [
    "### Eliminar los NA\n",
    "\n",
    "Es posible que eliminar los Na, la forma más simple de hacerlo es eliminar todas las filas que contengan algún valor nulo."
   ]
  },
  {
   "cell_type": "code",
   "execution_count": null,
   "metadata": {
    "slideshow": {
     "slide_type": "-"
    }
   },
   "outputs": [],
   "source": [
    "ingresos <- na.omit(data1R)\n",
    "head(ingresos, 5)"
   ]
  },
  {
   "cell_type": "code",
   "execution_count": null,
   "metadata": {
    "slideshow": {
     "slide_type": "slide"
    }
   },
   "outputs": [],
   "source": [
    "ingresos <- data1R[complete.cases(data1R),]\n",
    "head(ingresos, 5)"
   ]
  },
  {
   "cell_type": "markdown",
   "metadata": {
    "slideshow": {
     "slide_type": "slide"
    }
   },
   "source": [
    "Aunque tambien esta la opción de eliminar las filas que tengan un valor nulo en una variable concreta."
   ]
  },
  {
   "cell_type": "code",
   "execution_count": null,
   "metadata": {
    "scrolled": true,
    "slideshow": {
     "slide_type": "-"
    }
   },
   "outputs": [],
   "source": [
    "ingresos <- data1R[!is.na(data1R$Income),]\n",
    "colSums(is.na(ingresos))\n",
    "head(ingresos, 5)"
   ]
  },
  {
   "cell_type": "markdown",
   "metadata": {
    "slideshow": {
     "slide_type": "slide"
    }
   },
   "source": [
    "Támbien existe la posibilidad de que alguna variable tenga tantos NA's que sea más conveniente eliminarla."
   ]
  },
  {
   "cell_type": "code",
   "execution_count": null,
   "metadata": {
    "scrolled": true,
    "slideshow": {
     "slide_type": "-"
    }
   },
   "outputs": [],
   "source": [
    "ingresos$Phone_type <- NULL\n",
    "head(ingresos, 5)"
   ]
  },
  {
   "cell_type": "markdown",
   "metadata": {
    "slideshow": {
     "slide_type": "slide"
    }
   },
   "source": [
    "### Imputación de NA's"
   ]
  },
  {
   "cell_type": "markdown",
   "metadata": {
    "slideshow": {
     "slide_type": "slide"
    }
   },
   "source": [
    "#### Imputación por media"
   ]
  },
  {
   "cell_type": "code",
   "execution_count": null,
   "metadata": {
    "scrolled": false,
    "slideshow": {
     "slide_type": "slide"
    }
   },
   "outputs": [],
   "source": [
    "mean(data1R$Income)\n",
    "mean(data1R$Income, na.rm=T)\n",
    "\n",
    "sd(data1R$Income)\n",
    "sd(data1R$Income, na.rm=T)"
   ]
  },
  {
   "cell_type": "code",
   "execution_count": null,
   "metadata": {},
   "outputs": [],
   "source": [
    "ingresos             <- data1R\n",
    "ingresos$Income.mean <- ifelse(is.na(ingresos$Income), \n",
    "                           mean(ingresos$Income, na.rm=TRUE),\n",
    "                           ingresos$Income\n",
    "                           )\n",
    "head(ingresos,5)"
   ]
  },
  {
   "cell_type": "code",
   "execution_count": null,
   "metadata": {},
   "outputs": [],
   "source": [
    "mean(ingresos$Income.mean)\n",
    "sd(ingresos$Income.mean)"
   ]
  },
  {
   "cell_type": "markdown",
   "metadata": {},
   "source": [
    "Tambien existe un paquete llamado *Hmisc* que permite relizar esto sin necesidad e crear una función, además permite realizar un cambio en el criterio de imputación"
   ]
  },
  {
   "cell_type": "code",
   "execution_count": null,
   "metadata": {},
   "outputs": [],
   "source": [
    "housing.data <- data3R\n",
    "summary(housing.data$ptratio)"
   ]
  },
  {
   "cell_type": "code",
   "execution_count": null,
   "metadata": {},
   "outputs": [],
   "source": [
    "library(Hmisc)\n",
    "housing.data$ptratio <- impute(housing.data$ptratio, mean)\n",
    "summary(housing.data$ptratio)"
   ]
  },
  {
   "cell_type": "markdown",
   "metadata": {},
   "source": [
    "Además tambien es posible realizar la imputación "
   ]
  },
  {
   "cell_type": "code",
   "execution_count": null,
   "metadata": {},
   "outputs": [],
   "source": [
    "housing.data$ptratio <- impute(housing.data$ptratio, median)\n",
    "summary(housing.data$ptratio)"
   ]
  },
  {
   "cell_type": "code",
   "execution_count": null,
   "metadata": {
    "scrolled": true
   },
   "outputs": [],
   "source": [
    "housing.data <- data3R\n",
    "housing.data$ptratio <- impute(housing.data$ptratio, 18)\n",
    "summary(housing.data$ptratio)"
   ]
  },
  {
   "cell_type": "markdown",
   "metadata": {},
   "source": [
    "#### Computar Valores aleatorios\n",
    "\n",
    "Cuanto tengo valores faltantes, tanto en variables númericas como categoricas de forma que por medio de un muestreo aleatorio se reeemplazan los valores faltantes. Para esto es conveniente construir una función"
   ]
  },
  {
   "cell_type": "code",
   "execution_count": null,
   "metadata": {},
   "outputs": [],
   "source": [
    "random.impute        <- function(x) {\n",
    "    missing          <- is.na(x)\n",
    "    n.missing        <- sum(missing)\n",
    "    x.obs            <- x[!missing]\n",
    "    imputed          <- x\n",
    "    imputed[missing] <- sample(x.obs, n.missing, replace=TRUE)\n",
    "    return(imputed)\n",
    "}"
   ]
  },
  {
   "cell_type": "markdown",
   "metadata": {},
   "source": [
    "Primero uye se construye un vector con los valores nulos **missing**, y los sumamos para saber cuales valores hay que reemplazar **n.missing**, luego  se saca un vector de los valores no nulos **x.obs**, **imputed** devuelve por defecto los valores que habian en los valores no nulos y finalmente **imputed[missing]** Permite reemplazar aletoriamente los valores nulos con valores observados."
   ]
  },
  {
   "cell_type": "code",
   "execution_count": null,
   "metadata": {
    "scrolled": true
   },
   "outputs": [],
   "source": [
    "ingresos                    <- data1R\n",
    "ingresos$Phone_type.imputed <- random.impute(ingresos$Phone_type)\n",
    "colSums(is.na(ingresos))"
   ]
  },
  {
   "cell_type": "markdown",
   "metadata": {},
   "source": [
    "Cuando los datos que se tienen en la base de datos fueron tomados de forma totalmente aleatoria, es posible optar por realizar una imputación aleatoria de todos los datos de la variable"
   ]
  },
  {
   "cell_type": "code",
   "execution_count": null,
   "metadata": {},
   "outputs": [],
   "source": [
    "random.impute.data.frame <- function(dataframe, cols){\n",
    "  names                  <- names(dataframe)\n",
    "  for(col in cols){\n",
    "    name                 <- paste(names[col], \"imputed\", sep = \".\")\n",
    "    dataframe[name]      = random.impute(dataframe[,col])\n",
    "  }\n",
    "  dataframe\n",
    "}"
   ]
  },
  {
   "cell_type": "code",
   "execution_count": null,
   "metadata": {},
   "outputs": [],
   "source": [
    "ingresos <- data1R\n",
    "ingresos <- random.impute.data.frame(ingresos, c(1,2))\n",
    "colSums(is.na(ingresos))"
   ]
  },
  {
   "cell_type": "code",
   "execution_count": null,
   "metadata": {},
   "outputs": [],
   "source": [
    "drop_na        <- c(\"rad\")\n",
    "housing.data.2 <- housing.data[ \n",
    "  complete.cases(housing.data[,!(names(housing.data))%in% drop_na]),]\n",
    "head(housing.data.2, 5)\n",
    "dim(housing.data.2)"
   ]
  },
  {
   "cell_type": "markdown",
   "metadata": {},
   "source": [
    "#### Imputación con Modelos Predictivos\n",
    "\n",
    "En ocasiones cuando un reemplazo de valores aleatorios no es el adecuado, y el uso de la media y mediana genera mucho ruido es usual utilizar modelos predictivos para generar los valores."
   ]
  },
  {
   "cell_type": "code",
   "execution_count": null,
   "metadata": {
    "scrolled": true
   },
   "outputs": [],
   "source": [
    "library(mice)\n",
    "housing.data <- data3R\n",
    "head(housing.data, 5)\n",
    "dim(housing.data)"
   ]
  },
  {
   "cell_type": "code",
   "execution_count": null,
   "metadata": {},
   "outputs": [],
   "source": [
    "colSums(is.na(housing.data))"
   ]
  },
  {
   "cell_type": "markdown",
   "metadata": {},
   "source": [
    "Para hacer esto se hace uso del paquete **mice**\n",
    "\n",
    "* m: Es el número de imputaciones que quiero hacer\n",
    "* maxit: Es el número maximo de iteraciones\n",
    "* seed: Es la semilla; todos los métodos de reemplazo del paquete son aleatorios, y la semilla va cambiando si esta no se fija cambiando los valores con los que se imputo.\n",
    "* method: Metodo de reemplazo\n",
    "    + pmm - comparación predictiva de medias\n",
    "    + logreg - regresión logistica\n",
    "    + polyreg - regresión logística politómica\n",
    "    + polr - modelo de probabilidades proporcionales\n",
    "    \n",
    "**nota:** Para generar números pseudo aleatorios se utiliza un generador lineal congruencial"
   ]
  },
  {
   "cell_type": "code",
   "execution_count": null,
   "metadata": {
    "scrolled": true
   },
   "outputs": [],
   "source": [
    "columns <- c(\"ptratio\", \"rad\")"
   ]
  },
  {
   "cell_type": "markdown",
   "metadata": {},
   "source": [
    "##### Imputación por Comparación Predictiva de medias"
   ]
  },
  {
   "cell_type": "code",
   "execution_count": null,
   "metadata": {},
   "outputs": [],
   "source": [
    "imputed_data <- mice(housing.data[,names(housing.data) %in% columns],\n",
    "                     m = 5, \n",
    "                     maxit = 50, \n",
    "                     method = \"pmm\",\n",
    "                     seed = 2018)"
   ]
  },
  {
   "cell_type": "code",
   "execution_count": null,
   "metadata": {},
   "outputs": [],
   "source": [
    "summary(imputed_data)"
   ]
  },
  {
   "cell_type": "markdown",
   "metadata": {},
   "source": [
    "Despues de generar los valores de forma aleatoria se reemplazan los NA's por los valores generados"
   ]
  },
  {
   "cell_type": "code",
   "execution_count": null,
   "metadata": {},
   "outputs": [],
   "source": [
    "housing.data$ptratio <- mice::complete(imputed_data)$ptratio\n",
    "housing.data$rad <- mice::complete(imputed_data)$rad\n",
    "colSums(is.na(housing.data))\n",
    "anyNA(housing.data)"
   ]
  },
  {
   "cell_type": "markdown",
   "metadata": {},
   "source": [
    "#### Imputación automatica\n",
    "\n",
    "Es posible utilizar el paquete **hmisc** para que este elija de forma automatica elmétodo e impute los NA's."
   ]
  },
  {
   "cell_type": "code",
   "execution_count": null,
   "metadata": {},
   "outputs": [],
   "source": [
    "impute_arg <- aregImpute(~ptratio + rad, data = housing.data, n.impute = 5)\n",
    "\n",
    "impute_arg\n",
    "\n",
    "impute_arg$imputed$rad"
   ]
  },
  {
   "cell_type": "markdown",
   "metadata": {},
   "source": [
    "## Valores Duplicados\n",
    "\n",
    "En ocasiones encontramos valores duplicados, o registros duplicados en una valiable, lo primero es verificar si hay registros duplicados en el data frame."
   ]
  },
  {
   "cell_type": "code",
   "execution_count": null,
   "metadata": {},
   "outputs": [],
   "source": [
    "family.salary <- c(40000, 60000, 50000, 80000, 60000, 70000, 60000)\n",
    "family.size   <- c(4, 3, 2, 2, 3, 4, 3)\n",
    "family.car    <- c(\"Lujo\", \"Compacto\", \"Utilitario\", \"Lujo\", \n",
    "               \"Compacto\", \"Compacto\", \"Compacto\")\n",
    "family        <- data.frame(family.salary, family.size, family.car)\n",
    "family"
   ]
  },
  {
   "cell_type": "code",
   "execution_count": null,
   "metadata": {},
   "outputs": [],
   "source": [
    "duplicated(family)\n",
    "family[duplicated(family),]"
   ]
  },
  {
   "cell_type": "markdown",
   "metadata": {},
   "source": [
    "Ahora cuando se encuentran valores duplicados en un data frame, estos se pueden eliminar utilizando la función unique."
   ]
  },
  {
   "cell_type": "code",
   "execution_count": null,
   "metadata": {
    "scrolled": true
   },
   "outputs": [],
   "source": [
    "family.unique <- unique(family)\n",
    "family.unique"
   ]
  },
  {
   "cell_type": "markdown",
   "metadata": {},
   "source": [
    "## Tratamiento de Outliers\n",
    "\n",
    "En estadistica se conoce como *rango intercuartilico* $RI$ a la distancia que hay entre el cuartil uno $Q_1$ y el cuartil tres $Q_3$, y se considera un outlier un dato que este por fuera de $[Q_1-1.5RI, Q_3+1.5RI]$.\n",
    "\n",
    "### Identificación de Outliers\n",
    "\n",
    "Para identificar si hay valores atipicos en un grupo de datos una de las herramientas más utilies es el uso de boxplots."
   ]
  },
  {
   "cell_type": "code",
   "execution_count": null,
   "metadata": {},
   "outputs": [],
   "source": [
    "url5       <- \"https://raw.githubusercontent.com/joanby/r-course/master/data/tema1/ozone.csv\"\n",
    "data5R     <- read.csv(url5, stringsAsFactors=F)\n",
    "ozone.data <- data5R\n",
    "head(ozone.data, 5)"
   ]
  },
  {
   "cell_type": "code",
   "execution_count": null,
   "metadata": {},
   "outputs": [],
   "source": [
    "boxplot(ozone.data$pressure_height, \n",
    "        main = \"Pressure Height\",\n",
    "        boxwex = 1.5)$out"
   ]
  },
  {
   "cell_type": "markdown",
   "metadata": {},
   "source": [
    "El parametro out se utiliza para que aparezca cuales son las observaciones que son outliers en la variable analizada.\n",
    "\n",
    "En ocasiones es importante observar si los outlaiers tienen realción con otra variable."
   ]
  },
  {
   "cell_type": "code",
   "execution_count": null,
   "metadata": {
    "scrolled": true
   },
   "outputs": [],
   "source": [
    "boxplot(ozone_reading ~Month,\n",
    "        data = ozone.data,\n",
    "        main = \"Ozone reading per Month\")$out\n",
    "\n",
    "mtext(\"Así se puede poner una descripción\")"
   ]
  },
  {
   "cell_type": "markdown",
   "metadata": {},
   "source": [
    "Exiten tambien otros métodos, para identicar los outlaiers"
   ]
  },
  {
   "cell_type": "markdown",
   "metadata": {},
   "source": [
    "### Imputación de Atípicos"
   ]
  },
  {
   "cell_type": "code",
   "execution_count": null,
   "metadata": {},
   "outputs": [],
   "source": [
    "replace_outliers <- function(x, removeNA=TRUE){\n",
    "    q1   <- quantile(x,probs=0.25, na.rm=removeNA)\n",
    "    q3   <- quantile(x,probs=0.75, na.rm=removeNA)\n",
    "    ri   <- q3 - q1   \n",
    "    caps <- quantile(x, probs = c(.05, .95), na.rm = removeNA)  \n",
    "    x[x<q1-1.5 * ri] <- caps[1]\n",
    "    x[x>q3+1.5 * ri] <- caps[2]\n",
    "    x\n",
    "    }"
   ]
  },
  {
   "cell_type": "code",
   "execution_count": null,
   "metadata": {
    "scrolled": true
   },
   "outputs": [],
   "source": [
    "capped_pressure_height <- replace_outliers(ozone.data$pressure_height)\n",
    "head(capped_pressure_height,5)"
   ]
  },
  {
   "cell_type": "code",
   "execution_count": null,
   "metadata": {
    "scrolled": true
   },
   "outputs": [],
   "source": [
    "par(mfrow = c(1,2))\n",
    "boxplot(ozone.data$pressure_height, main = \"Presión con outliers\")\n",
    "boxplot(capped_pressure_height, main = \"Presión sin outliers\")"
   ]
  },
  {
   "cell_type": "markdown",
   "metadata": {},
   "source": [
    "### Guardar la nueva base de datos\n",
    "\n",
    "Por motivos de replicabilidad es adecuado generar una nueva base de datos en lugar de modificar la original, aal momento de continuar con el analisis."
   ]
  },
  {
   "cell_type": "code",
   "execution_count": null,
   "metadata": {},
   "outputs": [],
   "source": [
    "write.csv(MyData, file = \"MyData.csv\")"
   ]
  }
 ],
 "metadata": {
  "celltoolbar": "Slideshow",
  "kernelspec": {
   "display_name": "R",
   "language": "R",
   "name": "ir"
  },
  "language_info": {
   "codemirror_mode": "r",
   "file_extension": ".r",
   "mimetype": "text/x-r-source",
   "name": "R",
   "pygments_lexer": "r",
   "version": "3.6.0"
  }
 },
 "nbformat": 4,
 "nbformat_minor": 2
}
